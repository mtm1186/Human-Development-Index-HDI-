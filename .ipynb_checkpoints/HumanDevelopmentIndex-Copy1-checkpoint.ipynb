{
 "cells": [
  {
   "cell_type": "markdown",
   "metadata": {},
   "source": [
    "# Human Development Index"
   ]
  },
  {
   "cell_type": "code",
   "execution_count": 19,
   "metadata": {},
   "outputs": [],
   "source": [
    "import requests\n",
    "import urllib.request\n",
    "import time\n",
    "from bs4 import BeautifulSoup\n",
    "import numpy as np\n",
    "import pandas as pd\n",
    "import regex as re\n",
    "import matplotlib.pyplot as plt\n",
    "from urllib.request import urlopen\n",
    "import pycountry"
   ]
  },
  {
   "cell_type": "code",
   "execution_count": 20,
   "metadata": {},
   "outputs": [],
   "source": [
    "url = 'https://en.m.wikipedia.org/wiki/List_of_countries_by_Human_Development_Index'\n",
    "html = urlopen(url) \n",
    "soup = BeautifulSoup(html, 'html.parser')"
   ]
  },
  {
   "cell_type": "code",
   "execution_count": 21,
   "metadata": {},
   "outputs": [],
   "source": [
    "tables = soup.find_all('body')"
   ]
  },
  {
   "cell_type": "code",
   "execution_count": 22,
   "metadata": {},
   "outputs": [
    {
     "name": "stdout",
     "output_type": "stream",
     "text": [
      "Number of tables on site:  2\n"
     ]
    }
   ],
   "source": [
    "# On site there are 2 tables with the class \"wikitable\"\n",
    "# The following line will generate a list of HTML content for each table\n",
    "tabl = soup.find_all(\"table\", attrs={\"class\": \"wikitable\"})\n",
    "print(\"Number of tables on site: \",len(tabl))"
   ]
  },
  {
   "cell_type": "code",
   "execution_count": 23,
   "metadata": {},
   "outputs": [
    {
     "name": "stdout",
     "output_type": "stream",
     "text": [
      "['Rank', 'Nation', 'HDI']\n"
     ]
    }
   ],
   "source": [
    "table1 = tabl[0]\n",
    "\n",
    "body = table1.find_all(\"tr\")\n",
    "head = body[0]\n",
    "body_rows = body[1:]\n",
    "\n",
    "headings = []\n",
    "\n",
    "for item in head.find_all(\"th\"):\n",
    "    item = (item.text).rstrip(\"\\n\")\n",
    "    headings.append(item)\n",
    "print(headings)"
   ]
  },
  {
   "cell_type": "code",
   "execution_count": 24,
   "metadata": {},
   "outputs": [],
   "source": [
    "#print(body_rows[0])\n",
    "all_rows = [] # will be a list for list for all rows\n",
    "for row_num in range(len(body_rows)): # A row at a time\n",
    "    row = [] # this will old entries for one row\n",
    "    for row_item in body_rows[row_num].find_all(\"td\"): #loop through all row entries\n",
    "        # row_item.text removes the tags from the entries\n",
    "        # the following regex is to remove \\xa0 and \\n and comma from row_item.text\n",
    "        # xa0 encodes the flag, \\n is the newline and comma separates thousands in numbers\n",
    "        aa = re.sub(\"(\\xa0)|(\\n)|,\",\"\",row_item.text)\n",
    "        #append aa to row - note one row entry is being appended\n",
    "        row.append(aa)\n",
    "    # append one row to all_rows\n",
    "    all_rows.append(row)"
   ]
  },
  {
   "cell_type": "code",
   "execution_count": 25,
   "metadata": {},
   "outputs": [
    {
     "name": "stdout",
     "output_type": "stream",
     "text": [
      "189\n"
     ]
    }
   ],
   "source": [
    "count = 0\n",
    "for i in all_rows:\n",
    "    if len(i) >1:\n",
    "        count+=1\n",
    "print(count)"
   ]
  },
  {
   "cell_type": "code",
   "execution_count": 26,
   "metadata": {},
   "outputs": [],
   "source": [
    "country_data = []\n",
    "for i in all_rows:\n",
    "    if len(i) > 1:\n",
    "        country_data.append(i)"
   ]
  },
  {
   "cell_type": "code",
   "execution_count": 27,
   "metadata": {},
   "outputs": [
    {
     "data": {
      "text/plain": [
       "[['1', '', '0.957', ' 0.20%'],\n",
       " ['2', ' (7)', '0.955', ' 0.65%'],\n",
       " ['2', '', '0.955', ' 0.16%'],\n",
       " ['4', ' (7)', '0.949', ' 0.54%'],\n",
       " ['4', ' (4)', '0.949', ' 0.62%'],\n",
       " ['6', ' (3)', '0.947', ' 0.24%']]"
      ]
     },
     "execution_count": 27,
     "metadata": {},
     "output_type": "execute_result"
    }
   ],
   "source": [
    "country_data[0:6]"
   ]
  },
  {
   "cell_type": "code",
   "execution_count": 28,
   "metadata": {},
   "outputs": [],
   "source": [
    "df = pd.DataFrame(country_data)"
   ]
  },
  {
   "cell_type": "code",
   "execution_count": 118,
   "metadata": {},
   "outputs": [
    {
     "data": {
      "text/html": [
       "<div>\n",
       "<style scoped>\n",
       "    .dataframe tbody tr th:only-of-type {\n",
       "        vertical-align: middle;\n",
       "    }\n",
       "\n",
       "    .dataframe tbody tr th {\n",
       "        vertical-align: top;\n",
       "    }\n",
       "\n",
       "    .dataframe thead th {\n",
       "        text-align: right;\n",
       "    }\n",
       "</style>\n",
       "<table border=\"1\" class=\"dataframe\">\n",
       "  <thead>\n",
       "    <tr style=\"text-align: right;\">\n",
       "      <th></th>\n",
       "      <th>0</th>\n",
       "      <th>1</th>\n",
       "      <th>2</th>\n",
       "      <th>3</th>\n",
       "    </tr>\n",
       "  </thead>\n",
       "  <tbody>\n",
       "    <tr>\n",
       "      <th>0</th>\n",
       "      <td>1</td>\n",
       "      <td></td>\n",
       "      <td>0.957</td>\n",
       "      <td>0.20%</td>\n",
       "    </tr>\n",
       "    <tr>\n",
       "      <th>1</th>\n",
       "      <td>2</td>\n",
       "      <td>(7)</td>\n",
       "      <td>0.955</td>\n",
       "      <td>0.65%</td>\n",
       "    </tr>\n",
       "    <tr>\n",
       "      <th>2</th>\n",
       "      <td>2</td>\n",
       "      <td></td>\n",
       "      <td>0.955</td>\n",
       "      <td>0.16%</td>\n",
       "    </tr>\n",
       "    <tr>\n",
       "      <th>3</th>\n",
       "      <td>4</td>\n",
       "      <td>(7)</td>\n",
       "      <td>0.949</td>\n",
       "      <td>0.54%</td>\n",
       "    </tr>\n",
       "    <tr>\n",
       "      <th>4</th>\n",
       "      <td>4</td>\n",
       "      <td>(4)</td>\n",
       "      <td>0.949</td>\n",
       "      <td>0.62%</td>\n",
       "    </tr>\n",
       "  </tbody>\n",
       "</table>\n",
       "</div>"
      ],
      "text/plain": [
       "   0     1      2       3\n",
       "0  1        0.957   0.20%\n",
       "1  2   (7)  0.955   0.65%\n",
       "2  2        0.955   0.16%\n",
       "3  4   (7)  0.949   0.54%\n",
       "4  4   (4)  0.949   0.62%"
      ]
     },
     "execution_count": 118,
     "metadata": {},
     "output_type": "execute_result"
    }
   ],
   "source": [
    "df.head()"
   ]
  },
  {
   "cell_type": "code",
   "execution_count": 119,
   "metadata": {},
   "outputs": [],
   "source": [
    "data_frame = pd.merge(country,df,left_index = True, right_index = True)"
   ]
  },
  {
   "cell_type": "code",
   "execution_count": 120,
   "metadata": {},
   "outputs": [
    {
     "data": {
      "text/html": [
       "<div>\n",
       "<style scoped>\n",
       "    .dataframe tbody tr th:only-of-type {\n",
       "        vertical-align: middle;\n",
       "    }\n",
       "\n",
       "    .dataframe tbody tr th {\n",
       "        vertical-align: top;\n",
       "    }\n",
       "\n",
       "    .dataframe thead th {\n",
       "        text-align: right;\n",
       "    }\n",
       "</style>\n",
       "<table border=\"1\" class=\"dataframe\">\n",
       "  <thead>\n",
       "    <tr style=\"text-align: right;\">\n",
       "      <th></th>\n",
       "      <th>0_x</th>\n",
       "      <th>0_y</th>\n",
       "      <th>1</th>\n",
       "      <th>2</th>\n",
       "      <th>3</th>\n",
       "    </tr>\n",
       "  </thead>\n",
       "  <tbody>\n",
       "    <tr>\n",
       "      <th>0</th>\n",
       "      <td>Norway</td>\n",
       "      <td>1</td>\n",
       "      <td></td>\n",
       "      <td>0.957</td>\n",
       "      <td>0.20%</td>\n",
       "    </tr>\n",
       "    <tr>\n",
       "      <th>1</th>\n",
       "      <td>Republic of Ireland</td>\n",
       "      <td>2</td>\n",
       "      <td>(7)</td>\n",
       "      <td>0.955</td>\n",
       "      <td>0.65%</td>\n",
       "    </tr>\n",
       "    <tr>\n",
       "      <th>2</th>\n",
       "      <td>Switzerland</td>\n",
       "      <td>2</td>\n",
       "      <td></td>\n",
       "      <td>0.955</td>\n",
       "      <td>0.16%</td>\n",
       "    </tr>\n",
       "  </tbody>\n",
       "</table>\n",
       "</div>"
      ],
      "text/plain": [
       "                   0_x 0_y     1      2       3\n",
       "0               Norway   1        0.957   0.20%\n",
       "1  Republic of Ireland   2   (7)  0.955   0.65%\n",
       "2          Switzerland   2        0.955   0.16%"
      ]
     },
     "execution_count": 120,
     "metadata": {},
     "output_type": "execute_result"
    }
   ],
   "source": [
    "data_frame.head(3)"
   ]
  },
  {
   "cell_type": "code",
   "execution_count": 121,
   "metadata": {},
   "outputs": [],
   "source": [
    "del data_frame['0_y']"
   ]
  },
  {
   "cell_type": "code",
   "execution_count": 122,
   "metadata": {},
   "outputs": [],
   "source": [
    "data_frame.columns = ['Country', 'HDI Change (5 yrs)', 'HDI (2020 Report)', 'Avg. annual growth (%)']"
   ]
  },
  {
   "cell_type": "code",
   "execution_count": 123,
   "metadata": {},
   "outputs": [
    {
     "data": {
      "text/html": [
       "<div>\n",
       "<style scoped>\n",
       "    .dataframe tbody tr th:only-of-type {\n",
       "        vertical-align: middle;\n",
       "    }\n",
       "\n",
       "    .dataframe tbody tr th {\n",
       "        vertical-align: top;\n",
       "    }\n",
       "\n",
       "    .dataframe thead th {\n",
       "        text-align: right;\n",
       "    }\n",
       "</style>\n",
       "<table border=\"1\" class=\"dataframe\">\n",
       "  <thead>\n",
       "    <tr style=\"text-align: right;\">\n",
       "      <th></th>\n",
       "      <th>Country</th>\n",
       "      <th>HDI Change (5 yrs)</th>\n",
       "      <th>HDI (2020 Report)</th>\n",
       "      <th>Avg. annual growth (%)</th>\n",
       "    </tr>\n",
       "  </thead>\n",
       "  <tbody>\n",
       "    <tr>\n",
       "      <th>0</th>\n",
       "      <td>Norway</td>\n",
       "      <td></td>\n",
       "      <td>0.957</td>\n",
       "      <td>0.20%</td>\n",
       "    </tr>\n",
       "    <tr>\n",
       "      <th>1</th>\n",
       "      <td>Republic of Ireland</td>\n",
       "      <td>(7)</td>\n",
       "      <td>0.955</td>\n",
       "      <td>0.65%</td>\n",
       "    </tr>\n",
       "    <tr>\n",
       "      <th>2</th>\n",
       "      <td>Switzerland</td>\n",
       "      <td></td>\n",
       "      <td>0.955</td>\n",
       "      <td>0.16%</td>\n",
       "    </tr>\n",
       "    <tr>\n",
       "      <th>3</th>\n",
       "      <td>Hong Kong</td>\n",
       "      <td>(7)</td>\n",
       "      <td>0.949</td>\n",
       "      <td>0.54%</td>\n",
       "    </tr>\n",
       "    <tr>\n",
       "      <th>4</th>\n",
       "      <td>Iceland</td>\n",
       "      <td>(4)</td>\n",
       "      <td>0.949</td>\n",
       "      <td>0.62%</td>\n",
       "    </tr>\n",
       "    <tr>\n",
       "      <th>...</th>\n",
       "      <td>...</td>\n",
       "      <td>...</td>\n",
       "      <td>...</td>\n",
       "      <td>...</td>\n",
       "    </tr>\n",
       "    <tr>\n",
       "      <th>182</th>\n",
       "      <td>Sierra Leone</td>\n",
       "      <td>(2)</td>\n",
       "      <td>0.452</td>\n",
       "      <td>1.40%</td>\n",
       "    </tr>\n",
       "    <tr>\n",
       "      <th>183</th>\n",
       "      <td>Mali</td>\n",
       "      <td></td>\n",
       "      <td>0.434</td>\n",
       "      <td>0.69%</td>\n",
       "    </tr>\n",
       "    <tr>\n",
       "      <th>184</th>\n",
       "      <td>Burundi</td>\n",
       "      <td>(5)</td>\n",
       "      <td>0.433</td>\n",
       "      <td>0.58%</td>\n",
       "    </tr>\n",
       "    <tr>\n",
       "      <th>185</th>\n",
       "      <td>South Sudan</td>\n",
       "      <td>(3)</td>\n",
       "      <td>0.433</td>\n",
       "      <td>0.61%</td>\n",
       "    </tr>\n",
       "    <tr>\n",
       "      <th>186</th>\n",
       "      <td>Chad</td>\n",
       "      <td>(1)</td>\n",
       "      <td>0.398</td>\n",
       "      <td>0.84%</td>\n",
       "    </tr>\n",
       "  </tbody>\n",
       "</table>\n",
       "<p>187 rows × 4 columns</p>\n",
       "</div>"
      ],
      "text/plain": [
       "                 Country HDI Change (5 yrs) HDI (2020 Report)  \\\n",
       "0                 Norway                                0.957   \n",
       "1    Republic of Ireland                (7)             0.955   \n",
       "2            Switzerland                                0.955   \n",
       "3              Hong Kong                (7)             0.949   \n",
       "4                Iceland                (4)             0.949   \n",
       "..                   ...                ...               ...   \n",
       "182         Sierra Leone                (2)             0.452   \n",
       "183                 Mali                                0.434   \n",
       "184              Burundi                (5)             0.433   \n",
       "185          South Sudan                (3)             0.433   \n",
       "186                 Chad                (1)             0.398   \n",
       "\n",
       "    Avg. annual growth (%)  \n",
       "0                    0.20%  \n",
       "1                    0.65%  \n",
       "2                    0.16%  \n",
       "3                    0.54%  \n",
       "4                    0.62%  \n",
       "..                     ...  \n",
       "182                  1.40%  \n",
       "183                  0.69%  \n",
       "184                  0.58%  \n",
       "185                  0.61%  \n",
       "186                  0.84%  \n",
       "\n",
       "[187 rows x 4 columns]"
      ]
     },
     "execution_count": 123,
     "metadata": {},
     "output_type": "execute_result"
    }
   ],
   "source": [
    "data_frame"
   ]
  },
  {
   "cell_type": "code",
   "execution_count": 124,
   "metadata": {},
   "outputs": [
    {
     "data": {
      "text/plain": [
       "Country                   0\n",
       "HDI Change (5 yrs)        0\n",
       "HDI (2020 Report)         0\n",
       "Avg. annual growth (%)    0\n",
       "dtype: int64"
      ]
     },
     "execution_count": 124,
     "metadata": {},
     "output_type": "execute_result"
    }
   ],
   "source": [
    "data_frame.isnull().sum()"
   ]
  },
  {
   "cell_type": "code",
   "execution_count": 125,
   "metadata": {},
   "outputs": [
    {
     "name": "stdout",
     "output_type": "stream",
     "text": [
      "['#cite_note-2020_components-2', '#cite_note-2020_trends-18', 'Norway', 'Republic_of_Ireland', 'Switzerland', 'Hong_Kong', 'Iceland', 'Germany', 'Sweden', 'Australia', 'Netherlands', 'Denmark', 'Finland', 'Singapore', 'United_Kingdom', 'Belgium', 'New_Zealand', 'Canada', 'United_States', 'Austria', 'Israel', 'Japan', 'Liechtenstein', 'Slovenia', 'Luxembourg', 'South_Korea', 'Spain', 'France', 'Czech_Republic', 'Malta', 'Estonia', 'Italy', 'United_Arab_Emirates', 'Greece', 'Cyprus', 'Lithuania', 'Poland', 'Andorra', 'Latvia', 'Portugal', 'Slovakia', 'Hungary', 'Saudi_Arabia', 'Bahrain', 'Chile', 'Croatia', 'Qatar', 'Argentina', 'Brunei', 'Montenegro', 'Romania', 'Palau', 'Kazakhstan', 'Russia', 'Belarus', 'Turkey', 'Uruguay', 'Bulgaria', 'Panama', 'The_Bahamas', 'Barbados', 'Oman', 'Georgia_(country)', 'Costa_Rica', 'Malaysia', 'Kuwait', 'Serbia', 'Mauritius', 'Seychelles', 'Trinidad_and_Tobago', 'Albania', 'Cuba', 'Iran', 'Sri_Lanka', 'Bosnia_and_Herzegovina', 'Grenada', 'Mexico', 'Saint_Kitts_and_Nevis', 'Ukraine', 'Antigua_and_Barbuda', 'Peru', 'Thailand', 'Armenia', 'North_Macedonia', 'Colombia', 'Brazil', 'China', 'Ecuador', 'Saint_Lucia', 'Azerbaijan', 'Dominican_Republic', 'Moldova', 'Algeria', 'Lebanon', 'Fiji', 'Dominica', 'Maldives', 'Tunisia', 'Saint_Vincent_and_the_Grenadines', 'Suriname', 'Mongolia', 'Botswana', 'Jamaica', 'Jordan', 'Paraguay', 'Tonga', 'Libya', 'Uzbekistan', 'Bolivia', 'Indonesia', 'Philippines', 'Belize', 'Samoa', 'Turkmenistan', 'Venezuela', 'South_Africa', 'State_of_Palestine', 'Egypt', '#cite_note-marshall-19', 'Marshall_Islands', '#cite_note-marshall-19', 'Vietnam', 'Gabon', 'Kyrgyzstan', 'Morocco', 'Guyana', 'Iraq', 'El_Salvador', 'Tajikistan', 'Cape_Verde', 'Guatemala', 'Nicaragua', 'Bhutan', 'Namibia', 'India', 'Honduras', 'Bangladesh', 'Kiribati', 'S%C3%A3o_Tom%C3%A9_and_Pr%C3%ADncipe', 'Federated_States_of_Micronesia', 'Laos', 'Eswatini', 'Ghana', 'Vanuatu', 'East_Timor', 'Nepal', 'Kenya', 'Cambodia', 'Equatorial_Guinea', 'Zambia', 'Myanmar', 'Angola', 'Republic_of_the_Congo', 'Zimbabwe', 'Solomon_Islands', 'Syria', 'Cameroon', 'Pakistan', 'Papua_New_Guinea', 'Comoros', 'Mauritania', 'Benin', 'Uganda', 'Rwanda', 'Nigeria', 'Ivory_Coast', 'Tanzania', 'Madagascar', 'Lesotho', 'Djibouti', 'Togo', 'Senegal', 'Afghanistan', 'Haiti', 'Sudan', 'The_Gambia', 'Ethiopia', 'Malawi', 'Democratic_Republic_of_the_Congo', 'Guinea-Bissau', 'Liberia', 'Guinea', 'Yemen', 'Eritrea', 'Mozambique', 'Burkina_Faso', 'Sierra_Leone', 'Mali', 'Burundi', 'South_Sudan', 'Chad']\n"
     ]
    }
   ],
   "source": [
    "project_href = [i['href'] for i in soup.find_all('a', href=True) if i['href'] != \"#\"]\n",
    "\n",
    "nations = []\n",
    "for i in project_href[85:276]:\n",
    "    for j in i.split('/')[-1:]:\n",
    "        nations.append(j)\n",
    "print(nations)"
   ]
  },
  {
   "cell_type": "code",
   "execution_count": 126,
   "metadata": {},
   "outputs": [],
   "source": [
    "stp = [i for i,j in enumerate(nations) if j == \"S%C3%A3o_Tom%C3%A9_and_Pr%C3%ADncipe\"]"
   ]
  },
  {
   "cell_type": "code",
   "execution_count": 127,
   "metadata": {},
   "outputs": [
    {
     "data": {
      "text/plain": [
       "[138]"
      ]
     },
     "execution_count": 127,
     "metadata": {},
     "output_type": "execute_result"
    }
   ],
   "source": [
    "stp"
   ]
  },
  {
   "cell_type": "code",
   "execution_count": 128,
   "metadata": {},
   "outputs": [],
   "source": [
    "def text_cleaner(x):\n",
    "    n = []\n",
    "    for i in x:\n",
    "        if '#' in i:\n",
    "            pass\n",
    "        else:\n",
    "            n.append(i.replace('_', ' '))\n",
    "    return n"
   ]
  },
  {
   "cell_type": "code",
   "execution_count": 129,
   "metadata": {},
   "outputs": [],
   "source": [
    "nation = text_cleaner(nations)"
   ]
  },
  {
   "cell_type": "code",
   "execution_count": 130,
   "metadata": {},
   "outputs": [
    {
     "data": {
      "text/plain": [
       "187"
      ]
     },
     "execution_count": 130,
     "metadata": {},
     "output_type": "execute_result"
    }
   ],
   "source": [
    "#verify all data from column nation had been collected\n",
    "len(nation)"
   ]
  },
  {
   "cell_type": "code",
   "execution_count": 131,
   "metadata": {},
   "outputs": [],
   "source": [
    "country = pd.DataFrame(nation)"
   ]
  },
  {
   "cell_type": "code",
   "execution_count": 132,
   "metadata": {},
   "outputs": [
    {
     "data": {
      "text/html": [
       "<div>\n",
       "<style scoped>\n",
       "    .dataframe tbody tr th:only-of-type {\n",
       "        vertical-align: middle;\n",
       "    }\n",
       "\n",
       "    .dataframe tbody tr th {\n",
       "        vertical-align: top;\n",
       "    }\n",
       "\n",
       "    .dataframe thead th {\n",
       "        text-align: right;\n",
       "    }\n",
       "</style>\n",
       "<table border=\"1\" class=\"dataframe\">\n",
       "  <thead>\n",
       "    <tr style=\"text-align: right;\">\n",
       "      <th></th>\n",
       "      <th>0</th>\n",
       "    </tr>\n",
       "  </thead>\n",
       "  <tbody>\n",
       "    <tr>\n",
       "      <th>0</th>\n",
       "      <td>Norway</td>\n",
       "    </tr>\n",
       "    <tr>\n",
       "      <th>1</th>\n",
       "      <td>Republic of Ireland</td>\n",
       "    </tr>\n",
       "  </tbody>\n",
       "</table>\n",
       "</div>"
      ],
      "text/plain": [
       "                     0\n",
       "0               Norway\n",
       "1  Republic of Ireland"
      ]
     },
     "execution_count": 132,
     "metadata": {},
     "output_type": "execute_result"
    }
   ],
   "source": [
    "country.head(2)"
   ]
  },
  {
   "cell_type": "code",
   "execution_count": 133,
   "metadata": {},
   "outputs": [
    {
     "data": {
      "text/html": [
       "<div>\n",
       "<style scoped>\n",
       "    .dataframe tbody tr th:only-of-type {\n",
       "        vertical-align: middle;\n",
       "    }\n",
       "\n",
       "    .dataframe tbody tr th {\n",
       "        vertical-align: top;\n",
       "    }\n",
       "\n",
       "    .dataframe thead th {\n",
       "        text-align: right;\n",
       "    }\n",
       "</style>\n",
       "<table border=\"1\" class=\"dataframe\">\n",
       "  <thead>\n",
       "    <tr style=\"text-align: right;\">\n",
       "      <th></th>\n",
       "      <th>Country</th>\n",
       "    </tr>\n",
       "  </thead>\n",
       "  <tbody>\n",
       "    <tr>\n",
       "      <th>0</th>\n",
       "      <td>Norway</td>\n",
       "    </tr>\n",
       "    <tr>\n",
       "      <th>1</th>\n",
       "      <td>Republic of Ireland</td>\n",
       "    </tr>\n",
       "    <tr>\n",
       "      <th>2</th>\n",
       "      <td>Switzerland</td>\n",
       "    </tr>\n",
       "    <tr>\n",
       "      <th>3</th>\n",
       "      <td>Hong Kong</td>\n",
       "    </tr>\n",
       "    <tr>\n",
       "      <th>4</th>\n",
       "      <td>Iceland</td>\n",
       "    </tr>\n",
       "    <tr>\n",
       "      <th>...</th>\n",
       "      <td>...</td>\n",
       "    </tr>\n",
       "    <tr>\n",
       "      <th>182</th>\n",
       "      <td>Sierra Leone</td>\n",
       "    </tr>\n",
       "    <tr>\n",
       "      <th>183</th>\n",
       "      <td>Mali</td>\n",
       "    </tr>\n",
       "    <tr>\n",
       "      <th>184</th>\n",
       "      <td>Burundi</td>\n",
       "    </tr>\n",
       "    <tr>\n",
       "      <th>185</th>\n",
       "      <td>South Sudan</td>\n",
       "    </tr>\n",
       "    <tr>\n",
       "      <th>186</th>\n",
       "      <td>Chad</td>\n",
       "    </tr>\n",
       "  </tbody>\n",
       "</table>\n",
       "<p>187 rows × 1 columns</p>\n",
       "</div>"
      ],
      "text/plain": [
       "                 Country\n",
       "0                 Norway\n",
       "1    Republic of Ireland\n",
       "2            Switzerland\n",
       "3              Hong Kong\n",
       "4                Iceland\n",
       "..                   ...\n",
       "182         Sierra Leone\n",
       "183                 Mali\n",
       "184              Burundi\n",
       "185          South Sudan\n",
       "186                 Chad\n",
       "\n",
       "[187 rows x 1 columns]"
      ]
     },
     "execution_count": 133,
     "metadata": {},
     "output_type": "execute_result"
    }
   ],
   "source": [
    "country.rename(columns = {0:\"Country\"})"
   ]
  },
  {
   "cell_type": "code",
   "execution_count": 134,
   "metadata": {},
   "outputs": [],
   "source": [
    "data_frame['Country'][134] = \"Sao Tome and Principe\""
   ]
  },
  {
   "cell_type": "code",
   "execution_count": 135,
   "metadata": {},
   "outputs": [
    {
     "data": {
      "text/plain": [
       "'Sao Tome and Principe'"
      ]
     },
     "execution_count": 135,
     "metadata": {},
     "output_type": "execute_result"
    }
   ],
   "source": [
    "data_frame['Country'][134]"
   ]
  },
  {
   "cell_type": "code",
   "execution_count": 136,
   "metadata": {},
   "outputs": [],
   "source": [
    "countries_negative_hdi_growth = ['Lebanon', 'Jordan', 'Libya', 'Venezuela', 'East Timor', 'Syria', 'Yemen']"
   ]
  },
  {
   "cell_type": "code",
   "execution_count": 137,
   "metadata": {},
   "outputs": [
    {
     "data": {
      "text/html": [
       "<div>\n",
       "<style scoped>\n",
       "    .dataframe tbody tr th:only-of-type {\n",
       "        vertical-align: middle;\n",
       "    }\n",
       "\n",
       "    .dataframe tbody tr th {\n",
       "        vertical-align: top;\n",
       "    }\n",
       "\n",
       "    .dataframe thead th {\n",
       "        text-align: right;\n",
       "    }\n",
       "</style>\n",
       "<table border=\"1\" class=\"dataframe\">\n",
       "  <thead>\n",
       "    <tr style=\"text-align: right;\">\n",
       "      <th></th>\n",
       "      <th>Country</th>\n",
       "      <th>HDI Change (5 yrs)</th>\n",
       "      <th>HDI (2020 Report)</th>\n",
       "      <th>Avg. annual growth (%)</th>\n",
       "    </tr>\n",
       "  </thead>\n",
       "  <tbody>\n",
       "    <tr>\n",
       "      <th>0</th>\n",
       "      <td>Norway</td>\n",
       "      <td></td>\n",
       "      <td>0.957</td>\n",
       "      <td>0.20%</td>\n",
       "    </tr>\n",
       "    <tr>\n",
       "      <th>1</th>\n",
       "      <td>Republic of Ireland</td>\n",
       "      <td>(7)</td>\n",
       "      <td>0.955</td>\n",
       "      <td>0.65%</td>\n",
       "    </tr>\n",
       "    <tr>\n",
       "      <th>2</th>\n",
       "      <td>Switzerland</td>\n",
       "      <td></td>\n",
       "      <td>0.955</td>\n",
       "      <td>0.16%</td>\n",
       "    </tr>\n",
       "    <tr>\n",
       "      <th>3</th>\n",
       "      <td>Hong Kong</td>\n",
       "      <td>(7)</td>\n",
       "      <td>0.949</td>\n",
       "      <td>0.54%</td>\n",
       "    </tr>\n",
       "    <tr>\n",
       "      <th>4</th>\n",
       "      <td>Iceland</td>\n",
       "      <td>(4)</td>\n",
       "      <td>0.949</td>\n",
       "      <td>0.62%</td>\n",
       "    </tr>\n",
       "  </tbody>\n",
       "</table>\n",
       "</div>"
      ],
      "text/plain": [
       "               Country HDI Change (5 yrs) HDI (2020 Report)  \\\n",
       "0               Norway                                0.957   \n",
       "1  Republic of Ireland                (7)             0.955   \n",
       "2          Switzerland                                0.955   \n",
       "3            Hong Kong                (7)             0.949   \n",
       "4              Iceland                (4)             0.949   \n",
       "\n",
       "  Avg. annual growth (%)  \n",
       "0                  0.20%  \n",
       "1                  0.65%  \n",
       "2                  0.16%  \n",
       "3                  0.54%  \n",
       "4                  0.62%  "
      ]
     },
     "execution_count": 137,
     "metadata": {},
     "output_type": "execute_result"
    }
   ],
   "source": [
    "data_frame.head()"
   ]
  },
  {
   "cell_type": "code",
   "execution_count": 138,
   "metadata": {},
   "outputs": [
    {
     "data": {
      "text/plain": [
       "Country                   0\n",
       "HDI Change (5 yrs)        0\n",
       "HDI (2020 Report)         0\n",
       "Avg. annual growth (%)    0\n",
       "dtype: int64"
      ]
     },
     "execution_count": 138,
     "metadata": {},
     "output_type": "execute_result"
    }
   ],
   "source": [
    "data_frame.isnull().sum()"
   ]
  },
  {
   "cell_type": "code",
   "execution_count": 139,
   "metadata": {},
   "outputs": [
    {
     "data": {
      "text/plain": [
       "Country                   object\n",
       "HDI Change (5 yrs)        object\n",
       "HDI (2020 Report)         object\n",
       "Avg. annual growth (%)    object\n",
       "dtype: object"
      ]
     },
     "execution_count": 139,
     "metadata": {},
     "output_type": "execute_result"
    }
   ],
   "source": [
    "data_frame.dtypes"
   ]
  },
  {
   "cell_type": "code",
   "execution_count": 140,
   "metadata": {},
   "outputs": [],
   "source": [
    "data_frame['Avg. annual growth (%)'] = data_frame['Avg. annual growth (%)'].apply(lambda x: x[:-1])"
   ]
  },
  {
   "cell_type": "code",
   "execution_count": 141,
   "metadata": {},
   "outputs": [],
   "source": [
    "data_frame['HDI Change (5 yrs)'] = data_frame['HDI Change (5 yrs)'].apply(lambda x: x[2] if len(x) > 0 else x)"
   ]
  },
  {
   "cell_type": "code",
   "execution_count": 142,
   "metadata": {},
   "outputs": [
    {
     "name": "stdout",
     "output_type": "stream",
     "text": [
      "0       0.20\n",
      "1       0.65\n",
      "2       0.16\n",
      "3       0.54\n",
      "4       0.62\n",
      "       ...  \n",
      "182     1.40\n",
      "183     0.69\n",
      "184     0.58\n",
      "185     0.61\n",
      "186     0.84\n",
      "Length: 187, dtype: object\n"
     ]
    }
   ],
   "source": [
    "n = []\n",
    "for i in data_frame['Avg. annual growth (%)']:\n",
    "    if i == 'NA[a':\n",
    "        n.append(0)\n",
    "    else:\n",
    "        n.append(i)\n",
    "print(pd.Series(n))"
   ]
  },
  {
   "cell_type": "code",
   "execution_count": 143,
   "metadata": {},
   "outputs": [],
   "source": [
    "data_frame['Avg. annual growth (%)'] = n"
   ]
  },
  {
   "cell_type": "code",
   "execution_count": 144,
   "metadata": {},
   "outputs": [],
   "source": [
    "data_frame['HDI (2020 Report)'] = data_frame['HDI (2020 Report)'].str.strip().astype(float)"
   ]
  },
  {
   "cell_type": "code",
   "execution_count": 145,
   "metadata": {},
   "outputs": [],
   "source": [
    "data_frame['Avg. annual growth (%)'] = data_frame['Avg. annual growth (%)'].str.strip().astype(float)"
   ]
  },
  {
   "cell_type": "code",
   "execution_count": 146,
   "metadata": {},
   "outputs": [
    {
     "data": {
      "text/plain": [
       "Country                    object\n",
       "HDI Change (5 yrs)         object\n",
       "HDI (2020 Report)         float64\n",
       "Avg. annual growth (%)    float64\n",
       "dtype: object"
      ]
     },
     "execution_count": 146,
     "metadata": {},
     "output_type": "execute_result"
    }
   ],
   "source": [
    "data_frame.dtypes"
   ]
  },
  {
   "cell_type": "code",
   "execution_count": 147,
   "metadata": {},
   "outputs": [
    {
     "data": {
      "text/html": [
       "<div>\n",
       "<style scoped>\n",
       "    .dataframe tbody tr th:only-of-type {\n",
       "        vertical-align: middle;\n",
       "    }\n",
       "\n",
       "    .dataframe tbody tr th {\n",
       "        vertical-align: top;\n",
       "    }\n",
       "\n",
       "    .dataframe thead th {\n",
       "        text-align: right;\n",
       "    }\n",
       "</style>\n",
       "<table border=\"1\" class=\"dataframe\">\n",
       "  <thead>\n",
       "    <tr style=\"text-align: right;\">\n",
       "      <th></th>\n",
       "      <th>Country</th>\n",
       "      <th>HDI Change (5 yrs)</th>\n",
       "      <th>HDI (2020 Report)</th>\n",
       "      <th>Avg. annual growth (%)</th>\n",
       "    </tr>\n",
       "  </thead>\n",
       "  <tbody>\n",
       "    <tr>\n",
       "      <th>0</th>\n",
       "      <td>Norway</td>\n",
       "      <td></td>\n",
       "      <td>0.957</td>\n",
       "      <td>0.20</td>\n",
       "    </tr>\n",
       "    <tr>\n",
       "      <th>1</th>\n",
       "      <td>Republic of Ireland</td>\n",
       "      <td>7</td>\n",
       "      <td>0.955</td>\n",
       "      <td>0.65</td>\n",
       "    </tr>\n",
       "    <tr>\n",
       "      <th>2</th>\n",
       "      <td>Switzerland</td>\n",
       "      <td></td>\n",
       "      <td>0.955</td>\n",
       "      <td>0.16</td>\n",
       "    </tr>\n",
       "    <tr>\n",
       "      <th>3</th>\n",
       "      <td>Hong Kong</td>\n",
       "      <td>7</td>\n",
       "      <td>0.949</td>\n",
       "      <td>0.54</td>\n",
       "    </tr>\n",
       "    <tr>\n",
       "      <th>4</th>\n",
       "      <td>Iceland</td>\n",
       "      <td>4</td>\n",
       "      <td>0.949</td>\n",
       "      <td>0.62</td>\n",
       "    </tr>\n",
       "  </tbody>\n",
       "</table>\n",
       "</div>"
      ],
      "text/plain": [
       "               Country HDI Change (5 yrs)  HDI (2020 Report)  \\\n",
       "0               Norway                                 0.957   \n",
       "1  Republic of Ireland                  7              0.955   \n",
       "2          Switzerland                                 0.955   \n",
       "3            Hong Kong                  7              0.949   \n",
       "4              Iceland                  4              0.949   \n",
       "\n",
       "   Avg. annual growth (%)  \n",
       "0                    0.20  \n",
       "1                    0.65  \n",
       "2                    0.16  \n",
       "3                    0.54  \n",
       "4                    0.62  "
      ]
     },
     "execution_count": 147,
     "metadata": {},
     "output_type": "execute_result"
    }
   ],
   "source": [
    "data_frame.head()"
   ]
  },
  {
   "cell_type": "code",
   "execution_count": 148,
   "metadata": {},
   "outputs": [
    {
     "name": "stdout",
     "output_type": "stream",
     "text": [
      "187\n"
     ]
    }
   ],
   "source": [
    "#def annual_growth(x,y):\n",
    "x = []\n",
    "neg_growth_countries = ['Lebanon', 'Jordan', 'Libya', 'Venezuela', 'East Timor', 'Syria', 'Yemen']\n",
    "for i in range(len(data_frame['Avg. annual growth (%)'])):\n",
    "    if data_frame.iloc[i,0] in neg_growth_countries:\n",
    "        x.append(-1 * data_frame.iloc[i,3])\n",
    "    else:\n",
    "        x.append(data_frame.iloc[i,3])\n",
    "    \n",
    "    \n",
    "\n",
    "print(len(x))\n",
    "        "
   ]
  },
  {
   "cell_type": "code",
   "execution_count": 149,
   "metadata": {},
   "outputs": [],
   "source": [
    "data_frame['Avg. annual growth (%)'] = x"
   ]
  },
  {
   "cell_type": "code",
   "execution_count": 150,
   "metadata": {},
   "outputs": [
    {
     "data": {
      "text/plain": [
       "Index(['Country', 'HDI Change (5 yrs)', 'HDI (2020 Report)',\n",
       "       'Avg. annual growth (%)'],\n",
       "      dtype='object')"
      ]
     },
     "execution_count": 150,
     "metadata": {},
     "output_type": "execute_result"
    }
   ],
   "source": [
    "data_frame.columns"
   ]
  },
  {
   "cell_type": "code",
   "execution_count": 151,
   "metadata": {},
   "outputs": [
    {
     "ename": "NameError",
     "evalue": "name 'annual_growth' is not defined",
     "output_type": "error",
     "traceback": [
      "\u001b[0;31m---------------------------------------------------------------------------\u001b[0m",
      "\u001b[0;31mNameError\u001b[0m                                 Traceback (most recent call last)",
      "\u001b[0;32m<ipython-input-151-6c832622ee30>\u001b[0m in \u001b[0;36m<module>\u001b[0;34m\u001b[0m\n\u001b[0;32m----> 1\u001b[0;31m \u001b[0mannual_growth\u001b[0m\u001b[0;34m(\u001b[0m\u001b[0mdata_frame\u001b[0m\u001b[0;34m[\u001b[0m\u001b[0;34m'Country'\u001b[0m\u001b[0;34m]\u001b[0m\u001b[0;34m,\u001b[0m\u001b[0mdata_frame\u001b[0m\u001b[0;34m)\u001b[0m\u001b[0;34m\u001b[0m\u001b[0;34m\u001b[0m\u001b[0m\n\u001b[0m",
      "\u001b[0;31mNameError\u001b[0m: name 'annual_growth' is not defined"
     ]
    }
   ],
   "source": [
    "annual_growth(data_frame['Country'],data_frame)"
   ]
  },
  {
   "cell_type": "code",
   "execution_count": 152,
   "metadata": {},
   "outputs": [
    {
     "data": {
      "text/html": [
       "<div>\n",
       "<style scoped>\n",
       "    .dataframe tbody tr th:only-of-type {\n",
       "        vertical-align: middle;\n",
       "    }\n",
       "\n",
       "    .dataframe tbody tr th {\n",
       "        vertical-align: top;\n",
       "    }\n",
       "\n",
       "    .dataframe thead th {\n",
       "        text-align: right;\n",
       "    }\n",
       "</style>\n",
       "<table border=\"1\" class=\"dataframe\">\n",
       "  <thead>\n",
       "    <tr style=\"text-align: right;\">\n",
       "      <th></th>\n",
       "      <th>Country</th>\n",
       "      <th>HDI Change (5 yrs)</th>\n",
       "      <th>HDI (2020 Report)</th>\n",
       "      <th>Avg. annual growth (%)</th>\n",
       "    </tr>\n",
       "  </thead>\n",
       "  <tbody>\n",
       "    <tr>\n",
       "      <th>0</th>\n",
       "      <td>Norway</td>\n",
       "      <td></td>\n",
       "      <td>0.957</td>\n",
       "      <td>0.20</td>\n",
       "    </tr>\n",
       "    <tr>\n",
       "      <th>1</th>\n",
       "      <td>Republic of Ireland</td>\n",
       "      <td>7</td>\n",
       "      <td>0.955</td>\n",
       "      <td>0.65</td>\n",
       "    </tr>\n",
       "    <tr>\n",
       "      <th>2</th>\n",
       "      <td>Switzerland</td>\n",
       "      <td></td>\n",
       "      <td>0.955</td>\n",
       "      <td>0.16</td>\n",
       "    </tr>\n",
       "    <tr>\n",
       "      <th>3</th>\n",
       "      <td>Hong Kong</td>\n",
       "      <td>7</td>\n",
       "      <td>0.949</td>\n",
       "      <td>0.54</td>\n",
       "    </tr>\n",
       "    <tr>\n",
       "      <th>4</th>\n",
       "      <td>Iceland</td>\n",
       "      <td>4</td>\n",
       "      <td>0.949</td>\n",
       "      <td>0.62</td>\n",
       "    </tr>\n",
       "    <tr>\n",
       "      <th>...</th>\n",
       "      <td>...</td>\n",
       "      <td>...</td>\n",
       "      <td>...</td>\n",
       "      <td>...</td>\n",
       "    </tr>\n",
       "    <tr>\n",
       "      <th>182</th>\n",
       "      <td>Sierra Leone</td>\n",
       "      <td>2</td>\n",
       "      <td>0.452</td>\n",
       "      <td>1.40</td>\n",
       "    </tr>\n",
       "    <tr>\n",
       "      <th>183</th>\n",
       "      <td>Mali</td>\n",
       "      <td></td>\n",
       "      <td>0.434</td>\n",
       "      <td>0.69</td>\n",
       "    </tr>\n",
       "    <tr>\n",
       "      <th>184</th>\n",
       "      <td>Burundi</td>\n",
       "      <td>5</td>\n",
       "      <td>0.433</td>\n",
       "      <td>0.58</td>\n",
       "    </tr>\n",
       "    <tr>\n",
       "      <th>185</th>\n",
       "      <td>South Sudan</td>\n",
       "      <td>3</td>\n",
       "      <td>0.433</td>\n",
       "      <td>0.61</td>\n",
       "    </tr>\n",
       "    <tr>\n",
       "      <th>186</th>\n",
       "      <td>Chad</td>\n",
       "      <td>1</td>\n",
       "      <td>0.398</td>\n",
       "      <td>0.84</td>\n",
       "    </tr>\n",
       "  </tbody>\n",
       "</table>\n",
       "<p>187 rows × 4 columns</p>\n",
       "</div>"
      ],
      "text/plain": [
       "                 Country HDI Change (5 yrs)  HDI (2020 Report)  \\\n",
       "0                 Norway                                 0.957   \n",
       "1    Republic of Ireland                  7              0.955   \n",
       "2            Switzerland                                 0.955   \n",
       "3              Hong Kong                  7              0.949   \n",
       "4                Iceland                  4              0.949   \n",
       "..                   ...                ...                ...   \n",
       "182         Sierra Leone                  2              0.452   \n",
       "183                 Mali                                 0.434   \n",
       "184              Burundi                  5              0.433   \n",
       "185          South Sudan                  3              0.433   \n",
       "186                 Chad                  1              0.398   \n",
       "\n",
       "     Avg. annual growth (%)  \n",
       "0                      0.20  \n",
       "1                      0.65  \n",
       "2                      0.16  \n",
       "3                      0.54  \n",
       "4                      0.62  \n",
       "..                      ...  \n",
       "182                    1.40  \n",
       "183                    0.69  \n",
       "184                    0.58  \n",
       "185                    0.61  \n",
       "186                    0.84  \n",
       "\n",
       "[187 rows x 4 columns]"
      ]
     },
     "execution_count": 152,
     "metadata": {},
     "output_type": "execute_result"
    }
   ],
   "source": [
    "data_frame"
   ]
  },
  {
   "cell_type": "code",
   "execution_count": 88,
   "metadata": {},
   "outputs": [],
   "source": [
    "#Need GeoSchemes, scrape this\n",
    "url_ungs = \"https://en.wikipedia.org/wiki/List_of_countries_by_United_Nations_geoscheme\"\n",
    "html1 = urlopen(url_ungs) \n",
    "soup1 = BeautifulSoup(html1, 'html.parser')"
   ]
  },
  {
   "cell_type": "code",
   "execution_count": 89,
   "metadata": {},
   "outputs": [],
   "source": [
    "geoschemes = soup1.find_all('body')"
   ]
  },
  {
   "cell_type": "code",
   "execution_count": 90,
   "metadata": {},
   "outputs": [
    {
     "name": "stdout",
     "output_type": "stream",
     "text": [
      "Number of tables on site:  2\n"
     ]
    }
   ],
   "source": [
    "tables1 = soup1.find_all(\"table\", attrs={\"class\": \"wikitable\"})\n",
    "print(\"Number of tables on site: \",len(tabl))"
   ]
  },
  {
   "cell_type": "code",
   "execution_count": 91,
   "metadata": {},
   "outputs": [
    {
     "name": "stdout",
     "output_type": "stream",
     "text": [
      "['Country or Area', 'Sub-Subregion', 'Subregion', 'Region', 'UNSD M49 Codes']\n"
     ]
    }
   ],
   "source": [
    "table_ungs = tables1[0]\n",
    "\n",
    "body = table_ungs.find_all(\"tr\")\n",
    "head = body[0]\n",
    "body_rows = body[1:]\n",
    "\n",
    "headings = []\n",
    "\n",
    "for item in head.find_all(\"th\"):\n",
    "    item = (item.text).rstrip(\"\\n\")\n",
    "    headings.append(item)\n",
    "print(headings)"
   ]
  },
  {
   "cell_type": "code",
   "execution_count": 92,
   "metadata": {},
   "outputs": [],
   "source": [
    "all_rows = [] # will be a list for list for all rows\n",
    "for row_num in range(len(body_rows)): # A row at a time\n",
    "    row = [] # this will old entries for one row\n",
    "    for row_item in body_rows[row_num].find_all(\"td\"): #loop through all row entries\n",
    "        # row_item.text removes the tags from the entries\n",
    "        # the following regex is to remove \\xa0 and \\n and comma from row_item.text\n",
    "        # xa0 encodes the flag, \\n is the newline and comma separates thousands in numbers\n",
    "        aa = re.sub(\"(\\xa0)|(\\n)|,\",\"\",row_item.text)\n",
    "        #append aa to row - note one row entry is being appended\n",
    "        row.append(aa)\n",
    "    # append one row to all_rows\n",
    "    all_rows.append(row)"
   ]
  },
  {
   "cell_type": "code",
   "execution_count": 94,
   "metadata": {},
   "outputs": [
    {
     "data": {
      "text/plain": [
       "list"
      ]
     },
     "execution_count": 94,
     "metadata": {},
     "output_type": "execute_result"
    }
   ],
   "source": [
    "type(all_rows)"
   ]
  },
  {
   "cell_type": "code",
   "execution_count": 95,
   "metadata": {},
   "outputs": [
    {
     "name": "stdout",
     "output_type": "stream",
     "text": [
      "[' Algeria', '', 'Northern Africa', 'Africa', '012 < 015 < 002 < 001']\n",
      "[' Egypt', '', 'Northern Africa', 'Africa', '818 < 015 < 002 < 001']\n",
      "[' Libya', '', 'Northern Africa', 'Africa', '434 < 015 < 002 < 001']\n",
      "[' Morocco', '', 'Northern Africa', 'Africa', '504 < 015 < 002 < 001']\n",
      "[' Sudan', '', 'Northern Africa', 'Africa', '729 < 015 < 002 < 001']\n",
      "[' Tunisia', '', 'Northern Africa', 'Africa', '788 < 015 < 002 < 001']\n",
      "[' Western Sahara', '', 'Northern Africa', 'Africa', '732 < 015 < 002 < 001']\n",
      "[' British Indian Ocean Territory', 'Eastern Africa', 'Sub-Saharan Africa', 'Africa', '086 < 014 < 202 < 002 < 001']\n",
      "[' Burundi', 'Eastern Africa', 'Sub-Saharan Africa', 'Africa', '108 < 014 < 202 < 002 < 001']\n",
      "[' Comoros', 'Eastern Africa', 'Sub-Saharan Africa', 'Africa', '174 < 014 < 202 < 002 < 001']\n",
      "[' Djibouti', 'Eastern Africa', 'Sub-Saharan Africa', 'Africa', '262 < 014 < 202 < 002 < 001']\n",
      "[' Eritrea', 'Eastern Africa', 'Sub-Saharan Africa', 'Africa', '232 < 014 < 202 < 002 < 001']\n",
      "[' Ethiopia', 'Eastern Africa', 'Sub-Saharan Africa', 'Africa', '231 < 014 < 202 < 002 < 001']\n",
      "[' French Southern and Antarctic Lands', 'Eastern Africa', 'Sub-Saharan Africa', 'Africa', '260 < 014 < 202 < 002 < 001']\n",
      "[' Kenya', 'Eastern Africa', 'Sub-Saharan Africa', 'Africa', '404 < 014 < 202 < 002 < 001']\n",
      "[' Madagascar', 'Eastern Africa', 'Sub-Saharan Africa', 'Africa', '450 < 014 < 202 < 002 < 001']\n",
      "[' Malawi', 'Eastern Africa', 'Sub-Saharan Africa', 'Africa', '454 < 014 < 202 < 002 < 001']\n",
      "[' Mauritius', 'Eastern Africa', 'Sub-Saharan Africa', 'Africa', '480 < 014 < 202 < 002 < 001']\n",
      "[' Mayotte', 'Eastern Africa', 'Sub-Saharan Africa', 'Africa', '175 < 014 < 202 < 002 < 001']\n",
      "[' Mozambique', 'Eastern Africa', 'Sub-Saharan Africa', 'Africa', '508 < 014 < 202 < 002 < 001']\n",
      "[' Réunion', 'Eastern Africa', 'Sub-Saharan Africa', 'Africa', '638 < 014 < 202 < 002 < 001']\n",
      "[' Rwanda', 'Eastern Africa', 'Sub-Saharan Africa', 'Africa', '646 < 014 < 202 < 002 < 001']\n",
      "[' Seychelles', 'Eastern Africa', 'Sub-Saharan Africa', 'Africa', '690 < 014 < 202 < 002 < 001']\n",
      "[' Somalia', 'Eastern Africa', 'Sub-Saharan Africa', 'Africa', '706 < 014 < 202 < 002 < 001']\n",
      "[' South Sudan', 'Eastern Africa', 'Sub-Saharan Africa', 'Africa', '728 < 014 < 202 < 002 < 001']\n",
      "[' Uganda', 'Eastern Africa', 'Sub-Saharan Africa', 'Africa', '800 < 014 < 202 < 002 < 001']\n",
      "[' Tanzania', 'Eastern Africa', 'Sub-Saharan Africa', 'Africa', '834 < 014 < 202 < 002 < 001']\n",
      "[' Zambia', 'Eastern Africa', 'Sub-Saharan Africa', 'Africa', '894 < 014 < 202 < 002 < 001']\n",
      "[' Zimbabwe', 'Eastern Africa', 'Sub-Saharan Africa', 'Africa', '716 < 014 < 202 < 002 < 001']\n",
      "[' Angola', 'Middle Africa', 'Sub-Saharan Africa', 'Africa', '024 < 017 < 202 < 002 < 001']\n",
      "[' Cameroon', 'Middle Africa', 'Sub-Saharan Africa', 'Africa', '120 < 017 < 202 < 002 < 001']\n",
      "[' Central African Republic', 'Middle Africa', 'Sub-Saharan Africa', 'Africa', '140 < 017 < 202 < 002 < 001']\n",
      "[' Chad', 'Middle Africa', 'Sub-Saharan Africa', 'Africa', '148 < 017 < 202 < 002 < 001']\n",
      "[' Congo [Republic of the Congo]', 'Middle Africa', 'Sub-Saharan Africa', 'Africa', '178 < 017 < 202 < 002 < 001']\n",
      "[' DR Congo', 'Middle Africa', 'Sub-Saharan Africa', 'Africa', '180 < 017 < 202 < 002 < 001']\n",
      "[' Equatorial Guinea', 'Middle Africa', 'Sub-Saharan Africa', 'Africa', '226 < 017 < 202 < 002 < 001']\n",
      "[' Gabon', 'Middle Africa', 'Sub-Saharan Africa', 'Africa', '266 < 017 < 202 < 002 < 001']\n",
      "[' São Tomé and Príncipe', 'Middle Africa', 'Sub-Saharan Africa', 'Africa', '678 < 017 < 202 < 002 < 001']\n",
      "[' Botswana', 'Southern Africa', 'Sub-Saharan Africa', 'Africa', '072 < 018 < 202 < 002 < 001']\n",
      "[' Eswatini [Swaziland]', 'Southern Africa', 'Sub-Saharan Africa', 'Africa', '748 < 018 < 202 < 002 < 001']\n",
      "[' Lesotho', 'Southern Africa', 'Sub-Saharan Africa', 'Africa', '426 < 018 < 202 < 002 < 001']\n",
      "[' Namibia', 'Southern Africa', 'Sub-Saharan Africa', 'Africa', '516 < 018 < 202 < 002 < 001']\n",
      "[' South Africa', 'Southern Africa', 'Sub-Saharan Africa', 'Africa', '710 < 018 < 202 < 002 < 001']\n",
      "[' Benin', 'Western Africa', 'Sub-Saharan Africa', 'Africa', '204 < 011 < 202 < 002 < 001']\n",
      "[' Burkina Faso', 'Western Africa', 'Sub-Saharan Africa', 'Africa', '854 < 011 < 202 < 002 < 001']\n",
      "[' Cabo Verde [Cape Verde]', 'Western Africa', 'Sub-Saharan Africa', 'Africa', '132 < 011 < 202 < 002 < 001']\n",
      "[\" Côte d'Ivoire [Ivory Coast]\", 'Western Africa', 'Sub-Saharan Africa', 'Africa', '384 < 011 < 202 < 002 < 001']\n",
      "[' Gambia', 'Western Africa', 'Sub-Saharan Africa', 'Africa', '270 < 011 < 202 < 002 < 001']\n",
      "[' Ghana', 'Western Africa', 'Sub-Saharan Africa', 'Africa', '288 < 011 < 202 < 002 < 001']\n",
      "[' Guinea', 'Western Africa', 'Sub-Saharan Africa', 'Africa', '324 < 011 < 202 < 002 < 001']\n",
      "[' Guinea-Bissau', 'Western Africa', 'Sub-Saharan Africa', 'Africa', '624 < 011 < 202 < 002 < 001']\n",
      "[' Liberia', 'Western Africa', 'Sub-Saharan Africa', 'Africa', '430 < 011 < 202 < 002 < 001']\n",
      "[' Mali', 'Western Africa', 'Sub-Saharan Africa', 'Africa', '466 < 011 < 202 < 002 < 001']\n",
      "[' Mauritania', 'Western Africa', 'Sub-Saharan Africa', 'Africa', '478 < 011 < 202 < 002 < 001']\n",
      "[' Niger', 'Western Africa', 'Sub-Saharan Africa', 'Africa', '562 < 011 < 202 < 002 < 001']\n",
      "[' Nigeria', 'Western Africa', 'Sub-Saharan Africa', 'Africa', '566 < 011 < 202 < 002 < 001']\n",
      "[' Saint Helena [Saint Helena Ascension and Tristan da Cunha]', 'Western Africa', 'Sub-Saharan Africa', 'Africa', '654 < 011 < 202 < 002 < 001']\n",
      "[' Senegal', 'Western Africa', 'Sub-Saharan Africa', 'Africa', '686 < 011 < 202 < 002 < 001']\n",
      "[' Sierra Leone', 'Western Africa', 'Sub-Saharan Africa', 'Africa', '694 < 011 < 202 < 002 < 001']\n",
      "[' Togo', 'Western Africa', 'Sub-Saharan Africa', 'Africa', '768 < 011 < 202 < 002 < 001']\n",
      "[' Anguilla', 'Caribbean', 'Latin America and the Caribbean / North America', 'Americas', '660 < 029 < 419 / 003 < 019 < 001']\n",
      "[' Antigua and Barbuda', 'Caribbean', 'Latin America and the Caribbean / North America', 'Americas', '028 < 029 < 419 / 003 < 019 < 001']\n",
      "[' Aruba', 'Caribbean', 'Latin America and the Caribbean / North America', 'Americas', '533 < 029 < 419 / 003 < 019 < 001']\n",
      "[' Bahamas', 'Caribbean', 'Latin America and the Caribbean / North America', 'Americas', '044 < 029 < 419 / 003 < 019 < 001']\n",
      "[' Barbados', 'Caribbean', 'Latin America and the Caribbean / North America', 'Americas', '052 < 029 < 419 / 003 < 019 < 001']\n",
      "[' Caribbean Netherlands', 'Caribbean', 'Latin America and the Caribbean / North America', 'Americas', '535 < 029 < 419 / 003 < 019 < 001']\n",
      "[' British Virgin Islands', 'Caribbean', 'Latin America and the Caribbean / North America', 'Americas', '092 < 029 < 419 / 003 < 019 < 001']\n",
      "[' Cayman Islands', 'Caribbean', 'Latin America and the Caribbean / North America', 'Americas', '136 < 029 < 419 / 003 < 019 < 001']\n",
      "[' Cuba', 'Caribbean', 'Latin America and the Caribbean / North America', 'Americas', '192 < 029 < 419 / 003 < 019 < 001']\n",
      "[' Curaçao', 'Caribbean', 'Latin America and the Caribbean / North America', 'Americas', '531 < 029 < 419 / 003 < 019 < 001']\n",
      "[' Dominica', 'Caribbean', 'Latin America and the Caribbean / North America', 'Americas', '212 < 029 < 419 / 003 < 019 < 001']\n",
      "[' Dominican Republic', 'Caribbean', 'Latin America and the Caribbean / North America', 'Americas', '214 < 029 < 419 / 003 < 019 < 001']\n",
      "[' Grenada', 'Caribbean', 'Latin America and the Caribbean / North America', 'Americas', '308 < 029 < 419 / 003 < 019 < 001']\n",
      "[' Guadeloupe', 'Caribbean', 'Latin America and the Caribbean / North America', 'Americas', '312 < 029 < 419 / 003 < 019 < 001']\n",
      "[' Haiti', 'Caribbean', 'Latin America and the Caribbean / North America', 'Americas', '332 < 029 < 419 / 003 < 019 < 001']\n",
      "[' Jamaica', 'Caribbean', 'Latin America and the Caribbean / North America', 'Americas', '388 < 029 < 419 / 003 < 019 < 001']\n",
      "[' Martinique', 'Caribbean', 'Latin America and the Caribbean / North America', 'Americas', '474 < 029 < 419 / 003 < 019 < 001']\n",
      "[' Montserrat', 'Caribbean', 'Latin America and the Caribbean / North America', 'Americas', '500 < 029 < 419 / 003 < 019 < 001']\n",
      "[' Puerto Rico', 'Caribbean', 'Latin America and the Caribbean / North America', 'Americas', '630 < 029 < 419 / 003 < 019 < 001']\n",
      "[' Saint Barthélemy', 'Caribbean', 'Latin America and the Caribbean / North America', 'Americas', '652 < 029 < 419 / 003 < 019 < 001']\n",
      "[' Saint Kitts and Nevis', 'Caribbean', 'Latin America and the Caribbean / North America', 'Americas', '659 < 029 < 419 / 003 < 019 < 001']\n",
      "[' Saint Lucia', 'Caribbean', 'Latin America and the Caribbean / North America', 'Americas', '662 < 029 < 419 / 003 < 019 < 001']\n",
      "[' Saint Martin', 'Caribbean', 'Latin America and the Caribbean / North America', 'Americas', '663 < 029 < 419 / 003 < 019 < 001']\n",
      "[' Saint Vincent and the Grenadines', 'Caribbean', 'Latin America and the Caribbean / North America', 'Americas', '670 < 029 < 419 / 003 < 019 < 001']\n",
      "[' Sint Maarten', 'Caribbean', 'Latin America and the Caribbean / North America', 'Americas', '534 < 029 < 419 / 003 < 019 < 001']\n",
      "[' Trinidad and Tobago', 'Caribbean', 'Latin America and the Caribbean / North America', 'Americas', '780 < 029 < 419 / 003 < 019 < 001']\n",
      "[' Turks and Caicos Islands', 'Caribbean', 'Latin America and the Caribbean / North America', 'Americas', '796 < 029 < 419 / 003 < 019 < 001']\n",
      "[' U.S. Virgin Islands', 'Caribbean', 'Latin America and the Caribbean / North America', 'Americas', '850 < 029 < 419 / 003 < 019 < 001']\n",
      "[' Belize', 'Central America', 'Latin America and the Caribbean / North America', 'Americas', '084 < 013 < 419 / 003 < 019 < 001']\n",
      "[' Costa Rica', 'Central America', 'Latin America and the Caribbean / North America', 'Americas', '188 < 013 < 419 / 003 < 019 < 001']\n",
      "[' El Salvador', 'Central America', 'Latin America and the Caribbean / North America', 'Americas', '222 < 013 < 419 / 003 < 019 < 001']\n",
      "[' Guatemala', 'Central America', 'Latin America and the Caribbean / North America', 'Americas', '320 < 013 < 419 / 003 < 019 < 001']\n",
      "[' Honduras', 'Central America', 'Latin America and the Caribbean / North America', 'Americas', '340 < 013 < 419 / 003 < 019 < 001']\n",
      "[' Mexico', 'Central America', 'Latin America and the Caribbean / North America', 'Americas', '484 < 013 < 419 / 003 < 019 < 001']\n",
      "[' Nicaragua', 'Central America', 'Latin America and the Caribbean / North America', 'Americas', '558 < 013 < 419 / 003 < 019 < 001']\n",
      "[' Panama', 'Central America', 'Latin America and the Caribbean / North America', 'Americas', '591 < 013 < 419 / 003 < 019 < 001']\n",
      "[' Argentina', 'South America', 'Latin America and the Caribbean', 'Americas', '032 < 005 < 419 < 019 < 001']\n",
      "[' Bolivia', 'South America', 'Latin America and the Caribbean', 'Americas', '068 < 005 < 419 < 019 < 001']\n",
      "[' Bouvet Island', 'South America', 'Latin America and the Caribbean', 'Americas', '074 < 005 < 419 < 019 < 001']\n",
      "[' Brazil', 'South America', 'Latin America and the Caribbean', 'Americas', '076 < 005 < 419 < 019 < 001']\n",
      "[' Chile', 'South America', 'Latin America and the Caribbean', 'Americas', '152 < 005 < 419 < 019 < 001']\n",
      "[' Colombia', 'South America', 'Latin America and the Caribbean', 'Americas', '170 < 005 < 419 < 019 < 001']\n",
      "[' Ecuador', 'South America', 'Latin America and the Caribbean', 'Americas', '218 < 005 < 419 < 019 < 001']\n",
      "[' Falkland Islands', 'South America', 'Latin America and the Caribbean', 'Americas', '238 < 005 < 419 < 019 < 001']\n",
      "[' French Guiana', 'South America', 'Latin America and the Caribbean', 'Americas', '254 < 005 < 419 < 019 < 001']\n",
      "[' Guyana', 'South America', 'Latin America and the Caribbean', 'Americas', '328 < 005 < 419 < 019 < 001']\n",
      "[' Paraguay', 'South America', 'Latin America and the Caribbean', 'Americas', '600 < 005 < 419 < 019 < 001']\n",
      "[' Peru', 'South America', 'Latin America and the Caribbean', 'Americas', '604 < 005 < 419 < 019 < 001']\n",
      "[' South Georgia and the South Sandwich Islands', 'South America', 'Latin America and the Caribbean', 'Americas', '239 < 005 < 419 < 019 < 001']\n",
      "[' Suriname', 'South America', 'Latin America and the Caribbean', 'Americas', '740 < 005 < 419 < 019 < 001']\n",
      "[' Uruguay', 'South America', 'Latin America and the Caribbean', 'Americas', '858 < 005 < 419 < 019 < 001']\n",
      "[' Venezuela', 'South America', 'Latin America and the Caribbean', 'Americas', '862 < 005 < 419 < 019 < 001']\n",
      "[' Bermuda', 'Northern America', 'North America', 'Americas', '060 < 021 < 003 < 019 < 001']\n",
      "[' Canada', 'Northern America', 'North America', 'Americas', '124 < 021 < 003 < 019 < 001']\n",
      "[' Greenland', 'Northern America', 'North America', 'Americas', '304 < 021 < 003 < 019 < 001']\n",
      "[' Saint Pierre and Miquelon', 'Northern America', 'North America', 'Americas', '666 < 021 < 003 < 019 < 001']\n",
      "[' United States', 'Northern America', 'North America', 'Americas', '840 < 021 < 003 < 019 < 001']\n",
      "[' Antarctica', '', '', 'Antarctica', '010 < 001']\n",
      "[' Kazakhstan', '', 'Central Asia', 'Asia', '398 < 143 < 142 < 001']\n",
      "[' Kyrgyzstan', '', 'Central Asia', 'Asia', '417 < 143 < 142 < 001']\n",
      "[' Tajikistan', '', 'Central Asia', 'Asia', '762 < 143 < 142 < 001']\n",
      "[' Turkmenistan', '', 'Central Asia', 'Asia', '795 < 143 < 142 < 001']\n",
      "[' Uzbekistan', '', 'Central Asia', 'Asia', '860 < 143 < 142 < 001']\n",
      "[' China', '', 'Eastern Asia', 'Asia', '156 < 030 < 142 < 001']\n",
      "[' China Hong Kong Special Administrative Region', '', 'Eastern Asia', 'Asia', '344 < 030 < 142 < 001']\n",
      "[' China Macao Special Administrative Region', '', 'Eastern Asia', 'Asia', '446 < 030 < 142 < 001']\n",
      "[\" Democratic People's Republic of Korea [North Korea]\", '', 'Eastern Asia', 'Asia', '408 < 030 < 142 < 001']\n",
      "[' Japan', '', 'Eastern Asia', 'Asia', '392 < 030 < 142 < 001']\n",
      "[' Mongolia', '', 'Eastern Asia', 'Asia', '496 < 030 < 142 < 001']\n",
      "[' Republic of Korea [South Korea]', '', 'Eastern Asia', 'Asia', '410 < 030 < 142 < 001']\n",
      "[' Brunei', '', 'South-eastern Asia', 'Asia', '096 < 035 < 142 < 001']\n",
      "[' Cambodia', '', 'South-eastern Asia', 'Asia', '116 < 035 < 142 < 001']\n",
      "[' Indonesia', '', 'South-eastern Asia', 'Asia', '360 < 035 < 142 < 001']\n",
      "[' Laos', '', 'South-eastern Asia', 'Asia', '418 < 035 < 142 < 001']\n",
      "[' Malaysia', '', 'South-eastern Asia', 'Asia', '458 < 035 < 142 < 001']\n",
      "[' Myanmar [Burma]', '', 'South-eastern Asia', 'Asia', '104 < 035 < 142 < 001']\n",
      "[' Philippines', '', 'South-eastern Asia', 'Asia', '608 < 035 < 142 < 001']\n",
      "[' Singapore', '', 'South-eastern Asia', 'Asia', '702 < 035 < 142 < 001']\n",
      "[' Thailand', '', 'South-eastern Asia', 'Asia', '764 < 035 < 142 < 001']\n",
      "[' Timor-Leste [East Timor]', '', 'South-eastern Asia', 'Asia', '626 < 035 < 142 < 001']\n",
      "[' Vietnam', '', 'South-eastern Asia', 'Asia', '704 < 035 < 142 < 001']\n",
      "[' Afghanistan', '', 'Southern Asia', 'Asia', '004 < 034 < 142 < 001']\n",
      "[' Bangladesh', '', 'Southern Asia', 'Asia', '050 < 034 < 142 < 001']\n",
      "[' Bhutan', '', 'Southern Asia', 'Asia', '064 < 034 < 142 < 001']\n",
      "[' India', '', 'Southern Asia', 'Asia', '356 < 034 < 142 < 001']\n",
      "[' Iran', '', 'Southern Asia', 'Asia', '364 < 034 < 142 < 001']\n",
      "[' Maldives', '', 'Southern Asia', 'Asia', '462 < 034 < 142 < 001']\n",
      "[' Nepal', '', 'Southern Asia', 'Asia', '524 < 034 < 142 < 001']\n",
      "[' Pakistan', '', 'Southern Asia', 'Asia', '586 < 034 < 142 < 001']\n",
      "[' Sri Lanka', '', 'Southern Asia', 'Asia', '144 < 034 < 142 < 001']\n",
      "[' Armenia', '', 'Western Asia', 'Asia', '051 < 145 < 142 < 001']\n",
      "[' Azerbaijan', '', 'Western Asia', 'Asia', '031 < 145 < 142 < 001']\n",
      "[' Bahrain', '', 'Western Asia', 'Asia', '048 < 145 < 142 < 001']\n",
      "[' Cyprus', '', 'Western Asia', 'Asia', '196 < 145 < 142 < 001']\n",
      "[' Georgia', '', 'Western Asia', 'Asia', '268 < 145 < 142 < 001']\n",
      "[' Iraq', '', 'Western Asia', 'Asia', '368 < 145 < 142 < 001']\n",
      "[' Israel', '', 'Western Asia', 'Asia', '376 < 145 < 142 < 001']\n",
      "[' Jordan', '', 'Western Asia', 'Asia', '400 < 145 < 142 < 001']\n",
      "[' Kuwait', '', 'Western Asia', 'Asia', '414 < 145 < 142 < 001']\n",
      "[' Lebanon', '', 'Western Asia', 'Asia', '422 < 145 < 142 < 001']\n",
      "[' Oman', '', 'Western Asia', 'Asia', '512 < 145 < 142 < 001']\n",
      "[' Qatar', '', 'Western Asia', 'Asia', '634 < 145 < 142 < 001']\n",
      "[' Saudi Arabia', '', 'Western Asia', 'Asia', '682 < 145 < 142 < 001']\n",
      "[' Palestine', '', 'Western Asia', 'Asia', '275 < 145 < 142 < 001']\n",
      "[' Syria', '', 'Western Asia', 'Asia', '760 < 145 < 142 < 001']\n",
      "[' Turkey', '', 'Western Asia', 'Asia', '792 < 145 < 142 < 001']\n",
      "[' United Arab Emirates', '', 'Western Asia', 'Asia', '784 < 145 < 142 < 001']\n",
      "[' Yemen', '', 'Western Asia', 'Asia', '887 < 145 < 142 < 001']\n",
      "[' Belarus', '', 'Eastern Europe', 'Europe', '112 < 151 < 150 < 001']\n",
      "[' Bulgaria', '', 'Eastern Europe', 'Europe', '100 < 151 < 150 < 001']\n",
      "[' Czechia [Czech Republic]', '', 'Eastern Europe', 'Europe', '203 < 151 < 150 < 001']\n",
      "[' Hungary', '', 'Eastern Europe', 'Europe', '348 < 151 < 150 < 001']\n",
      "[' Poland', '', 'Eastern Europe', 'Europe', '616 < 151 < 150 < 001']\n",
      "[' Moldova', '', 'Eastern Europe', 'Europe', '498 < 151 < 150 < 001']\n",
      "[' Romania', '', 'Eastern Europe', 'Europe', '642 < 151 < 150 < 001']\n",
      "[' Russia', '', 'Eastern Europe', 'Europe', '643 < 151 < 150 < 001']\n",
      "[' Slovakia', '', 'Eastern Europe', 'Europe', '703 < 151 < 150 < 001']\n",
      "[' Ukraine', '', 'Eastern Europe', 'Europe', '804 < 151 < 150 < 001']\n",
      "[' Åland Islands', '', 'Northern Europe', 'Europe', '248 < 154 < 150 < 001']\n",
      "[' Guernsey', 'Channel Islands', 'Northern Europe', 'Europe', '831 < 830 < 154 < 150 < 001']\n",
      "[' Jersey', 'Channel Islands', 'Northern Europe', 'Europe', '832 < 830 < 154 < 150 < 001']\n",
      "[' Sark', 'Channel Islands', 'Northern Europe', 'Europe', '680 < 830 < 154 < 150 < 001']\n",
      "[' Denmark', '', 'Northern Europe', 'Europe', '208 < 154 < 150 < 001']\n",
      "[' Estonia', '', 'Northern Europe', 'Europe', '233 < 154 < 150 < 001']\n",
      "[' Faroe Islands', '', 'Northern Europe', 'Europe', '234 < 154 < 150 < 001']\n",
      "[' Finland', '', 'Northern Europe', 'Europe', '246 < 154 < 150 < 001']\n",
      "[' Iceland', '', 'Northern Europe', 'Europe', '352 < 154 < 150 < 001']\n",
      "[' Ireland', '', 'Northern Europe', 'Europe', '372 < 154 < 150 < 001']\n",
      "[' Isle of Man', '', 'Northern Europe', 'Europe', '833 < 154 < 150 < 001']\n",
      "[' Latvia', '', 'Northern Europe', 'Europe', '428 < 154 < 150 < 001']\n",
      "[' Lithuania', '', 'Northern Europe', 'Europe', '440 < 154 < 150 < 001']\n",
      "[' Norway', '', 'Northern Europe', 'Europe', '578 < 154 < 150 < 001']\n",
      "[' Svalbard and Jan Mayen Islands', '', 'Northern Europe', 'Europe', '744 < 154 < 150 < 001']\n",
      "[' Sweden', '', 'Northern Europe', 'Europe', '752 < 154 < 150 < 001']\n",
      "[' United Kingdom', '', 'Northern Europe', 'Europe', '826 < 154 < 150 < 001']\n",
      "[' Albania', '', 'Southern Europe', 'Europe', '008 < 039 < 150 < 001']\n",
      "[' Andorra', '', 'Southern Europe', 'Europe', '020 < 039 < 150 < 001']\n",
      "[' Bosnia and Herzegovina', '', 'Southern Europe', 'Europe', '070 < 039 < 150 < 001']\n",
      "[' Croatia', '', 'Southern Europe', 'Europe', '191 < 039 < 150 < 001']\n",
      "[' Gibraltar', '', 'Southern Europe', 'Europe', '292 < 039 < 150 < 001']\n",
      "[' Greece', '', 'Southern Europe', 'Europe', '300 < 039 < 150 < 001']\n",
      "[' Holy See [Vatican City]', '', 'Southern Europe', 'Europe', '336 < 039 < 150 < 001']\n",
      "[' Italy', '', 'Southern Europe', 'Europe', '380 < 039 < 150 < 001']\n",
      "[' Malta', '', 'Southern Europe', 'Europe', '470 < 039 < 150 < 001']\n",
      "[' Montenegro', '', 'Southern Europe', 'Europe', '499 < 039 < 150 < 001']\n",
      "[' North Macedonia', '', 'Southern Europe', 'Europe', '807 < 039 < 150 < 001']\n",
      "[' Portugal', '', 'Southern Europe', 'Europe', '620 < 039 < 150 < 001']\n",
      "[' San Marino', '', 'Southern Europe', 'Europe', '674 < 039 < 150 < 001']\n",
      "[' Serbia', '', 'Southern Europe', 'Europe', '688 < 039 < 150 < 001']\n",
      "[' Slovenia', '', 'Southern Europe', 'Europe', '705 < 039 < 150 < 001']\n",
      "[' Spain', '', 'Southern Europe', 'Europe', '724 < 039 < 150 < 001']\n",
      "[' Austria', '', 'Western Europe', 'Europe', '040 < 155 < 150 < 001']\n",
      "[' Belgium', '', 'Western Europe', 'Europe', '056 < 155 < 150 < 001']\n",
      "[' France [French Republic]', '', 'Western Europe', 'Europe', '250 < 155 < 150 < 001']\n",
      "[' Germany', '', 'Western Europe', 'Europe', '276 < 155 < 150 < 001']\n",
      "[' Liechtenstein', '', 'Western Europe', 'Europe', '438 < 155 < 150 < 001']\n",
      "[' Luxembourg', '', 'Western Europe', 'Europe', '442 < 155 < 150 < 001']\n",
      "[' Monaco', '', 'Western Europe', 'Europe', '492 < 155 < 150 < 001']\n",
      "[' Netherlands', '', 'Western Europe', 'Europe', '528 < 155 < 150 < 001']\n",
      "[' Switzerland', '', 'Western Europe', 'Europe', '756 < 155 < 150 < 001']\n",
      "[' Australia', '', 'Australia and New Zealand', 'Oceania', '036 < 053 < 009 < 001']\n",
      "[' Christmas Island', '', 'Australia and New Zealand', 'Oceania', '162 < 053 < 009 < 001']\n",
      "[' Cocos (Keeling) Islands', '', 'Australia and New Zealand', 'Oceania', '166 < 053 < 009 < 001']\n",
      "[' Heard Island and McDonald Islands', '', 'Australia and New Zealand', 'Oceania', '334 < 053 < 009 < 001']\n",
      "[' New Zealand', '', 'Australia and New Zealand', 'Oceania', '554 < 053 < 009 < 001']\n",
      "[' Norfolk Island', '', 'Australia and New Zealand', 'Oceania', '574 < 053 < 009 < 001']\n",
      "[' Fiji', '', 'Melanesia', 'Oceania', '242 < 054 < 009 < 001']\n",
      "[' New Caledonia', '', 'Melanesia', 'Oceania', '540 < 054 < 009 < 001']\n",
      "[' Papua New Guinea', '', 'Melanesia', 'Oceania', '598 < 054 < 009 < 001']\n",
      "[' Solomon Islands', '', 'Melanesia', 'Oceania', '090 < 054 < 009 < 001']\n",
      "[' Vanuatu', '', 'Melanesia', 'Oceania', '548 < 054 < 009 < 001']\n",
      "[' Guam', '', 'Micronesia', 'Oceania', '316 < 057 < 009 < 001']\n",
      "[' Kiribati', '', 'Micronesia', 'Oceania', '296 < 057 < 009 < 001']\n",
      "[' Marshall Islands', '', 'Micronesia', 'Oceania', '584 < 057 < 009 < 001']\n",
      "[' Micronesia', '', 'Micronesia', 'Oceania', '583 < 057 < 009 < 001']\n",
      "[' Nauru', '', 'Micronesia', 'Oceania', '520 < 057 < 009 < 001']\n",
      "[' Northern Mariana Islands', '', 'Micronesia', 'Oceania', '580 < 057 < 009 < 001']\n",
      "[' Palau', '', 'Micronesia', 'Oceania', '585 < 057 < 009 < 001']\n",
      "[' United States Minor Outlying Islands', '', 'Micronesia', 'Oceania', '581 < 057 < 009 < 001']\n",
      "[' American Samoa', '', 'Polynesia', 'Oceania', '016 < 061 < 009 < 001']\n",
      "[' Cook Islands', '', 'Polynesia', 'Oceania', '184 < 061 < 009 < 001']\n",
      "[' French Polynesia', '', 'Polynesia', 'Oceania', '258 < 061 < 009 < 001']\n",
      "[' Niue', '', 'Polynesia', 'Oceania', '570 < 061 < 009 < 001']\n",
      "[' Pitcairn [Pitcairn Islands]', '', 'Polynesia', 'Oceania', '612 < 061 < 009 < 001']\n",
      "[' Samoa', '', 'Polynesia', 'Oceania', '882 < 061 < 009 < 001']\n",
      "[' Tokelau', '', 'Polynesia', 'Oceania', '772 < 061 < 009 < 001']\n",
      "[' Tonga', '', 'Polynesia', 'Oceania', '776 < 061 < 009 < 001']\n",
      "[' Tuvalu', '', 'Polynesia', 'Oceania', '798 < 061 < 009 < 001']\n",
      "[' Wallis and Futuna', '', 'Polynesia', 'Oceania', '876 < 061 < 009 < 001']\n"
     ]
    }
   ],
   "source": [
    "for i in all_rows:\n",
    "    print(i)"
   ]
  },
  {
   "cell_type": "code",
   "execution_count": 221,
   "metadata": {},
   "outputs": [],
   "source": [
    "df1 = pd.DataFrame(all_rows)"
   ]
  },
  {
   "cell_type": "code",
   "execution_count": 222,
   "metadata": {},
   "outputs": [
    {
     "data": {
      "text/html": [
       "<div>\n",
       "<style scoped>\n",
       "    .dataframe tbody tr th:only-of-type {\n",
       "        vertical-align: middle;\n",
       "    }\n",
       "\n",
       "    .dataframe tbody tr th {\n",
       "        vertical-align: top;\n",
       "    }\n",
       "\n",
       "    .dataframe thead th {\n",
       "        text-align: right;\n",
       "    }\n",
       "</style>\n",
       "<table border=\"1\" class=\"dataframe\">\n",
       "  <thead>\n",
       "    <tr style=\"text-align: right;\">\n",
       "      <th></th>\n",
       "      <th>0</th>\n",
       "      <th>1</th>\n",
       "      <th>2</th>\n",
       "      <th>3</th>\n",
       "      <th>4</th>\n",
       "    </tr>\n",
       "  </thead>\n",
       "  <tbody>\n",
       "    <tr>\n",
       "      <th>0</th>\n",
       "      <td>Algeria</td>\n",
       "      <td></td>\n",
       "      <td>Northern Africa</td>\n",
       "      <td>Africa</td>\n",
       "      <td>012 &lt; 015 &lt; 002 &lt; 001</td>\n",
       "    </tr>\n",
       "    <tr>\n",
       "      <th>1</th>\n",
       "      <td>Egypt</td>\n",
       "      <td></td>\n",
       "      <td>Northern Africa</td>\n",
       "      <td>Africa</td>\n",
       "      <td>818 &lt; 015 &lt; 002 &lt; 001</td>\n",
       "    </tr>\n",
       "    <tr>\n",
       "      <th>2</th>\n",
       "      <td>Libya</td>\n",
       "      <td></td>\n",
       "      <td>Northern Africa</td>\n",
       "      <td>Africa</td>\n",
       "      <td>434 &lt; 015 &lt; 002 &lt; 001</td>\n",
       "    </tr>\n",
       "    <tr>\n",
       "      <th>3</th>\n",
       "      <td>Morocco</td>\n",
       "      <td></td>\n",
       "      <td>Northern Africa</td>\n",
       "      <td>Africa</td>\n",
       "      <td>504 &lt; 015 &lt; 002 &lt; 001</td>\n",
       "    </tr>\n",
       "    <tr>\n",
       "      <th>4</th>\n",
       "      <td>Sudan</td>\n",
       "      <td></td>\n",
       "      <td>Northern Africa</td>\n",
       "      <td>Africa</td>\n",
       "      <td>729 &lt; 015 &lt; 002 &lt; 001</td>\n",
       "    </tr>\n",
       "    <tr>\n",
       "      <th>...</th>\n",
       "      <td>...</td>\n",
       "      <td>...</td>\n",
       "      <td>...</td>\n",
       "      <td>...</td>\n",
       "      <td>...</td>\n",
       "    </tr>\n",
       "    <tr>\n",
       "      <th>244</th>\n",
       "      <td>Samoa</td>\n",
       "      <td></td>\n",
       "      <td>Polynesia</td>\n",
       "      <td>Oceania</td>\n",
       "      <td>882 &lt; 061 &lt; 009 &lt; 001</td>\n",
       "    </tr>\n",
       "    <tr>\n",
       "      <th>245</th>\n",
       "      <td>Tokelau</td>\n",
       "      <td></td>\n",
       "      <td>Polynesia</td>\n",
       "      <td>Oceania</td>\n",
       "      <td>772 &lt; 061 &lt; 009 &lt; 001</td>\n",
       "    </tr>\n",
       "    <tr>\n",
       "      <th>246</th>\n",
       "      <td>Tonga</td>\n",
       "      <td></td>\n",
       "      <td>Polynesia</td>\n",
       "      <td>Oceania</td>\n",
       "      <td>776 &lt; 061 &lt; 009 &lt; 001</td>\n",
       "    </tr>\n",
       "    <tr>\n",
       "      <th>247</th>\n",
       "      <td>Tuvalu</td>\n",
       "      <td></td>\n",
       "      <td>Polynesia</td>\n",
       "      <td>Oceania</td>\n",
       "      <td>798 &lt; 061 &lt; 009 &lt; 001</td>\n",
       "    </tr>\n",
       "    <tr>\n",
       "      <th>248</th>\n",
       "      <td>Wallis and Futuna</td>\n",
       "      <td></td>\n",
       "      <td>Polynesia</td>\n",
       "      <td>Oceania</td>\n",
       "      <td>876 &lt; 061 &lt; 009 &lt; 001</td>\n",
       "    </tr>\n",
       "  </tbody>\n",
       "</table>\n",
       "<p>249 rows × 5 columns</p>\n",
       "</div>"
      ],
      "text/plain": [
       "                      0 1                 2        3                      4\n",
       "0               Algeria     Northern Africa   Africa  012 < 015 < 002 < 001\n",
       "1                 Egypt     Northern Africa   Africa  818 < 015 < 002 < 001\n",
       "2                 Libya     Northern Africa   Africa  434 < 015 < 002 < 001\n",
       "3               Morocco     Northern Africa   Africa  504 < 015 < 002 < 001\n",
       "4                 Sudan     Northern Africa   Africa  729 < 015 < 002 < 001\n",
       "..                  ... ..              ...      ...                    ...\n",
       "244               Samoa           Polynesia  Oceania  882 < 061 < 009 < 001\n",
       "245             Tokelau           Polynesia  Oceania  772 < 061 < 009 < 001\n",
       "246               Tonga           Polynesia  Oceania  776 < 061 < 009 < 001\n",
       "247              Tuvalu           Polynesia  Oceania  798 < 061 < 009 < 001\n",
       "248   Wallis and Futuna           Polynesia  Oceania  876 < 061 < 009 < 001\n",
       "\n",
       "[249 rows x 5 columns]"
      ]
     },
     "execution_count": 222,
     "metadata": {},
     "output_type": "execute_result"
    }
   ],
   "source": [
    "df1"
   ]
  },
  {
   "cell_type": "code",
   "execution_count": 223,
   "metadata": {},
   "outputs": [
    {
     "data": {
      "text/plain": [
       "['Country or Area', 'Sub-Subregion', 'Subregion', 'Region', 'UNSD M49 Codes']"
      ]
     },
     "execution_count": 223,
     "metadata": {},
     "output_type": "execute_result"
    }
   ],
   "source": [
    "headings"
   ]
  },
  {
   "cell_type": "code",
   "execution_count": 224,
   "metadata": {},
   "outputs": [],
   "source": [
    "df1.rename(columns = {0:'Country',1:'Sub-Subregion',2:'Subregion',3:'Region',4:'UNSD M49 Codes'}, inplace = True)"
   ]
  },
  {
   "cell_type": "code",
   "execution_count": 225,
   "metadata": {},
   "outputs": [
    {
     "data": {
      "text/plain": [
       "Index(['Country', 'HDI Change (5 yrs)', 'HDI (2020 Report)',\n",
       "       'Avg. annual growth (%)'],\n",
       "      dtype='object')"
      ]
     },
     "execution_count": 225,
     "metadata": {},
     "output_type": "execute_result"
    }
   ],
   "source": [
    "data_frame.columns"
   ]
  },
  {
   "cell_type": "code",
   "execution_count": 289,
   "metadata": {},
   "outputs": [
    {
     "data": {
      "text/plain": [
       "0                Algeria\n",
       "1                  Egypt\n",
       "2                  Libya\n",
       "3                Morocco\n",
       "4                  Sudan\n",
       "             ...        \n",
       "244                Samoa\n",
       "245              Tokelau\n",
       "246                Tonga\n",
       "247               Tuvalu\n",
       "248    Wallis and Futuna\n",
       "Name: Country, Length: 249, dtype: object"
      ]
     },
     "execution_count": 289,
     "metadata": {},
     "output_type": "execute_result"
    }
   ],
   "source": [
    "df1['Country'].apply(lambda x: x.strip())"
   ]
  },
  {
   "cell_type": "code",
   "execution_count": 290,
   "metadata": {},
   "outputs": [],
   "source": [
    "country_subregion = dict(zip(df1['Country'], df1['Subregion']))"
   ]
  },
  {
   "cell_type": "code",
   "execution_count": 291,
   "metadata": {},
   "outputs": [
    {
     "data": {
      "text/plain": [
       "{'Algeria': 'Northern Africa',\n",
       " 'Egypt': 'Northern Africa',\n",
       " 'Libya': 'Northern Africa',\n",
       " 'Morocco': 'Northern Africa',\n",
       " 'Sudan': 'Northern Africa',\n",
       " 'Tunisia': 'Northern Africa',\n",
       " 'Western Sahara': 'Northern Africa',\n",
       " 'British Indian Ocean Territory': 'Sub-Saharan Africa',\n",
       " 'Burundi': 'Sub-Saharan Africa',\n",
       " 'Comoros': 'Sub-Saharan Africa',\n",
       " 'Djibouti': 'Sub-Saharan Africa',\n",
       " 'Eritrea': 'Sub-Saharan Africa',\n",
       " 'Ethiopia': 'Sub-Saharan Africa',\n",
       " 'French Southern and Antarctic Lands': 'Sub-Saharan Africa',\n",
       " 'Kenya': 'Sub-Saharan Africa',\n",
       " 'Madagascar': 'Sub-Saharan Africa',\n",
       " 'Malawi': 'Sub-Saharan Africa',\n",
       " 'Mauritius': 'Sub-Saharan Africa',\n",
       " 'Mayotte': 'Sub-Saharan Africa',\n",
       " 'Mozambique': 'Sub-Saharan Africa',\n",
       " 'Réunion': 'Sub-Saharan Africa',\n",
       " 'Rwanda': 'Sub-Saharan Africa',\n",
       " 'Seychelles': 'Sub-Saharan Africa',\n",
       " 'Somalia': 'Sub-Saharan Africa',\n",
       " 'South Sudan': 'Sub-Saharan Africa',\n",
       " 'Uganda': 'Sub-Saharan Africa',\n",
       " 'Tanzania': 'Sub-Saharan Africa',\n",
       " 'Zambia': 'Sub-Saharan Africa',\n",
       " 'Zimbabwe': 'Sub-Saharan Africa',\n",
       " 'Angola': 'Sub-Saharan Africa',\n",
       " 'Cameroon': 'Sub-Saharan Africa',\n",
       " 'Central African Republic': 'Sub-Saharan Africa',\n",
       " 'Chad': 'Sub-Saharan Africa',\n",
       " 'Congo [Republic of the Congo]': 'Sub-Saharan Africa',\n",
       " 'DR Congo': 'Sub-Saharan Africa',\n",
       " 'Equatorial Guinea': 'Sub-Saharan Africa',\n",
       " 'Gabon': 'Sub-Saharan Africa',\n",
       " 'São Tomé and Príncipe': 'Sub-Saharan Africa',\n",
       " 'Botswana': 'Sub-Saharan Africa',\n",
       " 'Eswatini [Swaziland]': 'Sub-Saharan Africa',\n",
       " 'Lesotho': 'Sub-Saharan Africa',\n",
       " 'Namibia': 'Sub-Saharan Africa',\n",
       " 'South Africa': 'Sub-Saharan Africa',\n",
       " 'Benin': 'Sub-Saharan Africa',\n",
       " 'Burkina Faso': 'Sub-Saharan Africa',\n",
       " 'Cabo Verde [Cape Verde]': 'Sub-Saharan Africa',\n",
       " \"Côte d'Ivoire [Ivory Coast]\": 'Sub-Saharan Africa',\n",
       " 'Gambia': 'Sub-Saharan Africa',\n",
       " 'Ghana': 'Sub-Saharan Africa',\n",
       " 'Guinea': 'Sub-Saharan Africa',\n",
       " 'Guinea-Bissau': 'Sub-Saharan Africa',\n",
       " 'Liberia': 'Sub-Saharan Africa',\n",
       " 'Mali': 'Sub-Saharan Africa',\n",
       " 'Mauritania': 'Sub-Saharan Africa',\n",
       " 'Niger': 'Sub-Saharan Africa',\n",
       " 'Nigeria': 'Sub-Saharan Africa',\n",
       " 'Saint Helena [Saint Helena Ascension and Tristan da Cunha]': 'Sub-Saharan Africa',\n",
       " 'Senegal': 'Sub-Saharan Africa',\n",
       " 'Sierra Leone': 'Sub-Saharan Africa',\n",
       " 'Togo': 'Sub-Saharan Africa',\n",
       " 'Anguilla': 'Latin America and the Caribbean / North America',\n",
       " 'Antigua and Barbuda': 'Latin America and the Caribbean / North America',\n",
       " 'Aruba': 'Latin America and the Caribbean / North America',\n",
       " 'Bahamas': 'Latin America and the Caribbean / North America',\n",
       " 'Barbados': 'Latin America and the Caribbean / North America',\n",
       " 'Caribbean Netherlands': 'Latin America and the Caribbean / North America',\n",
       " 'British Virgin Islands': 'Latin America and the Caribbean / North America',\n",
       " 'Cayman Islands': 'Latin America and the Caribbean / North America',\n",
       " 'Cuba': 'Latin America and the Caribbean / North America',\n",
       " 'Curaçao': 'Latin America and the Caribbean / North America',\n",
       " 'Dominica': 'Latin America and the Caribbean / North America',\n",
       " 'Dominican Republic': 'Latin America and the Caribbean / North America',\n",
       " 'Grenada': 'Latin America and the Caribbean / North America',\n",
       " 'Guadeloupe': 'Latin America and the Caribbean / North America',\n",
       " 'Haiti': 'Latin America and the Caribbean / North America',\n",
       " 'Jamaica': 'Latin America and the Caribbean / North America',\n",
       " 'Martinique': 'Latin America and the Caribbean / North America',\n",
       " 'Montserrat': 'Latin America and the Caribbean / North America',\n",
       " 'Puerto Rico': 'Latin America and the Caribbean / North America',\n",
       " 'Saint Barthélemy': 'Latin America and the Caribbean / North America',\n",
       " 'Saint Kitts and Nevis': 'Latin America and the Caribbean / North America',\n",
       " 'Saint Lucia': 'Latin America and the Caribbean / North America',\n",
       " 'Saint Martin': 'Latin America and the Caribbean / North America',\n",
       " 'Saint Vincent and the Grenadines': 'Latin America and the Caribbean / North America',\n",
       " 'Sint Maarten': 'Latin America and the Caribbean / North America',\n",
       " 'Trinidad and Tobago': 'Latin America and the Caribbean / North America',\n",
       " 'Turks and Caicos Islands': 'Latin America and the Caribbean / North America',\n",
       " 'U.S. Virgin Islands': 'Latin America and the Caribbean / North America',\n",
       " 'Belize': 'Latin America and the Caribbean / North America',\n",
       " 'Costa Rica': 'Latin America and the Caribbean / North America',\n",
       " 'El Salvador': 'Latin America and the Caribbean / North America',\n",
       " 'Guatemala': 'Latin America and the Caribbean / North America',\n",
       " 'Honduras': 'Latin America and the Caribbean / North America',\n",
       " 'Mexico': 'Latin America and the Caribbean / North America',\n",
       " 'Nicaragua': 'Latin America and the Caribbean / North America',\n",
       " 'Panama': 'Latin America and the Caribbean / North America',\n",
       " 'Argentina': 'Latin America and the Caribbean',\n",
       " 'Bolivia': 'Latin America and the Caribbean',\n",
       " 'Bouvet Island': 'Latin America and the Caribbean',\n",
       " 'Brazil': 'Latin America and the Caribbean',\n",
       " 'Chile': 'Latin America and the Caribbean',\n",
       " 'Colombia': 'Latin America and the Caribbean',\n",
       " 'Ecuador': 'Latin America and the Caribbean',\n",
       " 'Falkland Islands': 'Latin America and the Caribbean',\n",
       " 'French Guiana': 'Latin America and the Caribbean',\n",
       " 'Guyana': 'Latin America and the Caribbean',\n",
       " 'Paraguay': 'Latin America and the Caribbean',\n",
       " 'Peru': 'Latin America and the Caribbean',\n",
       " 'South Georgia and the South Sandwich Islands': 'Latin America and the Caribbean',\n",
       " 'Suriname': 'Latin America and the Caribbean',\n",
       " 'Uruguay': 'Latin America and the Caribbean',\n",
       " 'Venezuela': 'Latin America and the Caribbean',\n",
       " 'Bermuda': 'North America',\n",
       " 'Canada': 'North America',\n",
       " 'Greenland': 'North America',\n",
       " 'Saint Pierre and Miquelon': 'North America',\n",
       " 'United States': 'North America',\n",
       " 'Antarctica': '',\n",
       " 'Kazakhstan': 'Central Asia',\n",
       " 'Kyrgyzstan': 'Central Asia',\n",
       " 'Tajikistan': 'Central Asia',\n",
       " 'Turkmenistan': 'Central Asia',\n",
       " 'Uzbekistan': 'Central Asia',\n",
       " 'China': 'Eastern Asia',\n",
       " 'China Hong Kong Special Administrative Region': 'Eastern Asia',\n",
       " 'China Macao Special Administrative Region': 'Eastern Asia',\n",
       " \"Democratic People's Republic of Korea [North Korea]\": 'Eastern Asia',\n",
       " 'Japan': 'Eastern Asia',\n",
       " 'Mongolia': 'Eastern Asia',\n",
       " 'Republic of Korea [South Korea]': 'Eastern Asia',\n",
       " 'Brunei': 'South-eastern Asia',\n",
       " 'Cambodia': 'South-eastern Asia',\n",
       " 'Indonesia': 'South-eastern Asia',\n",
       " 'Laos': 'South-eastern Asia',\n",
       " 'Malaysia': 'South-eastern Asia',\n",
       " 'Myanmar [Burma]': 'South-eastern Asia',\n",
       " 'Philippines': 'South-eastern Asia',\n",
       " 'Singapore': 'South-eastern Asia',\n",
       " 'Thailand': 'South-eastern Asia',\n",
       " 'Timor-Leste [East Timor]': 'South-eastern Asia',\n",
       " 'Vietnam': 'South-eastern Asia',\n",
       " 'Afghanistan': 'Southern Asia',\n",
       " 'Bangladesh': 'Southern Asia',\n",
       " 'Bhutan': 'Southern Asia',\n",
       " 'India': 'Southern Asia',\n",
       " 'Iran': 'Southern Asia',\n",
       " 'Maldives': 'Southern Asia',\n",
       " 'Nepal': 'Southern Asia',\n",
       " 'Pakistan': 'Southern Asia',\n",
       " 'Sri Lanka': 'Southern Asia',\n",
       " 'Armenia': 'Western Asia',\n",
       " 'Azerbaijan': 'Western Asia',\n",
       " 'Bahrain': 'Western Asia',\n",
       " 'Cyprus': 'Western Asia',\n",
       " 'Georgia': 'Western Asia',\n",
       " 'Iraq': 'Western Asia',\n",
       " 'Israel': 'Western Asia',\n",
       " 'Jordan': 'Western Asia',\n",
       " 'Kuwait': 'Western Asia',\n",
       " 'Lebanon': 'Western Asia',\n",
       " 'Oman': 'Western Asia',\n",
       " 'Qatar': 'Western Asia',\n",
       " 'Saudi Arabia': 'Western Asia',\n",
       " 'Palestine': 'Western Asia',\n",
       " 'Syria': 'Western Asia',\n",
       " 'Turkey': 'Western Asia',\n",
       " 'United Arab Emirates': 'Western Asia',\n",
       " 'Yemen': 'Western Asia',\n",
       " 'Belarus': 'Eastern Europe',\n",
       " 'Bulgaria': 'Eastern Europe',\n",
       " 'Czechia [Czech Republic]': 'Eastern Europe',\n",
       " 'Hungary': 'Eastern Europe',\n",
       " 'Poland': 'Eastern Europe',\n",
       " 'Moldova': 'Eastern Europe',\n",
       " 'Romania': 'Eastern Europe',\n",
       " 'Russia': 'Eastern Europe',\n",
       " 'Slovakia': 'Eastern Europe',\n",
       " 'Ukraine': 'Eastern Europe',\n",
       " 'Åland Islands': 'Northern Europe',\n",
       " 'Guernsey': 'Northern Europe',\n",
       " 'Jersey': 'Northern Europe',\n",
       " 'Sark': 'Northern Europe',\n",
       " 'Denmark': 'Northern Europe',\n",
       " 'Estonia': 'Northern Europe',\n",
       " 'Faroe Islands': 'Northern Europe',\n",
       " 'Finland': 'Northern Europe',\n",
       " 'Iceland': 'Northern Europe',\n",
       " 'Ireland': 'Northern Europe',\n",
       " 'Isle of Man': 'Northern Europe',\n",
       " 'Latvia': 'Northern Europe',\n",
       " 'Lithuania': 'Northern Europe',\n",
       " 'Norway': 'Northern Europe',\n",
       " 'Svalbard and Jan Mayen Islands': 'Northern Europe',\n",
       " 'Sweden': 'Northern Europe',\n",
       " 'United Kingdom': 'Northern Europe',\n",
       " 'Albania': 'Southern Europe',\n",
       " 'Andorra': 'Southern Europe',\n",
       " 'Bosnia and Herzegovina': 'Southern Europe',\n",
       " 'Croatia': 'Southern Europe',\n",
       " 'Gibraltar': 'Southern Europe',\n",
       " 'Greece': 'Southern Europe',\n",
       " 'Holy See [Vatican City]': 'Southern Europe',\n",
       " 'Italy': 'Southern Europe',\n",
       " 'Malta': 'Southern Europe',\n",
       " 'Montenegro': 'Southern Europe',\n",
       " 'North Macedonia': 'Southern Europe',\n",
       " 'Portugal': 'Southern Europe',\n",
       " 'San Marino': 'Southern Europe',\n",
       " 'Serbia': 'Southern Europe',\n",
       " 'Slovenia': 'Southern Europe',\n",
       " 'Spain': 'Southern Europe',\n",
       " 'Austria': 'Western Europe',\n",
       " 'Belgium': 'Western Europe',\n",
       " 'France [French Republic]': 'Western Europe',\n",
       " 'Germany': 'Western Europe',\n",
       " 'Liechtenstein': 'Western Europe',\n",
       " 'Luxembourg': 'Western Europe',\n",
       " 'Monaco': 'Western Europe',\n",
       " 'Netherlands': 'Western Europe',\n",
       " 'Switzerland': 'Western Europe',\n",
       " 'Australia': 'Australia and New Zealand',\n",
       " 'Christmas Island': 'Australia and New Zealand',\n",
       " 'Cocos (Keeling) Islands': 'Australia and New Zealand',\n",
       " 'Heard Island and McDonald Islands': 'Australia and New Zealand',\n",
       " 'New Zealand': 'Australia and New Zealand',\n",
       " 'Norfolk Island': 'Australia and New Zealand',\n",
       " 'Fiji': 'Melanesia',\n",
       " 'New Caledonia': 'Melanesia',\n",
       " 'Papua New Guinea': 'Melanesia',\n",
       " 'Solomon Islands': 'Melanesia',\n",
       " 'Vanuatu': 'Melanesia',\n",
       " 'Guam': 'Micronesia',\n",
       " 'Kiribati': 'Micronesia',\n",
       " 'Marshall Islands': 'Micronesia',\n",
       " 'Micronesia': 'Micronesia',\n",
       " 'Nauru': 'Micronesia',\n",
       " 'Northern Mariana Islands': 'Micronesia',\n",
       " 'Palau': 'Micronesia',\n",
       " 'United States Minor Outlying Islands': 'Micronesia',\n",
       " 'American Samoa': 'Polynesia',\n",
       " 'Cook Islands': 'Polynesia',\n",
       " 'French Polynesia': 'Polynesia',\n",
       " 'Niue': 'Polynesia',\n",
       " 'Pitcairn [Pitcairn Islands]': 'Polynesia',\n",
       " 'Samoa': 'Polynesia',\n",
       " 'Tokelau': 'Polynesia',\n",
       " 'Tonga': 'Polynesia',\n",
       " 'Tuvalu': 'Polynesia',\n",
       " 'Wallis and Futuna': 'Polynesia'}"
      ]
     },
     "execution_count": 291,
     "metadata": {},
     "output_type": "execute_result"
    }
   ],
   "source": [
    "country_subregion"
   ]
  },
  {
   "cell_type": "code",
   "execution_count": 292,
   "metadata": {},
   "outputs": [],
   "source": [
    "data_frame['Sub-Region'] = data_frame['Country'].map(country_subregion)"
   ]
  },
  {
   "cell_type": "code",
   "execution_count": 293,
   "metadata": {},
   "outputs": [
    {
     "data": {
      "text/plain": [
       "18"
      ]
     },
     "execution_count": 293,
     "metadata": {},
     "output_type": "execute_result"
    }
   ],
   "source": [
    "data_frame['Sub-Region'].isnull().sum()"
   ]
  },
  {
   "cell_type": "code",
   "execution_count": 294,
   "metadata": {},
   "outputs": [
    {
     "data": {
      "text/plain": [
       "Country      object\n",
       "Subregion    object\n",
       "dtype: object"
      ]
     },
     "execution_count": 294,
     "metadata": {},
     "output_type": "execute_result"
    }
   ],
   "source": [
    "df1.dtypes"
   ]
  },
  {
   "cell_type": "code",
   "execution_count": 295,
   "metadata": {},
   "outputs": [
    {
     "data": {
      "text/plain": [
       "Country                    object\n",
       "HDI Change (5 yrs)         object\n",
       "HDI (2020 Report)         float64\n",
       "Avg. annual growth (%)    float64\n",
       "Sub-Region                 object\n",
       "dtype: object"
      ]
     },
     "execution_count": 295,
     "metadata": {},
     "output_type": "execute_result"
    }
   ],
   "source": [
    "data_frame.dtypes"
   ]
  },
  {
   "cell_type": "code",
   "execution_count": 323,
   "metadata": {},
   "outputs": [],
   "source": [
    "df = pd.merge(df1,data_frame, on = 'Country', how = 'right')"
   ]
  },
  {
   "cell_type": "code",
   "execution_count": 330,
   "metadata": {},
   "outputs": [
    {
     "data": {
      "text/html": [
       "<div>\n",
       "<style scoped>\n",
       "    .dataframe tbody tr th:only-of-type {\n",
       "        vertical-align: middle;\n",
       "    }\n",
       "\n",
       "    .dataframe tbody tr th {\n",
       "        vertical-align: top;\n",
       "    }\n",
       "\n",
       "    .dataframe thead th {\n",
       "        text-align: right;\n",
       "    }\n",
       "</style>\n",
       "<table border=\"1\" class=\"dataframe\">\n",
       "  <thead>\n",
       "    <tr style=\"text-align: right;\">\n",
       "      <th></th>\n",
       "      <th>Country</th>\n",
       "      <th>Subregion</th>\n",
       "      <th>HDI Change (5 yrs)</th>\n",
       "      <th>HDI (2020 Report)</th>\n",
       "      <th>Avg. annual growth (%)</th>\n",
       "      <th>Sub-Region</th>\n",
       "    </tr>\n",
       "  </thead>\n",
       "  <tbody>\n",
       "    <tr>\n",
       "      <th>1</th>\n",
       "      <td>Republic of Ireland</td>\n",
       "      <td>NaN</td>\n",
       "      <td>7</td>\n",
       "      <td>0.955</td>\n",
       "      <td>0.65</td>\n",
       "      <td>NaN</td>\n",
       "    </tr>\n",
       "    <tr>\n",
       "      <th>3</th>\n",
       "      <td>Hong Kong</td>\n",
       "      <td>NaN</td>\n",
       "      <td>7</td>\n",
       "      <td>0.949</td>\n",
       "      <td>0.54</td>\n",
       "      <td>NaN</td>\n",
       "    </tr>\n",
       "    <tr>\n",
       "      <th>23</th>\n",
       "      <td>South Korea</td>\n",
       "      <td>NaN</td>\n",
       "      <td>1</td>\n",
       "      <td>0.916</td>\n",
       "      <td>0.33</td>\n",
       "      <td>NaN</td>\n",
       "    </tr>\n",
       "    <tr>\n",
       "      <th>25</th>\n",
       "      <td>France</td>\n",
       "      <td>NaN</td>\n",
       "      <td>1</td>\n",
       "      <td>0.901</td>\n",
       "      <td>0.28</td>\n",
       "      <td>NaN</td>\n",
       "    </tr>\n",
       "    <tr>\n",
       "      <th>26</th>\n",
       "      <td>Czech Republic</td>\n",
       "      <td>NaN</td>\n",
       "      <td>1</td>\n",
       "      <td>0.900</td>\n",
       "      <td>0.38</td>\n",
       "      <td>NaN</td>\n",
       "    </tr>\n",
       "    <tr>\n",
       "      <th>57</th>\n",
       "      <td>The Bahamas</td>\n",
       "      <td>NaN</td>\n",
       "      <td>3</td>\n",
       "      <td>0.814</td>\n",
       "      <td>0.12</td>\n",
       "      <td>NaN</td>\n",
       "    </tr>\n",
       "    <tr>\n",
       "      <th>60</th>\n",
       "      <td>Georgia (country)</td>\n",
       "      <td>NaN</td>\n",
       "      <td>7</td>\n",
       "      <td>0.812</td>\n",
       "      <td>0.87</td>\n",
       "      <td>NaN</td>\n",
       "    </tr>\n",
       "    <tr>\n",
       "      <th>114</th>\n",
       "      <td>State of Palestine</td>\n",
       "      <td>NaN</td>\n",
       "      <td>6</td>\n",
       "      <td>0.708</td>\n",
       "      <td>0.38</td>\n",
       "      <td>NaN</td>\n",
       "    </tr>\n",
       "    <tr>\n",
       "      <th>125</th>\n",
       "      <td>Cape Verde</td>\n",
       "      <td>NaN</td>\n",
       "      <td>4</td>\n",
       "      <td>0.665</td>\n",
       "      <td>0.57</td>\n",
       "      <td>NaN</td>\n",
       "    </tr>\n",
       "    <tr>\n",
       "      <th>134</th>\n",
       "      <td>Sao Tome and Principe</td>\n",
       "      <td>NaN</td>\n",
       "      <td>1</td>\n",
       "      <td>0.625</td>\n",
       "      <td>1.21</td>\n",
       "      <td>NaN</td>\n",
       "    </tr>\n",
       "    <tr>\n",
       "      <th>135</th>\n",
       "      <td>Federated States of Micronesia</td>\n",
       "      <td>NaN</td>\n",
       "      <td>2</td>\n",
       "      <td>0.620</td>\n",
       "      <td>0.35</td>\n",
       "      <td>NaN</td>\n",
       "    </tr>\n",
       "    <tr>\n",
       "      <th>137</th>\n",
       "      <td>Eswatini</td>\n",
       "      <td>NaN</td>\n",
       "      <td>5</td>\n",
       "      <td>0.611</td>\n",
       "      <td>2.03</td>\n",
       "      <td>NaN</td>\n",
       "    </tr>\n",
       "    <tr>\n",
       "      <th>140</th>\n",
       "      <td>East Timor</td>\n",
       "      <td>NaN</td>\n",
       "      <td>1</td>\n",
       "      <td>0.606</td>\n",
       "      <td>-0.40</td>\n",
       "      <td>NaN</td>\n",
       "    </tr>\n",
       "    <tr>\n",
       "      <th>146</th>\n",
       "      <td>Myanmar</td>\n",
       "      <td>NaN</td>\n",
       "      <td>3</td>\n",
       "      <td>0.583</td>\n",
       "      <td>1.39</td>\n",
       "      <td>NaN</td>\n",
       "    </tr>\n",
       "    <tr>\n",
       "      <th>148</th>\n",
       "      <td>Republic of the Congo</td>\n",
       "      <td>NaN</td>\n",
       "      <td>2</td>\n",
       "      <td>0.574</td>\n",
       "      <td>1.10</td>\n",
       "      <td>NaN</td>\n",
       "    </tr>\n",
       "    <tr>\n",
       "      <th>161</th>\n",
       "      <td>Ivory Coast</td>\n",
       "      <td>NaN</td>\n",
       "      <td>7</td>\n",
       "      <td>0.538</td>\n",
       "      <td>1.56</td>\n",
       "      <td>NaN</td>\n",
       "    </tr>\n",
       "    <tr>\n",
       "      <th>171</th>\n",
       "      <td>The Gambia</td>\n",
       "      <td>NaN</td>\n",
       "      <td>1</td>\n",
       "      <td>0.496</td>\n",
       "      <td>0.87</td>\n",
       "      <td>NaN</td>\n",
       "    </tr>\n",
       "    <tr>\n",
       "      <th>174</th>\n",
       "      <td>Democratic Republic of the Congo</td>\n",
       "      <td>NaN</td>\n",
       "      <td></td>\n",
       "      <td>0.480</td>\n",
       "      <td>1.10</td>\n",
       "      <td>NaN</td>\n",
       "    </tr>\n",
       "  </tbody>\n",
       "</table>\n",
       "</div>"
      ],
      "text/plain": [
       "                              Country Subregion HDI Change (5 yrs)  \\\n",
       "1                 Republic of Ireland       NaN                  7   \n",
       "3                           Hong Kong       NaN                  7   \n",
       "23                        South Korea       NaN                  1   \n",
       "25                             France       NaN                  1   \n",
       "26                     Czech Republic       NaN                  1   \n",
       "57                        The Bahamas       NaN                  3   \n",
       "60                  Georgia (country)       NaN                  7   \n",
       "114                State of Palestine       NaN                  6   \n",
       "125                        Cape Verde       NaN                  4   \n",
       "134             Sao Tome and Principe       NaN                  1   \n",
       "135    Federated States of Micronesia       NaN                  2   \n",
       "137                          Eswatini       NaN                  5   \n",
       "140                        East Timor       NaN                  1   \n",
       "146                           Myanmar       NaN                  3   \n",
       "148             Republic of the Congo       NaN                  2   \n",
       "161                       Ivory Coast       NaN                  7   \n",
       "171                        The Gambia       NaN                  1   \n",
       "174  Democratic Republic of the Congo       NaN                      \n",
       "\n",
       "     HDI (2020 Report)  Avg. annual growth (%) Sub-Region  \n",
       "1                0.955                    0.65        NaN  \n",
       "3                0.949                    0.54        NaN  \n",
       "23               0.916                    0.33        NaN  \n",
       "25               0.901                    0.28        NaN  \n",
       "26               0.900                    0.38        NaN  \n",
       "57               0.814                    0.12        NaN  \n",
       "60               0.812                    0.87        NaN  \n",
       "114              0.708                    0.38        NaN  \n",
       "125              0.665                    0.57        NaN  \n",
       "134              0.625                    1.21        NaN  \n",
       "135              0.620                    0.35        NaN  \n",
       "137              0.611                    2.03        NaN  \n",
       "140              0.606                   -0.40        NaN  \n",
       "146              0.583                    1.39        NaN  \n",
       "148              0.574                    1.10        NaN  \n",
       "161              0.538                    1.56        NaN  \n",
       "171              0.496                    0.87        NaN  \n",
       "174              0.480                    1.10        NaN  "
      ]
     },
     "execution_count": 330,
     "metadata": {},
     "output_type": "execute_result"
    }
   ],
   "source": [
    "df[df['Subregion'].isna()]"
   ]
  },
  {
   "cell_type": "code",
   "execution_count": null,
   "metadata": {},
   "outputs": [],
   "source": [
    "#create dictionary of NaNs and the use. map to add null values to dataframe\n",
    "global_regions = {\"Northern Africa\" : ['Algeria', 'Egypt','Morocco', 'Algeria', 'Tunisia', 'Libya', 'Egypt', 'Sudan', 'Western Sahara'],\n",
    "                  \"Sub-Saharan Africa\": [],\n",
    "                  \"Eastern Africa\":[],\n",
    "                  \"Middle Africa\": [],\n",
    "                  \"Southern Africa\": [],\n",
    "                  \"Western Africa\": [],\n",
    "                  \"Caribbean\": [],\n",
    "\"Central America\": [],\n",
    "\"South America\": [],\n",
    "\"North America\": [],\n",
    "\"Central Asia\": [],\n",
    "\"Eastern Asia\": [],\n",
    "\"South-eastern Asia\": [],\n",
    "\"Southern Asia\": [],\n",
    "\"Western Asia\": [],\n",
    "\"Eastern Europe (Including Nortehrn Asia)\": [],\n",
    "\"Northern Europe\": [],\n",
    "\"Southern Europe\": [],\n",
    "\"Western Europe\": [],\n",
    "\"Australia & New Zealend\": [],\n",
    "\"Melanesia\": [],\n",
    "\"Micronesia\": [],\n",
    "\"Polynesia\": [],\n",
    "                  \n",
    "                  }"
   ]
  },
  {
   "cell_type": "code",
   "execution_count": 322,
   "metadata": {},
   "outputs": [
    {
     "data": {
      "text/plain": [
       "Subregion\n",
       "Australia and New Zealand                          0.937500\n",
       "Western Europe                                     0.933429\n",
       "North America                                      0.927500\n",
       "Northern Europe                                    0.922333\n",
       "Southern Europe                                    0.851000\n",
       "Eastern Europe                                     0.823778\n",
       "Eastern Asia                                       0.805667\n",
       "Western Asia                                       0.775313\n",
       "Latin America and the Caribbean                    0.763167\n",
       "South-eastern Asia                                 0.745556\n",
       "Latin America and the Caribbean / North America    0.735900\n",
       "Central Asia                                       0.725000\n",
       "Micronesia                                         0.720000\n",
       "Polynesia                                          0.720000\n",
       "Northern Africa                                    0.685833\n",
       "Southern Asia                                      0.656222\n",
       "Melanesia                                          0.618500\n",
       "Sub-Saharan Africa                                 0.548000\n",
       "Name: HDI (2020 Report), dtype: float64"
      ]
     },
     "execution_count": 322,
     "metadata": {},
     "output_type": "execute_result"
    }
   ],
   "source": [
    "df['HDI (2020 Report)'].groupby(df.Subregion).mean().sort_values(ascending = False)"
   ]
  },
  {
   "cell_type": "code",
   "execution_count": 81,
   "metadata": {},
   "outputs": [],
   "source": [
    "global_regions = {\"Northern Africa\" : ['Algeria', 'Egypt','Morocco', 'Algeria', 'Tunisia', 'Libya', 'Egypt', 'Sudan', 'Western Sahara'],\n",
    "                  \"Sub-Saharan Africa\": [],\n",
    "                  \"Eastern Africa\":[],\n",
    "                  \"Middle Africa\": [],\n",
    "                  \"Southern Africa\": [],\n",
    "                  \"Western Africa\": [],\n",
    "                  \"Caribbean\": [],\n",
    "\"Central America\": [],\n",
    "\"South America\": [],\n",
    "\"North America\": [],\n",
    "\"Central Asia\": [],\n",
    "\"Eastern Asia\": [],\n",
    "\"South-eastern Asia\": [],\n",
    "\"Southern Asia\": [],\n",
    "\"Western Asia\": [],\n",
    "\"Eastern Europe (Including Nortehrn Asia)\": [],\n",
    "\"Northern Europe\": [],\n",
    "\"Southern Europe\": [],\n",
    "\"Western Europe\": [],\n",
    "\"Australia & New Zealend\": [],\n",
    "\"Melanesia\": [],\n",
    "\"Micronesia\": [],\n",
    "\"Polynesia\": [],\n",
    "                  \n",
    "                  }"
   ]
  },
  {
   "cell_type": "markdown",
   "metadata": {},
   "source": [
    "## United Nations geoscheme\n",
    "\n",
    "Statistical regions as defined by the UNSD. Antarctica is not shown.\n",
    "The United Nations geoscheme is a system which divides the 249 countries and territories of the world into 6 regional and 22 subregional groups. It was devised by the United Nations Statistics Division (UNSD) based on the M49 coding classification."
   ]
  },
  {
   "cell_type": "code",
   "execution_count": 427,
   "metadata": {},
   "outputs": [],
   "source": [
    "results_list = []\n",
    "\n",
    "# Get all the <td class=\"title\"... elements\n",
    "all_td = soup.find_all('td', {'class':'title'})\n",
    "for element in all_td:\n",
    "    # start a dictionary to store this item's data\n",
    "    result = {}\n",
    "    \n",
    "    # get the title and full link/url\n",
    "    a_href = element.find('a')\n",
    "    if a_href:\n",
    "        result['title'] = a_href.text   # element text\n",
    "        result['link'] = a_href['href'] # href link\n",
    "        \n",
    "    # get the url domain\n",
    "    span = element.find('span', {'class':'comhead'})\n",
    "    if span:\n",
    "        result['url'] = span.text.strip()[1:-1]\n",
    "        \n",
    "    # only store \"full\" rows of data\n",
    "    if len(result) == 3:\n",
    "        results_list.append(result)\n",
    "if len(results_list) > 1:        \n",
    "    print(results_list[0])"
   ]
  },
  {
   "cell_type": "code",
   "execution_count": null,
   "metadata": {},
   "outputs": [],
   "source": []
  }
 ],
 "metadata": {
  "kernelspec": {
   "display_name": "Python 3",
   "language": "python",
   "name": "python3"
  },
  "language_info": {
   "codemirror_mode": {
    "name": "ipython",
    "version": 3
   },
   "file_extension": ".py",
   "mimetype": "text/x-python",
   "name": "python",
   "nbconvert_exporter": "python",
   "pygments_lexer": "ipython3",
   "version": "3.8.5"
  }
 },
 "nbformat": 4,
 "nbformat_minor": 4
}
