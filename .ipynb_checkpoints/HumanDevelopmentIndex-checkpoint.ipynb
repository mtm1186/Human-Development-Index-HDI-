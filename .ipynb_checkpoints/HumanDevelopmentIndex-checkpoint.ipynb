{
 "cells": [
  {
   "cell_type": "markdown",
   "metadata": {},
   "source": [
    "# Human Development Index"
   ]
  },
  {
   "cell_type": "code",
   "execution_count": 602,
   "metadata": {},
   "outputs": [],
   "source": [
    "import requests\n",
    "import urllib.request\n",
    "import time\n",
    "from bs4 import BeautifulSoup\n",
    "import numpy as np\n",
    "import pandas as pd\n",
    "import regex as re\n",
    "import matplotlib.pyplot as plt\n",
    "from urllib.request import urlopen\n",
    "url = 'https://en.m.wikipedia.org/wiki/List_of_countries_by_Human_Development_Index'\n",
    "html = urlopen(url) \n",
    "soup = BeautifulSoup(html, 'html.parser')"
   ]
  },
  {
   "cell_type": "code",
   "execution_count": 603,
   "metadata": {},
   "outputs": [],
   "source": [
    "tables = soup.find_all('body')"
   ]
  },
  {
   "cell_type": "code",
   "execution_count": 604,
   "metadata": {},
   "outputs": [
    {
     "name": "stdout",
     "output_type": "stream",
     "text": [
      "Number of tables on site:  2\n"
     ]
    }
   ],
   "source": [
    "# On site there are 2 tables with the class \"wikitable\"\n",
    "# The following line will generate a list of HTML content for each table\n",
    "tabl = soup.find_all(\"table\", attrs={\"class\": \"wikitable\"})\n",
    "print(\"Number of tables on site: \",len(tabl))"
   ]
  },
  {
   "cell_type": "code",
   "execution_count": 605,
   "metadata": {},
   "outputs": [
    {
     "name": "stdout",
     "output_type": "stream",
     "text": [
      "['Rank', 'Nation', 'HDI']\n"
     ]
    }
   ],
   "source": [
    "table1 = tabl[0]\n",
    "\n",
    "body = table1.find_all(\"tr\")\n",
    "head = body[0]\n",
    "body_rows = body[1:]\n",
    "\n",
    "headings = []\n",
    "\n",
    "for item in head.find_all(\"th\"):\n",
    "    item = (item.text).rstrip(\"\\n\")\n",
    "    headings.append(item)\n",
    "print(headings)"
   ]
  },
  {
   "cell_type": "code",
   "execution_count": 606,
   "metadata": {},
   "outputs": [],
   "source": [
    "#print(body_rows[0])\n",
    "all_rows = [] # will be a list for list for all rows\n",
    "for row_num in range(len(body_rows)): # A row at a time\n",
    "    row = [] # this will old entries for one row\n",
    "    for row_item in body_rows[row_num].find_all(\"td\"): #loop through all row entries\n",
    "        # row_item.text removes the tags from the entries\n",
    "        # the following regex is to remove \\xa0 and \\n and comma from row_item.text\n",
    "        # xa0 encodes the flag, \\n is the newline and comma separates thousands in numbers\n",
    "        aa = re.sub(\"(\\xa0)|(\\n)|,\",\"\",row_item.text)\n",
    "        #append aa to row - note one row entry is being appended\n",
    "        row.append(aa)\n",
    "    # append one row to all_rows\n",
    "    all_rows.append(row)"
   ]
  },
  {
   "cell_type": "code",
   "execution_count": 607,
   "metadata": {},
   "outputs": [
    {
     "name": "stdout",
     "output_type": "stream",
     "text": [
      "189\n"
     ]
    }
   ],
   "source": [
    "count = 0\n",
    "for i in all_rows:\n",
    "    if len(i) >1:\n",
    "        count+=1\n",
    "print(count)"
   ]
  },
  {
   "cell_type": "code",
   "execution_count": 608,
   "metadata": {},
   "outputs": [],
   "source": [
    "country_data = []\n",
    "for i in all_rows:\n",
    "    if len(i) > 1:\n",
    "        country_data.append(i)"
   ]
  },
  {
   "cell_type": "code",
   "execution_count": 648,
   "metadata": {},
   "outputs": [
    {
     "data": {
      "text/plain": [
       "[['1', '', '0.957', ' 0.20%'],\n",
       " ['2', ' (7)', '0.955', ' 0.65%'],\n",
       " ['2', '', '0.955', ' 0.16%'],\n",
       " ['4', ' (7)', '0.949', ' 0.54%'],\n",
       " ['4', ' (4)', '0.949', ' 0.62%'],\n",
       " ['6', ' (3)', '0.947', ' 0.24%']]"
      ]
     },
     "execution_count": 648,
     "metadata": {},
     "output_type": "execute_result"
    }
   ],
   "source": [
    "country_data[0:6]"
   ]
  },
  {
   "cell_type": "code",
   "execution_count": 610,
   "metadata": {},
   "outputs": [],
   "source": [
    "df = pd.DataFrame(country_data)"
   ]
  },
  {
   "cell_type": "code",
   "execution_count": 611,
   "metadata": {},
   "outputs": [
    {
     "data": {
      "text/html": [
       "<div>\n",
       "<style scoped>\n",
       "    .dataframe tbody tr th:only-of-type {\n",
       "        vertical-align: middle;\n",
       "    }\n",
       "\n",
       "    .dataframe tbody tr th {\n",
       "        vertical-align: top;\n",
       "    }\n",
       "\n",
       "    .dataframe thead th {\n",
       "        text-align: right;\n",
       "    }\n",
       "</style>\n",
       "<table border=\"1\" class=\"dataframe\">\n",
       "  <thead>\n",
       "    <tr style=\"text-align: right;\">\n",
       "      <th></th>\n",
       "      <th>0</th>\n",
       "      <th>1</th>\n",
       "      <th>2</th>\n",
       "      <th>3</th>\n",
       "    </tr>\n",
       "  </thead>\n",
       "  <tbody>\n",
       "    <tr>\n",
       "      <th>0</th>\n",
       "      <td>1</td>\n",
       "      <td></td>\n",
       "      <td>0.957</td>\n",
       "      <td>0.20%</td>\n",
       "    </tr>\n",
       "    <tr>\n",
       "      <th>1</th>\n",
       "      <td>2</td>\n",
       "      <td>(7)</td>\n",
       "      <td>0.955</td>\n",
       "      <td>0.65%</td>\n",
       "    </tr>\n",
       "    <tr>\n",
       "      <th>2</th>\n",
       "      <td>2</td>\n",
       "      <td></td>\n",
       "      <td>0.955</td>\n",
       "      <td>0.16%</td>\n",
       "    </tr>\n",
       "    <tr>\n",
       "      <th>3</th>\n",
       "      <td>4</td>\n",
       "      <td>(7)</td>\n",
       "      <td>0.949</td>\n",
       "      <td>0.54%</td>\n",
       "    </tr>\n",
       "    <tr>\n",
       "      <th>4</th>\n",
       "      <td>4</td>\n",
       "      <td>(4)</td>\n",
       "      <td>0.949</td>\n",
       "      <td>0.62%</td>\n",
       "    </tr>\n",
       "  </tbody>\n",
       "</table>\n",
       "</div>"
      ],
      "text/plain": [
       "   0     1      2       3\n",
       "0  1        0.957   0.20%\n",
       "1  2   (7)  0.955   0.65%\n",
       "2  2        0.955   0.16%\n",
       "3  4   (7)  0.949   0.54%\n",
       "4  4   (4)  0.949   0.62%"
      ]
     },
     "execution_count": 611,
     "metadata": {},
     "output_type": "execute_result"
    }
   ],
   "source": [
    "df.head()"
   ]
  },
  {
   "cell_type": "code",
   "execution_count": 612,
   "metadata": {},
   "outputs": [],
   "source": [
    "data_frame = pd.merge(country,df,left_index = True, right_index = True)"
   ]
  },
  {
   "cell_type": "code",
   "execution_count": 613,
   "metadata": {},
   "outputs": [
    {
     "data": {
      "text/html": [
       "<div>\n",
       "<style scoped>\n",
       "    .dataframe tbody tr th:only-of-type {\n",
       "        vertical-align: middle;\n",
       "    }\n",
       "\n",
       "    .dataframe tbody tr th {\n",
       "        vertical-align: top;\n",
       "    }\n",
       "\n",
       "    .dataframe thead th {\n",
       "        text-align: right;\n",
       "    }\n",
       "</style>\n",
       "<table border=\"1\" class=\"dataframe\">\n",
       "  <thead>\n",
       "    <tr style=\"text-align: right;\">\n",
       "      <th></th>\n",
       "      <th>0_x</th>\n",
       "      <th>0_y</th>\n",
       "      <th>1</th>\n",
       "      <th>2</th>\n",
       "      <th>3</th>\n",
       "    </tr>\n",
       "  </thead>\n",
       "  <tbody>\n",
       "    <tr>\n",
       "      <th>0</th>\n",
       "      <td>Norway</td>\n",
       "      <td>1</td>\n",
       "      <td></td>\n",
       "      <td>0.957</td>\n",
       "      <td>0.20%</td>\n",
       "    </tr>\n",
       "    <tr>\n",
       "      <th>1</th>\n",
       "      <td>Republic of Ireland</td>\n",
       "      <td>2</td>\n",
       "      <td>(7)</td>\n",
       "      <td>0.955</td>\n",
       "      <td>0.65%</td>\n",
       "    </tr>\n",
       "    <tr>\n",
       "      <th>2</th>\n",
       "      <td>Switzerland</td>\n",
       "      <td>2</td>\n",
       "      <td></td>\n",
       "      <td>0.955</td>\n",
       "      <td>0.16%</td>\n",
       "    </tr>\n",
       "  </tbody>\n",
       "</table>\n",
       "</div>"
      ],
      "text/plain": [
       "                   0_x 0_y     1      2       3\n",
       "0               Norway   1        0.957   0.20%\n",
       "1  Republic of Ireland   2   (7)  0.955   0.65%\n",
       "2          Switzerland   2        0.955   0.16%"
      ]
     },
     "execution_count": 613,
     "metadata": {},
     "output_type": "execute_result"
    }
   ],
   "source": [
    "data_frame.head(3)"
   ]
  },
  {
   "cell_type": "code",
   "execution_count": 614,
   "metadata": {},
   "outputs": [],
   "source": [
    "del data_frame['0_y']"
   ]
  },
  {
   "cell_type": "code",
   "execution_count": 615,
   "metadata": {},
   "outputs": [],
   "source": [
    "data_frame.columns = ['Country', 'HDI Change (5 yrs)', 'HDI (2020 Report)', 'Avg. annual growth (%)']"
   ]
  },
  {
   "cell_type": "code",
   "execution_count": 616,
   "metadata": {},
   "outputs": [
    {
     "data": {
      "text/html": [
       "<div>\n",
       "<style scoped>\n",
       "    .dataframe tbody tr th:only-of-type {\n",
       "        vertical-align: middle;\n",
       "    }\n",
       "\n",
       "    .dataframe tbody tr th {\n",
       "        vertical-align: top;\n",
       "    }\n",
       "\n",
       "    .dataframe thead th {\n",
       "        text-align: right;\n",
       "    }\n",
       "</style>\n",
       "<table border=\"1\" class=\"dataframe\">\n",
       "  <thead>\n",
       "    <tr style=\"text-align: right;\">\n",
       "      <th></th>\n",
       "      <th>Country</th>\n",
       "      <th>HDI Change (5 yrs)</th>\n",
       "      <th>HDI (2020 Report)</th>\n",
       "      <th>Avg. annual growth (%)</th>\n",
       "    </tr>\n",
       "  </thead>\n",
       "  <tbody>\n",
       "    <tr>\n",
       "      <th>0</th>\n",
       "      <td>Norway</td>\n",
       "      <td></td>\n",
       "      <td>0.957</td>\n",
       "      <td>0.20%</td>\n",
       "    </tr>\n",
       "    <tr>\n",
       "      <th>1</th>\n",
       "      <td>Republic of Ireland</td>\n",
       "      <td>(7)</td>\n",
       "      <td>0.955</td>\n",
       "      <td>0.65%</td>\n",
       "    </tr>\n",
       "    <tr>\n",
       "      <th>2</th>\n",
       "      <td>Switzerland</td>\n",
       "      <td></td>\n",
       "      <td>0.955</td>\n",
       "      <td>0.16%</td>\n",
       "    </tr>\n",
       "    <tr>\n",
       "      <th>3</th>\n",
       "      <td>Hong Kong</td>\n",
       "      <td>(7)</td>\n",
       "      <td>0.949</td>\n",
       "      <td>0.54%</td>\n",
       "    </tr>\n",
       "    <tr>\n",
       "      <th>4</th>\n",
       "      <td>Iceland</td>\n",
       "      <td>(4)</td>\n",
       "      <td>0.949</td>\n",
       "      <td>0.62%</td>\n",
       "    </tr>\n",
       "    <tr>\n",
       "      <th>...</th>\n",
       "      <td>...</td>\n",
       "      <td>...</td>\n",
       "      <td>...</td>\n",
       "      <td>...</td>\n",
       "    </tr>\n",
       "    <tr>\n",
       "      <th>184</th>\n",
       "      <td>Burundi</td>\n",
       "      <td>(5)</td>\n",
       "      <td>0.433</td>\n",
       "      <td>0.58%</td>\n",
       "    </tr>\n",
       "    <tr>\n",
       "      <th>185</th>\n",
       "      <td>South Sudan</td>\n",
       "      <td>(3)</td>\n",
       "      <td>0.433</td>\n",
       "      <td>0.61%</td>\n",
       "    </tr>\n",
       "    <tr>\n",
       "      <th>186</th>\n",
       "      <td>Chad</td>\n",
       "      <td>(1)</td>\n",
       "      <td>0.398</td>\n",
       "      <td>0.84%</td>\n",
       "    </tr>\n",
       "    <tr>\n",
       "      <th>187</th>\n",
       "      <td>Central African Republic</td>\n",
       "      <td>(1)</td>\n",
       "      <td>0.397</td>\n",
       "      <td>0.94%</td>\n",
       "    </tr>\n",
       "    <tr>\n",
       "      <th>188</th>\n",
       "      <td>Niger</td>\n",
       "      <td>(1)</td>\n",
       "      <td>0.394</td>\n",
       "      <td>1.95%</td>\n",
       "    </tr>\n",
       "  </tbody>\n",
       "</table>\n",
       "<p>189 rows × 4 columns</p>\n",
       "</div>"
      ],
      "text/plain": [
       "                      Country HDI Change (5 yrs) HDI (2020 Report)  \\\n",
       "0                      Norway                                0.957   \n",
       "1         Republic of Ireland                (7)             0.955   \n",
       "2                 Switzerland                                0.955   \n",
       "3                   Hong Kong                (7)             0.949   \n",
       "4                     Iceland                (4)             0.949   \n",
       "..                        ...                ...               ...   \n",
       "184                   Burundi                (5)             0.433   \n",
       "185               South Sudan                (3)             0.433   \n",
       "186                      Chad                (1)             0.398   \n",
       "187  Central African Republic                (1)             0.397   \n",
       "188                     Niger                (1)             0.394   \n",
       "\n",
       "    Avg. annual growth (%)  \n",
       "0                    0.20%  \n",
       "1                    0.65%  \n",
       "2                    0.16%  \n",
       "3                    0.54%  \n",
       "4                    0.62%  \n",
       "..                     ...  \n",
       "184                  0.58%  \n",
       "185                  0.61%  \n",
       "186                  0.84%  \n",
       "187                  0.94%  \n",
       "188                  1.95%  \n",
       "\n",
       "[189 rows x 4 columns]"
      ]
     },
     "execution_count": 616,
     "metadata": {},
     "output_type": "execute_result"
    }
   ],
   "source": [
    "data_frame"
   ]
  },
  {
   "cell_type": "code",
   "execution_count": 617,
   "metadata": {},
   "outputs": [
    {
     "data": {
      "text/plain": [
       "Country                   0\n",
       "HDI Change (5 yrs)        0\n",
       "HDI (2020 Report)         0\n",
       "Avg. annual growth (%)    0\n",
       "dtype: int64"
      ]
     },
     "execution_count": 617,
     "metadata": {},
     "output_type": "execute_result"
    }
   ],
   "source": [
    "data_frame.isnull().sum()"
   ]
  },
  {
   "cell_type": "code",
   "execution_count": 618,
   "metadata": {},
   "outputs": [
    {
     "name": "stdout",
     "output_type": "stream",
     "text": [
      "['Norway', 'Republic_of_Ireland', 'Switzerland', 'Hong_Kong', 'Iceland', 'Germany', 'Sweden', 'Australia', 'Netherlands', 'Denmark', 'Finland', 'Singapore', 'United_Kingdom', 'Belgium', 'New_Zealand', 'Canada', 'United_States', 'Austria', 'Israel', 'Japan', 'Liechtenstein', 'Slovenia', 'Luxembourg', 'South_Korea', 'Spain', 'France', 'Czech_Republic', 'Malta', 'Estonia', 'Italy', 'United_Arab_Emirates', 'Greece', 'Cyprus', 'Lithuania', 'Poland', 'Andorra', 'Latvia', 'Portugal', 'Slovakia', 'Hungary', 'Saudi_Arabia', 'Bahrain', 'Chile', 'Croatia', 'Qatar', 'Argentina', 'Brunei', 'Montenegro', 'Romania', 'Palau', 'Kazakhstan', 'Russia', 'Belarus', 'Turkey', 'Uruguay', 'Bulgaria', 'Panama', 'The_Bahamas', 'Barbados', 'Oman', 'Georgia_(country)', 'Costa_Rica', 'Malaysia', 'Kuwait', 'Serbia', 'Mauritius', 'Seychelles', 'Trinidad_and_Tobago', 'Albania', 'Cuba', 'Iran', 'Sri_Lanka', 'Bosnia_and_Herzegovina', 'Grenada', 'Mexico', 'Saint_Kitts_and_Nevis', 'Ukraine', 'Antigua_and_Barbuda', 'Peru', 'Thailand', 'Armenia', 'North_Macedonia', 'Colombia', 'Brazil', 'China', 'Ecuador', 'Saint_Lucia', 'Azerbaijan', 'Dominican_Republic', 'Moldova', 'Algeria', 'Lebanon', 'Fiji', 'Dominica', 'Maldives', 'Tunisia', 'Saint_Vincent_and_the_Grenadines', 'Suriname', 'Mongolia', 'Botswana', 'Jamaica', 'Jordan', 'Paraguay', 'Tonga', 'Libya', 'Uzbekistan', 'Bolivia', 'Indonesia', 'Philippines', 'Belize', 'Samoa', 'Turkmenistan', 'Venezuela', 'South_Africa', 'State_of_Palestine', 'Egypt', '#cite_note-marshall-19', 'Marshall_Islands', '#cite_note-marshall-19', 'Vietnam', 'Gabon', 'Kyrgyzstan', 'Morocco', 'Guyana', 'Iraq', 'El_Salvador', 'Tajikistan', 'Cape_Verde', 'Guatemala', 'Nicaragua', 'Bhutan', 'Namibia', 'India', 'Honduras', 'Bangladesh', 'Kiribati', 'S%C3%A3o_Tom%C3%A9_and_Pr%C3%ADncipe', 'Federated_States_of_Micronesia', 'Laos', 'Eswatini', 'Ghana', 'Vanuatu', 'East_Timor', 'Nepal', 'Kenya', 'Cambodia', 'Equatorial_Guinea', 'Zambia', 'Myanmar', 'Angola', 'Republic_of_the_Congo', 'Zimbabwe', 'Solomon_Islands', 'Syria', 'Cameroon', 'Pakistan', 'Papua_New_Guinea', 'Comoros', 'Mauritania', 'Benin', 'Uganda', 'Rwanda', 'Nigeria', 'Ivory_Coast', 'Tanzania', 'Madagascar', 'Lesotho', 'Djibouti', 'Togo', 'Senegal', 'Afghanistan', 'Haiti', 'Sudan', 'The_Gambia', 'Ethiopia', 'Malawi', 'Democratic_Republic_of_the_Congo', 'Guinea-Bissau', 'Liberia', 'Guinea', 'Yemen', 'Eritrea', 'Mozambique', 'Burkina_Faso', 'Sierra_Leone', 'Mali', 'Burundi', 'South_Sudan', 'Chad', 'Central_African_Republic', 'Niger']\n"
     ]
    }
   ],
   "source": [
    "project_href = [i['href'] for i in soup.find_all('a', href=True) if i['href'] != \"#\"]\n",
    "\n",
    "nations = []\n",
    "for i in project_href[85:276]:\n",
    "    for j in i.split('/')[-1:]:\n",
    "        nations.append(j)\n",
    "print(nations)"
   ]
  },
  {
   "cell_type": "code",
   "execution_count": 619,
   "metadata": {},
   "outputs": [],
   "source": [
    "stp = [i for i,j in enumerate(nations) if j == \"S%C3%A3o_Tom%C3%A9_and_Pr%C3%ADncipe\"]"
   ]
  },
  {
   "cell_type": "code",
   "execution_count": 620,
   "metadata": {},
   "outputs": [
    {
     "data": {
      "text/plain": [
       "[136]"
      ]
     },
     "execution_count": 620,
     "metadata": {},
     "output_type": "execute_result"
    }
   ],
   "source": [
    "stp"
   ]
  },
  {
   "cell_type": "code",
   "execution_count": 621,
   "metadata": {},
   "outputs": [],
   "source": [
    "def text_cleaner(x):\n",
    "    n = []\n",
    "    for i in x:\n",
    "        if '#' in i:\n",
    "            pass\n",
    "        else:\n",
    "            n.append(i.replace('_', ' '))\n",
    "    return n"
   ]
  },
  {
   "cell_type": "code",
   "execution_count": 622,
   "metadata": {},
   "outputs": [],
   "source": [
    "nation = text_cleaner(nations)"
   ]
  },
  {
   "cell_type": "code",
   "execution_count": 623,
   "metadata": {},
   "outputs": [
    {
     "data": {
      "text/plain": [
       "189"
      ]
     },
     "execution_count": 623,
     "metadata": {},
     "output_type": "execute_result"
    }
   ],
   "source": [
    "#verify all data from column nation had been collected\n",
    "len(nation)"
   ]
  },
  {
   "cell_type": "code",
   "execution_count": 624,
   "metadata": {},
   "outputs": [],
   "source": [
    "country = pd.DataFrame(nation)"
   ]
  },
  {
   "cell_type": "code",
   "execution_count": 625,
   "metadata": {},
   "outputs": [
    {
     "data": {
      "text/html": [
       "<div>\n",
       "<style scoped>\n",
       "    .dataframe tbody tr th:only-of-type {\n",
       "        vertical-align: middle;\n",
       "    }\n",
       "\n",
       "    .dataframe tbody tr th {\n",
       "        vertical-align: top;\n",
       "    }\n",
       "\n",
       "    .dataframe thead th {\n",
       "        text-align: right;\n",
       "    }\n",
       "</style>\n",
       "<table border=\"1\" class=\"dataframe\">\n",
       "  <thead>\n",
       "    <tr style=\"text-align: right;\">\n",
       "      <th></th>\n",
       "      <th>0</th>\n",
       "    </tr>\n",
       "  </thead>\n",
       "  <tbody>\n",
       "    <tr>\n",
       "      <th>0</th>\n",
       "      <td>Norway</td>\n",
       "    </tr>\n",
       "    <tr>\n",
       "      <th>1</th>\n",
       "      <td>Republic of Ireland</td>\n",
       "    </tr>\n",
       "  </tbody>\n",
       "</table>\n",
       "</div>"
      ],
      "text/plain": [
       "                     0\n",
       "0               Norway\n",
       "1  Republic of Ireland"
      ]
     },
     "execution_count": 625,
     "metadata": {},
     "output_type": "execute_result"
    }
   ],
   "source": [
    "country.head(2)"
   ]
  },
  {
   "cell_type": "code",
   "execution_count": 626,
   "metadata": {},
   "outputs": [
    {
     "data": {
      "text/html": [
       "<div>\n",
       "<style scoped>\n",
       "    .dataframe tbody tr th:only-of-type {\n",
       "        vertical-align: middle;\n",
       "    }\n",
       "\n",
       "    .dataframe tbody tr th {\n",
       "        vertical-align: top;\n",
       "    }\n",
       "\n",
       "    .dataframe thead th {\n",
       "        text-align: right;\n",
       "    }\n",
       "</style>\n",
       "<table border=\"1\" class=\"dataframe\">\n",
       "  <thead>\n",
       "    <tr style=\"text-align: right;\">\n",
       "      <th></th>\n",
       "      <th>Country</th>\n",
       "    </tr>\n",
       "  </thead>\n",
       "  <tbody>\n",
       "    <tr>\n",
       "      <th>0</th>\n",
       "      <td>Norway</td>\n",
       "    </tr>\n",
       "    <tr>\n",
       "      <th>1</th>\n",
       "      <td>Republic of Ireland</td>\n",
       "    </tr>\n",
       "    <tr>\n",
       "      <th>2</th>\n",
       "      <td>Switzerland</td>\n",
       "    </tr>\n",
       "    <tr>\n",
       "      <th>3</th>\n",
       "      <td>Hong Kong</td>\n",
       "    </tr>\n",
       "    <tr>\n",
       "      <th>4</th>\n",
       "      <td>Iceland</td>\n",
       "    </tr>\n",
       "    <tr>\n",
       "      <th>...</th>\n",
       "      <td>...</td>\n",
       "    </tr>\n",
       "    <tr>\n",
       "      <th>184</th>\n",
       "      <td>Burundi</td>\n",
       "    </tr>\n",
       "    <tr>\n",
       "      <th>185</th>\n",
       "      <td>South Sudan</td>\n",
       "    </tr>\n",
       "    <tr>\n",
       "      <th>186</th>\n",
       "      <td>Chad</td>\n",
       "    </tr>\n",
       "    <tr>\n",
       "      <th>187</th>\n",
       "      <td>Central African Republic</td>\n",
       "    </tr>\n",
       "    <tr>\n",
       "      <th>188</th>\n",
       "      <td>Niger</td>\n",
       "    </tr>\n",
       "  </tbody>\n",
       "</table>\n",
       "<p>189 rows × 1 columns</p>\n",
       "</div>"
      ],
      "text/plain": [
       "                      Country\n",
       "0                      Norway\n",
       "1         Republic of Ireland\n",
       "2                 Switzerland\n",
       "3                   Hong Kong\n",
       "4                     Iceland\n",
       "..                        ...\n",
       "184                   Burundi\n",
       "185               South Sudan\n",
       "186                      Chad\n",
       "187  Central African Republic\n",
       "188                     Niger\n",
       "\n",
       "[189 rows x 1 columns]"
      ]
     },
     "execution_count": 626,
     "metadata": {},
     "output_type": "execute_result"
    }
   ],
   "source": [
    "country.rename(columns = {0:\"Country\"})"
   ]
  },
  {
   "cell_type": "code",
   "execution_count": 627,
   "metadata": {},
   "outputs": [],
   "source": [
    "data_frame['Country'][134] = \"Sao Tome and Principe\""
   ]
  },
  {
   "cell_type": "code",
   "execution_count": 628,
   "metadata": {},
   "outputs": [
    {
     "data": {
      "text/plain": [
       "'Sao Tome and Principe'"
      ]
     },
     "execution_count": 628,
     "metadata": {},
     "output_type": "execute_result"
    }
   ],
   "source": [
    "data_frame['Country'][134]"
   ]
  },
  {
   "cell_type": "code",
   "execution_count": 629,
   "metadata": {},
   "outputs": [],
   "source": [
    "countries_negative_hdi_growth = ['Lebanon', 'Jordan', 'Libya', 'Venezuela', 'East Timor', 'Syria', 'Yemen']"
   ]
  },
  {
   "cell_type": "code",
   "execution_count": 630,
   "metadata": {},
   "outputs": [
    {
     "data": {
      "text/html": [
       "<div>\n",
       "<style scoped>\n",
       "    .dataframe tbody tr th:only-of-type {\n",
       "        vertical-align: middle;\n",
       "    }\n",
       "\n",
       "    .dataframe tbody tr th {\n",
       "        vertical-align: top;\n",
       "    }\n",
       "\n",
       "    .dataframe thead th {\n",
       "        text-align: right;\n",
       "    }\n",
       "</style>\n",
       "<table border=\"1\" class=\"dataframe\">\n",
       "  <thead>\n",
       "    <tr style=\"text-align: right;\">\n",
       "      <th></th>\n",
       "      <th>Country</th>\n",
       "      <th>HDI Change (5 yrs)</th>\n",
       "      <th>HDI (2020 Report)</th>\n",
       "      <th>Avg. annual growth (%)</th>\n",
       "    </tr>\n",
       "  </thead>\n",
       "  <tbody>\n",
       "    <tr>\n",
       "      <th>0</th>\n",
       "      <td>Norway</td>\n",
       "      <td></td>\n",
       "      <td>0.957</td>\n",
       "      <td>0.20%</td>\n",
       "    </tr>\n",
       "    <tr>\n",
       "      <th>1</th>\n",
       "      <td>Republic of Ireland</td>\n",
       "      <td>(7)</td>\n",
       "      <td>0.955</td>\n",
       "      <td>0.65%</td>\n",
       "    </tr>\n",
       "    <tr>\n",
       "      <th>2</th>\n",
       "      <td>Switzerland</td>\n",
       "      <td></td>\n",
       "      <td>0.955</td>\n",
       "      <td>0.16%</td>\n",
       "    </tr>\n",
       "    <tr>\n",
       "      <th>3</th>\n",
       "      <td>Hong Kong</td>\n",
       "      <td>(7)</td>\n",
       "      <td>0.949</td>\n",
       "      <td>0.54%</td>\n",
       "    </tr>\n",
       "    <tr>\n",
       "      <th>4</th>\n",
       "      <td>Iceland</td>\n",
       "      <td>(4)</td>\n",
       "      <td>0.949</td>\n",
       "      <td>0.62%</td>\n",
       "    </tr>\n",
       "  </tbody>\n",
       "</table>\n",
       "</div>"
      ],
      "text/plain": [
       "               Country HDI Change (5 yrs) HDI (2020 Report)  \\\n",
       "0               Norway                                0.957   \n",
       "1  Republic of Ireland                (7)             0.955   \n",
       "2          Switzerland                                0.955   \n",
       "3            Hong Kong                (7)             0.949   \n",
       "4              Iceland                (4)             0.949   \n",
       "\n",
       "  Avg. annual growth (%)  \n",
       "0                  0.20%  \n",
       "1                  0.65%  \n",
       "2                  0.16%  \n",
       "3                  0.54%  \n",
       "4                  0.62%  "
      ]
     },
     "execution_count": 630,
     "metadata": {},
     "output_type": "execute_result"
    }
   ],
   "source": [
    "data_frame.head()"
   ]
  },
  {
   "cell_type": "code",
   "execution_count": 649,
   "metadata": {},
   "outputs": [
    {
     "data": {
      "text/plain": [
       "Country                   0\n",
       "HDI Change (5 yrs)        0\n",
       "HDI (2020 Report)         0\n",
       "Avg. annual growth (%)    1\n",
       "dtype: int64"
      ]
     },
     "execution_count": 649,
     "metadata": {},
     "output_type": "execute_result"
    }
   ],
   "source": [
    "data_frame.isnull().sum()"
   ]
  },
  {
   "cell_type": "code",
   "execution_count": 650,
   "metadata": {},
   "outputs": [
    {
     "data": {
      "text/plain": [
       "Country                    object\n",
       "HDI Change (5 yrs)         object\n",
       "HDI (2020 Report)         float64\n",
       "Avg. annual growth (%)    float64\n",
       "dtype: object"
      ]
     },
     "execution_count": 650,
     "metadata": {},
     "output_type": "execute_result"
    }
   ],
   "source": [
    "data_frame.dtypes"
   ]
  },
  {
   "cell_type": "code",
   "execution_count": 633,
   "metadata": {},
   "outputs": [],
   "source": [
    "data_frame['Avg. annual growth (%)'] = data_frame['Avg. annual growth (%)'].apply(lambda x: x[:-1])"
   ]
  },
  {
   "cell_type": "code",
   "execution_count": 634,
   "metadata": {},
   "outputs": [],
   "source": [
    "data_frame['HDI Change (5 yrs)'] = data_frame['HDI Change (5 yrs)'].apply(lambda x: x[2] if len(x) > 0 else x)"
   ]
  },
  {
   "cell_type": "code",
   "execution_count": 635,
   "metadata": {},
   "outputs": [
    {
     "name": "stdout",
     "output_type": "stream",
     "text": [
      "0       0.20\n",
      "1       0.65\n",
      "2       0.16\n",
      "3       0.54\n",
      "4       0.62\n",
      "       ...  \n",
      "184     0.58\n",
      "185     0.61\n",
      "186     0.84\n",
      "187     0.94\n",
      "188     1.95\n",
      "Length: 189, dtype: object\n"
     ]
    }
   ],
   "source": [
    "n = []\n",
    "for i in data_frame['Avg. annual growth (%)']:\n",
    "    if i == 'NA[a':\n",
    "        n.append(0)\n",
    "    else:\n",
    "        n.append(i)\n",
    "print(pd.Series(n))"
   ]
  },
  {
   "cell_type": "code",
   "execution_count": 636,
   "metadata": {},
   "outputs": [],
   "source": [
    "data_frame['Avg. annual growth (%)'] = n"
   ]
  },
  {
   "cell_type": "code",
   "execution_count": 637,
   "metadata": {},
   "outputs": [],
   "source": [
    "data_frame['HDI (2020 Report)'] = data_frame['HDI (2020 Report)'].str.strip().astype(float)"
   ]
  },
  {
   "cell_type": "code",
   "execution_count": 638,
   "metadata": {},
   "outputs": [],
   "source": [
    "data_frame['Avg. annual growth (%)'] = data_frame['Avg. annual growth (%)'].str.strip().astype(float)"
   ]
  },
  {
   "cell_type": "code",
   "execution_count": 639,
   "metadata": {},
   "outputs": [
    {
     "data": {
      "text/plain": [
       "Country                    object\n",
       "HDI Change (5 yrs)         object\n",
       "HDI (2020 Report)         float64\n",
       "Avg. annual growth (%)    float64\n",
       "dtype: object"
      ]
     },
     "execution_count": 639,
     "metadata": {},
     "output_type": "execute_result"
    }
   ],
   "source": [
    "data_frame.dtypes"
   ]
  },
  {
   "cell_type": "code",
   "execution_count": 640,
   "metadata": {},
   "outputs": [
    {
     "data": {
      "text/html": [
       "<div>\n",
       "<style scoped>\n",
       "    .dataframe tbody tr th:only-of-type {\n",
       "        vertical-align: middle;\n",
       "    }\n",
       "\n",
       "    .dataframe tbody tr th {\n",
       "        vertical-align: top;\n",
       "    }\n",
       "\n",
       "    .dataframe thead th {\n",
       "        text-align: right;\n",
       "    }\n",
       "</style>\n",
       "<table border=\"1\" class=\"dataframe\">\n",
       "  <thead>\n",
       "    <tr style=\"text-align: right;\">\n",
       "      <th></th>\n",
       "      <th>Country</th>\n",
       "      <th>HDI Change (5 yrs)</th>\n",
       "      <th>HDI (2020 Report)</th>\n",
       "      <th>Avg. annual growth (%)</th>\n",
       "    </tr>\n",
       "  </thead>\n",
       "  <tbody>\n",
       "    <tr>\n",
       "      <th>0</th>\n",
       "      <td>Norway</td>\n",
       "      <td></td>\n",
       "      <td>0.957</td>\n",
       "      <td>0.20</td>\n",
       "    </tr>\n",
       "    <tr>\n",
       "      <th>1</th>\n",
       "      <td>Republic of Ireland</td>\n",
       "      <td>7</td>\n",
       "      <td>0.955</td>\n",
       "      <td>0.65</td>\n",
       "    </tr>\n",
       "    <tr>\n",
       "      <th>2</th>\n",
       "      <td>Switzerland</td>\n",
       "      <td></td>\n",
       "      <td>0.955</td>\n",
       "      <td>0.16</td>\n",
       "    </tr>\n",
       "    <tr>\n",
       "      <th>3</th>\n",
       "      <td>Hong Kong</td>\n",
       "      <td>7</td>\n",
       "      <td>0.949</td>\n",
       "      <td>0.54</td>\n",
       "    </tr>\n",
       "    <tr>\n",
       "      <th>4</th>\n",
       "      <td>Iceland</td>\n",
       "      <td>4</td>\n",
       "      <td>0.949</td>\n",
       "      <td>0.62</td>\n",
       "    </tr>\n",
       "  </tbody>\n",
       "</table>\n",
       "</div>"
      ],
      "text/plain": [
       "               Country HDI Change (5 yrs)  HDI (2020 Report)  \\\n",
       "0               Norway                                 0.957   \n",
       "1  Republic of Ireland                  7              0.955   \n",
       "2          Switzerland                                 0.955   \n",
       "3            Hong Kong                  7              0.949   \n",
       "4              Iceland                  4              0.949   \n",
       "\n",
       "   Avg. annual growth (%)  \n",
       "0                    0.20  \n",
       "1                    0.65  \n",
       "2                    0.16  \n",
       "3                    0.54  \n",
       "4                    0.62  "
      ]
     },
     "execution_count": 640,
     "metadata": {},
     "output_type": "execute_result"
    }
   ],
   "source": [
    "data_frame.head()"
   ]
  },
  {
   "cell_type": "code",
   "execution_count": 667,
   "metadata": {},
   "outputs": [
    {
     "name": "stdout",
     "output_type": "stream",
     "text": [
      "189\n"
     ]
    }
   ],
   "source": [
    "#def annual_growth(x,y):\n",
    "x = []\n",
    "neg_growth_countries = ['Lebanon', 'Jordan', 'Libya', 'Venezuela', 'East Timor', 'Syria', 'Yemen']\n",
    "for i in range(len(data_frame['Avg. annual growth (%)'])):\n",
    "    if data_frame.iloc[i,0] in neg_growth_countries:\n",
    "        x.append(-1 * data_frame.iloc[i,3])\n",
    "    else:\n",
    "        x.append(data_frame.iloc[i,3])\n",
    "    \n",
    "    \n",
    "\n",
    "print(len(x))\n",
    "        "
   ]
  },
  {
   "cell_type": "code",
   "execution_count": 668,
   "metadata": {},
   "outputs": [],
   "source": [
    "data_frame['Avg. annual growth (%)'] = x"
   ]
  },
  {
   "cell_type": "code",
   "execution_count": 644,
   "metadata": {},
   "outputs": [
    {
     "data": {
      "text/plain": [
       "Index(['Country', 'HDI Change (5 yrs)', 'HDI (2020 Report)',\n",
       "       'Avg. annual growth (%)'],\n",
       "      dtype='object')"
      ]
     },
     "execution_count": 644,
     "metadata": {},
     "output_type": "execute_result"
    }
   ],
   "source": [
    "data_frame.columns"
   ]
  },
  {
   "cell_type": "code",
   "execution_count": 645,
   "metadata": {},
   "outputs": [
    {
     "data": {
      "text/plain": [
       "[]"
      ]
     },
     "execution_count": 645,
     "metadata": {},
     "output_type": "execute_result"
    }
   ],
   "source": [
    "annual_growth(data_frame['Country'],data_frame)"
   ]
  },
  {
   "cell_type": "code",
   "execution_count": 646,
   "metadata": {},
   "outputs": [
    {
     "data": {
      "text/html": [
       "<div>\n",
       "<style scoped>\n",
       "    .dataframe tbody tr th:only-of-type {\n",
       "        vertical-align: middle;\n",
       "    }\n",
       "\n",
       "    .dataframe tbody tr th {\n",
       "        vertical-align: top;\n",
       "    }\n",
       "\n",
       "    .dataframe thead th {\n",
       "        text-align: right;\n",
       "    }\n",
       "</style>\n",
       "<table border=\"1\" class=\"dataframe\">\n",
       "  <thead>\n",
       "    <tr style=\"text-align: right;\">\n",
       "      <th></th>\n",
       "      <th>Country</th>\n",
       "      <th>HDI Change (5 yrs)</th>\n",
       "      <th>HDI (2020 Report)</th>\n",
       "      <th>Avg. annual growth (%)</th>\n",
       "    </tr>\n",
       "  </thead>\n",
       "  <tbody>\n",
       "    <tr>\n",
       "      <th>0</th>\n",
       "      <td>Norway</td>\n",
       "      <td></td>\n",
       "      <td>0.957</td>\n",
       "      <td>0.20</td>\n",
       "    </tr>\n",
       "    <tr>\n",
       "      <th>1</th>\n",
       "      <td>Republic of Ireland</td>\n",
       "      <td>7</td>\n",
       "      <td>0.955</td>\n",
       "      <td>0.65</td>\n",
       "    </tr>\n",
       "    <tr>\n",
       "      <th>2</th>\n",
       "      <td>Switzerland</td>\n",
       "      <td></td>\n",
       "      <td>0.955</td>\n",
       "      <td>0.16</td>\n",
       "    </tr>\n",
       "    <tr>\n",
       "      <th>3</th>\n",
       "      <td>Hong Kong</td>\n",
       "      <td>7</td>\n",
       "      <td>0.949</td>\n",
       "      <td>0.54</td>\n",
       "    </tr>\n",
       "    <tr>\n",
       "      <th>4</th>\n",
       "      <td>Iceland</td>\n",
       "      <td>4</td>\n",
       "      <td>0.949</td>\n",
       "      <td>0.62</td>\n",
       "    </tr>\n",
       "    <tr>\n",
       "      <th>...</th>\n",
       "      <td>...</td>\n",
       "      <td>...</td>\n",
       "      <td>...</td>\n",
       "      <td>...</td>\n",
       "    </tr>\n",
       "    <tr>\n",
       "      <th>184</th>\n",
       "      <td>Burundi</td>\n",
       "      <td>5</td>\n",
       "      <td>0.433</td>\n",
       "      <td>0.58</td>\n",
       "    </tr>\n",
       "    <tr>\n",
       "      <th>185</th>\n",
       "      <td>South Sudan</td>\n",
       "      <td>3</td>\n",
       "      <td>0.433</td>\n",
       "      <td>0.61</td>\n",
       "    </tr>\n",
       "    <tr>\n",
       "      <th>186</th>\n",
       "      <td>Chad</td>\n",
       "      <td>1</td>\n",
       "      <td>0.398</td>\n",
       "      <td>0.84</td>\n",
       "    </tr>\n",
       "    <tr>\n",
       "      <th>187</th>\n",
       "      <td>Central African Republic</td>\n",
       "      <td>1</td>\n",
       "      <td>0.397</td>\n",
       "      <td>0.94</td>\n",
       "    </tr>\n",
       "    <tr>\n",
       "      <th>188</th>\n",
       "      <td>Niger</td>\n",
       "      <td>1</td>\n",
       "      <td>0.394</td>\n",
       "      <td>1.95</td>\n",
       "    </tr>\n",
       "  </tbody>\n",
       "</table>\n",
       "<p>189 rows × 4 columns</p>\n",
       "</div>"
      ],
      "text/plain": [
       "                      Country HDI Change (5 yrs)  HDI (2020 Report)  \\\n",
       "0                      Norway                                 0.957   \n",
       "1         Republic of Ireland                  7              0.955   \n",
       "2                 Switzerland                                 0.955   \n",
       "3                   Hong Kong                  7              0.949   \n",
       "4                     Iceland                  4              0.949   \n",
       "..                        ...                ...                ...   \n",
       "184                   Burundi                  5              0.433   \n",
       "185               South Sudan                  3              0.433   \n",
       "186                      Chad                  1              0.398   \n",
       "187  Central African Republic                  1              0.397   \n",
       "188                     Niger                  1              0.394   \n",
       "\n",
       "     Avg. annual growth (%)  \n",
       "0                      0.20  \n",
       "1                      0.65  \n",
       "2                      0.16  \n",
       "3                      0.54  \n",
       "4                      0.62  \n",
       "..                      ...  \n",
       "184                    0.58  \n",
       "185                    0.61  \n",
       "186                    0.84  \n",
       "187                    0.94  \n",
       "188                    1.95  \n",
       "\n",
       "[189 rows x 4 columns]"
      ]
     },
     "execution_count": 646,
     "metadata": {},
     "output_type": "execute_result"
    }
   ],
   "source": [
    "data_frame"
   ]
  },
  {
   "cell_type": "code",
   "execution_count": null,
   "metadata": {},
   "outputs": [],
   "source": [
    "global_regions = {\"Northern Africa\" : [''],\n",
    "                  \"Sub-Saharan Africa\": [],\n",
    "                  \"Eastern Africa\":[],\n",
    "                  \"Middle Africa\": [],\n",
    "                  \"Southern Africa\": [],\n",
    "                  \"Western Africa\": [],\n",
    "                  \"Caribbean\": [],\n",
    "\"Central America\": [],\n",
    "\"South America\": [],\n",
    "\"North America\": [],\n",
    "\"Central Asia\": [],\n",
    "\"Eastern Asia\": [],\n",
    "\"South-eastern Asia\": [],\n",
    "\"Southern Asia\": [],\n",
    "\"Western Asia\": [],\n",
    "\"Eastern Europe (Including Nortehrn Asia)\": [],\n",
    "\"Northern Europe\": [],\n",
    "\"Southern Europe\": [],\n",
    "\"Western Europe\": [],\n",
    "\"Australia & New Zealend\": [],\n",
    "\"Melanesia\": [],\n",
    "\"Micronesia\": [],\n",
    "\"Polynesia\": [],\n",
    "                  \n",
    "                  }"
   ]
  },
  {
   "cell_type": "markdown",
   "metadata": {},
   "source": [
    "## United Nations geoscheme\n",
    "\n",
    "Statistical regions as defined by the UNSD. Antarctica is not shown.\n",
    "The United Nations geoscheme is a system which divides the 249 countries and territories of the world into 6 regional and 22 subregional groups. It was devised by the United Nations Statistics Division (UNSD) based on the M49 coding classification."
   ]
  },
  {
   "cell_type": "code",
   "execution_count": 427,
   "metadata": {},
   "outputs": [],
   "source": [
    "results_list = []\n",
    "\n",
    "# Get all the <td class=\"title\"... elements\n",
    "all_td = soup.find_all('td', {'class':'title'})\n",
    "for element in all_td:\n",
    "    # start a dictionary to store this item's data\n",
    "    result = {}\n",
    "    \n",
    "    # get the title and full link/url\n",
    "    a_href = element.find('a')\n",
    "    if a_href:\n",
    "        result['title'] = a_href.text   # element text\n",
    "        result['link'] = a_href['href'] # href link\n",
    "        \n",
    "    # get the url domain\n",
    "    span = element.find('span', {'class':'comhead'})\n",
    "    if span:\n",
    "        result['url'] = span.text.strip()[1:-1]\n",
    "        \n",
    "    # only store \"full\" rows of data\n",
    "    if len(result) == 3:\n",
    "        results_list.append(result)\n",
    "if len(results_list) > 1:        \n",
    "    print(results_list[0])"
   ]
  },
  {
   "cell_type": "code",
   "execution_count": null,
   "metadata": {},
   "outputs": [],
   "source": []
  }
 ],
 "metadata": {
  "kernelspec": {
   "display_name": "Python 3",
   "language": "python",
   "name": "python3"
  },
  "language_info": {
   "codemirror_mode": {
    "name": "ipython",
    "version": 3
   },
   "file_extension": ".py",
   "mimetype": "text/x-python",
   "name": "python",
   "nbconvert_exporter": "python",
   "pygments_lexer": "ipython3",
   "version": "3.8.5"
  }
 },
 "nbformat": 4,
 "nbformat_minor": 4
}
