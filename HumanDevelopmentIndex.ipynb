{
 "cells": [
  {
   "cell_type": "markdown",
   "metadata": {},
   "source": [
    "# Human Development Index"
   ]
  },
  {
   "cell_type": "code",
   "execution_count": 1818,
   "metadata": {},
   "outputs": [],
   "source": [
    "import requests\n",
    "import urllib.request\n",
    "import time\n",
    "from bs4 import BeautifulSoup\n",
    "import numpy as np\n",
    "import pandas as pd\n",
    "import regex as re\n",
    "import matplotlib.pyplot as plt\n",
    "from urllib.request import urlopen\n",
    "import pycountry\n",
    "import seaborn as sns"
   ]
  },
  {
   "cell_type": "code",
   "execution_count": 1819,
   "metadata": {},
   "outputs": [],
   "source": [
    "url = 'https://en.m.wikipedia.org/wiki/List_of_countries_by_Human_Development_Index'\n",
    "html = urlopen(url) \n",
    "soup = BeautifulSoup(html, 'html.parser')"
   ]
  },
  {
   "cell_type": "code",
   "execution_count": 1820,
   "metadata": {},
   "outputs": [],
   "source": [
    "tables = soup.find_all('body')"
   ]
  },
  {
   "cell_type": "code",
   "execution_count": 1821,
   "metadata": {},
   "outputs": [
    {
     "name": "stdout",
     "output_type": "stream",
     "text": [
      "Number of tables on site:  2\n"
     ]
    }
   ],
   "source": [
    "# On site there are 2 tables with the class \"wikitable\"\n",
    "# The following line will generate a list of HTML content for each table\n",
    "tabl = soup.find_all(\"table\", attrs={\"class\": \"wikitable\"})\n",
    "print(\"Number of tables on site: \",len(tabl))"
   ]
  },
  {
   "cell_type": "code",
   "execution_count": 1822,
   "metadata": {},
   "outputs": [
    {
     "name": "stdout",
     "output_type": "stream",
     "text": [
      "['Rank', 'Nation', 'HDI']\n"
     ]
    }
   ],
   "source": [
    "#Get Column Header names from the table being scraped\n",
    "table1 = tabl[0]\n",
    "\n",
    "body = table1.find_all(\"tr\")\n",
    "head = body[0]\n",
    "body_rows = body[1:]\n",
    "\n",
    "headings = []\n",
    "\n",
    "for item in head.find_all(\"th\"):\n",
    "    item = (item.text).rstrip(\"\\n\")\n",
    "    headings.append(item)\n",
    "print(headings)"
   ]
  },
  {
   "cell_type": "code",
   "execution_count": 1823,
   "metadata": {},
   "outputs": [],
   "source": [
    "#print(body_rows[0])\n",
    "all_rows = [] # will be a list for list for all rows\n",
    "for row_num in range(len(body_rows)): # A row at a time\n",
    "    row = [] # this will old entries for one row\n",
    "    for row_item in body_rows[row_num].find_all(\"td\"): #loop through all row entries\n",
    "        # row_item.text removes the tags from the entries\n",
    "        # the following regex is to remove \\xa0 and \\n and comma from row_item.text\n",
    "        # xa0 encodes the flag, \\n is the newline and comma separates thousands in numbers\n",
    "        aa = re.sub(\"(\\xa0)|(\\n)|,\",\"\",row_item.text)\n",
    "        #append aa to row - note one row entry is being appended\n",
    "        row.append(aa)\n",
    "    # append one row to all_rows\n",
    "    all_rows.append(row)"
   ]
  },
  {
   "cell_type": "code",
   "execution_count": 1824,
   "metadata": {},
   "outputs": [],
   "source": [
    "country_data = []\n",
    "for i in all_rows:\n",
    "    if len(i) > 1:\n",
    "        country_data.append(i)"
   ]
  },
  {
   "cell_type": "code",
   "execution_count": 1825,
   "metadata": {},
   "outputs": [
    {
     "data": {
      "text/plain": [
       "[['1', '', '0.957', ' 0.20%'],\n",
       " ['2', ' (7)', '0.955', ' 0.65%'],\n",
       " ['2', '', '0.955', ' 0.16%'],\n",
       " ['4', ' (7)', '0.949', ' 0.54%'],\n",
       " ['4', ' (4)', '0.949', ' 0.62%'],\n",
       " ['6', ' (3)', '0.947', ' 0.24%']]"
      ]
     },
     "execution_count": 1825,
     "metadata": {},
     "output_type": "execute_result"
    }
   ],
   "source": [
    "country_data[0:6]"
   ]
  },
  {
   "cell_type": "code",
   "execution_count": 1826,
   "metadata": {},
   "outputs": [],
   "source": [
    "df = pd.DataFrame(country_data)"
   ]
  },
  {
   "cell_type": "code",
   "execution_count": 1827,
   "metadata": {},
   "outputs": [
    {
     "data": {
      "text/html": [
       "<div>\n",
       "<style scoped>\n",
       "    .dataframe tbody tr th:only-of-type {\n",
       "        vertical-align: middle;\n",
       "    }\n",
       "\n",
       "    .dataframe tbody tr th {\n",
       "        vertical-align: top;\n",
       "    }\n",
       "\n",
       "    .dataframe thead th {\n",
       "        text-align: right;\n",
       "    }\n",
       "</style>\n",
       "<table border=\"1\" class=\"dataframe\">\n",
       "  <thead>\n",
       "    <tr style=\"text-align: right;\">\n",
       "      <th></th>\n",
       "      <th>0</th>\n",
       "      <th>1</th>\n",
       "      <th>2</th>\n",
       "      <th>3</th>\n",
       "    </tr>\n",
       "  </thead>\n",
       "  <tbody>\n",
       "    <tr>\n",
       "      <th>0</th>\n",
       "      <td>1</td>\n",
       "      <td></td>\n",
       "      <td>0.957</td>\n",
       "      <td>0.20%</td>\n",
       "    </tr>\n",
       "    <tr>\n",
       "      <th>1</th>\n",
       "      <td>2</td>\n",
       "      <td>(7)</td>\n",
       "      <td>0.955</td>\n",
       "      <td>0.65%</td>\n",
       "    </tr>\n",
       "    <tr>\n",
       "      <th>2</th>\n",
       "      <td>2</td>\n",
       "      <td></td>\n",
       "      <td>0.955</td>\n",
       "      <td>0.16%</td>\n",
       "    </tr>\n",
       "    <tr>\n",
       "      <th>3</th>\n",
       "      <td>4</td>\n",
       "      <td>(7)</td>\n",
       "      <td>0.949</td>\n",
       "      <td>0.54%</td>\n",
       "    </tr>\n",
       "    <tr>\n",
       "      <th>4</th>\n",
       "      <td>4</td>\n",
       "      <td>(4)</td>\n",
       "      <td>0.949</td>\n",
       "      <td>0.62%</td>\n",
       "    </tr>\n",
       "  </tbody>\n",
       "</table>\n",
       "</div>"
      ],
      "text/plain": [
       "   0     1      2       3\n",
       "0  1        0.957   0.20%\n",
       "1  2   (7)  0.955   0.65%\n",
       "2  2        0.955   0.16%\n",
       "3  4   (7)  0.949   0.54%\n",
       "4  4   (4)  0.949   0.62%"
      ]
     },
     "execution_count": 1827,
     "metadata": {},
     "output_type": "execute_result"
    }
   ],
   "source": [
    "df.head()"
   ]
  },
  {
   "cell_type": "code",
   "execution_count": 1828,
   "metadata": {},
   "outputs": [
    {
     "name": "stdout",
     "output_type": "stream",
     "text": [
      "['#cite_note-2020_components-2', '#cite_note-2020_trends-18', 'Norway', 'Republic_of_Ireland', 'Switzerland', 'Hong_Kong', 'Iceland', 'Germany', 'Sweden', 'Australia', 'Netherlands', 'Denmark', 'Finland', 'Singapore', 'United_Kingdom', 'Belgium', 'New_Zealand', 'Canada', 'United_States', 'Austria', 'Israel', 'Japan', 'Liechtenstein', 'Slovenia', 'Luxembourg', 'South_Korea', 'Spain', 'France', 'Czech_Republic', 'Malta', 'Estonia', 'Italy', 'United_Arab_Emirates', 'Greece', 'Cyprus', 'Lithuania', 'Poland', 'Andorra', 'Latvia', 'Portugal', 'Slovakia', 'Hungary', 'Saudi_Arabia', 'Bahrain', 'Chile', 'Croatia', 'Qatar', 'Argentina', 'Brunei', 'Montenegro', 'Romania', 'Palau', 'Kazakhstan', 'Russia', 'Belarus', 'Turkey', 'Uruguay', 'Bulgaria', 'Panama', 'The_Bahamas', 'Barbados', 'Oman', 'Georgia_(country)', 'Costa_Rica', 'Malaysia', 'Kuwait', 'Serbia', 'Mauritius', 'Seychelles', 'Trinidad_and_Tobago', 'Albania', 'Cuba', 'Iran', 'Sri_Lanka', 'Bosnia_and_Herzegovina', 'Grenada', 'Mexico', 'Saint_Kitts_and_Nevis', 'Ukraine', 'Antigua_and_Barbuda', 'Peru', 'Thailand', 'Armenia', 'North_Macedonia', 'Colombia', 'Brazil', 'China', 'Ecuador', 'Saint_Lucia', 'Azerbaijan', 'Dominican_Republic', 'Moldova', 'Algeria', 'Lebanon', 'Fiji', 'Dominica', 'Maldives', 'Tunisia', 'Saint_Vincent_and_the_Grenadines', 'Suriname', 'Mongolia', 'Botswana', 'Jamaica', 'Jordan', 'Paraguay', 'Tonga', 'Libya', 'Uzbekistan', 'Bolivia', 'Indonesia', 'Philippines', 'Belize', 'Samoa', 'Turkmenistan', 'Venezuela', 'South_Africa', 'State_of_Palestine', 'Egypt', '#cite_note-marshall-19', 'Marshall_Islands', '#cite_note-marshall-19', 'Vietnam', 'Gabon', 'Kyrgyzstan', 'Morocco', 'Guyana', 'Iraq', 'El_Salvador', 'Tajikistan', 'Cape_Verde', 'Guatemala', 'Nicaragua', 'Bhutan', 'Namibia', 'India', 'Honduras', 'Bangladesh', 'Kiribati', 'S%C3%A3o_Tom%C3%A9_and_Pr%C3%ADncipe', 'Federated_States_of_Micronesia', 'Laos', 'Eswatini', 'Ghana', 'Vanuatu', 'East_Timor', 'Nepal', 'Kenya', 'Cambodia', 'Equatorial_Guinea', 'Zambia', 'Myanmar', 'Angola', 'Republic_of_the_Congo', 'Zimbabwe', 'Solomon_Islands', 'Syria', 'Cameroon', 'Pakistan', 'Papua_New_Guinea', 'Comoros', 'Mauritania', 'Benin', 'Uganda', 'Rwanda', 'Nigeria', 'Ivory_Coast', 'Tanzania', 'Madagascar', 'Lesotho', 'Djibouti', 'Togo', 'Senegal', 'Afghanistan', 'Haiti', 'Sudan', 'The_Gambia', 'Ethiopia', 'Malawi', 'Democratic_Republic_of_the_Congo', 'Guinea-Bissau', 'Liberia', 'Guinea', 'Yemen', 'Eritrea', 'Mozambique', 'Burkina_Faso', 'Sierra_Leone', 'Mali', 'Burundi', 'South_Sudan', 'Chad']\n"
     ]
    }
   ],
   "source": [
    "project_href = [i['href'] for i in soup.find_all('a', href=True) if i['href'] != \"#\"]\n",
    "\n",
    "nations = []\n",
    "for i in project_href[85:276]:\n",
    "    for j in i.split('/')[-1:]:\n",
    "        nations.append(j)\n",
    "print(nations)"
   ]
  },
  {
   "cell_type": "code",
   "execution_count": 1829,
   "metadata": {},
   "outputs": [],
   "source": [
    "stp = [i for i,j in enumerate(nations) if j == \"S%C3%A3o_Tom%C3%A9_and_Pr%C3%ADncipe\"]"
   ]
  },
  {
   "cell_type": "code",
   "execution_count": 1830,
   "metadata": {},
   "outputs": [
    {
     "data": {
      "text/plain": [
       "[138]"
      ]
     },
     "execution_count": 1830,
     "metadata": {},
     "output_type": "execute_result"
    }
   ],
   "source": [
    "stp"
   ]
  },
  {
   "cell_type": "code",
   "execution_count": 1831,
   "metadata": {},
   "outputs": [],
   "source": [
    "def text_cleaner(x):\n",
    "    n = []\n",
    "    for i in x:\n",
    "        if '#' in i:\n",
    "            pass\n",
    "        else:\n",
    "            n.append(i.replace('_', ' '))\n",
    "    return n"
   ]
  },
  {
   "cell_type": "code",
   "execution_count": 1832,
   "metadata": {},
   "outputs": [],
   "source": [
    "nation = text_cleaner(nations)"
   ]
  },
  {
   "cell_type": "code",
   "execution_count": 1833,
   "metadata": {},
   "outputs": [
    {
     "data": {
      "text/plain": [
       "187"
      ]
     },
     "execution_count": 1833,
     "metadata": {},
     "output_type": "execute_result"
    }
   ],
   "source": [
    "#verify all data from column nation had been collected\n",
    "len(nation)"
   ]
  },
  {
   "cell_type": "code",
   "execution_count": 1834,
   "metadata": {},
   "outputs": [],
   "source": [
    "country = pd.DataFrame(nation)"
   ]
  },
  {
   "cell_type": "code",
   "execution_count": 1835,
   "metadata": {},
   "outputs": [],
   "source": [
    "data_frame = pd.merge(country,df,left_index = True, right_index = True)"
   ]
  },
  {
   "cell_type": "code",
   "execution_count": 1836,
   "metadata": {},
   "outputs": [
    {
     "data": {
      "text/html": [
       "<div>\n",
       "<style scoped>\n",
       "    .dataframe tbody tr th:only-of-type {\n",
       "        vertical-align: middle;\n",
       "    }\n",
       "\n",
       "    .dataframe tbody tr th {\n",
       "        vertical-align: top;\n",
       "    }\n",
       "\n",
       "    .dataframe thead th {\n",
       "        text-align: right;\n",
       "    }\n",
       "</style>\n",
       "<table border=\"1\" class=\"dataframe\">\n",
       "  <thead>\n",
       "    <tr style=\"text-align: right;\">\n",
       "      <th></th>\n",
       "      <th>Country</th>\n",
       "    </tr>\n",
       "  </thead>\n",
       "  <tbody>\n",
       "    <tr>\n",
       "      <th>0</th>\n",
       "      <td>Norway</td>\n",
       "    </tr>\n",
       "    <tr>\n",
       "      <th>1</th>\n",
       "      <td>Republic of Ireland</td>\n",
       "    </tr>\n",
       "    <tr>\n",
       "      <th>2</th>\n",
       "      <td>Switzerland</td>\n",
       "    </tr>\n",
       "    <tr>\n",
       "      <th>3</th>\n",
       "      <td>Hong Kong</td>\n",
       "    </tr>\n",
       "    <tr>\n",
       "      <th>4</th>\n",
       "      <td>Iceland</td>\n",
       "    </tr>\n",
       "    <tr>\n",
       "      <th>...</th>\n",
       "      <td>...</td>\n",
       "    </tr>\n",
       "    <tr>\n",
       "      <th>182</th>\n",
       "      <td>Sierra Leone</td>\n",
       "    </tr>\n",
       "    <tr>\n",
       "      <th>183</th>\n",
       "      <td>Mali</td>\n",
       "    </tr>\n",
       "    <tr>\n",
       "      <th>184</th>\n",
       "      <td>Burundi</td>\n",
       "    </tr>\n",
       "    <tr>\n",
       "      <th>185</th>\n",
       "      <td>South Sudan</td>\n",
       "    </tr>\n",
       "    <tr>\n",
       "      <th>186</th>\n",
       "      <td>Chad</td>\n",
       "    </tr>\n",
       "  </tbody>\n",
       "</table>\n",
       "<p>187 rows × 1 columns</p>\n",
       "</div>"
      ],
      "text/plain": [
       "                 Country\n",
       "0                 Norway\n",
       "1    Republic of Ireland\n",
       "2            Switzerland\n",
       "3              Hong Kong\n",
       "4                Iceland\n",
       "..                   ...\n",
       "182         Sierra Leone\n",
       "183                 Mali\n",
       "184              Burundi\n",
       "185          South Sudan\n",
       "186                 Chad\n",
       "\n",
       "[187 rows x 1 columns]"
      ]
     },
     "execution_count": 1836,
     "metadata": {},
     "output_type": "execute_result"
    }
   ],
   "source": [
    "country.rename(columns = {0:\"Country\"})"
   ]
  },
  {
   "cell_type": "code",
   "execution_count": 1837,
   "metadata": {},
   "outputs": [
    {
     "data": {
      "text/html": [
       "<div>\n",
       "<style scoped>\n",
       "    .dataframe tbody tr th:only-of-type {\n",
       "        vertical-align: middle;\n",
       "    }\n",
       "\n",
       "    .dataframe tbody tr th {\n",
       "        vertical-align: top;\n",
       "    }\n",
       "\n",
       "    .dataframe thead th {\n",
       "        text-align: right;\n",
       "    }\n",
       "</style>\n",
       "<table border=\"1\" class=\"dataframe\">\n",
       "  <thead>\n",
       "    <tr style=\"text-align: right;\">\n",
       "      <th></th>\n",
       "      <th>0_x</th>\n",
       "      <th>0_y</th>\n",
       "      <th>1</th>\n",
       "      <th>2</th>\n",
       "      <th>3</th>\n",
       "    </tr>\n",
       "  </thead>\n",
       "  <tbody>\n",
       "    <tr>\n",
       "      <th>0</th>\n",
       "      <td>Norway</td>\n",
       "      <td>1</td>\n",
       "      <td></td>\n",
       "      <td>0.957</td>\n",
       "      <td>0.20%</td>\n",
       "    </tr>\n",
       "    <tr>\n",
       "      <th>1</th>\n",
       "      <td>Republic of Ireland</td>\n",
       "      <td>2</td>\n",
       "      <td>(7)</td>\n",
       "      <td>0.955</td>\n",
       "      <td>0.65%</td>\n",
       "    </tr>\n",
       "    <tr>\n",
       "      <th>2</th>\n",
       "      <td>Switzerland</td>\n",
       "      <td>2</td>\n",
       "      <td></td>\n",
       "      <td>0.955</td>\n",
       "      <td>0.16%</td>\n",
       "    </tr>\n",
       "  </tbody>\n",
       "</table>\n",
       "</div>"
      ],
      "text/plain": [
       "                   0_x 0_y     1      2       3\n",
       "0               Norway   1        0.957   0.20%\n",
       "1  Republic of Ireland   2   (7)  0.955   0.65%\n",
       "2          Switzerland   2        0.955   0.16%"
      ]
     },
     "execution_count": 1837,
     "metadata": {},
     "output_type": "execute_result"
    }
   ],
   "source": [
    "data_frame.head(3)"
   ]
  },
  {
   "cell_type": "code",
   "execution_count": 1838,
   "metadata": {},
   "outputs": [],
   "source": [
    "del data_frame['0_y']"
   ]
  },
  {
   "cell_type": "code",
   "execution_count": 1839,
   "metadata": {},
   "outputs": [],
   "source": [
    "#data_frame.columns = ['Country', 'HDI Change (5 yrs)', 'HDI (2020 Report)', 'Avg. annual growth (%)']"
   ]
  },
  {
   "cell_type": "code",
   "execution_count": 1840,
   "metadata": {},
   "outputs": [
    {
     "data": {
      "text/plain": [
       "0_x    0\n",
       "1      0\n",
       "2      0\n",
       "3      0\n",
       "dtype: int64"
      ]
     },
     "execution_count": 1840,
     "metadata": {},
     "output_type": "execute_result"
    }
   ],
   "source": [
    "data_frame.isnull().sum()"
   ]
  },
  {
   "cell_type": "code",
   "execution_count": 1841,
   "metadata": {},
   "outputs": [
    {
     "data": {
      "text/plain": [
       "Index(['0_x', 1, 2, 3], dtype='object')"
      ]
     },
     "execution_count": 1841,
     "metadata": {},
     "output_type": "execute_result"
    }
   ],
   "source": [
    "data_frame.columns"
   ]
  },
  {
   "cell_type": "code",
   "execution_count": 1842,
   "metadata": {},
   "outputs": [],
   "source": [
    "data_frame.rename(columns = {'0_x':'Country', 1: 'HDI Change (5 yrs)', 2:'HDI (2020 Report)', 3:'Avg. Annual Growth'},inplace = True)"
   ]
  },
  {
   "cell_type": "code",
   "execution_count": 1843,
   "metadata": {},
   "outputs": [
    {
     "data": {
      "text/html": [
       "<div>\n",
       "<style scoped>\n",
       "    .dataframe tbody tr th:only-of-type {\n",
       "        vertical-align: middle;\n",
       "    }\n",
       "\n",
       "    .dataframe tbody tr th {\n",
       "        vertical-align: top;\n",
       "    }\n",
       "\n",
       "    .dataframe thead th {\n",
       "        text-align: right;\n",
       "    }\n",
       "</style>\n",
       "<table border=\"1\" class=\"dataframe\">\n",
       "  <thead>\n",
       "    <tr style=\"text-align: right;\">\n",
       "      <th></th>\n",
       "      <th>Country</th>\n",
       "      <th>HDI Change (5 yrs)</th>\n",
       "      <th>HDI (2020 Report)</th>\n",
       "      <th>Avg. Annual Growth</th>\n",
       "    </tr>\n",
       "  </thead>\n",
       "  <tbody>\n",
       "    <tr>\n",
       "      <th>0</th>\n",
       "      <td>Norway</td>\n",
       "      <td></td>\n",
       "      <td>0.957</td>\n",
       "      <td>0.20%</td>\n",
       "    </tr>\n",
       "    <tr>\n",
       "      <th>1</th>\n",
       "      <td>Republic of Ireland</td>\n",
       "      <td>(7)</td>\n",
       "      <td>0.955</td>\n",
       "      <td>0.65%</td>\n",
       "    </tr>\n",
       "    <tr>\n",
       "      <th>2</th>\n",
       "      <td>Switzerland</td>\n",
       "      <td></td>\n",
       "      <td>0.955</td>\n",
       "      <td>0.16%</td>\n",
       "    </tr>\n",
       "    <tr>\n",
       "      <th>3</th>\n",
       "      <td>Hong Kong</td>\n",
       "      <td>(7)</td>\n",
       "      <td>0.949</td>\n",
       "      <td>0.54%</td>\n",
       "    </tr>\n",
       "    <tr>\n",
       "      <th>4</th>\n",
       "      <td>Iceland</td>\n",
       "      <td>(4)</td>\n",
       "      <td>0.949</td>\n",
       "      <td>0.62%</td>\n",
       "    </tr>\n",
       "  </tbody>\n",
       "</table>\n",
       "</div>"
      ],
      "text/plain": [
       "               Country HDI Change (5 yrs) HDI (2020 Report) Avg. Annual Growth\n",
       "0               Norway                                0.957              0.20%\n",
       "1  Republic of Ireland                (7)             0.955              0.65%\n",
       "2          Switzerland                                0.955              0.16%\n",
       "3            Hong Kong                (7)             0.949              0.54%\n",
       "4              Iceland                (4)             0.949              0.62%"
      ]
     },
     "execution_count": 1843,
     "metadata": {},
     "output_type": "execute_result"
    }
   ],
   "source": [
    "data_frame.head()"
   ]
  },
  {
   "cell_type": "code",
   "execution_count": 1844,
   "metadata": {},
   "outputs": [],
   "source": [
    "data_frame['Country'][134] = \"Sao Tome and Principe\""
   ]
  },
  {
   "cell_type": "code",
   "execution_count": 1845,
   "metadata": {},
   "outputs": [
    {
     "data": {
      "text/plain": [
       "'Sao Tome and Principe'"
      ]
     },
     "execution_count": 1845,
     "metadata": {},
     "output_type": "execute_result"
    }
   ],
   "source": [
    "data_frame['Country'][134]"
   ]
  },
  {
   "cell_type": "code",
   "execution_count": 1846,
   "metadata": {},
   "outputs": [],
   "source": [
    "countries_negative_hdi_growth = ['Lebanon', 'Jordan', 'Libya', 'Venezuela', 'East Timor', 'Syria', 'Yemen']"
   ]
  },
  {
   "cell_type": "code",
   "execution_count": 1847,
   "metadata": {},
   "outputs": [
    {
     "data": {
      "text/html": [
       "<div>\n",
       "<style scoped>\n",
       "    .dataframe tbody tr th:only-of-type {\n",
       "        vertical-align: middle;\n",
       "    }\n",
       "\n",
       "    .dataframe tbody tr th {\n",
       "        vertical-align: top;\n",
       "    }\n",
       "\n",
       "    .dataframe thead th {\n",
       "        text-align: right;\n",
       "    }\n",
       "</style>\n",
       "<table border=\"1\" class=\"dataframe\">\n",
       "  <thead>\n",
       "    <tr style=\"text-align: right;\">\n",
       "      <th></th>\n",
       "      <th>Country</th>\n",
       "      <th>HDI Change (5 yrs)</th>\n",
       "      <th>HDI (2020 Report)</th>\n",
       "      <th>Avg. Annual Growth</th>\n",
       "    </tr>\n",
       "  </thead>\n",
       "  <tbody>\n",
       "    <tr>\n",
       "      <th>0</th>\n",
       "      <td>Norway</td>\n",
       "      <td></td>\n",
       "      <td>0.957</td>\n",
       "      <td>0.20%</td>\n",
       "    </tr>\n",
       "    <tr>\n",
       "      <th>1</th>\n",
       "      <td>Republic of Ireland</td>\n",
       "      <td>(7)</td>\n",
       "      <td>0.955</td>\n",
       "      <td>0.65%</td>\n",
       "    </tr>\n",
       "    <tr>\n",
       "      <th>2</th>\n",
       "      <td>Switzerland</td>\n",
       "      <td></td>\n",
       "      <td>0.955</td>\n",
       "      <td>0.16%</td>\n",
       "    </tr>\n",
       "    <tr>\n",
       "      <th>3</th>\n",
       "      <td>Hong Kong</td>\n",
       "      <td>(7)</td>\n",
       "      <td>0.949</td>\n",
       "      <td>0.54%</td>\n",
       "    </tr>\n",
       "    <tr>\n",
       "      <th>4</th>\n",
       "      <td>Iceland</td>\n",
       "      <td>(4)</td>\n",
       "      <td>0.949</td>\n",
       "      <td>0.62%</td>\n",
       "    </tr>\n",
       "  </tbody>\n",
       "</table>\n",
       "</div>"
      ],
      "text/plain": [
       "               Country HDI Change (5 yrs) HDI (2020 Report) Avg. Annual Growth\n",
       "0               Norway                                0.957              0.20%\n",
       "1  Republic of Ireland                (7)             0.955              0.65%\n",
       "2          Switzerland                                0.955              0.16%\n",
       "3            Hong Kong                (7)             0.949              0.54%\n",
       "4              Iceland                (4)             0.949              0.62%"
      ]
     },
     "execution_count": 1847,
     "metadata": {},
     "output_type": "execute_result"
    }
   ],
   "source": [
    "data_frame.head()"
   ]
  },
  {
   "cell_type": "code",
   "execution_count": 1848,
   "metadata": {},
   "outputs": [
    {
     "data": {
      "text/plain": [
       "Country               0\n",
       "HDI Change (5 yrs)    0\n",
       "HDI (2020 Report)     0\n",
       "Avg. Annual Growth    0\n",
       "dtype: int64"
      ]
     },
     "execution_count": 1848,
     "metadata": {},
     "output_type": "execute_result"
    }
   ],
   "source": [
    "data_frame.isnull().sum()"
   ]
  },
  {
   "cell_type": "code",
   "execution_count": 1849,
   "metadata": {},
   "outputs": [
    {
     "data": {
      "text/plain": [
       "Country               object\n",
       "HDI Change (5 yrs)    object\n",
       "HDI (2020 Report)     object\n",
       "Avg. Annual Growth    object\n",
       "dtype: object"
      ]
     },
     "execution_count": 1849,
     "metadata": {},
     "output_type": "execute_result"
    }
   ],
   "source": [
    "data_frame.dtypes"
   ]
  },
  {
   "cell_type": "code",
   "execution_count": 1850,
   "metadata": {},
   "outputs": [
    {
     "data": {
      "text/plain": [
       "Index(['Country', 'HDI Change (5 yrs)', 'HDI (2020 Report)',\n",
       "       'Avg. Annual Growth'],\n",
       "      dtype='object')"
      ]
     },
     "execution_count": 1850,
     "metadata": {},
     "output_type": "execute_result"
    }
   ],
   "source": [
    "data_frame.columns"
   ]
  },
  {
   "cell_type": "code",
   "execution_count": 1851,
   "metadata": {},
   "outputs": [],
   "source": [
    "data_frame['Avg. Annual Growth'] = data_frame['Avg. Annual Growth'].apply(lambda x: x[:-1])"
   ]
  },
  {
   "cell_type": "code",
   "execution_count": 1852,
   "metadata": {},
   "outputs": [],
   "source": [
    "n = []\n",
    "for i in data_frame['Avg. Annual Growth']:\n",
    "    if i == 'NA[a':\n",
    "        n.append(0)\n",
    "    else:\n",
    "        n.append(i)\n",
    "#print(pd.Series(n))"
   ]
  },
  {
   "cell_type": "code",
   "execution_count": 1853,
   "metadata": {},
   "outputs": [],
   "source": [
    "data_frame['Avg. Annual Growth'] = n"
   ]
  },
  {
   "cell_type": "code",
   "execution_count": 1854,
   "metadata": {},
   "outputs": [],
   "source": [
    "data_frame['Avg. Annual Growth'] = data_frame['Avg. Annual Growth'].str.strip().astype(float)"
   ]
  },
  {
   "cell_type": "code",
   "execution_count": 1855,
   "metadata": {},
   "outputs": [],
   "source": [
    "data_frame[\"HDI Change (5 yrs)\"] = data_frame[\"HDI Change (5 yrs)\"].apply(lambda x: x[2] if len(x) > 0 else x)"
   ]
  },
  {
   "cell_type": "code",
   "execution_count": 1856,
   "metadata": {},
   "outputs": [],
   "source": [
    "data_frame['HDI (2020 Report)'] = data_frame['HDI (2020 Report)'].astype(float)"
   ]
  },
  {
   "cell_type": "code",
   "execution_count": 1857,
   "metadata": {},
   "outputs": [],
   "source": [
    "data_frame['HDI (2020 Report)'] = data_frame['HDI (2020 Report)'] * 100"
   ]
  },
  {
   "cell_type": "code",
   "execution_count": 1858,
   "metadata": {},
   "outputs": [
    {
     "data": {
      "text/plain": [
       "Country                object\n",
       "HDI Change (5 yrs)     object\n",
       "HDI (2020 Report)     float64\n",
       "Avg. Annual Growth    float64\n",
       "dtype: object"
      ]
     },
     "execution_count": 1858,
     "metadata": {},
     "output_type": "execute_result"
    }
   ],
   "source": [
    "data_frame.dtypes"
   ]
  },
  {
   "cell_type": "code",
   "execution_count": 1859,
   "metadata": {},
   "outputs": [
    {
     "data": {
      "text/html": [
       "<div>\n",
       "<style scoped>\n",
       "    .dataframe tbody tr th:only-of-type {\n",
       "        vertical-align: middle;\n",
       "    }\n",
       "\n",
       "    .dataframe tbody tr th {\n",
       "        vertical-align: top;\n",
       "    }\n",
       "\n",
       "    .dataframe thead th {\n",
       "        text-align: right;\n",
       "    }\n",
       "</style>\n",
       "<table border=\"1\" class=\"dataframe\">\n",
       "  <thead>\n",
       "    <tr style=\"text-align: right;\">\n",
       "      <th></th>\n",
       "      <th>Country</th>\n",
       "      <th>HDI Change (5 yrs)</th>\n",
       "      <th>HDI (2020 Report)</th>\n",
       "      <th>Avg. Annual Growth</th>\n",
       "    </tr>\n",
       "  </thead>\n",
       "  <tbody>\n",
       "    <tr>\n",
       "      <th>0</th>\n",
       "      <td>Norway</td>\n",
       "      <td></td>\n",
       "      <td>95.7</td>\n",
       "      <td>0.20</td>\n",
       "    </tr>\n",
       "    <tr>\n",
       "      <th>1</th>\n",
       "      <td>Republic of Ireland</td>\n",
       "      <td>7</td>\n",
       "      <td>95.5</td>\n",
       "      <td>0.65</td>\n",
       "    </tr>\n",
       "    <tr>\n",
       "      <th>2</th>\n",
       "      <td>Switzerland</td>\n",
       "      <td></td>\n",
       "      <td>95.5</td>\n",
       "      <td>0.16</td>\n",
       "    </tr>\n",
       "    <tr>\n",
       "      <th>3</th>\n",
       "      <td>Hong Kong</td>\n",
       "      <td>7</td>\n",
       "      <td>94.9</td>\n",
       "      <td>0.54</td>\n",
       "    </tr>\n",
       "    <tr>\n",
       "      <th>4</th>\n",
       "      <td>Iceland</td>\n",
       "      <td>4</td>\n",
       "      <td>94.9</td>\n",
       "      <td>0.62</td>\n",
       "    </tr>\n",
       "  </tbody>\n",
       "</table>\n",
       "</div>"
      ],
      "text/plain": [
       "               Country HDI Change (5 yrs)  HDI (2020 Report)  \\\n",
       "0               Norway                                  95.7   \n",
       "1  Republic of Ireland                  7               95.5   \n",
       "2          Switzerland                                  95.5   \n",
       "3            Hong Kong                  7               94.9   \n",
       "4              Iceland                  4               94.9   \n",
       "\n",
       "   Avg. Annual Growth  \n",
       "0                0.20  \n",
       "1                0.65  \n",
       "2                0.16  \n",
       "3                0.54  \n",
       "4                0.62  "
      ]
     },
     "execution_count": 1859,
     "metadata": {},
     "output_type": "execute_result"
    }
   ],
   "source": [
    "data_frame.head()"
   ]
  },
  {
   "cell_type": "code",
   "execution_count": 1860,
   "metadata": {},
   "outputs": [],
   "source": [
    "#def annual_growth(x,y):\n",
    "x = []\n",
    "neg_growth_countries = ['Lebanon', 'Jordan', 'Libya', 'Venezuela', 'East Timor', 'Syria', 'Yemen']\n",
    "for i in range(len(data_frame['Avg. Annual Growth'])):\n",
    "    if data_frame.iloc[i,0] in neg_growth_countries:\n",
    "        x.append(-1 * data_frame.iloc[i,3])\n",
    "    else:\n",
    "        x.append(data_frame.iloc[i,3])        "
   ]
  },
  {
   "cell_type": "code",
   "execution_count": 1861,
   "metadata": {},
   "outputs": [],
   "source": [
    "data_frame['Avg. Annual Growth'] = x"
   ]
  },
  {
   "cell_type": "code",
   "execution_count": 1862,
   "metadata": {},
   "outputs": [
    {
     "data": {
      "text/plain": [
       "Index(['Country', 'HDI Change (5 yrs)', 'HDI (2020 Report)',\n",
       "       'Avg. Annual Growth'],\n",
       "      dtype='object')"
      ]
     },
     "execution_count": 1862,
     "metadata": {},
     "output_type": "execute_result"
    }
   ],
   "source": [
    "data_frame.columns"
   ]
  },
  {
   "cell_type": "code",
   "execution_count": 1863,
   "metadata": {},
   "outputs": [
    {
     "data": {
      "text/html": [
       "<div>\n",
       "<style scoped>\n",
       "    .dataframe tbody tr th:only-of-type {\n",
       "        vertical-align: middle;\n",
       "    }\n",
       "\n",
       "    .dataframe tbody tr th {\n",
       "        vertical-align: top;\n",
       "    }\n",
       "\n",
       "    .dataframe thead th {\n",
       "        text-align: right;\n",
       "    }\n",
       "</style>\n",
       "<table border=\"1\" class=\"dataframe\">\n",
       "  <thead>\n",
       "    <tr style=\"text-align: right;\">\n",
       "      <th></th>\n",
       "      <th>Country</th>\n",
       "      <th>HDI Change (5 yrs)</th>\n",
       "      <th>HDI (2020 Report)</th>\n",
       "      <th>Avg. Annual Growth</th>\n",
       "    </tr>\n",
       "  </thead>\n",
       "  <tbody>\n",
       "    <tr>\n",
       "      <th>0</th>\n",
       "      <td>Norway</td>\n",
       "      <td></td>\n",
       "      <td>95.7</td>\n",
       "      <td>0.20</td>\n",
       "    </tr>\n",
       "    <tr>\n",
       "      <th>1</th>\n",
       "      <td>Republic of Ireland</td>\n",
       "      <td>7</td>\n",
       "      <td>95.5</td>\n",
       "      <td>0.65</td>\n",
       "    </tr>\n",
       "    <tr>\n",
       "      <th>2</th>\n",
       "      <td>Switzerland</td>\n",
       "      <td></td>\n",
       "      <td>95.5</td>\n",
       "      <td>0.16</td>\n",
       "    </tr>\n",
       "    <tr>\n",
       "      <th>3</th>\n",
       "      <td>Hong Kong</td>\n",
       "      <td>7</td>\n",
       "      <td>94.9</td>\n",
       "      <td>0.54</td>\n",
       "    </tr>\n",
       "    <tr>\n",
       "      <th>4</th>\n",
       "      <td>Iceland</td>\n",
       "      <td>4</td>\n",
       "      <td>94.9</td>\n",
       "      <td>0.62</td>\n",
       "    </tr>\n",
       "    <tr>\n",
       "      <th>...</th>\n",
       "      <td>...</td>\n",
       "      <td>...</td>\n",
       "      <td>...</td>\n",
       "      <td>...</td>\n",
       "    </tr>\n",
       "    <tr>\n",
       "      <th>182</th>\n",
       "      <td>Sierra Leone</td>\n",
       "      <td>2</td>\n",
       "      <td>45.2</td>\n",
       "      <td>1.40</td>\n",
       "    </tr>\n",
       "    <tr>\n",
       "      <th>183</th>\n",
       "      <td>Mali</td>\n",
       "      <td></td>\n",
       "      <td>43.4</td>\n",
       "      <td>0.69</td>\n",
       "    </tr>\n",
       "    <tr>\n",
       "      <th>184</th>\n",
       "      <td>Burundi</td>\n",
       "      <td>5</td>\n",
       "      <td>43.3</td>\n",
       "      <td>0.58</td>\n",
       "    </tr>\n",
       "    <tr>\n",
       "      <th>185</th>\n",
       "      <td>South Sudan</td>\n",
       "      <td>3</td>\n",
       "      <td>43.3</td>\n",
       "      <td>0.61</td>\n",
       "    </tr>\n",
       "    <tr>\n",
       "      <th>186</th>\n",
       "      <td>Chad</td>\n",
       "      <td>1</td>\n",
       "      <td>39.8</td>\n",
       "      <td>0.84</td>\n",
       "    </tr>\n",
       "  </tbody>\n",
       "</table>\n",
       "<p>187 rows × 4 columns</p>\n",
       "</div>"
      ],
      "text/plain": [
       "                 Country HDI Change (5 yrs)  HDI (2020 Report)  \\\n",
       "0                 Norway                                  95.7   \n",
       "1    Republic of Ireland                  7               95.5   \n",
       "2            Switzerland                                  95.5   \n",
       "3              Hong Kong                  7               94.9   \n",
       "4                Iceland                  4               94.9   \n",
       "..                   ...                ...                ...   \n",
       "182         Sierra Leone                  2               45.2   \n",
       "183                 Mali                                  43.4   \n",
       "184              Burundi                  5               43.3   \n",
       "185          South Sudan                  3               43.3   \n",
       "186                 Chad                  1               39.8   \n",
       "\n",
       "     Avg. Annual Growth  \n",
       "0                  0.20  \n",
       "1                  0.65  \n",
       "2                  0.16  \n",
       "3                  0.54  \n",
       "4                  0.62  \n",
       "..                  ...  \n",
       "182                1.40  \n",
       "183                0.69  \n",
       "184                0.58  \n",
       "185                0.61  \n",
       "186                0.84  \n",
       "\n",
       "[187 rows x 4 columns]"
      ]
     },
     "execution_count": 1863,
     "metadata": {},
     "output_type": "execute_result"
    }
   ],
   "source": [
    "data_frame"
   ]
  },
  {
   "cell_type": "code",
   "execution_count": 1864,
   "metadata": {},
   "outputs": [],
   "source": [
    "#Need GeoSchemes, scrape this\n",
    "url_ungs = \"https://en.wikipedia.org/wiki/List_of_countries_by_United_Nations_geoscheme\"\n",
    "html1 = urlopen(url_ungs) \n",
    "soup1 = BeautifulSoup(html1, 'html.parser')"
   ]
  },
  {
   "cell_type": "code",
   "execution_count": 1865,
   "metadata": {},
   "outputs": [],
   "source": [
    "geoschemes = soup1.find_all('body')"
   ]
  },
  {
   "cell_type": "code",
   "execution_count": 1866,
   "metadata": {},
   "outputs": [
    {
     "name": "stdout",
     "output_type": "stream",
     "text": [
      "Number of tables on site:  2\n"
     ]
    }
   ],
   "source": [
    "tables1 = soup1.find_all(\"table\", attrs={\"class\": \"wikitable\"})\n",
    "print(\"Number of tables on site: \",len(tabl))"
   ]
  },
  {
   "cell_type": "code",
   "execution_count": 1867,
   "metadata": {},
   "outputs": [
    {
     "name": "stdout",
     "output_type": "stream",
     "text": [
      "['Country or Area', 'Sub-Subregion', 'Subregion', 'Region', 'UNSD M49 Codes']\n"
     ]
    }
   ],
   "source": [
    "table_ungs = tables1[0]\n",
    "\n",
    "body = table_ungs.find_all(\"tr\")\n",
    "head = body[0]\n",
    "body_rows = body[1:]\n",
    "\n",
    "headings = []\n",
    "\n",
    "for item in head.find_all(\"th\"):\n",
    "    item = (item.text).rstrip(\"\\n\")\n",
    "    headings.append(item)\n",
    "print(headings)"
   ]
  },
  {
   "cell_type": "code",
   "execution_count": 1868,
   "metadata": {},
   "outputs": [],
   "source": [
    "all_rows = [] # will be a list for list for all rows\n",
    "for row_num in range(len(body_rows)): # A row at a time\n",
    "    row = [] # this will old entries for one row\n",
    "    for row_item in body_rows[row_num].find_all(\"td\"): #loop through all row entries\n",
    "        # row_item.text removes the tags from the entries\n",
    "        # the following regex is to remove \\xa0 and \\n and comma from row_item.text\n",
    "        # xa0 encodes the flag, \\n is the newline and comma separates thousands in numbers\n",
    "        aa = re.sub(\"(\\xa0)|(\\n)|,\",\"\",row_item.text)\n",
    "        #append aa to row - note one row entry is being appended\n",
    "        row.append(aa)\n",
    "    # append one row to all_rows\n",
    "    all_rows.append(row)"
   ]
  },
  {
   "cell_type": "code",
   "execution_count": 1869,
   "metadata": {},
   "outputs": [
    {
     "data": {
      "text/plain": [
       "list"
      ]
     },
     "execution_count": 1869,
     "metadata": {},
     "output_type": "execute_result"
    }
   ],
   "source": [
    "type(all_rows)"
   ]
  },
  {
   "cell_type": "code",
   "execution_count": 1870,
   "metadata": {},
   "outputs": [],
   "source": [
    "df1 = pd.DataFrame(all_rows)"
   ]
  },
  {
   "cell_type": "code",
   "execution_count": 1871,
   "metadata": {},
   "outputs": [
    {
     "data": {
      "text/html": [
       "<div>\n",
       "<style scoped>\n",
       "    .dataframe tbody tr th:only-of-type {\n",
       "        vertical-align: middle;\n",
       "    }\n",
       "\n",
       "    .dataframe tbody tr th {\n",
       "        vertical-align: top;\n",
       "    }\n",
       "\n",
       "    .dataframe thead th {\n",
       "        text-align: right;\n",
       "    }\n",
       "</style>\n",
       "<table border=\"1\" class=\"dataframe\">\n",
       "  <thead>\n",
       "    <tr style=\"text-align: right;\">\n",
       "      <th></th>\n",
       "      <th>0</th>\n",
       "      <th>1</th>\n",
       "      <th>2</th>\n",
       "      <th>3</th>\n",
       "      <th>4</th>\n",
       "    </tr>\n",
       "  </thead>\n",
       "  <tbody>\n",
       "    <tr>\n",
       "      <th>0</th>\n",
       "      <td>Algeria</td>\n",
       "      <td></td>\n",
       "      <td>Northern Africa</td>\n",
       "      <td>Africa</td>\n",
       "      <td>012 &lt; 015 &lt; 002 &lt; 001</td>\n",
       "    </tr>\n",
       "    <tr>\n",
       "      <th>1</th>\n",
       "      <td>Egypt</td>\n",
       "      <td></td>\n",
       "      <td>Northern Africa</td>\n",
       "      <td>Africa</td>\n",
       "      <td>818 &lt; 015 &lt; 002 &lt; 001</td>\n",
       "    </tr>\n",
       "    <tr>\n",
       "      <th>2</th>\n",
       "      <td>Libya</td>\n",
       "      <td></td>\n",
       "      <td>Northern Africa</td>\n",
       "      <td>Africa</td>\n",
       "      <td>434 &lt; 015 &lt; 002 &lt; 001</td>\n",
       "    </tr>\n",
       "    <tr>\n",
       "      <th>3</th>\n",
       "      <td>Morocco</td>\n",
       "      <td></td>\n",
       "      <td>Northern Africa</td>\n",
       "      <td>Africa</td>\n",
       "      <td>504 &lt; 015 &lt; 002 &lt; 001</td>\n",
       "    </tr>\n",
       "    <tr>\n",
       "      <th>4</th>\n",
       "      <td>Sudan</td>\n",
       "      <td></td>\n",
       "      <td>Northern Africa</td>\n",
       "      <td>Africa</td>\n",
       "      <td>729 &lt; 015 &lt; 002 &lt; 001</td>\n",
       "    </tr>\n",
       "    <tr>\n",
       "      <th>...</th>\n",
       "      <td>...</td>\n",
       "      <td>...</td>\n",
       "      <td>...</td>\n",
       "      <td>...</td>\n",
       "      <td>...</td>\n",
       "    </tr>\n",
       "    <tr>\n",
       "      <th>244</th>\n",
       "      <td>Samoa</td>\n",
       "      <td></td>\n",
       "      <td>Polynesia</td>\n",
       "      <td>Oceania</td>\n",
       "      <td>882 &lt; 061 &lt; 009 &lt; 001</td>\n",
       "    </tr>\n",
       "    <tr>\n",
       "      <th>245</th>\n",
       "      <td>Tokelau</td>\n",
       "      <td></td>\n",
       "      <td>Polynesia</td>\n",
       "      <td>Oceania</td>\n",
       "      <td>772 &lt; 061 &lt; 009 &lt; 001</td>\n",
       "    </tr>\n",
       "    <tr>\n",
       "      <th>246</th>\n",
       "      <td>Tonga</td>\n",
       "      <td></td>\n",
       "      <td>Polynesia</td>\n",
       "      <td>Oceania</td>\n",
       "      <td>776 &lt; 061 &lt; 009 &lt; 001</td>\n",
       "    </tr>\n",
       "    <tr>\n",
       "      <th>247</th>\n",
       "      <td>Tuvalu</td>\n",
       "      <td></td>\n",
       "      <td>Polynesia</td>\n",
       "      <td>Oceania</td>\n",
       "      <td>798 &lt; 061 &lt; 009 &lt; 001</td>\n",
       "    </tr>\n",
       "    <tr>\n",
       "      <th>248</th>\n",
       "      <td>Wallis and Futuna</td>\n",
       "      <td></td>\n",
       "      <td>Polynesia</td>\n",
       "      <td>Oceania</td>\n",
       "      <td>876 &lt; 061 &lt; 009 &lt; 001</td>\n",
       "    </tr>\n",
       "  </tbody>\n",
       "</table>\n",
       "<p>249 rows × 5 columns</p>\n",
       "</div>"
      ],
      "text/plain": [
       "                      0 1                 2        3                      4\n",
       "0               Algeria     Northern Africa   Africa  012 < 015 < 002 < 001\n",
       "1                 Egypt     Northern Africa   Africa  818 < 015 < 002 < 001\n",
       "2                 Libya     Northern Africa   Africa  434 < 015 < 002 < 001\n",
       "3               Morocco     Northern Africa   Africa  504 < 015 < 002 < 001\n",
       "4                 Sudan     Northern Africa   Africa  729 < 015 < 002 < 001\n",
       "..                  ... ..              ...      ...                    ...\n",
       "244               Samoa           Polynesia  Oceania  882 < 061 < 009 < 001\n",
       "245             Tokelau           Polynesia  Oceania  772 < 061 < 009 < 001\n",
       "246               Tonga           Polynesia  Oceania  776 < 061 < 009 < 001\n",
       "247              Tuvalu           Polynesia  Oceania  798 < 061 < 009 < 001\n",
       "248   Wallis and Futuna           Polynesia  Oceania  876 < 061 < 009 < 001\n",
       "\n",
       "[249 rows x 5 columns]"
      ]
     },
     "execution_count": 1871,
     "metadata": {},
     "output_type": "execute_result"
    }
   ],
   "source": [
    "df1"
   ]
  },
  {
   "cell_type": "code",
   "execution_count": 1872,
   "metadata": {},
   "outputs": [
    {
     "data": {
      "text/plain": [
       "['Country or Area', 'Sub-Subregion', 'Subregion', 'Region', 'UNSD M49 Codes']"
      ]
     },
     "execution_count": 1872,
     "metadata": {},
     "output_type": "execute_result"
    }
   ],
   "source": [
    "headings"
   ]
  },
  {
   "cell_type": "code",
   "execution_count": 1873,
   "metadata": {},
   "outputs": [],
   "source": [
    "df1.rename(columns = {0:'Country',1:'Sub-Subregion',2:'Subregion',3:'Region',4:'UNSD M49 Codes'}, inplace = True)"
   ]
  },
  {
   "cell_type": "code",
   "execution_count": 1874,
   "metadata": {},
   "outputs": [
    {
     "data": {
      "text/plain": [
       "Index(['Country', 'HDI Change (5 yrs)', 'HDI (2020 Report)',\n",
       "       'Avg. Annual Growth'],\n",
       "      dtype='object')"
      ]
     },
     "execution_count": 1874,
     "metadata": {},
     "output_type": "execute_result"
    }
   ],
   "source": [
    "data_frame.columns"
   ]
  },
  {
   "cell_type": "code",
   "execution_count": 1875,
   "metadata": {},
   "outputs": [],
   "source": [
    "df1['Country'] = df1['Country'].apply(lambda x: x.strip())"
   ]
  },
  {
   "cell_type": "code",
   "execution_count": 1876,
   "metadata": {},
   "outputs": [],
   "source": [
    "df = pd.merge(data_frame,df1, on = 'Country', how = 'left')"
   ]
  },
  {
   "cell_type": "code",
   "execution_count": 1877,
   "metadata": {},
   "outputs": [],
   "source": [
    "#when data was scraped some of the values came in\n",
    "df.fillna('', inplace=True)"
   ]
  },
  {
   "cell_type": "code",
   "execution_count": 1878,
   "metadata": {},
   "outputs": [],
   "source": [
    "df.replace('', np.nan, inplace = True)"
   ]
  },
  {
   "cell_type": "code",
   "execution_count": 1879,
   "metadata": {},
   "outputs": [],
   "source": [
    "df.drop(columns = {\"UNSD M49 Codes\"}, inplace = True)"
   ]
  },
  {
   "cell_type": "code",
   "execution_count": 1880,
   "metadata": {},
   "outputs": [],
   "source": [
    "missing_regions = {\"Republic of Ireland\": \"Northern Europe\",\n",
    "                  \"Hong Kong\": \"Eastern Asia\",\n",
    "                  \"South Korea\": \"Eastern Asia\",\n",
    "                  \"France\": \"Western Europe\",\n",
    "                  \"Czech Republic\": \"Eastern Europe\",\n",
    "                  \"The Bahamas\": \"Latin America and the Caribbean / North America\",\n",
    "                  \"Georgia (country)\": \"Western Asia\",\n",
    "                  \"State of Palestine\": \"Western Asia\",\n",
    "                  \"Cape Verde\": \"Western Africa\",\n",
    "                  \"Sao Tome and Principe\":\"Sub-Saharan Africa\",\n",
    "                  \"Federated States of Micronesia\":\"Micronesia\",\n",
    "                  \"Eswatini\":\"Sub-Saharan Africa\",\n",
    "                  \"East Timor\":\"South-eastern Asia\",\n",
    "                  \"Myanmar\":\"South-eastern Asia\",\n",
    "                  \"Republic of the Congo\":\"Sub-Saharan Africa\",\n",
    "                  \"Ivory Coast\": \"Sub-Saharan Africa\",\n",
    "                  \"The Gambia\": \"Sub-Saharan Africa\",\n",
    "                  \"Democratic Republic of the Congo\": \"Sub-Saharan Africa\"\n",
    "                  }"
   ]
  },
  {
   "cell_type": "code",
   "execution_count": 1881,
   "metadata": {},
   "outputs": [],
   "source": [
    "df['Subregion'] = df['Subregion'].fillna(df.Country.map(missing_regions))"
   ]
  },
  {
   "cell_type": "code",
   "execution_count": 1882,
   "metadata": {},
   "outputs": [],
   "source": [
    "df['Sub-Subregion'] = df['Subregion'].where(df['Sub-Subregion'].isna(),df['Sub-Subregion'])"
   ]
  },
  {
   "cell_type": "code",
   "execution_count": 1883,
   "metadata": {},
   "outputs": [],
   "source": [
    "regions = {\"Republic of Ireland\": \"Europe\",\n",
    "                  \"Hong Kong\": \"Asia\",\n",
    "                  \"South Korea\": \"Asia\",\n",
    "                  \"France\": \"Europe\",\n",
    "                  \"Czech Republic\": \"Europe\",\n",
    "                  \"The Bahamas\": \"Americas\",\n",
    "                  \"Georgia (country)\": \"Asia\",\n",
    "                  \"State of Palestine\": \"Asia\",\n",
    "                  \"Cape Verde\": \"Africa\",\n",
    "                  \"Sao Tome and Principe\":\"Africa\",\n",
    "                  \"Federated States of Micronesia\":\"Oceania\",\n",
    "                  \"Eswatini\":\"Africa\",\n",
    "                  \"East Timor\":\"Asia\",\n",
    "                  \"Myanmar\":\"Asia\",\n",
    "                  \"Republic of the Congo\":\"Africa\",\n",
    "                  \"Ivory Coast\": \"Africa\",\n",
    "                  \"The Gambia\": \"Africa\",\n",
    "                  \"Democratic Republic of the Congo\": \"Africa\"\n",
    "                  }"
   ]
  },
  {
   "cell_type": "code",
   "execution_count": 1884,
   "metadata": {},
   "outputs": [],
   "source": [
    "df['Region'] = df['Region'].fillna(df.Country.map(regions))"
   ]
  },
  {
   "cell_type": "code",
   "execution_count": 1885,
   "metadata": {},
   "outputs": [
    {
     "name": "stdout",
     "output_type": "stream",
     "text": [
      "<class 'pandas.core.frame.DataFrame'>\n",
      "Int64Index: 187 entries, 0 to 186\n",
      "Data columns (total 7 columns):\n",
      " #   Column              Non-Null Count  Dtype  \n",
      "---  ------              --------------  -----  \n",
      " 0   Country             187 non-null    object \n",
      " 1   HDI Change (5 yrs)  162 non-null    object \n",
      " 2   HDI (2020 Report)   187 non-null    float64\n",
      " 3   Avg. Annual Growth  186 non-null    float64\n",
      " 4   Sub-Subregion       187 non-null    object \n",
      " 5   Subregion           187 non-null    object \n",
      " 6   Region              187 non-null    object \n",
      "dtypes: float64(2), object(5)\n",
      "memory usage: 11.7+ KB\n"
     ]
    }
   ],
   "source": [
    "df.info()"
   ]
  },
  {
   "cell_type": "code",
   "execution_count": 1886,
   "metadata": {},
   "outputs": [
    {
     "data": {
      "text/html": [
       "<div>\n",
       "<style scoped>\n",
       "    .dataframe tbody tr th:only-of-type {\n",
       "        vertical-align: middle;\n",
       "    }\n",
       "\n",
       "    .dataframe tbody tr th {\n",
       "        vertical-align: top;\n",
       "    }\n",
       "\n",
       "    .dataframe thead th {\n",
       "        text-align: right;\n",
       "    }\n",
       "</style>\n",
       "<table border=\"1\" class=\"dataframe\">\n",
       "  <thead>\n",
       "    <tr style=\"text-align: right;\">\n",
       "      <th></th>\n",
       "      <th>HDI (2020 Report)</th>\n",
       "      <th>Avg. Annual Growth</th>\n",
       "    </tr>\n",
       "  </thead>\n",
       "  <tbody>\n",
       "    <tr>\n",
       "      <th>count</th>\n",
       "      <td>187.000000</td>\n",
       "      <td>186.000000</td>\n",
       "    </tr>\n",
       "    <tr>\n",
       "      <th>mean</th>\n",
       "      <td>72.591979</td>\n",
       "      <td>0.608172</td>\n",
       "    </tr>\n",
       "    <tr>\n",
       "      <th>std</th>\n",
       "      <td>14.668666</td>\n",
       "      <td>0.489922</td>\n",
       "    </tr>\n",
       "    <tr>\n",
       "      <th>min</th>\n",
       "      <td>39.800000</td>\n",
       "      <td>-1.870000</td>\n",
       "    </tr>\n",
       "    <tr>\n",
       "      <th>25%</th>\n",
       "      <td>60.750000</td>\n",
       "      <td>0.350000</td>\n",
       "    </tr>\n",
       "    <tr>\n",
       "      <th>50%</th>\n",
       "      <td>74.200000</td>\n",
       "      <td>0.565000</td>\n",
       "    </tr>\n",
       "    <tr>\n",
       "      <th>75%</th>\n",
       "      <td>83.350000</td>\n",
       "      <td>0.870000</td>\n",
       "    </tr>\n",
       "    <tr>\n",
       "      <th>max</th>\n",
       "      <td>95.700000</td>\n",
       "      <td>2.030000</td>\n",
       "    </tr>\n",
       "  </tbody>\n",
       "</table>\n",
       "</div>"
      ],
      "text/plain": [
       "       HDI (2020 Report)  Avg. Annual Growth\n",
       "count         187.000000          186.000000\n",
       "mean           72.591979            0.608172\n",
       "std            14.668666            0.489922\n",
       "min            39.800000           -1.870000\n",
       "25%            60.750000            0.350000\n",
       "50%            74.200000            0.565000\n",
       "75%            83.350000            0.870000\n",
       "max            95.700000            2.030000"
      ]
     },
     "execution_count": 1886,
     "metadata": {},
     "output_type": "execute_result"
    }
   ],
   "source": [
    "df.describe()"
   ]
  },
  {
   "cell_type": "code",
   "execution_count": 1887,
   "metadata": {},
   "outputs": [
    {
     "data": {
      "text/html": [
       "<div>\n",
       "<style scoped>\n",
       "    .dataframe tbody tr th:only-of-type {\n",
       "        vertical-align: middle;\n",
       "    }\n",
       "\n",
       "    .dataframe tbody tr th {\n",
       "        vertical-align: top;\n",
       "    }\n",
       "\n",
       "    .dataframe thead th {\n",
       "        text-align: right;\n",
       "    }\n",
       "</style>\n",
       "<table border=\"1\" class=\"dataframe\">\n",
       "  <thead>\n",
       "    <tr style=\"text-align: right;\">\n",
       "      <th></th>\n",
       "      <th>Country</th>\n",
       "      <th>HDI Change (5 yrs)</th>\n",
       "      <th>HDI (2020 Report)</th>\n",
       "      <th>Avg. Annual Growth</th>\n",
       "      <th>Sub-Subregion</th>\n",
       "      <th>Subregion</th>\n",
       "      <th>Region</th>\n",
       "    </tr>\n",
       "  </thead>\n",
       "  <tbody>\n",
       "    <tr>\n",
       "      <th>91</th>\n",
       "      <td>Lebanon</td>\n",
       "      <td>6</td>\n",
       "      <td>74.4</td>\n",
       "      <td>-0.32</td>\n",
       "      <td>Western Asia</td>\n",
       "      <td>Western Asia</td>\n",
       "      <td>Asia</td>\n",
       "    </tr>\n",
       "    <tr>\n",
       "      <th>101</th>\n",
       "      <td>Jordan</td>\n",
       "      <td>3</td>\n",
       "      <td>72.9</td>\n",
       "      <td>-0.12</td>\n",
       "      <td>Western Asia</td>\n",
       "      <td>Western Asia</td>\n",
       "      <td>Asia</td>\n",
       "    </tr>\n",
       "    <tr>\n",
       "      <th>104</th>\n",
       "      <td>Libya</td>\n",
       "      <td>4</td>\n",
       "      <td>72.4</td>\n",
       "      <td>-1.08</td>\n",
       "      <td>Northern Africa</td>\n",
       "      <td>Northern Africa</td>\n",
       "      <td>Africa</td>\n",
       "    </tr>\n",
       "    <tr>\n",
       "      <th>112</th>\n",
       "      <td>Venezuela</td>\n",
       "      <td>4</td>\n",
       "      <td>71.1</td>\n",
       "      <td>-0.69</td>\n",
       "      <td>South America</td>\n",
       "      <td>Latin America and the Caribbean</td>\n",
       "      <td>Americas</td>\n",
       "    </tr>\n",
       "    <tr>\n",
       "      <th>140</th>\n",
       "      <td>East Timor</td>\n",
       "      <td>1</td>\n",
       "      <td>60.6</td>\n",
       "      <td>-0.40</td>\n",
       "      <td>South-eastern Asia</td>\n",
       "      <td>South-eastern Asia</td>\n",
       "      <td>Asia</td>\n",
       "    </tr>\n",
       "    <tr>\n",
       "      <th>151</th>\n",
       "      <td>Syria</td>\n",
       "      <td>2</td>\n",
       "      <td>56.7</td>\n",
       "      <td>-1.87</td>\n",
       "      <td>Western Asia</td>\n",
       "      <td>Western Asia</td>\n",
       "      <td>Asia</td>\n",
       "    </tr>\n",
       "    <tr>\n",
       "      <th>178</th>\n",
       "      <td>Yemen</td>\n",
       "      <td>1</td>\n",
       "      <td>47.0</td>\n",
       "      <td>-0.82</td>\n",
       "      <td>Western Asia</td>\n",
       "      <td>Western Asia</td>\n",
       "      <td>Asia</td>\n",
       "    </tr>\n",
       "  </tbody>\n",
       "</table>\n",
       "</div>"
      ],
      "text/plain": [
       "        Country HDI Change (5 yrs)  HDI (2020 Report)  Avg. Annual Growth  \\\n",
       "91      Lebanon                  6               74.4               -0.32   \n",
       "101      Jordan                  3               72.9               -0.12   \n",
       "104       Libya                  4               72.4               -1.08   \n",
       "112   Venezuela                  4               71.1               -0.69   \n",
       "140  East Timor                  1               60.6               -0.40   \n",
       "151       Syria                  2               56.7               -1.87   \n",
       "178       Yemen                  1               47.0               -0.82   \n",
       "\n",
       "          Sub-Subregion                        Subregion    Region  \n",
       "91         Western Asia                     Western Asia      Asia  \n",
       "101        Western Asia                     Western Asia      Asia  \n",
       "104     Northern Africa                  Northern Africa    Africa  \n",
       "112       South America  Latin America and the Caribbean  Americas  \n",
       "140  South-eastern Asia               South-eastern Asia      Asia  \n",
       "151        Western Asia                     Western Asia      Asia  \n",
       "178        Western Asia                     Western Asia      Asia  "
      ]
     },
     "execution_count": 1887,
     "metadata": {},
     "output_type": "execute_result"
    }
   ],
   "source": [
    "df[df['Avg. Annual Growth'] < 0]"
   ]
  },
  {
   "cell_type": "code",
   "execution_count": 1888,
   "metadata": {},
   "outputs": [
    {
     "data": {
      "text/html": [
       "<div>\n",
       "<style scoped>\n",
       "    .dataframe tbody tr th:only-of-type {\n",
       "        vertical-align: middle;\n",
       "    }\n",
       "\n",
       "    .dataframe tbody tr th {\n",
       "        vertical-align: top;\n",
       "    }\n",
       "\n",
       "    .dataframe thead th {\n",
       "        text-align: right;\n",
       "    }\n",
       "</style>\n",
       "<table border=\"1\" class=\"dataframe\">\n",
       "  <thead>\n",
       "    <tr style=\"text-align: right;\">\n",
       "      <th></th>\n",
       "      <th>Country</th>\n",
       "      <th>HDI Change (5 yrs)</th>\n",
       "      <th>HDI (2020 Report)</th>\n",
       "      <th>Avg. Annual Growth</th>\n",
       "      <th>Sub-Subregion</th>\n",
       "      <th>Subregion</th>\n",
       "      <th>Region</th>\n",
       "    </tr>\n",
       "  </thead>\n",
       "  <tbody>\n",
       "    <tr>\n",
       "      <th>137</th>\n",
       "      <td>Eswatini</td>\n",
       "      <td>5</td>\n",
       "      <td>61.1</td>\n",
       "      <td>2.03</td>\n",
       "      <td>Sub-Saharan Africa</td>\n",
       "      <td>Sub-Saharan Africa</td>\n",
       "      <td>Africa</td>\n",
       "    </tr>\n",
       "    <tr>\n",
       "      <th>149</th>\n",
       "      <td>Zimbabwe</td>\n",
       "      <td>1</td>\n",
       "      <td>57.1</td>\n",
       "      <td>1.90</td>\n",
       "      <td>Eastern Africa</td>\n",
       "      <td>Sub-Saharan Africa</td>\n",
       "      <td>Africa</td>\n",
       "    </tr>\n",
       "    <tr>\n",
       "      <th>181</th>\n",
       "      <td>Burkina Faso</td>\n",
       "      <td>3</td>\n",
       "      <td>45.2</td>\n",
       "      <td>1.83</td>\n",
       "      <td>Western Africa</td>\n",
       "      <td>Sub-Saharan Africa</td>\n",
       "      <td>Africa</td>\n",
       "    </tr>\n",
       "    <tr>\n",
       "      <th>165</th>\n",
       "      <td>Djibouti</td>\n",
       "      <td>3</td>\n",
       "      <td>52.4</td>\n",
       "      <td>1.61</td>\n",
       "      <td>Eastern Africa</td>\n",
       "      <td>Sub-Saharan Africa</td>\n",
       "      <td>Africa</td>\n",
       "    </tr>\n",
       "    <tr>\n",
       "      <th>172</th>\n",
       "      <td>Ethiopia</td>\n",
       "      <td>5</td>\n",
       "      <td>48.5</td>\n",
       "      <td>1.58</td>\n",
       "      <td>Eastern Africa</td>\n",
       "      <td>Sub-Saharan Africa</td>\n",
       "      <td>Africa</td>\n",
       "    </tr>\n",
       "    <tr>\n",
       "      <th>161</th>\n",
       "      <td>Ivory Coast</td>\n",
       "      <td>7</td>\n",
       "      <td>53.8</td>\n",
       "      <td>1.56</td>\n",
       "      <td>Sub-Saharan Africa</td>\n",
       "      <td>Sub-Saharan Africa</td>\n",
       "      <td>Africa</td>\n",
       "    </tr>\n",
       "    <tr>\n",
       "      <th>177</th>\n",
       "      <td>Guinea</td>\n",
       "      <td>1</td>\n",
       "      <td>47.7</td>\n",
       "      <td>1.53</td>\n",
       "      <td>Western Africa</td>\n",
       "      <td>Sub-Saharan Africa</td>\n",
       "      <td>Africa</td>\n",
       "    </tr>\n",
       "    <tr>\n",
       "      <th>164</th>\n",
       "      <td>Lesotho</td>\n",
       "      <td>2</td>\n",
       "      <td>52.7</td>\n",
       "      <td>1.52</td>\n",
       "      <td>Southern Africa</td>\n",
       "      <td>Sub-Saharan Africa</td>\n",
       "      <td>Africa</td>\n",
       "    </tr>\n",
       "    <tr>\n",
       "      <th>128</th>\n",
       "      <td>Bhutan</td>\n",
       "      <td>1</td>\n",
       "      <td>65.4</td>\n",
       "      <td>1.46</td>\n",
       "      <td>Southern Asia</td>\n",
       "      <td>Southern Asia</td>\n",
       "      <td>Asia</td>\n",
       "    </tr>\n",
       "    <tr>\n",
       "      <th>180</th>\n",
       "      <td>Mozambique</td>\n",
       "      <td>2</td>\n",
       "      <td>45.6</td>\n",
       "      <td>1.44</td>\n",
       "      <td>Eastern Africa</td>\n",
       "      <td>Sub-Saharan Africa</td>\n",
       "      <td>Africa</td>\n",
       "    </tr>\n",
       "  </tbody>\n",
       "</table>\n",
       "</div>"
      ],
      "text/plain": [
       "          Country HDI Change (5 yrs)  HDI (2020 Report)  Avg. Annual Growth  \\\n",
       "137      Eswatini                  5               61.1                2.03   \n",
       "149      Zimbabwe                  1               57.1                1.90   \n",
       "181  Burkina Faso                  3               45.2                1.83   \n",
       "165      Djibouti                  3               52.4                1.61   \n",
       "172      Ethiopia                  5               48.5                1.58   \n",
       "161   Ivory Coast                  7               53.8                1.56   \n",
       "177        Guinea                  1               47.7                1.53   \n",
       "164       Lesotho                  2               52.7                1.52   \n",
       "128        Bhutan                  1               65.4                1.46   \n",
       "180    Mozambique                  2               45.6                1.44   \n",
       "\n",
       "          Sub-Subregion           Subregion  Region  \n",
       "137  Sub-Saharan Africa  Sub-Saharan Africa  Africa  \n",
       "149      Eastern Africa  Sub-Saharan Africa  Africa  \n",
       "181      Western Africa  Sub-Saharan Africa  Africa  \n",
       "165      Eastern Africa  Sub-Saharan Africa  Africa  \n",
       "172      Eastern Africa  Sub-Saharan Africa  Africa  \n",
       "161  Sub-Saharan Africa  Sub-Saharan Africa  Africa  \n",
       "177      Western Africa  Sub-Saharan Africa  Africa  \n",
       "164     Southern Africa  Sub-Saharan Africa  Africa  \n",
       "128       Southern Asia       Southern Asia    Asia  \n",
       "180      Eastern Africa  Sub-Saharan Africa  Africa  "
      ]
     },
     "execution_count": 1888,
     "metadata": {},
     "output_type": "execute_result"
    }
   ],
   "source": [
    "df.sort_values('Avg. Annual Growth', ascending = False).head(10)"
   ]
  },
  {
   "cell_type": "code",
   "execution_count": 1889,
   "metadata": {},
   "outputs": [
    {
     "data": {
      "text/plain": [
       "Sub-Subregion\n",
       "Northern Africa       68.583333\n",
       "Southern Africa       65.425000\n",
       "Middle Africa         56.740000\n",
       "Sub-Saharan Africa    55.400000\n",
       "Eastern Africa        54.864706\n",
       "Western Africa        51.600000\n",
       "Name: HDI (2020 Report), dtype: float64"
      ]
     },
     "execution_count": 1889,
     "metadata": {},
     "output_type": "execute_result"
    }
   ],
   "source": [
    "df[df['Region'] == 'Africa']['HDI (2020 Report)'].groupby(df['Sub-Subregion']).mean().sort_values(ascending = False)"
   ]
  },
  {
   "cell_type": "code",
   "execution_count": 1890,
   "metadata": {},
   "outputs": [
    {
     "data": {
      "text/plain": [
       "Subregion\n",
       "Sub-Saharan Africa                                 0.62\n",
       "Southern Asia                                      0.12\n",
       "South-eastern Asia                                 0.08\n",
       "Western Asia                                       0.06\n",
       "Northern Africa                                    0.04\n",
       "Latin America and the Caribbean / North America    0.04\n",
       "Southern Europe                                    0.02\n",
       "Eastern Asia                                       0.02\n",
       "dtype: float64"
      ]
     },
     "execution_count": 1890,
     "metadata": {},
     "output_type": "execute_result"
    }
   ],
   "source": [
    "#Breakdown by Subregion of Countries with the 50 Highest growth rates. In the top 50 highest growth rates Sub-Saharan\n",
    "#Africa has 32 or roughly 62% of top 50. \n",
    "df.sort_values('Avg. Annual Growth', ascending = False).head(50).value_counts('Subregion',normalize = True)"
   ]
  },
  {
   "cell_type": "code",
   "execution_count": 1891,
   "metadata": {},
   "outputs": [
    {
     "data": {
      "image/png": "[encoded data removed]",
      "text/plain": [
       "<Figure size 432x288 with 1 Axes>"
      ]
     },
     "metadata": {
      "needs_background": "light"
     },
     "output_type": "display_data"
    }
   ],
   "source": [
    "\n",
    "df.sort_values('Avg. Annual Growth', ascending = False).head(50).value_counts('Subregion',normalize = True).plot(kind = 'barh')\n",
    "\n",
    "\n",
    "plt.show()"
   ]
  },
  {
   "cell_type": "code",
   "execution_count": 1892,
   "metadata": {},
   "outputs": [
    {
     "data": {
      "text/html": [
       "<div>\n",
       "<style scoped>\n",
       "    .dataframe tbody tr th:only-of-type {\n",
       "        vertical-align: middle;\n",
       "    }\n",
       "\n",
       "    .dataframe tbody tr th {\n",
       "        vertical-align: top;\n",
       "    }\n",
       "\n",
       "    .dataframe thead th {\n",
       "        text-align: right;\n",
       "    }\n",
       "</style>\n",
       "<table border=\"1\" class=\"dataframe\">\n",
       "  <thead>\n",
       "    <tr style=\"text-align: right;\">\n",
       "      <th></th>\n",
       "      <th>Country</th>\n",
       "      <th>HDI Change (5 yrs)</th>\n",
       "      <th>HDI (2020 Report)</th>\n",
       "      <th>Avg. Annual Growth</th>\n",
       "      <th>Sub-Subregion</th>\n",
       "      <th>Subregion</th>\n",
       "      <th>Region</th>\n",
       "    </tr>\n",
       "  </thead>\n",
       "  <tbody>\n",
       "    <tr>\n",
       "      <th>91</th>\n",
       "      <td>Lebanon</td>\n",
       "      <td>6</td>\n",
       "      <td>74.4</td>\n",
       "      <td>-0.32</td>\n",
       "      <td>Western Asia</td>\n",
       "      <td>Western Asia</td>\n",
       "      <td>Asia</td>\n",
       "    </tr>\n",
       "    <tr>\n",
       "      <th>101</th>\n",
       "      <td>Jordan</td>\n",
       "      <td>3</td>\n",
       "      <td>72.9</td>\n",
       "      <td>-0.12</td>\n",
       "      <td>Western Asia</td>\n",
       "      <td>Western Asia</td>\n",
       "      <td>Asia</td>\n",
       "    </tr>\n",
       "    <tr>\n",
       "      <th>104</th>\n",
       "      <td>Libya</td>\n",
       "      <td>4</td>\n",
       "      <td>72.4</td>\n",
       "      <td>-1.08</td>\n",
       "      <td>Northern Africa</td>\n",
       "      <td>Northern Africa</td>\n",
       "      <td>Africa</td>\n",
       "    </tr>\n",
       "    <tr>\n",
       "      <th>112</th>\n",
       "      <td>Venezuela</td>\n",
       "      <td>4</td>\n",
       "      <td>71.1</td>\n",
       "      <td>-0.69</td>\n",
       "      <td>South America</td>\n",
       "      <td>Latin America and the Caribbean</td>\n",
       "      <td>Americas</td>\n",
       "    </tr>\n",
       "    <tr>\n",
       "      <th>140</th>\n",
       "      <td>East Timor</td>\n",
       "      <td>1</td>\n",
       "      <td>60.6</td>\n",
       "      <td>-0.40</td>\n",
       "      <td>South-eastern Asia</td>\n",
       "      <td>South-eastern Asia</td>\n",
       "      <td>Asia</td>\n",
       "    </tr>\n",
       "    <tr>\n",
       "      <th>151</th>\n",
       "      <td>Syria</td>\n",
       "      <td>2</td>\n",
       "      <td>56.7</td>\n",
       "      <td>-1.87</td>\n",
       "      <td>Western Asia</td>\n",
       "      <td>Western Asia</td>\n",
       "      <td>Asia</td>\n",
       "    </tr>\n",
       "    <tr>\n",
       "      <th>178</th>\n",
       "      <td>Yemen</td>\n",
       "      <td>1</td>\n",
       "      <td>47.0</td>\n",
       "      <td>-0.82</td>\n",
       "      <td>Western Asia</td>\n",
       "      <td>Western Asia</td>\n",
       "      <td>Asia</td>\n",
       "    </tr>\n",
       "  </tbody>\n",
       "</table>\n",
       "</div>"
      ],
      "text/plain": [
       "        Country HDI Change (5 yrs)  HDI (2020 Report)  Avg. Annual Growth  \\\n",
       "91      Lebanon                  6               74.4               -0.32   \n",
       "101      Jordan                  3               72.9               -0.12   \n",
       "104       Libya                  4               72.4               -1.08   \n",
       "112   Venezuela                  4               71.1               -0.69   \n",
       "140  East Timor                  1               60.6               -0.40   \n",
       "151       Syria                  2               56.7               -1.87   \n",
       "178       Yemen                  1               47.0               -0.82   \n",
       "\n",
       "          Sub-Subregion                        Subregion    Region  \n",
       "91         Western Asia                     Western Asia      Asia  \n",
       "101        Western Asia                     Western Asia      Asia  \n",
       "104     Northern Africa                  Northern Africa    Africa  \n",
       "112       South America  Latin America and the Caribbean  Americas  \n",
       "140  South-eastern Asia               South-eastern Asia      Asia  \n",
       "151        Western Asia                     Western Asia      Asia  \n",
       "178        Western Asia                     Western Asia      Asia  "
      ]
     },
     "execution_count": 1892,
     "metadata": {},
     "output_type": "execute_result"
    }
   ],
   "source": [
    "df[df['Avg. Annual Growth'] < 0]"
   ]
  },
  {
   "cell_type": "code",
   "execution_count": 1893,
   "metadata": {},
   "outputs": [
    {
     "data": {
      "text/plain": [
       "Sub-Subregion\n",
       "Western Asia          4\n",
       "South-eastern Asia    1\n",
       "South America         1\n",
       "Northern Africa       1\n",
       "dtype: int64"
      ]
     },
     "execution_count": 1893,
     "metadata": {},
     "output_type": "execute_result"
    }
   ],
   "source": [
    "#Countries with a negative HDI growth rate\n",
    "df[df['Avg. Annual Growth'] < 0].value_counts(\"Sub-Subregion\")"
   ]
  },
  {
   "cell_type": "code",
   "execution_count": 1894,
   "metadata": {},
   "outputs": [
    {
     "data": {
      "text/html": [
       "<div>\n",
       "<style scoped>\n",
       "    .dataframe tbody tr th:only-of-type {\n",
       "        vertical-align: middle;\n",
       "    }\n",
       "\n",
       "    .dataframe tbody tr th {\n",
       "        vertical-align: top;\n",
       "    }\n",
       "\n",
       "    .dataframe thead th {\n",
       "        text-align: right;\n",
       "    }\n",
       "</style>\n",
       "<table border=\"1\" class=\"dataframe\">\n",
       "  <thead>\n",
       "    <tr style=\"text-align: right;\">\n",
       "      <th></th>\n",
       "      <th>mean</th>\n",
       "    </tr>\n",
       "    <tr>\n",
       "      <th>Region</th>\n",
       "      <th></th>\n",
       "    </tr>\n",
       "  </thead>\n",
       "  <tbody>\n",
       "    <tr>\n",
       "      <th>Europe</th>\n",
       "      <td>87.970732</td>\n",
       "    </tr>\n",
       "    <tr>\n",
       "      <th>Americas</th>\n",
       "      <td>75.842857</td>\n",
       "    </tr>\n",
       "    <tr>\n",
       "      <th>Asia</th>\n",
       "      <td>74.243750</td>\n",
       "    </tr>\n",
       "    <tr>\n",
       "      <th>Oceania</th>\n",
       "      <td>71.408333</td>\n",
       "    </tr>\n",
       "    <tr>\n",
       "      <th>Africa</th>\n",
       "      <td>56.721569</td>\n",
       "    </tr>\n",
       "  </tbody>\n",
       "</table>\n",
       "</div>"
      ],
      "text/plain": [
       "               mean\n",
       "Region             \n",
       "Europe    87.970732\n",
       "Americas  75.842857\n",
       "Asia      74.243750\n",
       "Oceania   71.408333\n",
       "Africa    56.721569"
      ]
     },
     "execution_count": 1894,
     "metadata": {},
     "output_type": "execute_result"
    }
   ],
   "source": [
    "df['HDI (2020 Report)'].groupby(df['Region']).agg(['mean']).sort_values('mean',ascending = False)"
   ]
  },
  {
   "cell_type": "code",
   "execution_count": 1895,
   "metadata": {},
   "outputs": [
    {
     "data": {
      "text/plain": [
       "''"
      ]
     },
     "execution_count": 1895,
     "metadata": {},
     "output_type": "execute_result"
    },
    {
     "data": {
      "image/png": "[encoded data removed]",
      "text/plain": [
       "<Figure size 576x432 with 1 Axes>"
      ]
     },
     "metadata": {
      "needs_background": "light"
     },
     "output_type": "display_data"
    }
   ],
   "source": [
    "plt.figure(figsize = (8,6))\n",
    "plt.title('HDI by Region', size = 20)\n",
    "plt.xlabel(\"Avg HDI Score\")\n",
    "df[\"HDI (2020 Report)\"].groupby(df['Region']).mean().sort_values(ascending = True).plot(kind = 'barh')\n",
    ";"
   ]
  },
  {
   "cell_type": "code",
   "execution_count": 1896,
   "metadata": {},
   "outputs": [
    {
     "data": {
      "text/plain": [
       "Sub-Subregion\n",
       "Australia and New Zealand                          93.750000\n",
       "Western Europe                                     92.937500\n",
       "Northern America                                   92.750000\n",
       "Northern Europe                                    92.560000\n",
       "Eastern Asia                                       85.640000\n",
       "Southern Europe                                    85.100000\n",
       "Eastern Europe                                     83.140000\n",
       "Latin America and the Caribbean / North America    81.400000\n",
       "Western Asia                                       77.361111\n",
       "South America                                      76.316667\n",
       "Caribbean                                          74.733333\n",
       "Central Asia                                       72.500000\n",
       "Polynesia                                          72.000000\n",
       "Central America                                    71.875000\n",
       "South-eastern Asia                                 71.809091\n",
       "Micronesia                                         69.500000\n",
       "Northern Africa                                    68.583333\n",
       "Southern Asia                                      65.622222\n",
       "Southern Africa                                    65.425000\n",
       "Melanesia                                          61.850000\n",
       "Middle Africa                                      56.740000\n",
       "Sub-Saharan Africa                                 55.400000\n",
       "Eastern Africa                                     54.864706\n",
       "Western Africa                                     51.600000\n",
       "Name: HDI (2020 Report), dtype: float64"
      ]
     },
     "execution_count": 1896,
     "metadata": {},
     "output_type": "execute_result"
    }
   ],
   "source": [
    "df['HDI (2020 Report)'].groupby(df[\"Sub-Subregion\"]).mean().sort_values(ascending = False)"
   ]
  },
  {
   "cell_type": "code",
   "execution_count": 1897,
   "metadata": {},
   "outputs": [
    {
     "data": {
      "image/png": "[encoded data removed]",
      "text/plain": [
       "<Figure size 720x576 with 1 Axes>"
      ]
     },
     "metadata": {
      "needs_background": "light"
     },
     "output_type": "display_data"
    }
   ],
   "source": [
    "plt.figure(figsize = (10,8))\n",
    "plt.title('Avg. HDI Score by Sub-Subregion', size = 16)\n",
    "df['HDI (2020 Report)'].groupby(df['Sub-Subregion']).mean().sort_values(ascending = True).plot(kind = 'barh')\n",
    "plt.xlabel('Avg. HDI Score');"
   ]
  },
  {
   "cell_type": "code",
   "execution_count": 1898,
   "metadata": {},
   "outputs": [
    {
     "data": {
      "image/png": "[encoded data removed]",
      "text/plain": [
       "<Figure size 720x576 with 1 Axes>"
      ]
     },
     "metadata": {
      "needs_background": "light"
     },
     "output_type": "display_data"
    }
   ],
   "source": [
    "plt.figure(figsize = (10,8))\n",
    "plt.title('Avg. Annual Growth by Sub-Region', size = 16)\n",
    "df['Avg. Annual Growth'].groupby(df.Subregion).mean().sort_values(ascending = True).plot(kind = 'barh')\n",
    "plt.xlabel('HDI (%)');"
   ]
  },
  {
   "cell_type": "code",
   "execution_count": 1899,
   "metadata": {},
   "outputs": [
    {
     "data": {
      "text/html": [
       "<div>\n",
       "<style scoped>\n",
       "    .dataframe tbody tr th:only-of-type {\n",
       "        vertical-align: middle;\n",
       "    }\n",
       "\n",
       "    .dataframe tbody tr th {\n",
       "        vertical-align: top;\n",
       "    }\n",
       "\n",
       "    .dataframe thead th {\n",
       "        text-align: right;\n",
       "    }\n",
       "</style>\n",
       "<table border=\"1\" class=\"dataframe\">\n",
       "  <thead>\n",
       "    <tr style=\"text-align: right;\">\n",
       "      <th></th>\n",
       "      <th>Country</th>\n",
       "      <th>HDI Change (5 yrs)</th>\n",
       "      <th>HDI (2020 Report)</th>\n",
       "      <th>Avg. Annual Growth</th>\n",
       "      <th>Sub-Subregion</th>\n",
       "      <th>Subregion</th>\n",
       "      <th>Region</th>\n",
       "    </tr>\n",
       "  </thead>\n",
       "  <tbody>\n",
       "    <tr>\n",
       "      <th>7</th>\n",
       "      <td>Australia</td>\n",
       "      <td>2</td>\n",
       "      <td>94.4</td>\n",
       "      <td>0.17</td>\n",
       "      <td>Australia and New Zealand</td>\n",
       "      <td>Australia and New Zealand</td>\n",
       "      <td>Oceania</td>\n",
       "    </tr>\n",
       "    <tr>\n",
       "      <th>14</th>\n",
       "      <td>New Zealand</td>\n",
       "      <td>3</td>\n",
       "      <td>93.1</td>\n",
       "      <td>0.30</td>\n",
       "      <td>Australia and New Zealand</td>\n",
       "      <td>Australia and New Zealand</td>\n",
       "      <td>Oceania</td>\n",
       "    </tr>\n",
       "    <tr>\n",
       "      <th>49</th>\n",
       "      <td>Palau</td>\n",
       "      <td>3</td>\n",
       "      <td>82.6</td>\n",
       "      <td>0.55</td>\n",
       "      <td>Micronesia</td>\n",
       "      <td>Micronesia</td>\n",
       "      <td>Oceania</td>\n",
       "    </tr>\n",
       "    <tr>\n",
       "      <th>92</th>\n",
       "      <td>Fiji</td>\n",
       "      <td>1</td>\n",
       "      <td>74.3</td>\n",
       "      <td>0.43</td>\n",
       "      <td>Melanesia</td>\n",
       "      <td>Melanesia</td>\n",
       "      <td>Oceania</td>\n",
       "    </tr>\n",
       "    <tr>\n",
       "      <th>103</th>\n",
       "      <td>Tonga</td>\n",
       "      <td>2</td>\n",
       "      <td>72.5</td>\n",
       "      <td>0.41</td>\n",
       "      <td>Polynesia</td>\n",
       "      <td>Polynesia</td>\n",
       "      <td>Oceania</td>\n",
       "    </tr>\n",
       "    <tr>\n",
       "      <th>110</th>\n",
       "      <td>Samoa</td>\n",
       "      <td>3</td>\n",
       "      <td>71.5</td>\n",
       "      <td>0.27</td>\n",
       "      <td>Polynesia</td>\n",
       "      <td>Polynesia</td>\n",
       "      <td>Oceania</td>\n",
       "    </tr>\n",
       "    <tr>\n",
       "      <th>116</th>\n",
       "      <td>Marshall Islands</td>\n",
       "      <td>[</td>\n",
       "      <td>70.4</td>\n",
       "      <td>NaN</td>\n",
       "      <td>Micronesia</td>\n",
       "      <td>Micronesia</td>\n",
       "      <td>Oceania</td>\n",
       "    </tr>\n",
       "    <tr>\n",
       "      <th>133</th>\n",
       "      <td>Kiribati</td>\n",
       "      <td>3</td>\n",
       "      <td>63.0</td>\n",
       "      <td>0.67</td>\n",
       "      <td>Micronesia</td>\n",
       "      <td>Micronesia</td>\n",
       "      <td>Oceania</td>\n",
       "    </tr>\n",
       "    <tr>\n",
       "      <th>135</th>\n",
       "      <td>Federated States of Micronesia</td>\n",
       "      <td>2</td>\n",
       "      <td>62.0</td>\n",
       "      <td>0.35</td>\n",
       "      <td>Micronesia</td>\n",
       "      <td>Micronesia</td>\n",
       "      <td>Oceania</td>\n",
       "    </tr>\n",
       "    <tr>\n",
       "      <th>139</th>\n",
       "      <td>Vanuatu</td>\n",
       "      <td>5</td>\n",
       "      <td>60.9</td>\n",
       "      <td>0.35</td>\n",
       "      <td>Melanesia</td>\n",
       "      <td>Melanesia</td>\n",
       "      <td>Oceania</td>\n",
       "    </tr>\n",
       "    <tr>\n",
       "      <th>150</th>\n",
       "      <td>Solomon Islands</td>\n",
       "      <td>3</td>\n",
       "      <td>56.7</td>\n",
       "      <td>0.61</td>\n",
       "      <td>Melanesia</td>\n",
       "      <td>Melanesia</td>\n",
       "      <td>Oceania</td>\n",
       "    </tr>\n",
       "    <tr>\n",
       "      <th>154</th>\n",
       "      <td>Papua New Guinea</td>\n",
       "      <td>2</td>\n",
       "      <td>55.5</td>\n",
       "      <td>0.68</td>\n",
       "      <td>Melanesia</td>\n",
       "      <td>Melanesia</td>\n",
       "      <td>Oceania</td>\n",
       "    </tr>\n",
       "  </tbody>\n",
       "</table>\n",
       "</div>"
      ],
      "text/plain": [
       "                            Country HDI Change (5 yrs)  HDI (2020 Report)  \\\n",
       "7                         Australia                  2               94.4   \n",
       "14                      New Zealand                  3               93.1   \n",
       "49                            Palau                  3               82.6   \n",
       "92                             Fiji                  1               74.3   \n",
       "103                           Tonga                  2               72.5   \n",
       "110                           Samoa                  3               71.5   \n",
       "116                Marshall Islands                  [               70.4   \n",
       "133                        Kiribati                  3               63.0   \n",
       "135  Federated States of Micronesia                  2               62.0   \n",
       "139                         Vanuatu                  5               60.9   \n",
       "150                 Solomon Islands                  3               56.7   \n",
       "154                Papua New Guinea                  2               55.5   \n",
       "\n",
       "     Avg. Annual Growth              Sub-Subregion                  Subregion  \\\n",
       "7                  0.17  Australia and New Zealand  Australia and New Zealand   \n",
       "14                 0.30  Australia and New Zealand  Australia and New Zealand   \n",
       "49                 0.55                 Micronesia                 Micronesia   \n",
       "92                 0.43                  Melanesia                  Melanesia   \n",
       "103                0.41                  Polynesia                  Polynesia   \n",
       "110                0.27                  Polynesia                  Polynesia   \n",
       "116                 NaN                 Micronesia                 Micronesia   \n",
       "133                0.67                 Micronesia                 Micronesia   \n",
       "135                0.35                 Micronesia                 Micronesia   \n",
       "139                0.35                  Melanesia                  Melanesia   \n",
       "150                0.61                  Melanesia                  Melanesia   \n",
       "154                0.68                  Melanesia                  Melanesia   \n",
       "\n",
       "      Region  \n",
       "7    Oceania  \n",
       "14   Oceania  \n",
       "49   Oceania  \n",
       "92   Oceania  \n",
       "103  Oceania  \n",
       "110  Oceania  \n",
       "116  Oceania  \n",
       "133  Oceania  \n",
       "135  Oceania  \n",
       "139  Oceania  \n",
       "150  Oceania  \n",
       "154  Oceania  "
      ]
     },
     "execution_count": 1899,
     "metadata": {},
     "output_type": "execute_result"
    }
   ],
   "source": [
    "df[df['Region'] == 'Oceania'].sort_values('HDI (2020 Report)', ascending = False)"
   ]
  },
  {
   "cell_type": "markdown",
   "metadata": {},
   "source": [
    "## United Nations geoscheme\n",
    "\n",
    "Statistical regions as defined by the UNSD. Antarctica is not shown.\n",
    "The United Nations geoscheme is a system which divides the 249 countries and territories of the world into 6 regional and 22 subregional groups. It was devised by the United Nations Statistics Division (UNSD) based on the M49 coding classification."
   ]
  },
  {
   "cell_type": "markdown",
   "metadata": {},
   "source": [
    "## Scrape GDP Data/Merge/Correlation"
   ]
  },
  {
   "cell_type": "code",
   "execution_count": 1900,
   "metadata": {},
   "outputs": [],
   "source": [
    "url_gdp = 'https://en.wikipedia.org/wiki/List_of_countries_by_GDP_(nominal)_per_capita'\n",
    "html2 = urlopen(url_gdp) \n",
    "soup2 = BeautifulSoup(html2, 'html.parser')"
   ]
  },
  {
   "cell_type": "code",
   "execution_count": 1901,
   "metadata": {},
   "outputs": [],
   "source": [
    "gdp = soup2.find_all('body')"
   ]
  },
  {
   "cell_type": "code",
   "execution_count": 1902,
   "metadata": {},
   "outputs": [
    {
     "name": "stdout",
     "output_type": "stream",
     "text": [
      "Number of tables on site:  1\n"
     ]
    }
   ],
   "source": [
    "tables2 = soup2.find_all(\"table\", attrs={\"class\": \"wikitable\"})\n",
    "print(\"Number of tables on site: \",len(tables2))"
   ]
  },
  {
   "cell_type": "code",
   "execution_count": 1903,
   "metadata": {},
   "outputs": [
    {
     "name": "stdout",
     "output_type": "stream",
     "text": [
      "['Country/Territory', 'Subregion', 'Region', 'IMF[4]', 'United Nations[5]', 'World Bank[6]']\n"
     ]
    }
   ],
   "source": [
    "table_gdp = tables2[0]\n",
    "\n",
    "body = table_gdp.find_all(\"tr\")\n",
    "head = body[0]\n",
    "body_rows = body[1:]\n",
    "\n",
    "headings = []\n",
    "\n",
    "for item in head.find_all(\"th\"):\n",
    "    item = (item.text).rstrip(\"\\n\")\n",
    "    headings.append(item)\n",
    "print(headings)"
   ]
  },
  {
   "cell_type": "code",
   "execution_count": 1904,
   "metadata": {},
   "outputs": [],
   "source": [
    "all_rows = [] # will be a list for list for all rows\n",
    "for row_num in range(len(body_rows)): # A row at a time\n",
    "    row = [] # this will old entries for one row\n",
    "    for row_item in body_rows[row_num].find_all(\"td\"): #loop through all row entries\n",
    "        # row_item.text removes the tags from the entries\n",
    "        # the following regex is to remove \\xa0 and \\n and comma from row_item.text\n",
    "        # xa0 encodes the flag, \\n is the newline and comma separates thousands in numbers\n",
    "        aa = re.sub(\"(\\xa0)|(\\n)|,\",\"\",row_item.text)\n",
    "        #append aa to row - note one row entry is being appended\n",
    "        row.append(aa)\n",
    "    # append one row to all_rows\n",
    "    all_rows.append(row)"
   ]
  },
  {
   "cell_type": "code",
   "execution_count": 1905,
   "metadata": {},
   "outputs": [],
   "source": [
    "gdp_data = []\n",
    "for i in all_rows:\n",
    "    if len(i) > 1:\n",
    "        gdp_data.append(i)"
   ]
  },
  {
   "cell_type": "code",
   "execution_count": 1906,
   "metadata": {},
   "outputs": [],
   "source": [
    "df_gdp = pd.DataFrame(gdp_data)"
   ]
  },
  {
   "cell_type": "code",
   "execution_count": 1907,
   "metadata": {},
   "outputs": [
    {
     "data": {
      "text/html": [
       "<div>\n",
       "<style scoped>\n",
       "    .dataframe tbody tr th:only-of-type {\n",
       "        vertical-align: middle;\n",
       "    }\n",
       "\n",
       "    .dataframe tbody tr th {\n",
       "        vertical-align: top;\n",
       "    }\n",
       "\n",
       "    .dataframe thead th {\n",
       "        text-align: right;\n",
       "    }\n",
       "</style>\n",
       "<table border=\"1\" class=\"dataframe\">\n",
       "  <thead>\n",
       "    <tr style=\"text-align: right;\">\n",
       "      <th></th>\n",
       "      <th>0</th>\n",
       "      <th>1</th>\n",
       "      <th>2</th>\n",
       "      <th>3</th>\n",
       "      <th>4</th>\n",
       "      <th>5</th>\n",
       "      <th>6</th>\n",
       "      <th>7</th>\n",
       "      <th>8</th>\n",
       "    </tr>\n",
       "  </thead>\n",
       "  <tbody>\n",
       "    <tr>\n",
       "      <th>0</th>\n",
       "      <td>Monaco *</td>\n",
       "      <td>Western Europe</td>\n",
       "      <td>Europe</td>\n",
       "      <td>N/A</td>\n",
       "      <td>190532</td>\n",
       "      <td>2019</td>\n",
       "      <td>190513</td>\n",
       "      <td>2019</td>\n",
       "      <td>None</td>\n",
       "    </tr>\n",
       "    <tr>\n",
       "      <th>1</th>\n",
       "      <td>Liechtenstein *</td>\n",
       "      <td>Western Europe</td>\n",
       "      <td>Europe</td>\n",
       "      <td>N/A</td>\n",
       "      <td>179258</td>\n",
       "      <td>2019</td>\n",
       "      <td>180367</td>\n",
       "      <td>2018</td>\n",
       "      <td>None</td>\n",
       "    </tr>\n",
       "    <tr>\n",
       "      <th>2</th>\n",
       "      <td>Luxembourg *</td>\n",
       "      <td>Western Europe</td>\n",
       "      <td>Europe</td>\n",
       "      <td>131782</td>\n",
       "      <td>2021</td>\n",
       "      <td>115481</td>\n",
       "      <td>2019</td>\n",
       "      <td>115874</td>\n",
       "      <td>2020</td>\n",
       "    </tr>\n",
       "    <tr>\n",
       "      <th>3</th>\n",
       "      <td>Bermuda *</td>\n",
       "      <td>Northern America</td>\n",
       "      <td>Americas</td>\n",
       "      <td>N/A</td>\n",
       "      <td>117768</td>\n",
       "      <td>2019</td>\n",
       "      <td>117098</td>\n",
       "      <td>2019</td>\n",
       "      <td>None</td>\n",
       "    </tr>\n",
       "    <tr>\n",
       "      <th>4</th>\n",
       "      <td>Switzerland *</td>\n",
       "      <td>Western Europe</td>\n",
       "      <td>Europe</td>\n",
       "      <td>94696</td>\n",
       "      <td>2021</td>\n",
       "      <td>85135</td>\n",
       "      <td>2019</td>\n",
       "      <td>86602</td>\n",
       "      <td>2020</td>\n",
       "    </tr>\n",
       "  </tbody>\n",
       "</table>\n",
       "</div>"
      ],
      "text/plain": [
       "                 0                 1         2       3       4       5  \\\n",
       "0         Monaco *    Western Europe    Europe     N/A  190532    2019   \n",
       "1  Liechtenstein *    Western Europe    Europe     N/A  179258    2019   \n",
       "2     Luxembourg *    Western Europe    Europe  131782    2021  115481   \n",
       "3        Bermuda *  Northern America  Americas     N/A  117768    2019   \n",
       "4    Switzerland *    Western Europe    Europe   94696    2021   85135   \n",
       "\n",
       "        6       7     8  \n",
       "0  190513    2019  None  \n",
       "1  180367    2018  None  \n",
       "2    2019  115874  2020  \n",
       "3  117098    2019  None  \n",
       "4    2019   86602  2020  "
      ]
     },
     "execution_count": 1907,
     "metadata": {},
     "output_type": "execute_result"
    }
   ],
   "source": [
    "df_gdp.head(5)"
   ]
  },
  {
   "cell_type": "code",
   "execution_count": 1908,
   "metadata": {},
   "outputs": [
    {
     "data": {
      "text/html": [
       "<div>\n",
       "<style scoped>\n",
       "    .dataframe tbody tr th:only-of-type {\n",
       "        vertical-align: middle;\n",
       "    }\n",
       "\n",
       "    .dataframe tbody tr th {\n",
       "        vertical-align: top;\n",
       "    }\n",
       "\n",
       "    .dataframe thead th {\n",
       "        text-align: right;\n",
       "    }\n",
       "</style>\n",
       "<table border=\"1\" class=\"dataframe\">\n",
       "  <thead>\n",
       "    <tr style=\"text-align: right;\">\n",
       "      <th></th>\n",
       "      <th>0</th>\n",
       "      <th>1</th>\n",
       "      <th>2</th>\n",
       "      <th>3</th>\n",
       "      <th>4</th>\n",
       "      <th>5</th>\n",
       "      <th>6</th>\n",
       "      <th>7</th>\n",
       "      <th>8</th>\n",
       "    </tr>\n",
       "  </thead>\n",
       "  <tbody>\n",
       "    <tr>\n",
       "      <th>0</th>\n",
       "      <td>Monaco *</td>\n",
       "      <td>Western Europe</td>\n",
       "      <td>Europe</td>\n",
       "      <td>N/A</td>\n",
       "      <td>190532</td>\n",
       "      <td>2019</td>\n",
       "      <td>190513</td>\n",
       "      <td>2019</td>\n",
       "      <td>None</td>\n",
       "    </tr>\n",
       "    <tr>\n",
       "      <th>1</th>\n",
       "      <td>Liechtenstein *</td>\n",
       "      <td>Western Europe</td>\n",
       "      <td>Europe</td>\n",
       "      <td>N/A</td>\n",
       "      <td>179258</td>\n",
       "      <td>2019</td>\n",
       "      <td>180367</td>\n",
       "      <td>2018</td>\n",
       "      <td>None</td>\n",
       "    </tr>\n",
       "    <tr>\n",
       "      <th>3</th>\n",
       "      <td>Bermuda *</td>\n",
       "      <td>Northern America</td>\n",
       "      <td>Americas</td>\n",
       "      <td>N/A</td>\n",
       "      <td>117768</td>\n",
       "      <td>2019</td>\n",
       "      <td>117098</td>\n",
       "      <td>2019</td>\n",
       "      <td>None</td>\n",
       "    </tr>\n",
       "    <tr>\n",
       "      <th>6</th>\n",
       "      <td>Cayman Islands *</td>\n",
       "      <td>Caribbean</td>\n",
       "      <td>Americas</td>\n",
       "      <td>N/A</td>\n",
       "      <td>92692</td>\n",
       "      <td>2019</td>\n",
       "      <td>91393</td>\n",
       "      <td>2019</td>\n",
       "      <td>None</td>\n",
       "    </tr>\n",
       "    <tr>\n",
       "      <th>19</th>\n",
       "      <td>Greenland *</td>\n",
       "      <td>Northern America</td>\n",
       "      <td>Americas</td>\n",
       "      <td>N/A</td>\n",
       "      <td>53353</td>\n",
       "      <td>2019</td>\n",
       "      <td>54471</td>\n",
       "      <td>2018</td>\n",
       "      <td>None</td>\n",
       "    </tr>\n",
       "    <tr>\n",
       "      <th>25</th>\n",
       "      <td>British Virgin Islands *</td>\n",
       "      <td>Caribbean</td>\n",
       "      <td>Americas</td>\n",
       "      <td>N/A</td>\n",
       "      <td>48511</td>\n",
       "      <td>2019</td>\n",
       "      <td>N/A</td>\n",
       "      <td>None</td>\n",
       "      <td>None</td>\n",
       "    </tr>\n",
       "    <tr>\n",
       "      <th>31</th>\n",
       "      <td>Andorra *</td>\n",
       "      <td>Southern Europe</td>\n",
       "      <td>Europe</td>\n",
       "      <td>N/A</td>\n",
       "      <td>40887</td>\n",
       "      <td>2019</td>\n",
       "      <td>40897</td>\n",
       "      <td>2019</td>\n",
       "      <td>None</td>\n",
       "    </tr>\n",
       "    <tr>\n",
       "      <th>32</th>\n",
       "      <td>Guam *</td>\n",
       "      <td>Micronesia</td>\n",
       "      <td>Oceania</td>\n",
       "      <td>N/A</td>\n",
       "      <td>N/A</td>\n",
       "      <td>37724</td>\n",
       "      <td>2019</td>\n",
       "      <td>None</td>\n",
       "      <td>None</td>\n",
       "    </tr>\n",
       "    <tr>\n",
       "      <th>35</th>\n",
       "      <td>New Caledonia *</td>\n",
       "      <td>Melanesia</td>\n",
       "      <td>Oceania</td>\n",
       "      <td>N/A</td>\n",
       "      <td>34942</td>\n",
       "      <td>2019</td>\n",
       "      <td>12580</td>\n",
       "      <td>2000</td>\n",
       "      <td>None</td>\n",
       "    </tr>\n",
       "    <tr>\n",
       "      <th>41</th>\n",
       "      <td>Turks and Caicos Islands</td>\n",
       "      <td>Caribbean</td>\n",
       "      <td>Americas</td>\n",
       "      <td>N/A</td>\n",
       "      <td>31353</td>\n",
       "      <td>2019</td>\n",
       "      <td>23880</td>\n",
       "      <td>2020</td>\n",
       "      <td>None</td>\n",
       "    </tr>\n",
       "    <tr>\n",
       "      <th>45</th>\n",
       "      <td>Sint Maarten *</td>\n",
       "      <td>Caribbean</td>\n",
       "      <td>Americas</td>\n",
       "      <td>N/A</td>\n",
       "      <td>N/A</td>\n",
       "      <td>29160</td>\n",
       "      <td>2018</td>\n",
       "      <td>None</td>\n",
       "      <td>None</td>\n",
       "    </tr>\n",
       "    <tr>\n",
       "      <th>49</th>\n",
       "      <td>Anguilla *</td>\n",
       "      <td>Caribbean</td>\n",
       "      <td>Americas</td>\n",
       "      <td>N/A</td>\n",
       "      <td>25529</td>\n",
       "      <td>2019</td>\n",
       "      <td>N/A</td>\n",
       "      <td>None</td>\n",
       "      <td>None</td>\n",
       "    </tr>\n",
       "    <tr>\n",
       "      <th>56</th>\n",
       "      <td>Cook Islands *</td>\n",
       "      <td>Polynesia</td>\n",
       "      <td>Oceania</td>\n",
       "      <td>N/A</td>\n",
       "      <td>21603</td>\n",
       "      <td>2019</td>\n",
       "      <td>N/A</td>\n",
       "      <td>None</td>\n",
       "      <td>None</td>\n",
       "    </tr>\n",
       "    <tr>\n",
       "      <th>57</th>\n",
       "      <td>French Polynesia *</td>\n",
       "      <td>Polynesia</td>\n",
       "      <td>Oceania</td>\n",
       "      <td>N/A</td>\n",
       "      <td>21567</td>\n",
       "      <td>2019</td>\n",
       "      <td>14324</td>\n",
       "      <td>2000</td>\n",
       "      <td>None</td>\n",
       "    </tr>\n",
       "    <tr>\n",
       "      <th>59</th>\n",
       "      <td>Northern Mariana Islands *</td>\n",
       "      <td>Micronesia</td>\n",
       "      <td>Oceania</td>\n",
       "      <td>N/A</td>\n",
       "      <td>N/A</td>\n",
       "      <td>20660</td>\n",
       "      <td>2019</td>\n",
       "      <td>None</td>\n",
       "      <td>None</td>\n",
       "    </tr>\n",
       "    <tr>\n",
       "      <th>62</th>\n",
       "      <td>Curaçao *</td>\n",
       "      <td>Caribbean</td>\n",
       "      <td>Americas</td>\n",
       "      <td>N/A</td>\n",
       "      <td>18980</td>\n",
       "      <td>2019</td>\n",
       "      <td>19701</td>\n",
       "      <td>2019</td>\n",
       "      <td>None</td>\n",
       "    </tr>\n",
       "    <tr>\n",
       "      <th>75</th>\n",
       "      <td>Montserrat *</td>\n",
       "      <td>Caribbean</td>\n",
       "      <td>Americas</td>\n",
       "      <td>N/A</td>\n",
       "      <td>13487</td>\n",
       "      <td>2019</td>\n",
       "      <td>N/A</td>\n",
       "      <td>None</td>\n",
       "      <td>None</td>\n",
       "    </tr>\n",
       "    <tr>\n",
       "      <th>82</th>\n",
       "      <td>American Samoa *</td>\n",
       "      <td>Polynesia</td>\n",
       "      <td>Oceania</td>\n",
       "      <td>N/A</td>\n",
       "      <td>N/A</td>\n",
       "      <td>11535</td>\n",
       "      <td>2019</td>\n",
       "      <td>None</td>\n",
       "      <td>None</td>\n",
       "    </tr>\n",
       "    <tr>\n",
       "      <th>90</th>\n",
       "      <td>Cuba *</td>\n",
       "      <td>Caribbean</td>\n",
       "      <td>Americas</td>\n",
       "      <td>N/A</td>\n",
       "      <td>9296</td>\n",
       "      <td>2019</td>\n",
       "      <td>9100</td>\n",
       "      <td>2019</td>\n",
       "      <td>None</td>\n",
       "    </tr>\n",
       "    <tr>\n",
       "      <th>202</th>\n",
       "      <td>North Korea *</td>\n",
       "      <td>Eastern Asia</td>\n",
       "      <td>Asia</td>\n",
       "      <td>N/A</td>\n",
       "      <td>640</td>\n",
       "      <td>2019</td>\n",
       "      <td>N/A</td>\n",
       "      <td>None</td>\n",
       "      <td>None</td>\n",
       "    </tr>\n",
       "  </tbody>\n",
       "</table>\n",
       "</div>"
      ],
      "text/plain": [
       "                              0                 1         2    3       4  \\\n",
       "0                      Monaco *    Western Europe    Europe  N/A  190532   \n",
       "1               Liechtenstein *    Western Europe    Europe  N/A  179258   \n",
       "3                     Bermuda *  Northern America  Americas  N/A  117768   \n",
       "6              Cayman Islands *         Caribbean  Americas  N/A   92692   \n",
       "19                  Greenland *  Northern America  Americas  N/A   53353   \n",
       "25     British Virgin Islands *         Caribbean  Americas  N/A   48511   \n",
       "31                    Andorra *   Southern Europe    Europe  N/A   40887   \n",
       "32                       Guam *        Micronesia   Oceania  N/A     N/A   \n",
       "35              New Caledonia *         Melanesia   Oceania  N/A   34942   \n",
       "41     Turks and Caicos Islands         Caribbean  Americas  N/A   31353   \n",
       "45               Sint Maarten *         Caribbean  Americas  N/A     N/A   \n",
       "49                   Anguilla *         Caribbean  Americas  N/A   25529   \n",
       "56               Cook Islands *         Polynesia   Oceania  N/A   21603   \n",
       "57           French Polynesia *         Polynesia   Oceania  N/A   21567   \n",
       "59   Northern Mariana Islands *        Micronesia   Oceania  N/A     N/A   \n",
       "62                    Curaçao *         Caribbean  Americas  N/A   18980   \n",
       "75                 Montserrat *         Caribbean  Americas  N/A   13487   \n",
       "82             American Samoa *         Polynesia   Oceania  N/A     N/A   \n",
       "90                       Cuba *         Caribbean  Americas  N/A    9296   \n",
       "202               North Korea *      Eastern Asia      Asia  N/A     640   \n",
       "\n",
       "         5       6     7     8  \n",
       "0     2019  190513  2019  None  \n",
       "1     2019  180367  2018  None  \n",
       "3     2019  117098  2019  None  \n",
       "6     2019   91393  2019  None  \n",
       "19    2019   54471  2018  None  \n",
       "25    2019     N/A  None  None  \n",
       "31    2019   40897  2019  None  \n",
       "32   37724    2019  None  None  \n",
       "35    2019   12580  2000  None  \n",
       "41    2019   23880  2020  None  \n",
       "45   29160    2018  None  None  \n",
       "49    2019     N/A  None  None  \n",
       "56    2019     N/A  None  None  \n",
       "57    2019   14324  2000  None  \n",
       "59   20660    2019  None  None  \n",
       "62    2019   19701  2019  None  \n",
       "75    2019     N/A  None  None  \n",
       "82   11535    2019  None  None  \n",
       "90    2019    9100  2019  None  \n",
       "202   2019     N/A  None  None  "
      ]
     },
     "execution_count": 1908,
     "metadata": {},
     "output_type": "execute_result"
    }
   ],
   "source": [
    "df_gdp[df_gdp[3] == 'N/A']"
   ]
  },
  {
   "cell_type": "code",
   "execution_count": 1909,
   "metadata": {},
   "outputs": [],
   "source": [
    "df_gdp.replace('N/A', np.nan, inplace = True)"
   ]
  },
  {
   "cell_type": "code",
   "execution_count": 1910,
   "metadata": {},
   "outputs": [],
   "source": [
    "df_gdp[3] = df_gdp[4].where(df_gdp[3].isna(),df_gdp[3])"
   ]
  },
  {
   "cell_type": "code",
   "execution_count": null,
   "metadata": {},
   "outputs": [],
   "source": []
  },
  {
   "cell_type": "code",
   "execution_count": 1911,
   "metadata": {},
   "outputs": [],
   "source": [
    "df_gdp[3] = df_gdp[5].where(df_gdp[3].isna(),df_gdp[3])"
   ]
  },
  {
   "cell_type": "code",
   "execution_count": 1912,
   "metadata": {},
   "outputs": [],
   "source": [
    "df_gdp.drop(columns = [1,2,4,5,6,7,8], inplace = True)"
   ]
  },
  {
   "cell_type": "code",
   "execution_count": 1913,
   "metadata": {},
   "outputs": [],
   "source": [
    "df_gdp.rename(columns = {0:'Country', 3:'GDP per Capita'}, inplace = True)"
   ]
  },
  {
   "cell_type": "code",
   "execution_count": 1914,
   "metadata": {},
   "outputs": [],
   "source": [
    "df_gdp['Country'] = df_gdp['Country'].apply(lambda x: x.replace('*', '').rstrip())"
   ]
  },
  {
   "cell_type": "code",
   "execution_count": 1915,
   "metadata": {},
   "outputs": [],
   "source": [
    "df_gdp['GDP per Capita'][166] = '2138' "
   ]
  },
  {
   "cell_type": "code",
   "execution_count": 1916,
   "metadata": {},
   "outputs": [],
   "source": [
    "df = pd.merge(df,df_gdp, on = 'Country', how = 'inner')"
   ]
  },
  {
   "cell_type": "code",
   "execution_count": 1917,
   "metadata": {},
   "outputs": [
    {
     "data": {
      "text/html": [
       "<div>\n",
       "<style scoped>\n",
       "    .dataframe tbody tr th:only-of-type {\n",
       "        vertical-align: middle;\n",
       "    }\n",
       "\n",
       "    .dataframe tbody tr th {\n",
       "        vertical-align: top;\n",
       "    }\n",
       "\n",
       "    .dataframe thead th {\n",
       "        text-align: right;\n",
       "    }\n",
       "</style>\n",
       "<table border=\"1\" class=\"dataframe\">\n",
       "  <thead>\n",
       "    <tr style=\"text-align: right;\">\n",
       "      <th></th>\n",
       "      <th>Country</th>\n",
       "      <th>HDI Change (5 yrs)</th>\n",
       "      <th>HDI (2020 Report)</th>\n",
       "      <th>Avg. Annual Growth</th>\n",
       "      <th>Sub-Subregion</th>\n",
       "      <th>Subregion</th>\n",
       "      <th>Region</th>\n",
       "      <th>GDP per Capita</th>\n",
       "    </tr>\n",
       "  </thead>\n",
       "  <tbody>\n",
       "    <tr>\n",
       "      <th>0</th>\n",
       "      <td>Norway</td>\n",
       "      <td>NaN</td>\n",
       "      <td>95.7</td>\n",
       "      <td>0.20</td>\n",
       "      <td>Northern Europe</td>\n",
       "      <td>Northern Europe</td>\n",
       "      <td>Europe</td>\n",
       "      <td>81995</td>\n",
       "    </tr>\n",
       "    <tr>\n",
       "      <th>1</th>\n",
       "      <td>Switzerland</td>\n",
       "      <td>NaN</td>\n",
       "      <td>95.5</td>\n",
       "      <td>0.16</td>\n",
       "      <td>Western Europe</td>\n",
       "      <td>Western Europe</td>\n",
       "      <td>Europe</td>\n",
       "      <td>94696</td>\n",
       "    </tr>\n",
       "    <tr>\n",
       "      <th>2</th>\n",
       "      <td>Hong Kong</td>\n",
       "      <td>7</td>\n",
       "      <td>94.9</td>\n",
       "      <td>0.54</td>\n",
       "      <td>Eastern Asia</td>\n",
       "      <td>Eastern Asia</td>\n",
       "      <td>Asia</td>\n",
       "      <td>49036</td>\n",
       "    </tr>\n",
       "    <tr>\n",
       "      <th>3</th>\n",
       "      <td>Iceland</td>\n",
       "      <td>4</td>\n",
       "      <td>94.9</td>\n",
       "      <td>0.62</td>\n",
       "      <td>Northern Europe</td>\n",
       "      <td>Northern Europe</td>\n",
       "      <td>Europe</td>\n",
       "      <td>65273</td>\n",
       "    </tr>\n",
       "    <tr>\n",
       "      <th>4</th>\n",
       "      <td>Germany</td>\n",
       "      <td>3</td>\n",
       "      <td>94.7</td>\n",
       "      <td>0.24</td>\n",
       "      <td>Western Europe</td>\n",
       "      <td>Western Europe</td>\n",
       "      <td>Europe</td>\n",
       "      <td>51860</td>\n",
       "    </tr>\n",
       "    <tr>\n",
       "      <th>...</th>\n",
       "      <td>...</td>\n",
       "      <td>...</td>\n",
       "      <td>...</td>\n",
       "      <td>...</td>\n",
       "      <td>...</td>\n",
       "      <td>...</td>\n",
       "      <td>...</td>\n",
       "      <td>...</td>\n",
       "    </tr>\n",
       "    <tr>\n",
       "      <th>173</th>\n",
       "      <td>Sierra Leone</td>\n",
       "      <td>2</td>\n",
       "      <td>45.2</td>\n",
       "      <td>1.40</td>\n",
       "      <td>Western Africa</td>\n",
       "      <td>Sub-Saharan Africa</td>\n",
       "      <td>Africa</td>\n",
       "      <td>542</td>\n",
       "    </tr>\n",
       "    <tr>\n",
       "      <th>174</th>\n",
       "      <td>Mali</td>\n",
       "      <td>NaN</td>\n",
       "      <td>43.4</td>\n",
       "      <td>0.69</td>\n",
       "      <td>Western Africa</td>\n",
       "      <td>Sub-Saharan Africa</td>\n",
       "      <td>Africa</td>\n",
       "      <td>983</td>\n",
       "    </tr>\n",
       "    <tr>\n",
       "      <th>175</th>\n",
       "      <td>Burundi</td>\n",
       "      <td>5</td>\n",
       "      <td>43.3</td>\n",
       "      <td>0.58</td>\n",
       "      <td>Eastern Africa</td>\n",
       "      <td>Sub-Saharan Africa</td>\n",
       "      <td>Africa</td>\n",
       "      <td>265</td>\n",
       "    </tr>\n",
       "    <tr>\n",
       "      <th>176</th>\n",
       "      <td>South Sudan</td>\n",
       "      <td>3</td>\n",
       "      <td>43.3</td>\n",
       "      <td>0.61</td>\n",
       "      <td>Eastern Africa</td>\n",
       "      <td>Sub-Saharan Africa</td>\n",
       "      <td>Africa</td>\n",
       "      <td>315</td>\n",
       "    </tr>\n",
       "    <tr>\n",
       "      <th>177</th>\n",
       "      <td>Chad</td>\n",
       "      <td>1</td>\n",
       "      <td>39.8</td>\n",
       "      <td>0.84</td>\n",
       "      <td>Middle Africa</td>\n",
       "      <td>Sub-Saharan Africa</td>\n",
       "      <td>Africa</td>\n",
       "      <td>741</td>\n",
       "    </tr>\n",
       "  </tbody>\n",
       "</table>\n",
       "<p>178 rows × 8 columns</p>\n",
       "</div>"
      ],
      "text/plain": [
       "          Country HDI Change (5 yrs)  HDI (2020 Report)  Avg. Annual Growth  \\\n",
       "0          Norway                NaN               95.7                0.20   \n",
       "1     Switzerland                NaN               95.5                0.16   \n",
       "2       Hong Kong                  7               94.9                0.54   \n",
       "3         Iceland                  4               94.9                0.62   \n",
       "4         Germany                  3               94.7                0.24   \n",
       "..            ...                ...                ...                 ...   \n",
       "173  Sierra Leone                  2               45.2                1.40   \n",
       "174          Mali                NaN               43.4                0.69   \n",
       "175       Burundi                  5               43.3                0.58   \n",
       "176   South Sudan                  3               43.3                0.61   \n",
       "177          Chad                  1               39.8                0.84   \n",
       "\n",
       "       Sub-Subregion           Subregion  Region GDP per Capita  \n",
       "0    Northern Europe     Northern Europe  Europe          81995  \n",
       "1     Western Europe      Western Europe  Europe          94696  \n",
       "2       Eastern Asia        Eastern Asia    Asia          49036  \n",
       "3    Northern Europe     Northern Europe  Europe          65273  \n",
       "4     Western Europe      Western Europe  Europe          51860  \n",
       "..               ...                 ...     ...            ...  \n",
       "173   Western Africa  Sub-Saharan Africa  Africa            542  \n",
       "174   Western Africa  Sub-Saharan Africa  Africa            983  \n",
       "175   Eastern Africa  Sub-Saharan Africa  Africa            265  \n",
       "176   Eastern Africa  Sub-Saharan Africa  Africa            315  \n",
       "177    Middle Africa  Sub-Saharan Africa  Africa            741  \n",
       "\n",
       "[178 rows x 8 columns]"
      ]
     },
     "execution_count": 1917,
     "metadata": {},
     "output_type": "execute_result"
    }
   ],
   "source": [
    "df"
   ]
  },
  {
   "cell_type": "code",
   "execution_count": 1918,
   "metadata": {},
   "outputs": [],
   "source": [
    "df['GDP per Capita'] = df['GDP per Capita'].astype(int)"
   ]
  },
  {
   "cell_type": "code",
   "execution_count": 1919,
   "metadata": {},
   "outputs": [
    {
     "data": {
      "text/plain": [
       "Country                object\n",
       "HDI Change (5 yrs)     object\n",
       "HDI (2020 Report)     float64\n",
       "Avg. Annual Growth    float64\n",
       "Sub-Subregion          object\n",
       "Subregion              object\n",
       "Region                 object\n",
       "GDP per Capita          int64\n",
       "dtype: object"
      ]
     },
     "execution_count": 1919,
     "metadata": {},
     "output_type": "execute_result"
    }
   ],
   "source": [
    "df.dtypes"
   ]
  },
  {
   "cell_type": "code",
   "execution_count": 1932,
   "metadata": {},
   "outputs": [
    {
     "data": {
      "text/plain": [
       "Sub-Subregion\n",
       "Western Europe               83069.50\n",
       "Northern America             58765.50\n",
       "Australia and New Zealand    55111.00\n",
       "Northern Europe              49256.33\n",
       "Eastern Asia                 28564.20\n",
       "Southern Europe              20364.08\n",
       "Western Asia                 18353.19\n",
       "Eastern Europe               13531.80\n",
       "South-eastern Asia           12306.18\n",
       "Caribbean                     9810.00\n",
       "South America                 7419.42\n",
       "Central America               6455.62\n",
       "Micronesia                    6324.33\n",
       "Southern Africa               4702.50\n",
       "Central Asia                  4513.60\n",
       "Polynesia                     4376.50\n",
       "Middle Africa                 4229.00\n",
       "Southern Asia                 3839.89\n",
       "Melanesia                     3304.50\n",
       "Sub-Saharan Africa            3138.50\n",
       "Northern Africa               3116.33\n",
       "Eastern Africa                2068.12\n",
       "Western Africa                1515.08\n",
       "Name: GDP per Capita, dtype: float64"
      ]
     },
     "execution_count": 1932,
     "metadata": {},
     "output_type": "execute_result"
    }
   ],
   "source": [
    "round(df['GDP per Capita'].groupby(df['Sub-Subregion']).mean().sort_values(ascending = False),2)"
   ]
  },
  {
   "cell_type": "code",
   "execution_count": 1928,
   "metadata": {},
   "outputs": [
    {
     "data": {
      "image/png": "[encoded data removed]",
      "text/plain": [
       "<Figure size 720x576 with 1 Axes>"
      ]
     },
     "metadata": {
      "needs_background": "light"
     },
     "output_type": "display_data"
    }
   ],
   "source": [
    "\n",
    "plt.figure(figsize = (10,8))\n",
    "plt.title('GDP per Capita vs. HDI', size = 20)\n",
    "plt.scatter(df['HDI (2020 Report)'], df['GDP per Capita'], alpha=0.5)\n",
    "plt.show()"
   ]
  },
  {
   "cell_type": "code",
   "execution_count": 1925,
   "metadata": {},
   "outputs": [
    {
     "data": {
      "text/plain": [
       "0.6565495142536228"
      ]
     },
     "execution_count": 1925,
     "metadata": {},
     "output_type": "execute_result"
    }
   ],
   "source": [
    "df['HDI (2020 Report)'].corr(df['GDP per Capita'])"
   ]
  }
 ],
 "metadata": {
  "kernelspec": {
   "display_name": "Python 3",
   "language": "python",
   "name": "python3"
  },
  "language_info": {
   "codemirror_mode": {
    "name": "ipython",
    "version": 3
   },
   "file_extension": ".py",
   "mimetype": "text/x-python",
   "name": "python",
   "nbconvert_exporter": "python",
   "pygments_lexer": "ipython3",
   "version": "3.8.5"
  }
 },
 "nbformat": 4,
 "nbformat_minor": 4
}
