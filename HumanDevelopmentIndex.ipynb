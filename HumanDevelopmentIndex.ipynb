{
 "cells": [
  {
   "cell_type": "markdown",
   "metadata": {},
   "source": [
    "# Human Development Index"
   ]
  },
  {
   "cell_type": "code",
   "execution_count": 2388,
   "metadata": {},
   "outputs": [],
   "source": [
    "import requests\n",
    "import urllib.request\n",
    "import time\n",
    "from bs4 import BeautifulSoup\n",
    "import numpy as np\n",
    "import pandas as pd\n",
    "import regex as re\n",
    "import matplotlib.pyplot as plt\n",
    "from urllib.request import urlopen\n",
    "import pycountry\n",
    "import seaborn as sns\n",
    "from sklearn.linear_model import LinearRegression\n",
    "from sklearn.metrics import mean_squared_error"
   ]
  },
  {
   "cell_type": "markdown",
   "metadata": {},
   "source": [
    "### Create a function to webscrape data \n",
    "\n",
    "I will need to call this function a few times as I want to bring in other data to use in my analysis of the Human Development Index. "
   ]
  },
  {
   "cell_type": "code",
   "execution_count": 2264,
   "metadata": {},
   "outputs": [],
   "source": [
    "url = 'https://en.m.wikipedia.org/wiki/List_of_countries_by_Human_Development_Index'"
   ]
  },
  {
   "cell_type": "code",
   "execution_count": 2265,
   "metadata": {},
   "outputs": [],
   "source": [
    "def webscraper(x):\n",
    "    \"\"\"Function scrapes data from wikipedia by identifying 'table' tags and then looping through each column in the\n",
    "    table and returing the data as a pandas dataframe\"\"\"\n",
    "    \n",
    "    html = urlopen(x)\n",
    "    soup = BeautifulSoup(html, 'html.parser')\n",
    "    tables = soup.find_all('body')\n",
    "    table1 = soup.find_all('table', attrs = {'class': 'wikitable'})\n",
    "    #print(\"Number of tables on site: \",len(tabl))\n",
    "    tab1 = table1[0]\n",
    "    body = tab1.find_all(\"tr\")\n",
    "    head = body[0]\n",
    "    body_rows = body[1:]\n",
    "    \n",
    "    headings = []\n",
    "    for item in head.find_all(\"th\"):\n",
    "        item = (item.text).rstrip(\"\\n\")\n",
    "        headings.append(item)\n",
    "    print(f'Column Headers: {headings}')\n",
    "    \n",
    "    all_rows = [] # will be a list for list for all rows\n",
    "    for row_num in range(len(body_rows)): # A row at a time\n",
    "        row = [] # this will old entries for one row\n",
    "        for row_item in body_rows[row_num].find_all(\"td\"): #loop through all row entries\n",
    "        # row_item.text removes the tags from the entries\n",
    "        # the following regex is to remove \\xa0 and \\n and comma from row_item.text\n",
    "        # xa0 encodes the flag, \\n is the newline and comma separates thousands in numbers\n",
    "            aa = re.sub(\"(\\xa0)|(\\n)|,\",\"\",row_item.text)\n",
    "        #append aa to row - note one row entry is being appended\n",
    "            row.append(aa)\n",
    "        all_rows.append(row)# append one row to all_rows\n",
    "    \n",
    "    country_data = []\n",
    "    for i in all_rows:\n",
    "        if len(i) > 1:\n",
    "            country_data.append(i)\n",
    "    \n",
    "    return pd.DataFrame(country_data)"
   ]
  },
  {
   "cell_type": "code",
   "execution_count": 2266,
   "metadata": {},
   "outputs": [
    {
     "name": "stdout",
     "output_type": "stream",
     "text": [
      "Column Headers: ['Rank', 'Nation', 'HDI']\n"
     ]
    },
    {
     "data": {
      "text/html": [
       "<div>\n",
       "<style scoped>\n",
       "    .dataframe tbody tr th:only-of-type {\n",
       "        vertical-align: middle;\n",
       "    }\n",
       "\n",
       "    .dataframe tbody tr th {\n",
       "        vertical-align: top;\n",
       "    }\n",
       "\n",
       "    .dataframe thead th {\n",
       "        text-align: right;\n",
       "    }\n",
       "</style>\n",
       "<table border=\"1\" class=\"dataframe\">\n",
       "  <thead>\n",
       "    <tr style=\"text-align: right;\">\n",
       "      <th></th>\n",
       "      <th>0</th>\n",
       "      <th>1</th>\n",
       "      <th>2</th>\n",
       "      <th>3</th>\n",
       "    </tr>\n",
       "  </thead>\n",
       "  <tbody>\n",
       "    <tr>\n",
       "      <th>0</th>\n",
       "      <td>1</td>\n",
       "      <td></td>\n",
       "      <td>0.957</td>\n",
       "      <td>0.20%</td>\n",
       "    </tr>\n",
       "    <tr>\n",
       "      <th>1</th>\n",
       "      <td>2</td>\n",
       "      <td>(7)</td>\n",
       "      <td>0.955</td>\n",
       "      <td>0.65%</td>\n",
       "    </tr>\n",
       "    <tr>\n",
       "      <th>2</th>\n",
       "      <td>2</td>\n",
       "      <td></td>\n",
       "      <td>0.955</td>\n",
       "      <td>0.16%</td>\n",
       "    </tr>\n",
       "    <tr>\n",
       "      <th>3</th>\n",
       "      <td>4</td>\n",
       "      <td>(7)</td>\n",
       "      <td>0.949</td>\n",
       "      <td>0.54%</td>\n",
       "    </tr>\n",
       "    <tr>\n",
       "      <th>4</th>\n",
       "      <td>4</td>\n",
       "      <td>(4)</td>\n",
       "      <td>0.949</td>\n",
       "      <td>0.62%</td>\n",
       "    </tr>\n",
       "    <tr>\n",
       "      <th>...</th>\n",
       "      <td>...</td>\n",
       "      <td>...</td>\n",
       "      <td>...</td>\n",
       "      <td>...</td>\n",
       "    </tr>\n",
       "    <tr>\n",
       "      <th>184</th>\n",
       "      <td>185</td>\n",
       "      <td>(5)</td>\n",
       "      <td>0.433</td>\n",
       "      <td>0.58%</td>\n",
       "    </tr>\n",
       "    <tr>\n",
       "      <th>185</th>\n",
       "      <td>185</td>\n",
       "      <td>(3)</td>\n",
       "      <td>0.433</td>\n",
       "      <td>0.61%</td>\n",
       "    </tr>\n",
       "    <tr>\n",
       "      <th>186</th>\n",
       "      <td>187</td>\n",
       "      <td>(1)</td>\n",
       "      <td>0.398</td>\n",
       "      <td>0.84%</td>\n",
       "    </tr>\n",
       "    <tr>\n",
       "      <th>187</th>\n",
       "      <td>188</td>\n",
       "      <td>(1)</td>\n",
       "      <td>0.397</td>\n",
       "      <td>0.94%</td>\n",
       "    </tr>\n",
       "    <tr>\n",
       "      <th>188</th>\n",
       "      <td>189</td>\n",
       "      <td>(1)</td>\n",
       "      <td>0.394</td>\n",
       "      <td>1.95%</td>\n",
       "    </tr>\n",
       "  </tbody>\n",
       "</table>\n",
       "<p>189 rows × 4 columns</p>\n",
       "</div>"
      ],
      "text/plain": [
       "       0     1      2       3\n",
       "0      1        0.957   0.20%\n",
       "1      2   (7)  0.955   0.65%\n",
       "2      2        0.955   0.16%\n",
       "3      4   (7)  0.949   0.54%\n",
       "4      4   (4)  0.949   0.62%\n",
       "..   ...   ...    ...     ...\n",
       "184  185   (5)  0.433   0.58%\n",
       "185  185   (3)  0.433   0.61%\n",
       "186  187   (1)  0.398   0.84%\n",
       "187  188   (1)  0.397   0.94%\n",
       "188  189   (1)  0.394   1.95%\n",
       "\n",
       "[189 rows x 4 columns]"
      ]
     },
     "execution_count": 2266,
     "metadata": {},
     "output_type": "execute_result"
    }
   ],
   "source": [
    "webscraper(url)"
   ]
  },
  {
   "cell_type": "code",
   "execution_count": 2270,
   "metadata": {},
   "outputs": [
    {
     "name": "stdout",
     "output_type": "stream",
     "text": [
      "Column Headers: ['Rank', 'Nation', 'HDI']\n"
     ]
    }
   ],
   "source": [
    "df = webscraper(url)"
   ]
  },
  {
   "cell_type": "code",
   "execution_count": 2271,
   "metadata": {},
   "outputs": [
    {
     "data": {
      "text/html": [
       "<div>\n",
       "<style scoped>\n",
       "    .dataframe tbody tr th:only-of-type {\n",
       "        vertical-align: middle;\n",
       "    }\n",
       "\n",
       "    .dataframe tbody tr th {\n",
       "        vertical-align: top;\n",
       "    }\n",
       "\n",
       "    .dataframe thead th {\n",
       "        text-align: right;\n",
       "    }\n",
       "</style>\n",
       "<table border=\"1\" class=\"dataframe\">\n",
       "  <thead>\n",
       "    <tr style=\"text-align: right;\">\n",
       "      <th></th>\n",
       "      <th>0</th>\n",
       "      <th>1</th>\n",
       "      <th>2</th>\n",
       "      <th>3</th>\n",
       "    </tr>\n",
       "  </thead>\n",
       "  <tbody>\n",
       "    <tr>\n",
       "      <th>0</th>\n",
       "      <td>1</td>\n",
       "      <td></td>\n",
       "      <td>0.957</td>\n",
       "      <td>0.20%</td>\n",
       "    </tr>\n",
       "    <tr>\n",
       "      <th>1</th>\n",
       "      <td>2</td>\n",
       "      <td>(7)</td>\n",
       "      <td>0.955</td>\n",
       "      <td>0.65%</td>\n",
       "    </tr>\n",
       "    <tr>\n",
       "      <th>2</th>\n",
       "      <td>2</td>\n",
       "      <td></td>\n",
       "      <td>0.955</td>\n",
       "      <td>0.16%</td>\n",
       "    </tr>\n",
       "    <tr>\n",
       "      <th>3</th>\n",
       "      <td>4</td>\n",
       "      <td>(7)</td>\n",
       "      <td>0.949</td>\n",
       "      <td>0.54%</td>\n",
       "    </tr>\n",
       "    <tr>\n",
       "      <th>4</th>\n",
       "      <td>4</td>\n",
       "      <td>(4)</td>\n",
       "      <td>0.949</td>\n",
       "      <td>0.62%</td>\n",
       "    </tr>\n",
       "  </tbody>\n",
       "</table>\n",
       "</div>"
      ],
      "text/plain": [
       "   0     1      2       3\n",
       "0  1        0.957   0.20%\n",
       "1  2   (7)  0.955   0.65%\n",
       "2  2        0.955   0.16%\n",
       "3  4   (7)  0.949   0.54%\n",
       "4  4   (4)  0.949   0.62%"
      ]
     },
     "execution_count": 2271,
     "metadata": {},
     "output_type": "execute_result"
    }
   ],
   "source": [
    "df.head()"
   ]
  },
  {
   "cell_type": "code",
   "execution_count": 2272,
   "metadata": {},
   "outputs": [
    {
     "name": "stdout",
     "output_type": "stream",
     "text": [
      "['#cite_note-2020_components-2', '#cite_note-2020_trends-18', 'Norway', 'Republic_of_Ireland', 'Switzerland', 'Hong_Kong', 'Iceland', 'Germany', 'Sweden', 'Australia', 'Netherlands', 'Denmark', 'Finland', 'Singapore', 'United_Kingdom', 'Belgium', 'New_Zealand', 'Canada', 'United_States', 'Austria', 'Israel', 'Japan', 'Liechtenstein', 'Slovenia', 'Luxembourg', 'South_Korea', 'Spain', 'France', 'Czech_Republic', 'Malta', 'Estonia', 'Italy', 'United_Arab_Emirates', 'Greece', 'Cyprus', 'Lithuania', 'Poland', 'Andorra', 'Latvia', 'Portugal', 'Slovakia', 'Hungary', 'Saudi_Arabia', 'Bahrain', 'Chile', 'Croatia', 'Qatar', 'Argentina', 'Brunei', 'Montenegro', 'Romania', 'Palau', 'Kazakhstan', 'Russia', 'Belarus', 'Turkey', 'Uruguay', 'Bulgaria', 'Panama', 'The_Bahamas', 'Barbados', 'Oman', 'Georgia_(country)', 'Costa_Rica', 'Malaysia', 'Kuwait', 'Serbia', 'Mauritius', 'Seychelles', 'Trinidad_and_Tobago', 'Albania', 'Cuba', 'Iran', 'Sri_Lanka', 'Bosnia_and_Herzegovina', 'Grenada', 'Mexico', 'Saint_Kitts_and_Nevis', 'Ukraine', 'Antigua_and_Barbuda', 'Peru', 'Thailand', 'Armenia', 'North_Macedonia', 'Colombia', 'Brazil', 'China', 'Ecuador', 'Saint_Lucia', 'Azerbaijan', 'Dominican_Republic', 'Moldova', 'Algeria', 'Lebanon', 'Fiji', 'Dominica', 'Maldives', 'Tunisia', 'Saint_Vincent_and_the_Grenadines', 'Suriname', 'Mongolia', 'Botswana', 'Jamaica', 'Jordan', 'Paraguay', 'Tonga', 'Libya', 'Uzbekistan', 'Bolivia', 'Indonesia', 'Philippines', 'Belize', 'Samoa', 'Turkmenistan', 'Venezuela', 'South_Africa', 'State_of_Palestine', 'Egypt', '#cite_note-marshall-19', 'Marshall_Islands', '#cite_note-marshall-19', 'Vietnam', 'Gabon', 'Kyrgyzstan', 'Morocco', 'Guyana', 'Iraq', 'El_Salvador', 'Tajikistan', 'Cape_Verde', 'Guatemala', 'Nicaragua', 'Bhutan', 'Namibia', 'India', 'Honduras', 'Bangladesh', 'Kiribati', 'S%C3%A3o_Tom%C3%A9_and_Pr%C3%ADncipe', 'Federated_States_of_Micronesia', 'Laos', 'Eswatini', 'Ghana', 'Vanuatu', 'East_Timor', 'Nepal', 'Kenya', 'Cambodia', 'Equatorial_Guinea', 'Zambia', 'Myanmar', 'Angola', 'Republic_of_the_Congo', 'Zimbabwe', 'Solomon_Islands', 'Syria', 'Cameroon', 'Pakistan', 'Papua_New_Guinea', 'Comoros', 'Mauritania', 'Benin', 'Uganda', 'Rwanda', 'Nigeria', 'Ivory_Coast', 'Tanzania', 'Madagascar', 'Lesotho', 'Djibouti', 'Togo', 'Senegal', 'Afghanistan', 'Haiti', 'Sudan', 'The_Gambia', 'Ethiopia', 'Malawi', 'Democratic_Republic_of_the_Congo', 'Guinea-Bissau', 'Liberia', 'Guinea', 'Yemen', 'Eritrea', 'Mozambique', 'Burkina_Faso', 'Sierra_Leone', 'Mali', 'Burundi', 'South_Sudan', 'Chad']\n"
     ]
    }
   ],
   "source": [
    "project_href = [i['href'] for i in soup.find_all('a', href=True) if i['href'] != \"#\"]\n",
    "\n",
    "nations = []\n",
    "for i in project_href[85:276]:\n",
    "    for j in i.split('/')[-1:]:\n",
    "        nations.append(j)\n",
    "print(nations)"
   ]
  },
  {
   "cell_type": "code",
   "execution_count": 2273,
   "metadata": {},
   "outputs": [],
   "source": [
    "def txt_cleaner(x):\n",
    "    n = []\n",
    "    for i in x:\n",
    "        if \"#\" not in i:\n",
    "            n.append(''.join([j if j != \"_\" else ' ' for j in i]))\n",
    "    return n"
   ]
  },
  {
   "cell_type": "code",
   "execution_count": 2274,
   "metadata": {},
   "outputs": [
    {
     "data": {
      "text/plain": [
       "['Norway',\n",
       " 'Republic of Ireland',\n",
       " 'Switzerland',\n",
       " 'Hong Kong',\n",
       " 'Iceland',\n",
       " 'Germany',\n",
       " 'Sweden',\n",
       " 'Australia',\n",
       " 'Netherlands',\n",
       " 'Denmark',\n",
       " 'Finland',\n",
       " 'Singapore',\n",
       " 'United Kingdom',\n",
       " 'Belgium',\n",
       " 'New Zealand',\n",
       " 'Canada',\n",
       " 'United States',\n",
       " 'Austria',\n",
       " 'Israel',\n",
       " 'Japan',\n",
       " 'Liechtenstein',\n",
       " 'Slovenia',\n",
       " 'Luxembourg',\n",
       " 'South Korea',\n",
       " 'Spain',\n",
       " 'France',\n",
       " 'Czech Republic',\n",
       " 'Malta',\n",
       " 'Estonia',\n",
       " 'Italy',\n",
       " 'United Arab Emirates',\n",
       " 'Greece',\n",
       " 'Cyprus',\n",
       " 'Lithuania',\n",
       " 'Poland',\n",
       " 'Andorra',\n",
       " 'Latvia',\n",
       " 'Portugal',\n",
       " 'Slovakia',\n",
       " 'Hungary',\n",
       " 'Saudi Arabia',\n",
       " 'Bahrain',\n",
       " 'Chile',\n",
       " 'Croatia',\n",
       " 'Qatar',\n",
       " 'Argentina',\n",
       " 'Brunei',\n",
       " 'Montenegro',\n",
       " 'Romania',\n",
       " 'Palau',\n",
       " 'Kazakhstan',\n",
       " 'Russia',\n",
       " 'Belarus',\n",
       " 'Turkey',\n",
       " 'Uruguay',\n",
       " 'Bulgaria',\n",
       " 'Panama',\n",
       " 'The Bahamas',\n",
       " 'Barbados',\n",
       " 'Oman',\n",
       " 'Georgia (country)',\n",
       " 'Costa Rica',\n",
       " 'Malaysia',\n",
       " 'Kuwait',\n",
       " 'Serbia',\n",
       " 'Mauritius',\n",
       " 'Seychelles',\n",
       " 'Trinidad and Tobago',\n",
       " 'Albania',\n",
       " 'Cuba',\n",
       " 'Iran',\n",
       " 'Sri Lanka',\n",
       " 'Bosnia and Herzegovina',\n",
       " 'Grenada',\n",
       " 'Mexico',\n",
       " 'Saint Kitts and Nevis',\n",
       " 'Ukraine',\n",
       " 'Antigua and Barbuda',\n",
       " 'Peru',\n",
       " 'Thailand',\n",
       " 'Armenia',\n",
       " 'North Macedonia',\n",
       " 'Colombia',\n",
       " 'Brazil',\n",
       " 'China',\n",
       " 'Ecuador',\n",
       " 'Saint Lucia',\n",
       " 'Azerbaijan',\n",
       " 'Dominican Republic',\n",
       " 'Moldova',\n",
       " 'Algeria',\n",
       " 'Lebanon',\n",
       " 'Fiji',\n",
       " 'Dominica',\n",
       " 'Maldives',\n",
       " 'Tunisia',\n",
       " 'Saint Vincent and the Grenadines',\n",
       " 'Suriname',\n",
       " 'Mongolia',\n",
       " 'Botswana',\n",
       " 'Jamaica',\n",
       " 'Jordan',\n",
       " 'Paraguay',\n",
       " 'Tonga',\n",
       " 'Libya',\n",
       " 'Uzbekistan',\n",
       " 'Bolivia',\n",
       " 'Indonesia',\n",
       " 'Philippines',\n",
       " 'Belize',\n",
       " 'Samoa',\n",
       " 'Turkmenistan',\n",
       " 'Venezuela',\n",
       " 'South Africa',\n",
       " 'State of Palestine',\n",
       " 'Egypt',\n",
       " 'Marshall Islands',\n",
       " 'Vietnam',\n",
       " 'Gabon',\n",
       " 'Kyrgyzstan',\n",
       " 'Morocco',\n",
       " 'Guyana',\n",
       " 'Iraq',\n",
       " 'El Salvador',\n",
       " 'Tajikistan',\n",
       " 'Cape Verde',\n",
       " 'Guatemala',\n",
       " 'Nicaragua',\n",
       " 'Bhutan',\n",
       " 'Namibia',\n",
       " 'India',\n",
       " 'Honduras',\n",
       " 'Bangladesh',\n",
       " 'Kiribati',\n",
       " 'S%C3%A3o Tom%C3%A9 and Pr%C3%ADncipe',\n",
       " 'Federated States of Micronesia',\n",
       " 'Laos',\n",
       " 'Eswatini',\n",
       " 'Ghana',\n",
       " 'Vanuatu',\n",
       " 'East Timor',\n",
       " 'Nepal',\n",
       " 'Kenya',\n",
       " 'Cambodia',\n",
       " 'Equatorial Guinea',\n",
       " 'Zambia',\n",
       " 'Myanmar',\n",
       " 'Angola',\n",
       " 'Republic of the Congo',\n",
       " 'Zimbabwe',\n",
       " 'Solomon Islands',\n",
       " 'Syria',\n",
       " 'Cameroon',\n",
       " 'Pakistan',\n",
       " 'Papua New Guinea',\n",
       " 'Comoros',\n",
       " 'Mauritania',\n",
       " 'Benin',\n",
       " 'Uganda',\n",
       " 'Rwanda',\n",
       " 'Nigeria',\n",
       " 'Ivory Coast',\n",
       " 'Tanzania',\n",
       " 'Madagascar',\n",
       " 'Lesotho',\n",
       " 'Djibouti',\n",
       " 'Togo',\n",
       " 'Senegal',\n",
       " 'Afghanistan',\n",
       " 'Haiti',\n",
       " 'Sudan',\n",
       " 'The Gambia',\n",
       " 'Ethiopia',\n",
       " 'Malawi',\n",
       " 'Democratic Republic of the Congo',\n",
       " 'Guinea-Bissau',\n",
       " 'Liberia',\n",
       " 'Guinea',\n",
       " 'Yemen',\n",
       " 'Eritrea',\n",
       " 'Mozambique',\n",
       " 'Burkina Faso',\n",
       " 'Sierra Leone',\n",
       " 'Mali',\n",
       " 'Burundi',\n",
       " 'South Sudan',\n",
       " 'Chad']"
      ]
     },
     "execution_count": 2274,
     "metadata": {},
     "output_type": "execute_result"
    }
   ],
   "source": [
    "txt_cleaner(nations)"
   ]
  },
  {
   "cell_type": "code",
   "execution_count": 2275,
   "metadata": {},
   "outputs": [],
   "source": [
    "nation = txt_cleaner(nations)"
   ]
  },
  {
   "cell_type": "code",
   "execution_count": 2276,
   "metadata": {},
   "outputs": [
    {
     "data": {
      "text/plain": [
       "187"
      ]
     },
     "execution_count": 2276,
     "metadata": {},
     "output_type": "execute_result"
    }
   ],
   "source": [
    "#verify all data from column nation had been collected\n",
    "len(nation)"
   ]
  },
  {
   "cell_type": "code",
   "execution_count": 2277,
   "metadata": {},
   "outputs": [],
   "source": [
    "country = pd.DataFrame(nation)"
   ]
  },
  {
   "cell_type": "code",
   "execution_count": 2278,
   "metadata": {},
   "outputs": [],
   "source": [
    "data_frame = pd.merge(country,df,left_index = True, right_index = True)"
   ]
  },
  {
   "cell_type": "code",
   "execution_count": 2279,
   "metadata": {},
   "outputs": [
    {
     "data": {
      "text/html": [
       "<div>\n",
       "<style scoped>\n",
       "    .dataframe tbody tr th:only-of-type {\n",
       "        vertical-align: middle;\n",
       "    }\n",
       "\n",
       "    .dataframe tbody tr th {\n",
       "        vertical-align: top;\n",
       "    }\n",
       "\n",
       "    .dataframe thead th {\n",
       "        text-align: right;\n",
       "    }\n",
       "</style>\n",
       "<table border=\"1\" class=\"dataframe\">\n",
       "  <thead>\n",
       "    <tr style=\"text-align: right;\">\n",
       "      <th></th>\n",
       "      <th>Country</th>\n",
       "    </tr>\n",
       "  </thead>\n",
       "  <tbody>\n",
       "    <tr>\n",
       "      <th>0</th>\n",
       "      <td>Norway</td>\n",
       "    </tr>\n",
       "    <tr>\n",
       "      <th>1</th>\n",
       "      <td>Republic of Ireland</td>\n",
       "    </tr>\n",
       "    <tr>\n",
       "      <th>2</th>\n",
       "      <td>Switzerland</td>\n",
       "    </tr>\n",
       "    <tr>\n",
       "      <th>3</th>\n",
       "      <td>Hong Kong</td>\n",
       "    </tr>\n",
       "    <tr>\n",
       "      <th>4</th>\n",
       "      <td>Iceland</td>\n",
       "    </tr>\n",
       "    <tr>\n",
       "      <th>...</th>\n",
       "      <td>...</td>\n",
       "    </tr>\n",
       "    <tr>\n",
       "      <th>182</th>\n",
       "      <td>Sierra Leone</td>\n",
       "    </tr>\n",
       "    <tr>\n",
       "      <th>183</th>\n",
       "      <td>Mali</td>\n",
       "    </tr>\n",
       "    <tr>\n",
       "      <th>184</th>\n",
       "      <td>Burundi</td>\n",
       "    </tr>\n",
       "    <tr>\n",
       "      <th>185</th>\n",
       "      <td>South Sudan</td>\n",
       "    </tr>\n",
       "    <tr>\n",
       "      <th>186</th>\n",
       "      <td>Chad</td>\n",
       "    </tr>\n",
       "  </tbody>\n",
       "</table>\n",
       "<p>187 rows × 1 columns</p>\n",
       "</div>"
      ],
      "text/plain": [
       "                 Country\n",
       "0                 Norway\n",
       "1    Republic of Ireland\n",
       "2            Switzerland\n",
       "3              Hong Kong\n",
       "4                Iceland\n",
       "..                   ...\n",
       "182         Sierra Leone\n",
       "183                 Mali\n",
       "184              Burundi\n",
       "185          South Sudan\n",
       "186                 Chad\n",
       "\n",
       "[187 rows x 1 columns]"
      ]
     },
     "execution_count": 2279,
     "metadata": {},
     "output_type": "execute_result"
    }
   ],
   "source": [
    "country.rename(columns = {0:\"Country\"})"
   ]
  },
  {
   "cell_type": "code",
   "execution_count": 2280,
   "metadata": {},
   "outputs": [
    {
     "data": {
      "text/html": [
       "<div>\n",
       "<style scoped>\n",
       "    .dataframe tbody tr th:only-of-type {\n",
       "        vertical-align: middle;\n",
       "    }\n",
       "\n",
       "    .dataframe tbody tr th {\n",
       "        vertical-align: top;\n",
       "    }\n",
       "\n",
       "    .dataframe thead th {\n",
       "        text-align: right;\n",
       "    }\n",
       "</style>\n",
       "<table border=\"1\" class=\"dataframe\">\n",
       "  <thead>\n",
       "    <tr style=\"text-align: right;\">\n",
       "      <th></th>\n",
       "      <th>0_x</th>\n",
       "      <th>0_y</th>\n",
       "      <th>1</th>\n",
       "      <th>2</th>\n",
       "      <th>3</th>\n",
       "    </tr>\n",
       "  </thead>\n",
       "  <tbody>\n",
       "    <tr>\n",
       "      <th>0</th>\n",
       "      <td>Norway</td>\n",
       "      <td>1</td>\n",
       "      <td></td>\n",
       "      <td>0.957</td>\n",
       "      <td>0.20%</td>\n",
       "    </tr>\n",
       "    <tr>\n",
       "      <th>1</th>\n",
       "      <td>Republic of Ireland</td>\n",
       "      <td>2</td>\n",
       "      <td>(7)</td>\n",
       "      <td>0.955</td>\n",
       "      <td>0.65%</td>\n",
       "    </tr>\n",
       "    <tr>\n",
       "      <th>2</th>\n",
       "      <td>Switzerland</td>\n",
       "      <td>2</td>\n",
       "      <td></td>\n",
       "      <td>0.955</td>\n",
       "      <td>0.16%</td>\n",
       "    </tr>\n",
       "  </tbody>\n",
       "</table>\n",
       "</div>"
      ],
      "text/plain": [
       "                   0_x 0_y     1      2       3\n",
       "0               Norway   1        0.957   0.20%\n",
       "1  Republic of Ireland   2   (7)  0.955   0.65%\n",
       "2          Switzerland   2        0.955   0.16%"
      ]
     },
     "execution_count": 2280,
     "metadata": {},
     "output_type": "execute_result"
    }
   ],
   "source": [
    "data_frame.head(3)"
   ]
  },
  {
   "cell_type": "code",
   "execution_count": 2281,
   "metadata": {},
   "outputs": [],
   "source": [
    "del data_frame['0_y']"
   ]
  },
  {
   "cell_type": "code",
   "execution_count": 2282,
   "metadata": {},
   "outputs": [],
   "source": [
    "#data_frame.columns = ['Country', 'HDI Change (5 yrs)', 'HDI (2020 Report)', 'Avg. annual growth (%)']"
   ]
  },
  {
   "cell_type": "code",
   "execution_count": 2283,
   "metadata": {},
   "outputs": [
    {
     "data": {
      "text/plain": [
       "0_x    0\n",
       "1      0\n",
       "2      0\n",
       "3      0\n",
       "dtype: int64"
      ]
     },
     "execution_count": 2283,
     "metadata": {},
     "output_type": "execute_result"
    }
   ],
   "source": [
    "data_frame.isnull().sum()"
   ]
  },
  {
   "cell_type": "code",
   "execution_count": 2284,
   "metadata": {},
   "outputs": [
    {
     "data": {
      "text/plain": [
       "Index(['0_x', 1, 2, 3], dtype='object')"
      ]
     },
     "execution_count": 2284,
     "metadata": {},
     "output_type": "execute_result"
    }
   ],
   "source": [
    "data_frame.columns"
   ]
  },
  {
   "cell_type": "code",
   "execution_count": 2285,
   "metadata": {},
   "outputs": [],
   "source": [
    "data_frame.rename(columns = {'0_x':'Country', 1: 'HDI Change (5 yrs)', 2:'HDI (2020 Report)', 3:'Avg. Annual Growth'},\n",
    "                  inplace = True)"
   ]
  },
  {
   "cell_type": "code",
   "execution_count": 2286,
   "metadata": {},
   "outputs": [
    {
     "data": {
      "text/html": [
       "<div>\n",
       "<style scoped>\n",
       "    .dataframe tbody tr th:only-of-type {\n",
       "        vertical-align: middle;\n",
       "    }\n",
       "\n",
       "    .dataframe tbody tr th {\n",
       "        vertical-align: top;\n",
       "    }\n",
       "\n",
       "    .dataframe thead th {\n",
       "        text-align: right;\n",
       "    }\n",
       "</style>\n",
       "<table border=\"1\" class=\"dataframe\">\n",
       "  <thead>\n",
       "    <tr style=\"text-align: right;\">\n",
       "      <th></th>\n",
       "      <th>Country</th>\n",
       "      <th>HDI Change (5 yrs)</th>\n",
       "      <th>HDI (2020 Report)</th>\n",
       "      <th>Avg. Annual Growth</th>\n",
       "    </tr>\n",
       "  </thead>\n",
       "  <tbody>\n",
       "    <tr>\n",
       "      <th>0</th>\n",
       "      <td>Norway</td>\n",
       "      <td></td>\n",
       "      <td>0.957</td>\n",
       "      <td>0.20%</td>\n",
       "    </tr>\n",
       "    <tr>\n",
       "      <th>1</th>\n",
       "      <td>Republic of Ireland</td>\n",
       "      <td>(7)</td>\n",
       "      <td>0.955</td>\n",
       "      <td>0.65%</td>\n",
       "    </tr>\n",
       "    <tr>\n",
       "      <th>2</th>\n",
       "      <td>Switzerland</td>\n",
       "      <td></td>\n",
       "      <td>0.955</td>\n",
       "      <td>0.16%</td>\n",
       "    </tr>\n",
       "    <tr>\n",
       "      <th>3</th>\n",
       "      <td>Hong Kong</td>\n",
       "      <td>(7)</td>\n",
       "      <td>0.949</td>\n",
       "      <td>0.54%</td>\n",
       "    </tr>\n",
       "    <tr>\n",
       "      <th>4</th>\n",
       "      <td>Iceland</td>\n",
       "      <td>(4)</td>\n",
       "      <td>0.949</td>\n",
       "      <td>0.62%</td>\n",
       "    </tr>\n",
       "  </tbody>\n",
       "</table>\n",
       "</div>"
      ],
      "text/plain": [
       "               Country HDI Change (5 yrs) HDI (2020 Report) Avg. Annual Growth\n",
       "0               Norway                                0.957              0.20%\n",
       "1  Republic of Ireland                (7)             0.955              0.65%\n",
       "2          Switzerland                                0.955              0.16%\n",
       "3            Hong Kong                (7)             0.949              0.54%\n",
       "4              Iceland                (4)             0.949              0.62%"
      ]
     },
     "execution_count": 2286,
     "metadata": {},
     "output_type": "execute_result"
    }
   ],
   "source": [
    "data_frame.head()"
   ]
  },
  {
   "cell_type": "code",
   "execution_count": 2287,
   "metadata": {},
   "outputs": [],
   "source": [
    "data_frame['Country'][134] = \"Sao Tome and Principe\""
   ]
  },
  {
   "cell_type": "code",
   "execution_count": 2288,
   "metadata": {},
   "outputs": [
    {
     "data": {
      "text/plain": [
       "'Sao Tome and Principe'"
      ]
     },
     "execution_count": 2288,
     "metadata": {},
     "output_type": "execute_result"
    }
   ],
   "source": [
    "data_frame['Country'][134]"
   ]
  },
  {
   "cell_type": "code",
   "execution_count": 2290,
   "metadata": {},
   "outputs": [
    {
     "data": {
      "text/html": [
       "<div>\n",
       "<style scoped>\n",
       "    .dataframe tbody tr th:only-of-type {\n",
       "        vertical-align: middle;\n",
       "    }\n",
       "\n",
       "    .dataframe tbody tr th {\n",
       "        vertical-align: top;\n",
       "    }\n",
       "\n",
       "    .dataframe thead th {\n",
       "        text-align: right;\n",
       "    }\n",
       "</style>\n",
       "<table border=\"1\" class=\"dataframe\">\n",
       "  <thead>\n",
       "    <tr style=\"text-align: right;\">\n",
       "      <th></th>\n",
       "      <th>Country</th>\n",
       "      <th>HDI Change (5 yrs)</th>\n",
       "      <th>HDI (2020 Report)</th>\n",
       "      <th>Avg. Annual Growth</th>\n",
       "    </tr>\n",
       "  </thead>\n",
       "  <tbody>\n",
       "    <tr>\n",
       "      <th>0</th>\n",
       "      <td>Norway</td>\n",
       "      <td></td>\n",
       "      <td>0.957</td>\n",
       "      <td>0.20%</td>\n",
       "    </tr>\n",
       "    <tr>\n",
       "      <th>1</th>\n",
       "      <td>Republic of Ireland</td>\n",
       "      <td>(7)</td>\n",
       "      <td>0.955</td>\n",
       "      <td>0.65%</td>\n",
       "    </tr>\n",
       "    <tr>\n",
       "      <th>2</th>\n",
       "      <td>Switzerland</td>\n",
       "      <td></td>\n",
       "      <td>0.955</td>\n",
       "      <td>0.16%</td>\n",
       "    </tr>\n",
       "    <tr>\n",
       "      <th>3</th>\n",
       "      <td>Hong Kong</td>\n",
       "      <td>(7)</td>\n",
       "      <td>0.949</td>\n",
       "      <td>0.54%</td>\n",
       "    </tr>\n",
       "    <tr>\n",
       "      <th>4</th>\n",
       "      <td>Iceland</td>\n",
       "      <td>(4)</td>\n",
       "      <td>0.949</td>\n",
       "      <td>0.62%</td>\n",
       "    </tr>\n",
       "  </tbody>\n",
       "</table>\n",
       "</div>"
      ],
      "text/plain": [
       "               Country HDI Change (5 yrs) HDI (2020 Report) Avg. Annual Growth\n",
       "0               Norway                                0.957              0.20%\n",
       "1  Republic of Ireland                (7)             0.955              0.65%\n",
       "2          Switzerland                                0.955              0.16%\n",
       "3            Hong Kong                (7)             0.949              0.54%\n",
       "4              Iceland                (4)             0.949              0.62%"
      ]
     },
     "execution_count": 2290,
     "metadata": {},
     "output_type": "execute_result"
    }
   ],
   "source": [
    "data_frame.head()"
   ]
  },
  {
   "cell_type": "code",
   "execution_count": 2291,
   "metadata": {},
   "outputs": [
    {
     "data": {
      "text/plain": [
       "Country               0\n",
       "HDI Change (5 yrs)    0\n",
       "HDI (2020 Report)     0\n",
       "Avg. Annual Growth    0\n",
       "dtype: int64"
      ]
     },
     "execution_count": 2291,
     "metadata": {},
     "output_type": "execute_result"
    }
   ],
   "source": [
    "data_frame.isnull().sum()"
   ]
  },
  {
   "cell_type": "code",
   "execution_count": 2292,
   "metadata": {},
   "outputs": [
    {
     "data": {
      "text/plain": [
       "Country               object\n",
       "HDI Change (5 yrs)    object\n",
       "HDI (2020 Report)     object\n",
       "Avg. Annual Growth    object\n",
       "dtype: object"
      ]
     },
     "execution_count": 2292,
     "metadata": {},
     "output_type": "execute_result"
    }
   ],
   "source": [
    "data_frame.dtypes"
   ]
  },
  {
   "cell_type": "code",
   "execution_count": 2293,
   "metadata": {},
   "outputs": [
    {
     "data": {
      "text/plain": [
       "Index(['Country', 'HDI Change (5 yrs)', 'HDI (2020 Report)',\n",
       "       'Avg. Annual Growth'],\n",
       "      dtype='object')"
      ]
     },
     "execution_count": 2293,
     "metadata": {},
     "output_type": "execute_result"
    }
   ],
   "source": [
    "data_frame.columns"
   ]
  },
  {
   "cell_type": "code",
   "execution_count": 2294,
   "metadata": {},
   "outputs": [],
   "source": [
    "data_frame['Avg. Annual Growth'] = data_frame['Avg. Annual Growth'].apply(lambda x: x[:-1])"
   ]
  },
  {
   "cell_type": "code",
   "execution_count": 2295,
   "metadata": {},
   "outputs": [],
   "source": [
    "n = []\n",
    "for i in data_frame['Avg. Annual Growth']:\n",
    "    if i == 'NA[a':\n",
    "        n.append(0)\n",
    "    else:\n",
    "        n.append(i)"
   ]
  },
  {
   "cell_type": "code",
   "execution_count": 2296,
   "metadata": {},
   "outputs": [],
   "source": [
    "data_frame['Avg. Annual Growth'] = n"
   ]
  },
  {
   "cell_type": "code",
   "execution_count": 2297,
   "metadata": {},
   "outputs": [],
   "source": [
    "data_frame['Avg. Annual Growth'] = data_frame['Avg. Annual Growth'].str.strip().astype(float)"
   ]
  },
  {
   "cell_type": "code",
   "execution_count": 2298,
   "metadata": {},
   "outputs": [],
   "source": [
    "data_frame[\"HDI Change (5 yrs)\"] = data_frame[\"HDI Change (5 yrs)\"].apply(lambda x: x[2] if len(x) > 0 else x)"
   ]
  },
  {
   "cell_type": "code",
   "execution_count": 2299,
   "metadata": {},
   "outputs": [],
   "source": [
    "data_frame['HDI (2020 Report)'] = data_frame['HDI (2020 Report)'].astype(float)"
   ]
  },
  {
   "cell_type": "code",
   "execution_count": 2300,
   "metadata": {},
   "outputs": [],
   "source": [
    "data_frame['HDI (2020 Report)'] = data_frame['HDI (2020 Report)'] * 100"
   ]
  },
  {
   "cell_type": "code",
   "execution_count": 2301,
   "metadata": {},
   "outputs": [
    {
     "data": {
      "text/plain": [
       "Country                object\n",
       "HDI Change (5 yrs)     object\n",
       "HDI (2020 Report)     float64\n",
       "Avg. Annual Growth    float64\n",
       "dtype: object"
      ]
     },
     "execution_count": 2301,
     "metadata": {},
     "output_type": "execute_result"
    }
   ],
   "source": [
    "data_frame.dtypes"
   ]
  },
  {
   "cell_type": "code",
   "execution_count": 2387,
   "metadata": {},
   "outputs": [
    {
     "data": {
      "text/html": [
       "<div>\n",
       "<style scoped>\n",
       "    .dataframe tbody tr th:only-of-type {\n",
       "        vertical-align: middle;\n",
       "    }\n",
       "\n",
       "    .dataframe tbody tr th {\n",
       "        vertical-align: top;\n",
       "    }\n",
       "\n",
       "    .dataframe thead th {\n",
       "        text-align: right;\n",
       "    }\n",
       "</style>\n",
       "<table border=\"1\" class=\"dataframe\">\n",
       "  <thead>\n",
       "    <tr style=\"text-align: right;\">\n",
       "      <th></th>\n",
       "      <th>Country</th>\n",
       "      <th>HDI Change (5 yrs)</th>\n",
       "      <th>HDI (2020 Report)</th>\n",
       "      <th>Avg. Annual Growth</th>\n",
       "    </tr>\n",
       "  </thead>\n",
       "  <tbody>\n",
       "    <tr>\n",
       "      <th>91</th>\n",
       "      <td>Lebanon</td>\n",
       "      <td>6</td>\n",
       "      <td>74.4</td>\n",
       "      <td>-0.32</td>\n",
       "    </tr>\n",
       "    <tr>\n",
       "      <th>101</th>\n",
       "      <td>Jordan</td>\n",
       "      <td>3</td>\n",
       "      <td>72.9</td>\n",
       "      <td>-0.12</td>\n",
       "    </tr>\n",
       "    <tr>\n",
       "      <th>104</th>\n",
       "      <td>Libya</td>\n",
       "      <td>4</td>\n",
       "      <td>72.4</td>\n",
       "      <td>-1.08</td>\n",
       "    </tr>\n",
       "    <tr>\n",
       "      <th>112</th>\n",
       "      <td>Venezuela</td>\n",
       "      <td>4</td>\n",
       "      <td>71.1</td>\n",
       "      <td>-0.69</td>\n",
       "    </tr>\n",
       "    <tr>\n",
       "      <th>140</th>\n",
       "      <td>East Timor</td>\n",
       "      <td>1</td>\n",
       "      <td>60.6</td>\n",
       "      <td>-0.40</td>\n",
       "    </tr>\n",
       "    <tr>\n",
       "      <th>151</th>\n",
       "      <td>Syria</td>\n",
       "      <td>2</td>\n",
       "      <td>56.7</td>\n",
       "      <td>-1.87</td>\n",
       "    </tr>\n",
       "    <tr>\n",
       "      <th>178</th>\n",
       "      <td>Yemen</td>\n",
       "      <td>1</td>\n",
       "      <td>47.0</td>\n",
       "      <td>-0.82</td>\n",
       "    </tr>\n",
       "  </tbody>\n",
       "</table>\n",
       "</div>"
      ],
      "text/plain": [
       "        Country HDI Change (5 yrs)  HDI (2020 Report)  Avg. Annual Growth\n",
       "91      Lebanon                  6               74.4               -0.32\n",
       "101      Jordan                  3               72.9               -0.12\n",
       "104       Libya                  4               72.4               -1.08\n",
       "112   Venezuela                  4               71.1               -0.69\n",
       "140  East Timor                  1               60.6               -0.40\n",
       "151       Syria                  2               56.7               -1.87\n",
       "178       Yemen                  1               47.0               -0.82"
      ]
     },
     "execution_count": 2387,
     "metadata": {},
     "output_type": "execute_result"
    }
   ],
   "source": [
    "data_frame[data_frame['Avg. Annual Growth'] < 0]"
   ]
  },
  {
   "cell_type": "code",
   "execution_count": 2302,
   "metadata": {},
   "outputs": [
    {
     "data": {
      "text/html": [
       "<div>\n",
       "<style scoped>\n",
       "    .dataframe tbody tr th:only-of-type {\n",
       "        vertical-align: middle;\n",
       "    }\n",
       "\n",
       "    .dataframe tbody tr th {\n",
       "        vertical-align: top;\n",
       "    }\n",
       "\n",
       "    .dataframe thead th {\n",
       "        text-align: right;\n",
       "    }\n",
       "</style>\n",
       "<table border=\"1\" class=\"dataframe\">\n",
       "  <thead>\n",
       "    <tr style=\"text-align: right;\">\n",
       "      <th></th>\n",
       "      <th>Country</th>\n",
       "      <th>HDI Change (5 yrs)</th>\n",
       "      <th>HDI (2020 Report)</th>\n",
       "      <th>Avg. Annual Growth</th>\n",
       "    </tr>\n",
       "  </thead>\n",
       "  <tbody>\n",
       "    <tr>\n",
       "      <th>0</th>\n",
       "      <td>Norway</td>\n",
       "      <td></td>\n",
       "      <td>95.7</td>\n",
       "      <td>0.20</td>\n",
       "    </tr>\n",
       "    <tr>\n",
       "      <th>1</th>\n",
       "      <td>Republic of Ireland</td>\n",
       "      <td>7</td>\n",
       "      <td>95.5</td>\n",
       "      <td>0.65</td>\n",
       "    </tr>\n",
       "    <tr>\n",
       "      <th>2</th>\n",
       "      <td>Switzerland</td>\n",
       "      <td></td>\n",
       "      <td>95.5</td>\n",
       "      <td>0.16</td>\n",
       "    </tr>\n",
       "    <tr>\n",
       "      <th>3</th>\n",
       "      <td>Hong Kong</td>\n",
       "      <td>7</td>\n",
       "      <td>94.9</td>\n",
       "      <td>0.54</td>\n",
       "    </tr>\n",
       "    <tr>\n",
       "      <th>4</th>\n",
       "      <td>Iceland</td>\n",
       "      <td>4</td>\n",
       "      <td>94.9</td>\n",
       "      <td>0.62</td>\n",
       "    </tr>\n",
       "  </tbody>\n",
       "</table>\n",
       "</div>"
      ],
      "text/plain": [
       "               Country HDI Change (5 yrs)  HDI (2020 Report)  \\\n",
       "0               Norway                                  95.7   \n",
       "1  Republic of Ireland                  7               95.5   \n",
       "2          Switzerland                                  95.5   \n",
       "3            Hong Kong                  7               94.9   \n",
       "4              Iceland                  4               94.9   \n",
       "\n",
       "   Avg. Annual Growth  \n",
       "0                0.20  \n",
       "1                0.65  \n",
       "2                0.16  \n",
       "3                0.54  \n",
       "4                0.62  "
      ]
     },
     "execution_count": 2302,
     "metadata": {},
     "output_type": "execute_result"
    }
   ],
   "source": [
    "data_frame.head()"
   ]
  },
  {
   "cell_type": "markdown",
   "metadata": {},
   "source": [
    "### Scrape UN Sub-Region Data for more granular view of data"
   ]
  },
  {
   "cell_type": "markdown",
   "metadata": {},
   "source": [
    "### Modified original function to webscrape to include column headers with DataFrame"
   ]
  },
  {
   "cell_type": "code",
   "execution_count": 2310,
   "metadata": {},
   "outputs": [],
   "source": [
    "def webscraper1doto(x):\n",
    "    html = urlopen(x)\n",
    "    soup = BeautifulSoup(html, 'html.parser')\n",
    "    tables = soup.find_all('body')\n",
    "    table1 = soup.find_all('table', attrs = {'class': 'wikitable'})\n",
    "    tab1 = table1[0]\n",
    "    body = tab1.find_all(\"tr\")\n",
    "    head = body[0]\n",
    "    body_rows = body[1:]\n",
    "    headings = []\n",
    "    for item in head.find_all(\"th\"):\n",
    "        item = (item.text).rstrip(\"\\n\")\n",
    "        headings.append(item)\n",
    "    all_rows = [] \n",
    "    for row_num in range(len(body_rows)): \n",
    "        row = [] \n",
    "        for row_item in body_rows[row_num].find_all(\"td\"): \n",
    "            aa = re.sub(\"(\\xa0)|(\\n)|,\",\"\",row_item.text)\n",
    "            row.append(aa)\n",
    "        all_rows.append(row)\n",
    "    country_data = []\n",
    "    for i in all_rows:\n",
    "        if len(i) > 1:\n",
    "            country_data.append(i)\n",
    "    \n",
    "    return pd.DataFrame(country_data, columns = headings)"
   ]
  },
  {
   "cell_type": "code",
   "execution_count": 2311,
   "metadata": {},
   "outputs": [
    {
     "data": {
      "text/html": [
       "<div>\n",
       "<style scoped>\n",
       "    .dataframe tbody tr th:only-of-type {\n",
       "        vertical-align: middle;\n",
       "    }\n",
       "\n",
       "    .dataframe tbody tr th {\n",
       "        vertical-align: top;\n",
       "    }\n",
       "\n",
       "    .dataframe thead th {\n",
       "        text-align: right;\n",
       "    }\n",
       "</style>\n",
       "<table border=\"1\" class=\"dataframe\">\n",
       "  <thead>\n",
       "    <tr style=\"text-align: right;\">\n",
       "      <th></th>\n",
       "      <th>Country or Area</th>\n",
       "      <th>Sub-Subregion</th>\n",
       "      <th>Subregion</th>\n",
       "      <th>Region</th>\n",
       "      <th>UNSD M49 Codes</th>\n",
       "    </tr>\n",
       "  </thead>\n",
       "  <tbody>\n",
       "    <tr>\n",
       "      <th>0</th>\n",
       "      <td>Algeria</td>\n",
       "      <td></td>\n",
       "      <td>Northern Africa</td>\n",
       "      <td>Africa</td>\n",
       "      <td>012 &lt; 015 &lt; 002 &lt; 001</td>\n",
       "    </tr>\n",
       "    <tr>\n",
       "      <th>1</th>\n",
       "      <td>Egypt</td>\n",
       "      <td></td>\n",
       "      <td>Northern Africa</td>\n",
       "      <td>Africa</td>\n",
       "      <td>818 &lt; 015 &lt; 002 &lt; 001</td>\n",
       "    </tr>\n",
       "    <tr>\n",
       "      <th>2</th>\n",
       "      <td>Libya</td>\n",
       "      <td></td>\n",
       "      <td>Northern Africa</td>\n",
       "      <td>Africa</td>\n",
       "      <td>434 &lt; 015 &lt; 002 &lt; 001</td>\n",
       "    </tr>\n",
       "    <tr>\n",
       "      <th>3</th>\n",
       "      <td>Morocco</td>\n",
       "      <td></td>\n",
       "      <td>Northern Africa</td>\n",
       "      <td>Africa</td>\n",
       "      <td>504 &lt; 015 &lt; 002 &lt; 001</td>\n",
       "    </tr>\n",
       "    <tr>\n",
       "      <th>4</th>\n",
       "      <td>Sudan</td>\n",
       "      <td></td>\n",
       "      <td>Northern Africa</td>\n",
       "      <td>Africa</td>\n",
       "      <td>729 &lt; 015 &lt; 002 &lt; 001</td>\n",
       "    </tr>\n",
       "    <tr>\n",
       "      <th>...</th>\n",
       "      <td>...</td>\n",
       "      <td>...</td>\n",
       "      <td>...</td>\n",
       "      <td>...</td>\n",
       "      <td>...</td>\n",
       "    </tr>\n",
       "    <tr>\n",
       "      <th>244</th>\n",
       "      <td>Samoa</td>\n",
       "      <td></td>\n",
       "      <td>Polynesia</td>\n",
       "      <td>Oceania</td>\n",
       "      <td>882 &lt; 061 &lt; 009 &lt; 001</td>\n",
       "    </tr>\n",
       "    <tr>\n",
       "      <th>245</th>\n",
       "      <td>Tokelau</td>\n",
       "      <td></td>\n",
       "      <td>Polynesia</td>\n",
       "      <td>Oceania</td>\n",
       "      <td>772 &lt; 061 &lt; 009 &lt; 001</td>\n",
       "    </tr>\n",
       "    <tr>\n",
       "      <th>246</th>\n",
       "      <td>Tonga</td>\n",
       "      <td></td>\n",
       "      <td>Polynesia</td>\n",
       "      <td>Oceania</td>\n",
       "      <td>776 &lt; 061 &lt; 009 &lt; 001</td>\n",
       "    </tr>\n",
       "    <tr>\n",
       "      <th>247</th>\n",
       "      <td>Tuvalu</td>\n",
       "      <td></td>\n",
       "      <td>Polynesia</td>\n",
       "      <td>Oceania</td>\n",
       "      <td>798 &lt; 061 &lt; 009 &lt; 001</td>\n",
       "    </tr>\n",
       "    <tr>\n",
       "      <th>248</th>\n",
       "      <td>Wallis and Futuna</td>\n",
       "      <td></td>\n",
       "      <td>Polynesia</td>\n",
       "      <td>Oceania</td>\n",
       "      <td>876 &lt; 061 &lt; 009 &lt; 001</td>\n",
       "    </tr>\n",
       "  </tbody>\n",
       "</table>\n",
       "<p>249 rows × 5 columns</p>\n",
       "</div>"
      ],
      "text/plain": [
       "        Country or Area Sub-Subregion        Subregion   Region  \\\n",
       "0               Algeria                Northern Africa   Africa   \n",
       "1                 Egypt                Northern Africa   Africa   \n",
       "2                 Libya                Northern Africa   Africa   \n",
       "3               Morocco                Northern Africa   Africa   \n",
       "4                 Sudan                Northern Africa   Africa   \n",
       "..                  ...           ...              ...      ...   \n",
       "244               Samoa                      Polynesia  Oceania   \n",
       "245             Tokelau                      Polynesia  Oceania   \n",
       "246               Tonga                      Polynesia  Oceania   \n",
       "247              Tuvalu                      Polynesia  Oceania   \n",
       "248   Wallis and Futuna                      Polynesia  Oceania   \n",
       "\n",
       "            UNSD M49 Codes  \n",
       "0    012 < 015 < 002 < 001  \n",
       "1    818 < 015 < 002 < 001  \n",
       "2    434 < 015 < 002 < 001  \n",
       "3    504 < 015 < 002 < 001  \n",
       "4    729 < 015 < 002 < 001  \n",
       "..                     ...  \n",
       "244  882 < 061 < 009 < 001  \n",
       "245  772 < 061 < 009 < 001  \n",
       "246  776 < 061 < 009 < 001  \n",
       "247  798 < 061 < 009 < 001  \n",
       "248  876 < 061 < 009 < 001  \n",
       "\n",
       "[249 rows x 5 columns]"
      ]
     },
     "execution_count": 2311,
     "metadata": {},
     "output_type": "execute_result"
    }
   ],
   "source": [
    "webscraper1doto(url_ungs)"
   ]
  },
  {
   "cell_type": "code",
   "execution_count": 2312,
   "metadata": {},
   "outputs": [],
   "source": [
    "df1 = webscraper1doto(url_ungs)"
   ]
  },
  {
   "cell_type": "code",
   "execution_count": 2313,
   "metadata": {},
   "outputs": [
    {
     "data": {
      "text/html": [
       "<div>\n",
       "<style scoped>\n",
       "    .dataframe tbody tr th:only-of-type {\n",
       "        vertical-align: middle;\n",
       "    }\n",
       "\n",
       "    .dataframe tbody tr th {\n",
       "        vertical-align: top;\n",
       "    }\n",
       "\n",
       "    .dataframe thead th {\n",
       "        text-align: right;\n",
       "    }\n",
       "</style>\n",
       "<table border=\"1\" class=\"dataframe\">\n",
       "  <thead>\n",
       "    <tr style=\"text-align: right;\">\n",
       "      <th></th>\n",
       "      <th>Country or Area</th>\n",
       "      <th>Sub-Subregion</th>\n",
       "      <th>Subregion</th>\n",
       "      <th>Region</th>\n",
       "      <th>UNSD M49 Codes</th>\n",
       "    </tr>\n",
       "  </thead>\n",
       "  <tbody>\n",
       "    <tr>\n",
       "      <th>0</th>\n",
       "      <td>Algeria</td>\n",
       "      <td></td>\n",
       "      <td>Northern Africa</td>\n",
       "      <td>Africa</td>\n",
       "      <td>012 &lt; 015 &lt; 002 &lt; 001</td>\n",
       "    </tr>\n",
       "    <tr>\n",
       "      <th>1</th>\n",
       "      <td>Egypt</td>\n",
       "      <td></td>\n",
       "      <td>Northern Africa</td>\n",
       "      <td>Africa</td>\n",
       "      <td>818 &lt; 015 &lt; 002 &lt; 001</td>\n",
       "    </tr>\n",
       "    <tr>\n",
       "      <th>2</th>\n",
       "      <td>Libya</td>\n",
       "      <td></td>\n",
       "      <td>Northern Africa</td>\n",
       "      <td>Africa</td>\n",
       "      <td>434 &lt; 015 &lt; 002 &lt; 001</td>\n",
       "    </tr>\n",
       "    <tr>\n",
       "      <th>3</th>\n",
       "      <td>Morocco</td>\n",
       "      <td></td>\n",
       "      <td>Northern Africa</td>\n",
       "      <td>Africa</td>\n",
       "      <td>504 &lt; 015 &lt; 002 &lt; 001</td>\n",
       "    </tr>\n",
       "    <tr>\n",
       "      <th>4</th>\n",
       "      <td>Sudan</td>\n",
       "      <td></td>\n",
       "      <td>Northern Africa</td>\n",
       "      <td>Africa</td>\n",
       "      <td>729 &lt; 015 &lt; 002 &lt; 001</td>\n",
       "    </tr>\n",
       "  </tbody>\n",
       "</table>\n",
       "</div>"
      ],
      "text/plain": [
       "  Country or Area Sub-Subregion        Subregion  Region  \\\n",
       "0         Algeria                Northern Africa  Africa   \n",
       "1           Egypt                Northern Africa  Africa   \n",
       "2           Libya                Northern Africa  Africa   \n",
       "3         Morocco                Northern Africa  Africa   \n",
       "4           Sudan                Northern Africa  Africa   \n",
       "\n",
       "          UNSD M49 Codes  \n",
       "0  012 < 015 < 002 < 001  \n",
       "1  818 < 015 < 002 < 001  \n",
       "2  434 < 015 < 002 < 001  \n",
       "3  504 < 015 < 002 < 001  \n",
       "4  729 < 015 < 002 < 001  "
      ]
     },
     "execution_count": 2313,
     "metadata": {},
     "output_type": "execute_result"
    }
   ],
   "source": [
    "df1.head()"
   ]
  },
  {
   "cell_type": "code",
   "execution_count": 2314,
   "metadata": {},
   "outputs": [],
   "source": [
    "df1.rename(columns = {\"Country or Area\":\"Country\"},inplace = True)"
   ]
  },
  {
   "cell_type": "code",
   "execution_count": 2315,
   "metadata": {},
   "outputs": [
    {
     "data": {
      "text/html": [
       "<div>\n",
       "<style scoped>\n",
       "    .dataframe tbody tr th:only-of-type {\n",
       "        vertical-align: middle;\n",
       "    }\n",
       "\n",
       "    .dataframe tbody tr th {\n",
       "        vertical-align: top;\n",
       "    }\n",
       "\n",
       "    .dataframe thead th {\n",
       "        text-align: right;\n",
       "    }\n",
       "</style>\n",
       "<table border=\"1\" class=\"dataframe\">\n",
       "  <thead>\n",
       "    <tr style=\"text-align: right;\">\n",
       "      <th></th>\n",
       "      <th>Country</th>\n",
       "      <th>Sub-Subregion</th>\n",
       "      <th>Subregion</th>\n",
       "      <th>Region</th>\n",
       "      <th>UNSD M49 Codes</th>\n",
       "    </tr>\n",
       "  </thead>\n",
       "  <tbody>\n",
       "    <tr>\n",
       "      <th>0</th>\n",
       "      <td>Algeria</td>\n",
       "      <td></td>\n",
       "      <td>Northern Africa</td>\n",
       "      <td>Africa</td>\n",
       "      <td>012 &lt; 015 &lt; 002 &lt; 001</td>\n",
       "    </tr>\n",
       "    <tr>\n",
       "      <th>1</th>\n",
       "      <td>Egypt</td>\n",
       "      <td></td>\n",
       "      <td>Northern Africa</td>\n",
       "      <td>Africa</td>\n",
       "      <td>818 &lt; 015 &lt; 002 &lt; 001</td>\n",
       "    </tr>\n",
       "    <tr>\n",
       "      <th>2</th>\n",
       "      <td>Libya</td>\n",
       "      <td></td>\n",
       "      <td>Northern Africa</td>\n",
       "      <td>Africa</td>\n",
       "      <td>434 &lt; 015 &lt; 002 &lt; 001</td>\n",
       "    </tr>\n",
       "    <tr>\n",
       "      <th>3</th>\n",
       "      <td>Morocco</td>\n",
       "      <td></td>\n",
       "      <td>Northern Africa</td>\n",
       "      <td>Africa</td>\n",
       "      <td>504 &lt; 015 &lt; 002 &lt; 001</td>\n",
       "    </tr>\n",
       "    <tr>\n",
       "      <th>4</th>\n",
       "      <td>Sudan</td>\n",
       "      <td></td>\n",
       "      <td>Northern Africa</td>\n",
       "      <td>Africa</td>\n",
       "      <td>729 &lt; 015 &lt; 002 &lt; 001</td>\n",
       "    </tr>\n",
       "    <tr>\n",
       "      <th>...</th>\n",
       "      <td>...</td>\n",
       "      <td>...</td>\n",
       "      <td>...</td>\n",
       "      <td>...</td>\n",
       "      <td>...</td>\n",
       "    </tr>\n",
       "    <tr>\n",
       "      <th>244</th>\n",
       "      <td>Samoa</td>\n",
       "      <td></td>\n",
       "      <td>Polynesia</td>\n",
       "      <td>Oceania</td>\n",
       "      <td>882 &lt; 061 &lt; 009 &lt; 001</td>\n",
       "    </tr>\n",
       "    <tr>\n",
       "      <th>245</th>\n",
       "      <td>Tokelau</td>\n",
       "      <td></td>\n",
       "      <td>Polynesia</td>\n",
       "      <td>Oceania</td>\n",
       "      <td>772 &lt; 061 &lt; 009 &lt; 001</td>\n",
       "    </tr>\n",
       "    <tr>\n",
       "      <th>246</th>\n",
       "      <td>Tonga</td>\n",
       "      <td></td>\n",
       "      <td>Polynesia</td>\n",
       "      <td>Oceania</td>\n",
       "      <td>776 &lt; 061 &lt; 009 &lt; 001</td>\n",
       "    </tr>\n",
       "    <tr>\n",
       "      <th>247</th>\n",
       "      <td>Tuvalu</td>\n",
       "      <td></td>\n",
       "      <td>Polynesia</td>\n",
       "      <td>Oceania</td>\n",
       "      <td>798 &lt; 061 &lt; 009 &lt; 001</td>\n",
       "    </tr>\n",
       "    <tr>\n",
       "      <th>248</th>\n",
       "      <td>Wallis and Futuna</td>\n",
       "      <td></td>\n",
       "      <td>Polynesia</td>\n",
       "      <td>Oceania</td>\n",
       "      <td>876 &lt; 061 &lt; 009 &lt; 001</td>\n",
       "    </tr>\n",
       "  </tbody>\n",
       "</table>\n",
       "<p>249 rows × 5 columns</p>\n",
       "</div>"
      ],
      "text/plain": [
       "                Country Sub-Subregion        Subregion   Region  \\\n",
       "0               Algeria                Northern Africa   Africa   \n",
       "1                 Egypt                Northern Africa   Africa   \n",
       "2                 Libya                Northern Africa   Africa   \n",
       "3               Morocco                Northern Africa   Africa   \n",
       "4                 Sudan                Northern Africa   Africa   \n",
       "..                  ...           ...              ...      ...   \n",
       "244               Samoa                      Polynesia  Oceania   \n",
       "245             Tokelau                      Polynesia  Oceania   \n",
       "246               Tonga                      Polynesia  Oceania   \n",
       "247              Tuvalu                      Polynesia  Oceania   \n",
       "248   Wallis and Futuna                      Polynesia  Oceania   \n",
       "\n",
       "            UNSD M49 Codes  \n",
       "0    012 < 015 < 002 < 001  \n",
       "1    818 < 015 < 002 < 001  \n",
       "2    434 < 015 < 002 < 001  \n",
       "3    504 < 015 < 002 < 001  \n",
       "4    729 < 015 < 002 < 001  \n",
       "..                     ...  \n",
       "244  882 < 061 < 009 < 001  \n",
       "245  772 < 061 < 009 < 001  \n",
       "246  776 < 061 < 009 < 001  \n",
       "247  798 < 061 < 009 < 001  \n",
       "248  876 < 061 < 009 < 001  \n",
       "\n",
       "[249 rows x 5 columns]"
      ]
     },
     "execution_count": 2315,
     "metadata": {},
     "output_type": "execute_result"
    }
   ],
   "source": [
    "df1"
   ]
  },
  {
   "cell_type": "code",
   "execution_count": 2316,
   "metadata": {},
   "outputs": [],
   "source": [
    "df1['Country'] = df1['Country'].apply(lambda x: x.strip())"
   ]
  },
  {
   "cell_type": "code",
   "execution_count": 2317,
   "metadata": {},
   "outputs": [],
   "source": [
    "df = pd.merge(data_frame,df1, on = 'Country', how = 'left')"
   ]
  },
  {
   "cell_type": "code",
   "execution_count": 2318,
   "metadata": {},
   "outputs": [],
   "source": [
    "#when data was scraped some of the values came in\n",
    "df.fillna('', inplace=True)"
   ]
  },
  {
   "cell_type": "code",
   "execution_count": 2319,
   "metadata": {},
   "outputs": [],
   "source": [
    "df.replace('', np.nan, inplace = True)"
   ]
  },
  {
   "cell_type": "code",
   "execution_count": 2320,
   "metadata": {},
   "outputs": [],
   "source": [
    "df.drop(columns = {\"UNSD M49 Codes\"}, inplace = True)"
   ]
  },
  {
   "cell_type": "code",
   "execution_count": 2321,
   "metadata": {},
   "outputs": [],
   "source": [
    "#Create dictionary of missing Subregions which will be mapped to the Countries who have nan as a value using .map()\n",
    "\n",
    "missing_regions = {\"Republic of Ireland\": \"Northern Europe\",\n",
    "                  \"Hong Kong\": \"Eastern Asia\",\n",
    "                  \"South Korea\": \"Eastern Asia\",\n",
    "                  \"France\": \"Western Europe\",\n",
    "                  \"Czech Republic\": \"Eastern Europe\",\n",
    "                  \"The Bahamas\": \"Latin America and the Caribbean / North America\",\n",
    "                  \"Georgia (country)\": \"Western Asia\",\n",
    "                  \"State of Palestine\": \"Western Asia\",\n",
    "                  \"Cape Verde\": \"Western Africa\",\n",
    "                  \"Sao Tome and Principe\":\"Sub-Saharan Africa\",\n",
    "                  \"Federated States of Micronesia\":\"Micronesia\",\n",
    "                  \"Eswatini\":\"Sub-Saharan Africa\",\n",
    "                  \"East Timor\":\"South-eastern Asia\",\n",
    "                  \"Myanmar\":\"South-eastern Asia\",\n",
    "                  \"Republic of the Congo\":\"Sub-Saharan Africa\",\n",
    "                  \"Ivory Coast\": \"Sub-Saharan Africa\",\n",
    "                  \"The Gambia\": \"Sub-Saharan Africa\",\n",
    "                  \"Democratic Republic of the Congo\": \"Sub-Saharan Africa\"\n",
    "                  }"
   ]
  },
  {
   "cell_type": "code",
   "execution_count": 2322,
   "metadata": {},
   "outputs": [],
   "source": [
    "df['Subregion'] = df['Subregion'].fillna(df.Country.map(missing_regions))"
   ]
  },
  {
   "cell_type": "code",
   "execution_count": 2323,
   "metadata": {},
   "outputs": [],
   "source": [
    "df['Sub-Subregion'] = df['Subregion'].where(df['Sub-Subregion'].isna(),df['Sub-Subregion'])"
   ]
  },
  {
   "cell_type": "code",
   "execution_count": 2324,
   "metadata": {},
   "outputs": [],
   "source": [
    "regions = {\"Republic of Ireland\": \"Europe\",\n",
    "                  \"Hong Kong\": \"Asia\",\n",
    "                  \"South Korea\": \"Asia\",\n",
    "                  \"France\": \"Europe\",\n",
    "                  \"Czech Republic\": \"Europe\",\n",
    "                  \"The Bahamas\": \"Americas\",\n",
    "                  \"Georgia (country)\": \"Asia\",\n",
    "                  \"State of Palestine\": \"Asia\",\n",
    "                  \"Cape Verde\": \"Africa\",\n",
    "                  \"Sao Tome and Principe\":\"Africa\",\n",
    "                  \"Federated States of Micronesia\":\"Oceania\",\n",
    "                  \"Eswatini\":\"Africa\",\n",
    "                  \"East Timor\":\"Asia\",\n",
    "                  \"Myanmar\":\"Asia\",\n",
    "                  \"Republic of the Congo\":\"Africa\",\n",
    "                  \"Ivory Coast\": \"Africa\",\n",
    "                  \"The Gambia\": \"Africa\",\n",
    "                  \"Democratic Republic of the Congo\": \"Africa\"\n",
    "                  }"
   ]
  },
  {
   "cell_type": "code",
   "execution_count": 2325,
   "metadata": {},
   "outputs": [],
   "source": [
    "df['Region'] = df['Region'].fillna(df.Country.map(regions))"
   ]
  },
  {
   "cell_type": "code",
   "execution_count": 2326,
   "metadata": {},
   "outputs": [],
   "source": [
    "#drop HDI chage 5yrs because on the website this data had an up or down arrow associated with the number representing\n",
    "#if the change had been positive or negative. However, these symbols were not brought over when scraped from wikipedia\n",
    "#making their values unknown, therefore we will drop the column. \n",
    "\n",
    "df.drop(columns = ('HDI Change (5 yrs)'), inplace = True)"
   ]
  },
  {
   "cell_type": "code",
   "execution_count": 2327,
   "metadata": {},
   "outputs": [
    {
     "name": "stdout",
     "output_type": "stream",
     "text": [
      "<class 'pandas.core.frame.DataFrame'>\n",
      "Int64Index: 187 entries, 0 to 186\n",
      "Data columns (total 6 columns):\n",
      " #   Column              Non-Null Count  Dtype  \n",
      "---  ------              --------------  -----  \n",
      " 0   Country             187 non-null    object \n",
      " 1   HDI (2020 Report)   187 non-null    float64\n",
      " 2   Avg. Annual Growth  186 non-null    float64\n",
      " 3   Sub-Subregion       187 non-null    object \n",
      " 4   Subregion           187 non-null    object \n",
      " 5   Region              187 non-null    object \n",
      "dtypes: float64(2), object(4)\n",
      "memory usage: 10.2+ KB\n"
     ]
    }
   ],
   "source": [
    "df.info()"
   ]
  },
  {
   "cell_type": "code",
   "execution_count": 2328,
   "metadata": {},
   "outputs": [
    {
     "data": {
      "text/html": [
       "<div>\n",
       "<style scoped>\n",
       "    .dataframe tbody tr th:only-of-type {\n",
       "        vertical-align: middle;\n",
       "    }\n",
       "\n",
       "    .dataframe tbody tr th {\n",
       "        vertical-align: top;\n",
       "    }\n",
       "\n",
       "    .dataframe thead th {\n",
       "        text-align: right;\n",
       "    }\n",
       "</style>\n",
       "<table border=\"1\" class=\"dataframe\">\n",
       "  <thead>\n",
       "    <tr style=\"text-align: right;\">\n",
       "      <th></th>\n",
       "      <th>HDI (2020 Report)</th>\n",
       "      <th>Avg. Annual Growth</th>\n",
       "    </tr>\n",
       "  </thead>\n",
       "  <tbody>\n",
       "    <tr>\n",
       "      <th>count</th>\n",
       "      <td>187.000000</td>\n",
       "      <td>186.000000</td>\n",
       "    </tr>\n",
       "    <tr>\n",
       "      <th>mean</th>\n",
       "      <td>72.591979</td>\n",
       "      <td>0.608172</td>\n",
       "    </tr>\n",
       "    <tr>\n",
       "      <th>std</th>\n",
       "      <td>14.668666</td>\n",
       "      <td>0.489922</td>\n",
       "    </tr>\n",
       "    <tr>\n",
       "      <th>min</th>\n",
       "      <td>39.800000</td>\n",
       "      <td>-1.870000</td>\n",
       "    </tr>\n",
       "    <tr>\n",
       "      <th>25%</th>\n",
       "      <td>60.750000</td>\n",
       "      <td>0.350000</td>\n",
       "    </tr>\n",
       "    <tr>\n",
       "      <th>50%</th>\n",
       "      <td>74.200000</td>\n",
       "      <td>0.565000</td>\n",
       "    </tr>\n",
       "    <tr>\n",
       "      <th>75%</th>\n",
       "      <td>83.350000</td>\n",
       "      <td>0.870000</td>\n",
       "    </tr>\n",
       "    <tr>\n",
       "      <th>max</th>\n",
       "      <td>95.700000</td>\n",
       "      <td>2.030000</td>\n",
       "    </tr>\n",
       "  </tbody>\n",
       "</table>\n",
       "</div>"
      ],
      "text/plain": [
       "       HDI (2020 Report)  Avg. Annual Growth\n",
       "count         187.000000          186.000000\n",
       "mean           72.591979            0.608172\n",
       "std            14.668666            0.489922\n",
       "min            39.800000           -1.870000\n",
       "25%            60.750000            0.350000\n",
       "50%            74.200000            0.565000\n",
       "75%            83.350000            0.870000\n",
       "max            95.700000            2.030000"
      ]
     },
     "execution_count": 2328,
     "metadata": {},
     "output_type": "execute_result"
    }
   ],
   "source": [
    "df.describe()"
   ]
  },
  {
   "cell_type": "code",
   "execution_count": 2329,
   "metadata": {},
   "outputs": [
    {
     "data": {
      "text/html": [
       "<div>\n",
       "<style scoped>\n",
       "    .dataframe tbody tr th:only-of-type {\n",
       "        vertical-align: middle;\n",
       "    }\n",
       "\n",
       "    .dataframe tbody tr th {\n",
       "        vertical-align: top;\n",
       "    }\n",
       "\n",
       "    .dataframe thead th {\n",
       "        text-align: right;\n",
       "    }\n",
       "</style>\n",
       "<table border=\"1\" class=\"dataframe\">\n",
       "  <thead>\n",
       "    <tr style=\"text-align: right;\">\n",
       "      <th></th>\n",
       "      <th>Country</th>\n",
       "      <th>HDI (2020 Report)</th>\n",
       "      <th>Avg. Annual Growth</th>\n",
       "      <th>Sub-Subregion</th>\n",
       "      <th>Subregion</th>\n",
       "      <th>Region</th>\n",
       "    </tr>\n",
       "  </thead>\n",
       "  <tbody>\n",
       "    <tr>\n",
       "      <th>91</th>\n",
       "      <td>Lebanon</td>\n",
       "      <td>74.4</td>\n",
       "      <td>-0.32</td>\n",
       "      <td>Western Asia</td>\n",
       "      <td>Western Asia</td>\n",
       "      <td>Asia</td>\n",
       "    </tr>\n",
       "    <tr>\n",
       "      <th>101</th>\n",
       "      <td>Jordan</td>\n",
       "      <td>72.9</td>\n",
       "      <td>-0.12</td>\n",
       "      <td>Western Asia</td>\n",
       "      <td>Western Asia</td>\n",
       "      <td>Asia</td>\n",
       "    </tr>\n",
       "    <tr>\n",
       "      <th>104</th>\n",
       "      <td>Libya</td>\n",
       "      <td>72.4</td>\n",
       "      <td>-1.08</td>\n",
       "      <td>Northern Africa</td>\n",
       "      <td>Northern Africa</td>\n",
       "      <td>Africa</td>\n",
       "    </tr>\n",
       "    <tr>\n",
       "      <th>112</th>\n",
       "      <td>Venezuela</td>\n",
       "      <td>71.1</td>\n",
       "      <td>-0.69</td>\n",
       "      <td>South America</td>\n",
       "      <td>Latin America and the Caribbean</td>\n",
       "      <td>Americas</td>\n",
       "    </tr>\n",
       "    <tr>\n",
       "      <th>140</th>\n",
       "      <td>East Timor</td>\n",
       "      <td>60.6</td>\n",
       "      <td>-0.40</td>\n",
       "      <td>South-eastern Asia</td>\n",
       "      <td>South-eastern Asia</td>\n",
       "      <td>Asia</td>\n",
       "    </tr>\n",
       "    <tr>\n",
       "      <th>151</th>\n",
       "      <td>Syria</td>\n",
       "      <td>56.7</td>\n",
       "      <td>-1.87</td>\n",
       "      <td>Western Asia</td>\n",
       "      <td>Western Asia</td>\n",
       "      <td>Asia</td>\n",
       "    </tr>\n",
       "    <tr>\n",
       "      <th>178</th>\n",
       "      <td>Yemen</td>\n",
       "      <td>47.0</td>\n",
       "      <td>-0.82</td>\n",
       "      <td>Western Asia</td>\n",
       "      <td>Western Asia</td>\n",
       "      <td>Asia</td>\n",
       "    </tr>\n",
       "  </tbody>\n",
       "</table>\n",
       "</div>"
      ],
      "text/plain": [
       "        Country  HDI (2020 Report)  Avg. Annual Growth       Sub-Subregion  \\\n",
       "91      Lebanon               74.4               -0.32        Western Asia   \n",
       "101      Jordan               72.9               -0.12        Western Asia   \n",
       "104       Libya               72.4               -1.08     Northern Africa   \n",
       "112   Venezuela               71.1               -0.69       South America   \n",
       "140  East Timor               60.6               -0.40  South-eastern Asia   \n",
       "151       Syria               56.7               -1.87        Western Asia   \n",
       "178       Yemen               47.0               -0.82        Western Asia   \n",
       "\n",
       "                           Subregion    Region  \n",
       "91                      Western Asia      Asia  \n",
       "101                     Western Asia      Asia  \n",
       "104                  Northern Africa    Africa  \n",
       "112  Latin America and the Caribbean  Americas  \n",
       "140               South-eastern Asia      Asia  \n",
       "151                     Western Asia      Asia  \n",
       "178                     Western Asia      Asia  "
      ]
     },
     "execution_count": 2329,
     "metadata": {},
     "output_type": "execute_result"
    }
   ],
   "source": [
    "df[df['Avg. Annual Growth'] < 0]"
   ]
  },
  {
   "cell_type": "code",
   "execution_count": 2330,
   "metadata": {},
   "outputs": [
    {
     "data": {
      "text/html": [
       "<div>\n",
       "<style scoped>\n",
       "    .dataframe tbody tr th:only-of-type {\n",
       "        vertical-align: middle;\n",
       "    }\n",
       "\n",
       "    .dataframe tbody tr th {\n",
       "        vertical-align: top;\n",
       "    }\n",
       "\n",
       "    .dataframe thead th {\n",
       "        text-align: right;\n",
       "    }\n",
       "</style>\n",
       "<table border=\"1\" class=\"dataframe\">\n",
       "  <thead>\n",
       "    <tr style=\"text-align: right;\">\n",
       "      <th></th>\n",
       "      <th>Country</th>\n",
       "      <th>HDI (2020 Report)</th>\n",
       "      <th>Avg. Annual Growth</th>\n",
       "      <th>Sub-Subregion</th>\n",
       "      <th>Subregion</th>\n",
       "      <th>Region</th>\n",
       "    </tr>\n",
       "  </thead>\n",
       "  <tbody>\n",
       "    <tr>\n",
       "      <th>137</th>\n",
       "      <td>Eswatini</td>\n",
       "      <td>61.1</td>\n",
       "      <td>2.03</td>\n",
       "      <td>Sub-Saharan Africa</td>\n",
       "      <td>Sub-Saharan Africa</td>\n",
       "      <td>Africa</td>\n",
       "    </tr>\n",
       "    <tr>\n",
       "      <th>149</th>\n",
       "      <td>Zimbabwe</td>\n",
       "      <td>57.1</td>\n",
       "      <td>1.90</td>\n",
       "      <td>Eastern Africa</td>\n",
       "      <td>Sub-Saharan Africa</td>\n",
       "      <td>Africa</td>\n",
       "    </tr>\n",
       "    <tr>\n",
       "      <th>181</th>\n",
       "      <td>Burkina Faso</td>\n",
       "      <td>45.2</td>\n",
       "      <td>1.83</td>\n",
       "      <td>Western Africa</td>\n",
       "      <td>Sub-Saharan Africa</td>\n",
       "      <td>Africa</td>\n",
       "    </tr>\n",
       "    <tr>\n",
       "      <th>165</th>\n",
       "      <td>Djibouti</td>\n",
       "      <td>52.4</td>\n",
       "      <td>1.61</td>\n",
       "      <td>Eastern Africa</td>\n",
       "      <td>Sub-Saharan Africa</td>\n",
       "      <td>Africa</td>\n",
       "    </tr>\n",
       "    <tr>\n",
       "      <th>172</th>\n",
       "      <td>Ethiopia</td>\n",
       "      <td>48.5</td>\n",
       "      <td>1.58</td>\n",
       "      <td>Eastern Africa</td>\n",
       "      <td>Sub-Saharan Africa</td>\n",
       "      <td>Africa</td>\n",
       "    </tr>\n",
       "    <tr>\n",
       "      <th>161</th>\n",
       "      <td>Ivory Coast</td>\n",
       "      <td>53.8</td>\n",
       "      <td>1.56</td>\n",
       "      <td>Sub-Saharan Africa</td>\n",
       "      <td>Sub-Saharan Africa</td>\n",
       "      <td>Africa</td>\n",
       "    </tr>\n",
       "    <tr>\n",
       "      <th>177</th>\n",
       "      <td>Guinea</td>\n",
       "      <td>47.7</td>\n",
       "      <td>1.53</td>\n",
       "      <td>Western Africa</td>\n",
       "      <td>Sub-Saharan Africa</td>\n",
       "      <td>Africa</td>\n",
       "    </tr>\n",
       "    <tr>\n",
       "      <th>164</th>\n",
       "      <td>Lesotho</td>\n",
       "      <td>52.7</td>\n",
       "      <td>1.52</td>\n",
       "      <td>Southern Africa</td>\n",
       "      <td>Sub-Saharan Africa</td>\n",
       "      <td>Africa</td>\n",
       "    </tr>\n",
       "    <tr>\n",
       "      <th>128</th>\n",
       "      <td>Bhutan</td>\n",
       "      <td>65.4</td>\n",
       "      <td>1.46</td>\n",
       "      <td>Southern Asia</td>\n",
       "      <td>Southern Asia</td>\n",
       "      <td>Asia</td>\n",
       "    </tr>\n",
       "    <tr>\n",
       "      <th>180</th>\n",
       "      <td>Mozambique</td>\n",
       "      <td>45.6</td>\n",
       "      <td>1.44</td>\n",
       "      <td>Eastern Africa</td>\n",
       "      <td>Sub-Saharan Africa</td>\n",
       "      <td>Africa</td>\n",
       "    </tr>\n",
       "  </tbody>\n",
       "</table>\n",
       "</div>"
      ],
      "text/plain": [
       "          Country  HDI (2020 Report)  Avg. Annual Growth       Sub-Subregion  \\\n",
       "137      Eswatini               61.1                2.03  Sub-Saharan Africa   \n",
       "149      Zimbabwe               57.1                1.90      Eastern Africa   \n",
       "181  Burkina Faso               45.2                1.83      Western Africa   \n",
       "165      Djibouti               52.4                1.61      Eastern Africa   \n",
       "172      Ethiopia               48.5                1.58      Eastern Africa   \n",
       "161   Ivory Coast               53.8                1.56  Sub-Saharan Africa   \n",
       "177        Guinea               47.7                1.53      Western Africa   \n",
       "164       Lesotho               52.7                1.52     Southern Africa   \n",
       "128        Bhutan               65.4                1.46       Southern Asia   \n",
       "180    Mozambique               45.6                1.44      Eastern Africa   \n",
       "\n",
       "              Subregion  Region  \n",
       "137  Sub-Saharan Africa  Africa  \n",
       "149  Sub-Saharan Africa  Africa  \n",
       "181  Sub-Saharan Africa  Africa  \n",
       "165  Sub-Saharan Africa  Africa  \n",
       "172  Sub-Saharan Africa  Africa  \n",
       "161  Sub-Saharan Africa  Africa  \n",
       "177  Sub-Saharan Africa  Africa  \n",
       "164  Sub-Saharan Africa  Africa  \n",
       "128       Southern Asia    Asia  \n",
       "180  Sub-Saharan Africa  Africa  "
      ]
     },
     "execution_count": 2330,
     "metadata": {},
     "output_type": "execute_result"
    }
   ],
   "source": [
    "df.sort_values('Avg. Annual Growth', ascending = False).head(10)"
   ]
  },
  {
   "cell_type": "code",
   "execution_count": 2331,
   "metadata": {},
   "outputs": [
    {
     "data": {
      "text/plain": [
       "Sub-Subregion\n",
       "Northern Africa       68.583333\n",
       "Southern Africa       65.425000\n",
       "Middle Africa         56.740000\n",
       "Sub-Saharan Africa    55.400000\n",
       "Eastern Africa        54.864706\n",
       "Western Africa        51.600000\n",
       "Name: HDI (2020 Report), dtype: float64"
      ]
     },
     "execution_count": 2331,
     "metadata": {},
     "output_type": "execute_result"
    }
   ],
   "source": [
    "df[df['Region'] == 'Africa']['HDI (2020 Report)'].groupby(df['Sub-Subregion']).mean().sort_values(ascending = False)"
   ]
  },
  {
   "cell_type": "code",
   "execution_count": 2332,
   "metadata": {},
   "outputs": [
    {
     "data": {
      "text/plain": [
       "Subregion\n",
       "Sub-Saharan Africa                                 0.62\n",
       "Southern Asia                                      0.12\n",
       "South-eastern Asia                                 0.08\n",
       "Western Asia                                       0.06\n",
       "Northern Africa                                    0.04\n",
       "Latin America and the Caribbean / North America    0.04\n",
       "Southern Europe                                    0.02\n",
       "Eastern Asia                                       0.02\n",
       "dtype: float64"
      ]
     },
     "execution_count": 2332,
     "metadata": {},
     "output_type": "execute_result"
    }
   ],
   "source": [
    "#Breakdown by Subregion of Countries with the 50 Highest growth rates. In the top 50 highest growth rates Sub-Saharan\n",
    "#Africa has 32 or roughly 62% of top 50. \n",
    "df.sort_values('Avg. Annual Growth', ascending = False).head(50).value_counts('Subregion',normalize = True)"
   ]
  },
  {
   "cell_type": "code",
   "execution_count": 2333,
   "metadata": {},
   "outputs": [
    {
     "data": {
      "image/png": "[encoded data removed]",
      "text/plain": [
       "<Figure size 576x432 with 1 Axes>"
      ]
     },
     "metadata": {
      "needs_background": "light"
     },
     "output_type": "display_data"
    }
   ],
   "source": [
    "var = 'Region'\n",
    "data = pd.concat([df['HDI (2020 Report)'], df[var]], axis=1)\n",
    "f, ax = plt.subplots(figsize=(8, 6))\n",
    "plt.title('HDI by Region', size = 20)\n",
    "fig = sns.boxplot(x=var, y=df['HDI (2020 Report)'], data=data)\n",
    "fig.axis(ymin=0, ymax=100);"
   ]
  },
  {
   "cell_type": "markdown",
   "metadata": {},
   "source": [
    "### Explore Outliers From the Americas"
   ]
  },
  {
   "cell_type": "code",
   "execution_count": 2334,
   "metadata": {},
   "outputs": [
    {
     "data": {
      "text/html": [
       "<div>\n",
       "<style scoped>\n",
       "    .dataframe tbody tr th:only-of-type {\n",
       "        vertical-align: middle;\n",
       "    }\n",
       "\n",
       "    .dataframe tbody tr th {\n",
       "        vertical-align: top;\n",
       "    }\n",
       "\n",
       "    .dataframe thead th {\n",
       "        text-align: right;\n",
       "    }\n",
       "</style>\n",
       "<table border=\"1\" class=\"dataframe\">\n",
       "  <thead>\n",
       "    <tr style=\"text-align: right;\">\n",
       "      <th></th>\n",
       "      <th>Country</th>\n",
       "      <th>HDI (2020 Report)</th>\n",
       "      <th>Avg. Annual Growth</th>\n",
       "      <th>Sub-Subregion</th>\n",
       "      <th>Subregion</th>\n",
       "      <th>Region</th>\n",
       "    </tr>\n",
       "  </thead>\n",
       "  <tbody>\n",
       "    <tr>\n",
       "      <th>15</th>\n",
       "      <td>Canada</td>\n",
       "      <td>92.9</td>\n",
       "      <td>0.34</td>\n",
       "      <td>Northern America</td>\n",
       "      <td>North America</td>\n",
       "      <td>Americas</td>\n",
       "    </tr>\n",
       "    <tr>\n",
       "      <th>16</th>\n",
       "      <td>United States</td>\n",
       "      <td>92.6</td>\n",
       "      <td>0.12</td>\n",
       "      <td>Northern America</td>\n",
       "      <td>North America</td>\n",
       "      <td>Americas</td>\n",
       "    </tr>\n",
       "  </tbody>\n",
       "</table>\n",
       "</div>"
      ],
      "text/plain": [
       "          Country  HDI (2020 Report)  Avg. Annual Growth     Sub-Subregion  \\\n",
       "15         Canada               92.9                0.34  Northern America   \n",
       "16  United States               92.6                0.12  Northern America   \n",
       "\n",
       "        Subregion    Region  \n",
       "15  North America  Americas  \n",
       "16  North America  Americas  "
      ]
     },
     "execution_count": 2334,
     "metadata": {},
     "output_type": "execute_result"
    }
   ],
   "source": [
    "df[(df['Region'] == \"Americas\") & (df['HDI (2020 Report)'] > 90)]"
   ]
  },
  {
   "cell_type": "code",
   "execution_count": 2335,
   "metadata": {},
   "outputs": [
    {
     "data": {
      "text/html": [
       "<div>\n",
       "<style scoped>\n",
       "    .dataframe tbody tr th:only-of-type {\n",
       "        vertical-align: middle;\n",
       "    }\n",
       "\n",
       "    .dataframe tbody tr th {\n",
       "        vertical-align: top;\n",
       "    }\n",
       "\n",
       "    .dataframe thead th {\n",
       "        text-align: right;\n",
       "    }\n",
       "</style>\n",
       "<table border=\"1\" class=\"dataframe\">\n",
       "  <thead>\n",
       "    <tr style=\"text-align: right;\">\n",
       "      <th></th>\n",
       "      <th>Country</th>\n",
       "      <th>HDI (2020 Report)</th>\n",
       "      <th>Avg. Annual Growth</th>\n",
       "      <th>Sub-Subregion</th>\n",
       "      <th>Subregion</th>\n",
       "      <th>Region</th>\n",
       "    </tr>\n",
       "  </thead>\n",
       "  <tbody>\n",
       "    <tr>\n",
       "      <th>169</th>\n",
       "      <td>Haiti</td>\n",
       "      <td>51.0</td>\n",
       "      <td>0.89</td>\n",
       "      <td>Caribbean</td>\n",
       "      <td>Latin America and the Caribbean / North America</td>\n",
       "      <td>Americas</td>\n",
       "    </tr>\n",
       "  </tbody>\n",
       "</table>\n",
       "</div>"
      ],
      "text/plain": [
       "    Country  HDI (2020 Report)  Avg. Annual Growth Sub-Subregion  \\\n",
       "169   Haiti               51.0                0.89     Caribbean   \n",
       "\n",
       "                                           Subregion    Region  \n",
       "169  Latin America and the Caribbean / North America  Americas  "
      ]
     },
     "execution_count": 2335,
     "metadata": {},
     "output_type": "execute_result"
    }
   ],
   "source": [
    "df[(df['Region'] == \"Americas\") & (df['HDI (2020 Report)'] < 60)]"
   ]
  },
  {
   "cell_type": "markdown",
   "metadata": {},
   "source": [
    "#### Asia appears to have the greatest range of HDI scores. Lets determine if Asia's range is greater than Africa's"
   ]
  },
  {
   "cell_type": "code",
   "execution_count": 2336,
   "metadata": {
    "scrolled": true
   },
   "outputs": [
    {
     "data": {
      "text/plain": [
       "47.89999999999999"
      ]
     },
     "execution_count": 2336,
     "metadata": {},
     "output_type": "execute_result"
    }
   ],
   "source": [
    "df[df['Region'] == 'Asia']['HDI (2020 Report)'].max() - df[df['Region'] == 'Asia']['HDI (2020 Report)'].min()"
   ]
  },
  {
   "cell_type": "code",
   "execution_count": 2337,
   "metadata": {},
   "outputs": [
    {
     "data": {
      "text/plain": [
       "40.6"
      ]
     },
     "execution_count": 2337,
     "metadata": {},
     "output_type": "execute_result"
    }
   ],
   "source": [
    "df[df['Region'] == 'Africa']['HDI (2020 Report)'].max() - df[df['Region'] == 'Africa']['HDI (2020 Report)'].min()"
   ]
  },
  {
   "cell_type": "code",
   "execution_count": 2338,
   "metadata": {},
   "outputs": [
    {
     "data": {
      "text/plain": [
       "Region\n",
       "Europe      16\n",
       "Asia         5\n",
       "Oceania      2\n",
       "Americas     2\n",
       "dtype: int64"
      ]
     },
     "execution_count": 2338,
     "metadata": {},
     "output_type": "execute_result"
    }
   ],
   "source": [
    "df[['Country', 'Region', 'HDI (2020 Report)']].head(25).value_counts('Region')"
   ]
  },
  {
   "cell_type": "markdown",
   "metadata": {},
   "source": [
    "### Average Annual Growth "
   ]
  },
  {
   "cell_type": "code",
   "execution_count": 2339,
   "metadata": {},
   "outputs": [
    {
     "data": {
      "image/png": "[encoded data removed]",
      "text/plain": [
       "<Figure size 432x288 with 1 Axes>"
      ]
     },
     "metadata": {
      "needs_background": "light"
     },
     "output_type": "display_data"
    }
   ],
   "source": [
    "plt.title('')\n",
    "df.sort_values('Avg. Annual Growth', ascending = False).head(50).value_counts('Subregion').plot(kind = 'barh')\n",
    "plt.show()"
   ]
  },
  {
   "cell_type": "code",
   "execution_count": 2340,
   "metadata": {},
   "outputs": [
    {
     "data": {
      "text/html": [
       "<div>\n",
       "<style scoped>\n",
       "    .dataframe tbody tr th:only-of-type {\n",
       "        vertical-align: middle;\n",
       "    }\n",
       "\n",
       "    .dataframe tbody tr th {\n",
       "        vertical-align: top;\n",
       "    }\n",
       "\n",
       "    .dataframe thead th {\n",
       "        text-align: right;\n",
       "    }\n",
       "</style>\n",
       "<table border=\"1\" class=\"dataframe\">\n",
       "  <thead>\n",
       "    <tr style=\"text-align: right;\">\n",
       "      <th></th>\n",
       "      <th>Country</th>\n",
       "      <th>HDI (2020 Report)</th>\n",
       "      <th>Avg. Annual Growth</th>\n",
       "      <th>Sub-Subregion</th>\n",
       "      <th>Subregion</th>\n",
       "      <th>Region</th>\n",
       "    </tr>\n",
       "  </thead>\n",
       "  <tbody>\n",
       "    <tr>\n",
       "      <th>91</th>\n",
       "      <td>Lebanon</td>\n",
       "      <td>74.4</td>\n",
       "      <td>-0.32</td>\n",
       "      <td>Western Asia</td>\n",
       "      <td>Western Asia</td>\n",
       "      <td>Asia</td>\n",
       "    </tr>\n",
       "    <tr>\n",
       "      <th>101</th>\n",
       "      <td>Jordan</td>\n",
       "      <td>72.9</td>\n",
       "      <td>-0.12</td>\n",
       "      <td>Western Asia</td>\n",
       "      <td>Western Asia</td>\n",
       "      <td>Asia</td>\n",
       "    </tr>\n",
       "    <tr>\n",
       "      <th>104</th>\n",
       "      <td>Libya</td>\n",
       "      <td>72.4</td>\n",
       "      <td>-1.08</td>\n",
       "      <td>Northern Africa</td>\n",
       "      <td>Northern Africa</td>\n",
       "      <td>Africa</td>\n",
       "    </tr>\n",
       "    <tr>\n",
       "      <th>112</th>\n",
       "      <td>Venezuela</td>\n",
       "      <td>71.1</td>\n",
       "      <td>-0.69</td>\n",
       "      <td>South America</td>\n",
       "      <td>Latin America and the Caribbean</td>\n",
       "      <td>Americas</td>\n",
       "    </tr>\n",
       "    <tr>\n",
       "      <th>140</th>\n",
       "      <td>East Timor</td>\n",
       "      <td>60.6</td>\n",
       "      <td>-0.40</td>\n",
       "      <td>South-eastern Asia</td>\n",
       "      <td>South-eastern Asia</td>\n",
       "      <td>Asia</td>\n",
       "    </tr>\n",
       "    <tr>\n",
       "      <th>151</th>\n",
       "      <td>Syria</td>\n",
       "      <td>56.7</td>\n",
       "      <td>-1.87</td>\n",
       "      <td>Western Asia</td>\n",
       "      <td>Western Asia</td>\n",
       "      <td>Asia</td>\n",
       "    </tr>\n",
       "    <tr>\n",
       "      <th>178</th>\n",
       "      <td>Yemen</td>\n",
       "      <td>47.0</td>\n",
       "      <td>-0.82</td>\n",
       "      <td>Western Asia</td>\n",
       "      <td>Western Asia</td>\n",
       "      <td>Asia</td>\n",
       "    </tr>\n",
       "  </tbody>\n",
       "</table>\n",
       "</div>"
      ],
      "text/plain": [
       "        Country  HDI (2020 Report)  Avg. Annual Growth       Sub-Subregion  \\\n",
       "91      Lebanon               74.4               -0.32        Western Asia   \n",
       "101      Jordan               72.9               -0.12        Western Asia   \n",
       "104       Libya               72.4               -1.08     Northern Africa   \n",
       "112   Venezuela               71.1               -0.69       South America   \n",
       "140  East Timor               60.6               -0.40  South-eastern Asia   \n",
       "151       Syria               56.7               -1.87        Western Asia   \n",
       "178       Yemen               47.0               -0.82        Western Asia   \n",
       "\n",
       "                           Subregion    Region  \n",
       "91                      Western Asia      Asia  \n",
       "101                     Western Asia      Asia  \n",
       "104                  Northern Africa    Africa  \n",
       "112  Latin America and the Caribbean  Americas  \n",
       "140               South-eastern Asia      Asia  \n",
       "151                     Western Asia      Asia  \n",
       "178                     Western Asia      Asia  "
      ]
     },
     "execution_count": 2340,
     "metadata": {},
     "output_type": "execute_result"
    }
   ],
   "source": [
    "df[df['Avg. Annual Growth'] < 0]"
   ]
  },
  {
   "cell_type": "code",
   "execution_count": 2341,
   "metadata": {},
   "outputs": [
    {
     "data": {
      "text/plain": [
       "Sub-Subregion\n",
       "Western Asia          4\n",
       "South-eastern Asia    1\n",
       "South America         1\n",
       "Northern Africa       1\n",
       "dtype: int64"
      ]
     },
     "execution_count": 2341,
     "metadata": {},
     "output_type": "execute_result"
    }
   ],
   "source": [
    "#Countries with a negative HDI growth rate\n",
    "df[df['Avg. Annual Growth'] < 0].value_counts(\"Sub-Subregion\")"
   ]
  },
  {
   "cell_type": "code",
   "execution_count": 2342,
   "metadata": {},
   "outputs": [
    {
     "data": {
      "text/html": [
       "<div>\n",
       "<style scoped>\n",
       "    .dataframe tbody tr th:only-of-type {\n",
       "        vertical-align: middle;\n",
       "    }\n",
       "\n",
       "    .dataframe tbody tr th {\n",
       "        vertical-align: top;\n",
       "    }\n",
       "\n",
       "    .dataframe thead th {\n",
       "        text-align: right;\n",
       "    }\n",
       "</style>\n",
       "<table border=\"1\" class=\"dataframe\">\n",
       "  <thead>\n",
       "    <tr style=\"text-align: right;\">\n",
       "      <th></th>\n",
       "      <th>mean</th>\n",
       "    </tr>\n",
       "    <tr>\n",
       "      <th>Region</th>\n",
       "      <th></th>\n",
       "    </tr>\n",
       "  </thead>\n",
       "  <tbody>\n",
       "    <tr>\n",
       "      <th>Europe</th>\n",
       "      <td>87.970732</td>\n",
       "    </tr>\n",
       "    <tr>\n",
       "      <th>Americas</th>\n",
       "      <td>75.842857</td>\n",
       "    </tr>\n",
       "    <tr>\n",
       "      <th>Asia</th>\n",
       "      <td>74.243750</td>\n",
       "    </tr>\n",
       "    <tr>\n",
       "      <th>Oceania</th>\n",
       "      <td>71.408333</td>\n",
       "    </tr>\n",
       "    <tr>\n",
       "      <th>Africa</th>\n",
       "      <td>56.721569</td>\n",
       "    </tr>\n",
       "  </tbody>\n",
       "</table>\n",
       "</div>"
      ],
      "text/plain": [
       "               mean\n",
       "Region             \n",
       "Europe    87.970732\n",
       "Americas  75.842857\n",
       "Asia      74.243750\n",
       "Oceania   71.408333\n",
       "Africa    56.721569"
      ]
     },
     "execution_count": 2342,
     "metadata": {},
     "output_type": "execute_result"
    }
   ],
   "source": [
    "df['HDI (2020 Report)'].groupby(df['Region']).agg(['mean']).sort_values('mean',ascending = False)"
   ]
  },
  {
   "cell_type": "code",
   "execution_count": 2343,
   "metadata": {},
   "outputs": [
    {
     "data": {
      "text/plain": [
       "''"
      ]
     },
     "execution_count": 2343,
     "metadata": {},
     "output_type": "execute_result"
    },
    {
     "data": {
      "image/png": "[encoded data removed]",
      "text/plain": [
       "<Figure size 576x432 with 1 Axes>"
      ]
     },
     "metadata": {
      "needs_background": "light"
     },
     "output_type": "display_data"
    }
   ],
   "source": [
    "plt.figure(figsize = (8,6))\n",
    "plt.title('HDI by Region', size = 20)\n",
    "plt.xlabel(\"Avg HDI Score\")\n",
    "df[\"HDI (2020 Report)\"].groupby(df['Region']).mean().sort_values(ascending = True).plot(kind = 'barh')\n",
    ";"
   ]
  },
  {
   "cell_type": "code",
   "execution_count": 2344,
   "metadata": {},
   "outputs": [
    {
     "data": {
      "text/plain": [
       "Sub-Subregion\n",
       "Australia and New Zealand                          93.750000\n",
       "Western Europe                                     92.937500\n",
       "Northern America                                   92.750000\n",
       "Northern Europe                                    92.560000\n",
       "Eastern Asia                                       85.640000\n",
       "Southern Europe                                    85.100000\n",
       "Eastern Europe                                     83.140000\n",
       "Latin America and the Caribbean / North America    81.400000\n",
       "Western Asia                                       77.361111\n",
       "South America                                      76.316667\n",
       "Caribbean                                          74.733333\n",
       "Central Asia                                       72.500000\n",
       "Polynesia                                          72.000000\n",
       "Central America                                    71.875000\n",
       "South-eastern Asia                                 71.809091\n",
       "Micronesia                                         69.500000\n",
       "Northern Africa                                    68.583333\n",
       "Southern Asia                                      65.622222\n",
       "Southern Africa                                    65.425000\n",
       "Melanesia                                          61.850000\n",
       "Middle Africa                                      56.740000\n",
       "Sub-Saharan Africa                                 55.400000\n",
       "Eastern Africa                                     54.864706\n",
       "Western Africa                                     51.600000\n",
       "Name: HDI (2020 Report), dtype: float64"
      ]
     },
     "execution_count": 2344,
     "metadata": {},
     "output_type": "execute_result"
    }
   ],
   "source": [
    "df['HDI (2020 Report)'].groupby(df[\"Sub-Subregion\"]).mean().sort_values(ascending = False)"
   ]
  },
  {
   "cell_type": "code",
   "execution_count": 2345,
   "metadata": {},
   "outputs": [
    {
     "data": {
      "image/png": "[encoded data removed]",
      "text/plain": [
       "<Figure size 720x576 with 1 Axes>"
      ]
     },
     "metadata": {
      "needs_background": "light"
     },
     "output_type": "display_data"
    }
   ],
   "source": [
    "plt.figure(figsize = (10,8))\n",
    "plt.title('Avg. HDI Score by Sub-Subregion', size = 16)\n",
    "df['HDI (2020 Report)'].groupby(df['Sub-Subregion']).mean().sort_values(ascending = True).plot(kind = 'barh')\n",
    "plt.xlabel('Avg. HDI Score');"
   ]
  },
  {
   "cell_type": "code",
   "execution_count": 2346,
   "metadata": {},
   "outputs": [
    {
     "data": {
      "image/png": "[encoded data removed]",
      "text/plain": [
       "<Figure size 720x576 with 1 Axes>"
      ]
     },
     "metadata": {
      "needs_background": "light"
     },
     "output_type": "display_data"
    }
   ],
   "source": [
    "plt.figure(figsize = (10,8))\n",
    "plt.title('Avg. Annual Growth by Sub-Region', size = 16)\n",
    "df['Avg. Annual Growth'].groupby(df.Subregion).mean().sort_values(ascending = True).plot(kind = 'barh')\n",
    "plt.xlabel('HDI (%)');"
   ]
  },
  {
   "cell_type": "code",
   "execution_count": 2347,
   "metadata": {},
   "outputs": [
    {
     "data": {
      "text/html": [
       "<div>\n",
       "<style scoped>\n",
       "    .dataframe tbody tr th:only-of-type {\n",
       "        vertical-align: middle;\n",
       "    }\n",
       "\n",
       "    .dataframe tbody tr th {\n",
       "        vertical-align: top;\n",
       "    }\n",
       "\n",
       "    .dataframe thead th {\n",
       "        text-align: right;\n",
       "    }\n",
       "</style>\n",
       "<table border=\"1\" class=\"dataframe\">\n",
       "  <thead>\n",
       "    <tr style=\"text-align: right;\">\n",
       "      <th></th>\n",
       "      <th>Country</th>\n",
       "      <th>HDI (2020 Report)</th>\n",
       "      <th>Avg. Annual Growth</th>\n",
       "      <th>Sub-Subregion</th>\n",
       "      <th>Subregion</th>\n",
       "      <th>Region</th>\n",
       "    </tr>\n",
       "  </thead>\n",
       "  <tbody>\n",
       "    <tr>\n",
       "      <th>7</th>\n",
       "      <td>Australia</td>\n",
       "      <td>94.4</td>\n",
       "      <td>0.17</td>\n",
       "      <td>Australia and New Zealand</td>\n",
       "      <td>Australia and New Zealand</td>\n",
       "      <td>Oceania</td>\n",
       "    </tr>\n",
       "    <tr>\n",
       "      <th>14</th>\n",
       "      <td>New Zealand</td>\n",
       "      <td>93.1</td>\n",
       "      <td>0.30</td>\n",
       "      <td>Australia and New Zealand</td>\n",
       "      <td>Australia and New Zealand</td>\n",
       "      <td>Oceania</td>\n",
       "    </tr>\n",
       "    <tr>\n",
       "      <th>49</th>\n",
       "      <td>Palau</td>\n",
       "      <td>82.6</td>\n",
       "      <td>0.55</td>\n",
       "      <td>Micronesia</td>\n",
       "      <td>Micronesia</td>\n",
       "      <td>Oceania</td>\n",
       "    </tr>\n",
       "    <tr>\n",
       "      <th>92</th>\n",
       "      <td>Fiji</td>\n",
       "      <td>74.3</td>\n",
       "      <td>0.43</td>\n",
       "      <td>Melanesia</td>\n",
       "      <td>Melanesia</td>\n",
       "      <td>Oceania</td>\n",
       "    </tr>\n",
       "    <tr>\n",
       "      <th>103</th>\n",
       "      <td>Tonga</td>\n",
       "      <td>72.5</td>\n",
       "      <td>0.41</td>\n",
       "      <td>Polynesia</td>\n",
       "      <td>Polynesia</td>\n",
       "      <td>Oceania</td>\n",
       "    </tr>\n",
       "    <tr>\n",
       "      <th>110</th>\n",
       "      <td>Samoa</td>\n",
       "      <td>71.5</td>\n",
       "      <td>0.27</td>\n",
       "      <td>Polynesia</td>\n",
       "      <td>Polynesia</td>\n",
       "      <td>Oceania</td>\n",
       "    </tr>\n",
       "    <tr>\n",
       "      <th>116</th>\n",
       "      <td>Marshall Islands</td>\n",
       "      <td>70.4</td>\n",
       "      <td>NaN</td>\n",
       "      <td>Micronesia</td>\n",
       "      <td>Micronesia</td>\n",
       "      <td>Oceania</td>\n",
       "    </tr>\n",
       "    <tr>\n",
       "      <th>133</th>\n",
       "      <td>Kiribati</td>\n",
       "      <td>63.0</td>\n",
       "      <td>0.67</td>\n",
       "      <td>Micronesia</td>\n",
       "      <td>Micronesia</td>\n",
       "      <td>Oceania</td>\n",
       "    </tr>\n",
       "    <tr>\n",
       "      <th>135</th>\n",
       "      <td>Federated States of Micronesia</td>\n",
       "      <td>62.0</td>\n",
       "      <td>0.35</td>\n",
       "      <td>Micronesia</td>\n",
       "      <td>Micronesia</td>\n",
       "      <td>Oceania</td>\n",
       "    </tr>\n",
       "    <tr>\n",
       "      <th>139</th>\n",
       "      <td>Vanuatu</td>\n",
       "      <td>60.9</td>\n",
       "      <td>0.35</td>\n",
       "      <td>Melanesia</td>\n",
       "      <td>Melanesia</td>\n",
       "      <td>Oceania</td>\n",
       "    </tr>\n",
       "    <tr>\n",
       "      <th>150</th>\n",
       "      <td>Solomon Islands</td>\n",
       "      <td>56.7</td>\n",
       "      <td>0.61</td>\n",
       "      <td>Melanesia</td>\n",
       "      <td>Melanesia</td>\n",
       "      <td>Oceania</td>\n",
       "    </tr>\n",
       "    <tr>\n",
       "      <th>154</th>\n",
       "      <td>Papua New Guinea</td>\n",
       "      <td>55.5</td>\n",
       "      <td>0.68</td>\n",
       "      <td>Melanesia</td>\n",
       "      <td>Melanesia</td>\n",
       "      <td>Oceania</td>\n",
       "    </tr>\n",
       "  </tbody>\n",
       "</table>\n",
       "</div>"
      ],
      "text/plain": [
       "                            Country  HDI (2020 Report)  Avg. Annual Growth  \\\n",
       "7                         Australia               94.4                0.17   \n",
       "14                      New Zealand               93.1                0.30   \n",
       "49                            Palau               82.6                0.55   \n",
       "92                             Fiji               74.3                0.43   \n",
       "103                           Tonga               72.5                0.41   \n",
       "110                           Samoa               71.5                0.27   \n",
       "116                Marshall Islands               70.4                 NaN   \n",
       "133                        Kiribati               63.0                0.67   \n",
       "135  Federated States of Micronesia               62.0                0.35   \n",
       "139                         Vanuatu               60.9                0.35   \n",
       "150                 Solomon Islands               56.7                0.61   \n",
       "154                Papua New Guinea               55.5                0.68   \n",
       "\n",
       "                 Sub-Subregion                  Subregion   Region  \n",
       "7    Australia and New Zealand  Australia and New Zealand  Oceania  \n",
       "14   Australia and New Zealand  Australia and New Zealand  Oceania  \n",
       "49                  Micronesia                 Micronesia  Oceania  \n",
       "92                   Melanesia                  Melanesia  Oceania  \n",
       "103                  Polynesia                  Polynesia  Oceania  \n",
       "110                  Polynesia                  Polynesia  Oceania  \n",
       "116                 Micronesia                 Micronesia  Oceania  \n",
       "133                 Micronesia                 Micronesia  Oceania  \n",
       "135                 Micronesia                 Micronesia  Oceania  \n",
       "139                  Melanesia                  Melanesia  Oceania  \n",
       "150                  Melanesia                  Melanesia  Oceania  \n",
       "154                  Melanesia                  Melanesia  Oceania  "
      ]
     },
     "execution_count": 2347,
     "metadata": {},
     "output_type": "execute_result"
    }
   ],
   "source": [
    "df[df['Region'] == 'Oceania'].sort_values('HDI (2020 Report)', ascending = False)"
   ]
  },
  {
   "cell_type": "markdown",
   "metadata": {},
   "source": [
    "## United Nations geoscheme\n",
    "\n",
    "Statistical regions as defined by the UNSD. Antarctica is not shown.\n",
    "The United Nations geoscheme is a system which divides the 249 countries and territories of the world into 6 regional and 22 subregional groups. It was devised by the United Nations Statistics Division (UNSD) based on the M49 coding classification."
   ]
  },
  {
   "cell_type": "markdown",
   "metadata": {},
   "source": [
    "## Scrape GDP Data/Merge/Correlation"
   ]
  },
  {
   "cell_type": "markdown",
   "metadata": {},
   "source": [
    "Scrape GDP per Capita data from wikipedia. Replace null values with values from other organization. If there is no UN data take estimated value from IMF or CIA world factbook."
   ]
  },
  {
   "cell_type": "code",
   "execution_count": 2348,
   "metadata": {},
   "outputs": [],
   "source": [
    "url_gdp = 'https://en.wikipedia.org/wiki/List_of_countries_by_GDP_(nominal)_per_capita'"
   ]
  },
  {
   "cell_type": "code",
   "execution_count": 2349,
   "metadata": {},
   "outputs": [
    {
     "name": "stdout",
     "output_type": "stream",
     "text": [
      "Column Headers: ['Country/Territory', 'Subregion', 'Region', 'IMF[4]', 'United Nations[5]', 'World Bank[6]']\n"
     ]
    },
    {
     "data": {
      "text/html": [
       "<div>\n",
       "<style scoped>\n",
       "    .dataframe tbody tr th:only-of-type {\n",
       "        vertical-align: middle;\n",
       "    }\n",
       "\n",
       "    .dataframe tbody tr th {\n",
       "        vertical-align: top;\n",
       "    }\n",
       "\n",
       "    .dataframe thead th {\n",
       "        text-align: right;\n",
       "    }\n",
       "</style>\n",
       "<table border=\"1\" class=\"dataframe\">\n",
       "  <thead>\n",
       "    <tr style=\"text-align: right;\">\n",
       "      <th></th>\n",
       "      <th>0</th>\n",
       "      <th>1</th>\n",
       "      <th>2</th>\n",
       "      <th>3</th>\n",
       "      <th>4</th>\n",
       "      <th>5</th>\n",
       "      <th>6</th>\n",
       "      <th>7</th>\n",
       "      <th>8</th>\n",
       "    </tr>\n",
       "  </thead>\n",
       "  <tbody>\n",
       "    <tr>\n",
       "      <th>0</th>\n",
       "      <td>Monaco *</td>\n",
       "      <td>Western Europe</td>\n",
       "      <td>Europe</td>\n",
       "      <td>N/A</td>\n",
       "      <td>190532</td>\n",
       "      <td>2019</td>\n",
       "      <td>190513</td>\n",
       "      <td>2019</td>\n",
       "      <td>None</td>\n",
       "    </tr>\n",
       "    <tr>\n",
       "      <th>1</th>\n",
       "      <td>Liechtenstein *</td>\n",
       "      <td>Western Europe</td>\n",
       "      <td>Europe</td>\n",
       "      <td>N/A</td>\n",
       "      <td>179258</td>\n",
       "      <td>2019</td>\n",
       "      <td>180367</td>\n",
       "      <td>2018</td>\n",
       "      <td>None</td>\n",
       "    </tr>\n",
       "    <tr>\n",
       "      <th>2</th>\n",
       "      <td>Luxembourg *</td>\n",
       "      <td>Western Europe</td>\n",
       "      <td>Europe</td>\n",
       "      <td>131782</td>\n",
       "      <td>2021</td>\n",
       "      <td>115481</td>\n",
       "      <td>2019</td>\n",
       "      <td>115874</td>\n",
       "      <td>2020</td>\n",
       "    </tr>\n",
       "    <tr>\n",
       "      <th>3</th>\n",
       "      <td>Bermuda *</td>\n",
       "      <td>Northern America</td>\n",
       "      <td>Americas</td>\n",
       "      <td>N/A</td>\n",
       "      <td>117768</td>\n",
       "      <td>2019</td>\n",
       "      <td>117098</td>\n",
       "      <td>2019</td>\n",
       "      <td>None</td>\n",
       "    </tr>\n",
       "    <tr>\n",
       "      <th>4</th>\n",
       "      <td>Switzerland *</td>\n",
       "      <td>Western Europe</td>\n",
       "      <td>Europe</td>\n",
       "      <td>94696</td>\n",
       "      <td>2021</td>\n",
       "      <td>85135</td>\n",
       "      <td>2019</td>\n",
       "      <td>86602</td>\n",
       "      <td>2020</td>\n",
       "    </tr>\n",
       "    <tr>\n",
       "      <th>...</th>\n",
       "      <td>...</td>\n",
       "      <td>...</td>\n",
       "      <td>...</td>\n",
       "      <td>...</td>\n",
       "      <td>...</td>\n",
       "      <td>...</td>\n",
       "      <td>...</td>\n",
       "      <td>...</td>\n",
       "      <td>...</td>\n",
       "    </tr>\n",
       "    <tr>\n",
       "      <th>210</th>\n",
       "      <td>Malawi *</td>\n",
       "      <td>Eastern Africa</td>\n",
       "      <td>Africa</td>\n",
       "      <td>432</td>\n",
       "      <td>2021</td>\n",
       "      <td>435</td>\n",
       "      <td>2019</td>\n",
       "      <td>625</td>\n",
       "      <td>2020</td>\n",
       "    </tr>\n",
       "    <tr>\n",
       "      <th>211</th>\n",
       "      <td>Mozambique *</td>\n",
       "      <td>Eastern Africa</td>\n",
       "      <td>Africa</td>\n",
       "      <td>425</td>\n",
       "      <td>2021</td>\n",
       "      <td>504</td>\n",
       "      <td>2019</td>\n",
       "      <td>449</td>\n",
       "      <td>2020</td>\n",
       "    </tr>\n",
       "    <tr>\n",
       "      <th>212</th>\n",
       "      <td>Somalia *</td>\n",
       "      <td>Eastern Africa</td>\n",
       "      <td>Africa</td>\n",
       "      <td>347</td>\n",
       "      <td>2021</td>\n",
       "      <td>105</td>\n",
       "      <td>2019</td>\n",
       "      <td>309</td>\n",
       "      <td>2020</td>\n",
       "    </tr>\n",
       "    <tr>\n",
       "      <th>213</th>\n",
       "      <td>South Sudan *</td>\n",
       "      <td>Eastern Africa</td>\n",
       "      <td>Africa</td>\n",
       "      <td>315</td>\n",
       "      <td>2021</td>\n",
       "      <td>448</td>\n",
       "      <td>2019</td>\n",
       "      <td>1120</td>\n",
       "      <td>2015</td>\n",
       "    </tr>\n",
       "    <tr>\n",
       "      <th>214</th>\n",
       "      <td>Burundi *</td>\n",
       "      <td>Eastern Africa</td>\n",
       "      <td>Africa</td>\n",
       "      <td>265</td>\n",
       "      <td>2021</td>\n",
       "      <td>260</td>\n",
       "      <td>2019</td>\n",
       "      <td>274</td>\n",
       "      <td>2020</td>\n",
       "    </tr>\n",
       "  </tbody>\n",
       "</table>\n",
       "<p>215 rows × 9 columns</p>\n",
       "</div>"
      ],
      "text/plain": [
       "                   0                 1         2       3       4       5  \\\n",
       "0           Monaco *    Western Europe    Europe     N/A  190532    2019   \n",
       "1    Liechtenstein *    Western Europe    Europe     N/A  179258    2019   \n",
       "2       Luxembourg *    Western Europe    Europe  131782    2021  115481   \n",
       "3          Bermuda *  Northern America  Americas     N/A  117768    2019   \n",
       "4      Switzerland *    Western Europe    Europe   94696    2021   85135   \n",
       "..               ...               ...       ...     ...     ...     ...   \n",
       "210         Malawi *    Eastern Africa    Africa     432    2021     435   \n",
       "211     Mozambique *    Eastern Africa    Africa     425    2021     504   \n",
       "212        Somalia *    Eastern Africa    Africa     347    2021     105   \n",
       "213    South Sudan *    Eastern Africa    Africa     315    2021     448   \n",
       "214        Burundi *    Eastern Africa    Africa     265    2021     260   \n",
       "\n",
       "          6       7     8  \n",
       "0    190513    2019  None  \n",
       "1    180367    2018  None  \n",
       "2      2019  115874  2020  \n",
       "3    117098    2019  None  \n",
       "4      2019   86602  2020  \n",
       "..      ...     ...   ...  \n",
       "210    2019     625  2020  \n",
       "211    2019     449  2020  \n",
       "212    2019     309  2020  \n",
       "213    2019    1120  2015  \n",
       "214    2019     274  2020  \n",
       "\n",
       "[215 rows x 9 columns]"
      ]
     },
     "execution_count": 2349,
     "metadata": {},
     "output_type": "execute_result"
    }
   ],
   "source": [
    "webscraper(url_gdp)"
   ]
  },
  {
   "cell_type": "code",
   "execution_count": 2350,
   "metadata": {},
   "outputs": [
    {
     "name": "stdout",
     "output_type": "stream",
     "text": [
      "Column Headers: ['Country/Territory', 'Subregion', 'Region', 'IMF[4]', 'United Nations[5]', 'World Bank[6]']\n"
     ]
    }
   ],
   "source": [
    "#call function and get print out of column headers (due to multiple column headers the incorrect number of column \n",
    "#headers is printed. Must use original webscraper function and relabel column headers later.)\n",
    "df_gdp = webscraper(url_gdp)"
   ]
  },
  {
   "cell_type": "code",
   "execution_count": 2351,
   "metadata": {},
   "outputs": [
    {
     "data": {
      "text/html": [
       "<div>\n",
       "<style scoped>\n",
       "    .dataframe tbody tr th:only-of-type {\n",
       "        vertical-align: middle;\n",
       "    }\n",
       "\n",
       "    .dataframe tbody tr th {\n",
       "        vertical-align: top;\n",
       "    }\n",
       "\n",
       "    .dataframe thead th {\n",
       "        text-align: right;\n",
       "    }\n",
       "</style>\n",
       "<table border=\"1\" class=\"dataframe\">\n",
       "  <thead>\n",
       "    <tr style=\"text-align: right;\">\n",
       "      <th></th>\n",
       "      <th>0</th>\n",
       "      <th>1</th>\n",
       "      <th>2</th>\n",
       "      <th>3</th>\n",
       "      <th>4</th>\n",
       "      <th>5</th>\n",
       "      <th>6</th>\n",
       "      <th>7</th>\n",
       "      <th>8</th>\n",
       "    </tr>\n",
       "  </thead>\n",
       "  <tbody>\n",
       "    <tr>\n",
       "      <th>0</th>\n",
       "      <td>Monaco *</td>\n",
       "      <td>Western Europe</td>\n",
       "      <td>Europe</td>\n",
       "      <td>N/A</td>\n",
       "      <td>190532</td>\n",
       "      <td>2019</td>\n",
       "      <td>190513</td>\n",
       "      <td>2019</td>\n",
       "      <td>None</td>\n",
       "    </tr>\n",
       "    <tr>\n",
       "      <th>1</th>\n",
       "      <td>Liechtenstein *</td>\n",
       "      <td>Western Europe</td>\n",
       "      <td>Europe</td>\n",
       "      <td>N/A</td>\n",
       "      <td>179258</td>\n",
       "      <td>2019</td>\n",
       "      <td>180367</td>\n",
       "      <td>2018</td>\n",
       "      <td>None</td>\n",
       "    </tr>\n",
       "  </tbody>\n",
       "</table>\n",
       "</div>"
      ],
      "text/plain": [
       "                 0               1       2    3       4     5       6     7  \\\n",
       "0         Monaco *  Western Europe  Europe  N/A  190532  2019  190513  2019   \n",
       "1  Liechtenstein *  Western Europe  Europe  N/A  179258  2019  180367  2018   \n",
       "\n",
       "      8  \n",
       "0  None  \n",
       "1  None  "
      ]
     },
     "execution_count": 2351,
     "metadata": {},
     "output_type": "execute_result"
    }
   ],
   "source": [
    "df_gdp.head(2)"
   ]
  },
  {
   "cell_type": "code",
   "execution_count": 2352,
   "metadata": {},
   "outputs": [
    {
     "data": {
      "text/html": [
       "<div>\n",
       "<style scoped>\n",
       "    .dataframe tbody tr th:only-of-type {\n",
       "        vertical-align: middle;\n",
       "    }\n",
       "\n",
       "    .dataframe tbody tr th {\n",
       "        vertical-align: top;\n",
       "    }\n",
       "\n",
       "    .dataframe thead th {\n",
       "        text-align: right;\n",
       "    }\n",
       "</style>\n",
       "<table border=\"1\" class=\"dataframe\">\n",
       "  <thead>\n",
       "    <tr style=\"text-align: right;\">\n",
       "      <th></th>\n",
       "      <th>0</th>\n",
       "      <th>1</th>\n",
       "      <th>2</th>\n",
       "      <th>3</th>\n",
       "      <th>4</th>\n",
       "      <th>5</th>\n",
       "      <th>6</th>\n",
       "      <th>7</th>\n",
       "      <th>8</th>\n",
       "    </tr>\n",
       "  </thead>\n",
       "  <tbody>\n",
       "    <tr>\n",
       "      <th>0</th>\n",
       "      <td>Monaco *</td>\n",
       "      <td>Western Europe</td>\n",
       "      <td>Europe</td>\n",
       "      <td>N/A</td>\n",
       "      <td>190532</td>\n",
       "      <td>2019</td>\n",
       "      <td>190513</td>\n",
       "      <td>2019</td>\n",
       "      <td>None</td>\n",
       "    </tr>\n",
       "    <tr>\n",
       "      <th>1</th>\n",
       "      <td>Liechtenstein *</td>\n",
       "      <td>Western Europe</td>\n",
       "      <td>Europe</td>\n",
       "      <td>N/A</td>\n",
       "      <td>179258</td>\n",
       "      <td>2019</td>\n",
       "      <td>180367</td>\n",
       "      <td>2018</td>\n",
       "      <td>None</td>\n",
       "    </tr>\n",
       "    <tr>\n",
       "      <th>3</th>\n",
       "      <td>Bermuda *</td>\n",
       "      <td>Northern America</td>\n",
       "      <td>Americas</td>\n",
       "      <td>N/A</td>\n",
       "      <td>117768</td>\n",
       "      <td>2019</td>\n",
       "      <td>117098</td>\n",
       "      <td>2019</td>\n",
       "      <td>None</td>\n",
       "    </tr>\n",
       "    <tr>\n",
       "      <th>6</th>\n",
       "      <td>Cayman Islands *</td>\n",
       "      <td>Caribbean</td>\n",
       "      <td>Americas</td>\n",
       "      <td>N/A</td>\n",
       "      <td>92692</td>\n",
       "      <td>2019</td>\n",
       "      <td>91393</td>\n",
       "      <td>2019</td>\n",
       "      <td>None</td>\n",
       "    </tr>\n",
       "    <tr>\n",
       "      <th>19</th>\n",
       "      <td>Greenland *</td>\n",
       "      <td>Northern America</td>\n",
       "      <td>Americas</td>\n",
       "      <td>N/A</td>\n",
       "      <td>53353</td>\n",
       "      <td>2019</td>\n",
       "      <td>54471</td>\n",
       "      <td>2018</td>\n",
       "      <td>None</td>\n",
       "    </tr>\n",
       "    <tr>\n",
       "      <th>25</th>\n",
       "      <td>British Virgin Islands *</td>\n",
       "      <td>Caribbean</td>\n",
       "      <td>Americas</td>\n",
       "      <td>N/A</td>\n",
       "      <td>48511</td>\n",
       "      <td>2019</td>\n",
       "      <td>N/A</td>\n",
       "      <td>None</td>\n",
       "      <td>None</td>\n",
       "    </tr>\n",
       "    <tr>\n",
       "      <th>31</th>\n",
       "      <td>Andorra *</td>\n",
       "      <td>Southern Europe</td>\n",
       "      <td>Europe</td>\n",
       "      <td>N/A</td>\n",
       "      <td>40887</td>\n",
       "      <td>2019</td>\n",
       "      <td>40897</td>\n",
       "      <td>2019</td>\n",
       "      <td>None</td>\n",
       "    </tr>\n",
       "    <tr>\n",
       "      <th>32</th>\n",
       "      <td>Guam *</td>\n",
       "      <td>Micronesia</td>\n",
       "      <td>Oceania</td>\n",
       "      <td>N/A</td>\n",
       "      <td>N/A</td>\n",
       "      <td>37724</td>\n",
       "      <td>2019</td>\n",
       "      <td>None</td>\n",
       "      <td>None</td>\n",
       "    </tr>\n",
       "    <tr>\n",
       "      <th>35</th>\n",
       "      <td>New Caledonia *</td>\n",
       "      <td>Melanesia</td>\n",
       "      <td>Oceania</td>\n",
       "      <td>N/A</td>\n",
       "      <td>34942</td>\n",
       "      <td>2019</td>\n",
       "      <td>12580</td>\n",
       "      <td>2000</td>\n",
       "      <td>None</td>\n",
       "    </tr>\n",
       "    <tr>\n",
       "      <th>41</th>\n",
       "      <td>Turks and Caicos Islands</td>\n",
       "      <td>Caribbean</td>\n",
       "      <td>Americas</td>\n",
       "      <td>N/A</td>\n",
       "      <td>31353</td>\n",
       "      <td>2019</td>\n",
       "      <td>23880</td>\n",
       "      <td>2020</td>\n",
       "      <td>None</td>\n",
       "    </tr>\n",
       "    <tr>\n",
       "      <th>45</th>\n",
       "      <td>Sint Maarten *</td>\n",
       "      <td>Caribbean</td>\n",
       "      <td>Americas</td>\n",
       "      <td>N/A</td>\n",
       "      <td>N/A</td>\n",
       "      <td>29160</td>\n",
       "      <td>2018</td>\n",
       "      <td>None</td>\n",
       "      <td>None</td>\n",
       "    </tr>\n",
       "    <tr>\n",
       "      <th>49</th>\n",
       "      <td>Anguilla *</td>\n",
       "      <td>Caribbean</td>\n",
       "      <td>Americas</td>\n",
       "      <td>N/A</td>\n",
       "      <td>25529</td>\n",
       "      <td>2019</td>\n",
       "      <td>N/A</td>\n",
       "      <td>None</td>\n",
       "      <td>None</td>\n",
       "    </tr>\n",
       "    <tr>\n",
       "      <th>56</th>\n",
       "      <td>Cook Islands *</td>\n",
       "      <td>Polynesia</td>\n",
       "      <td>Oceania</td>\n",
       "      <td>N/A</td>\n",
       "      <td>21603</td>\n",
       "      <td>2019</td>\n",
       "      <td>N/A</td>\n",
       "      <td>None</td>\n",
       "      <td>None</td>\n",
       "    </tr>\n",
       "    <tr>\n",
       "      <th>57</th>\n",
       "      <td>French Polynesia *</td>\n",
       "      <td>Polynesia</td>\n",
       "      <td>Oceania</td>\n",
       "      <td>N/A</td>\n",
       "      <td>21567</td>\n",
       "      <td>2019</td>\n",
       "      <td>14324</td>\n",
       "      <td>2000</td>\n",
       "      <td>None</td>\n",
       "    </tr>\n",
       "    <tr>\n",
       "      <th>59</th>\n",
       "      <td>Northern Mariana Islands *</td>\n",
       "      <td>Micronesia</td>\n",
       "      <td>Oceania</td>\n",
       "      <td>N/A</td>\n",
       "      <td>N/A</td>\n",
       "      <td>20660</td>\n",
       "      <td>2019</td>\n",
       "      <td>None</td>\n",
       "      <td>None</td>\n",
       "    </tr>\n",
       "    <tr>\n",
       "      <th>62</th>\n",
       "      <td>Curaçao *</td>\n",
       "      <td>Caribbean</td>\n",
       "      <td>Americas</td>\n",
       "      <td>N/A</td>\n",
       "      <td>18980</td>\n",
       "      <td>2019</td>\n",
       "      <td>19701</td>\n",
       "      <td>2019</td>\n",
       "      <td>None</td>\n",
       "    </tr>\n",
       "    <tr>\n",
       "      <th>75</th>\n",
       "      <td>Montserrat *</td>\n",
       "      <td>Caribbean</td>\n",
       "      <td>Americas</td>\n",
       "      <td>N/A</td>\n",
       "      <td>13487</td>\n",
       "      <td>2019</td>\n",
       "      <td>N/A</td>\n",
       "      <td>None</td>\n",
       "      <td>None</td>\n",
       "    </tr>\n",
       "    <tr>\n",
       "      <th>82</th>\n",
       "      <td>American Samoa *</td>\n",
       "      <td>Polynesia</td>\n",
       "      <td>Oceania</td>\n",
       "      <td>N/A</td>\n",
       "      <td>N/A</td>\n",
       "      <td>11535</td>\n",
       "      <td>2019</td>\n",
       "      <td>None</td>\n",
       "      <td>None</td>\n",
       "    </tr>\n",
       "    <tr>\n",
       "      <th>90</th>\n",
       "      <td>Cuba *</td>\n",
       "      <td>Caribbean</td>\n",
       "      <td>Americas</td>\n",
       "      <td>N/A</td>\n",
       "      <td>9296</td>\n",
       "      <td>2019</td>\n",
       "      <td>9100</td>\n",
       "      <td>2019</td>\n",
       "      <td>None</td>\n",
       "    </tr>\n",
       "    <tr>\n",
       "      <th>202</th>\n",
       "      <td>North Korea *</td>\n",
       "      <td>Eastern Asia</td>\n",
       "      <td>Asia</td>\n",
       "      <td>N/A</td>\n",
       "      <td>640</td>\n",
       "      <td>2019</td>\n",
       "      <td>N/A</td>\n",
       "      <td>None</td>\n",
       "      <td>None</td>\n",
       "    </tr>\n",
       "  </tbody>\n",
       "</table>\n",
       "</div>"
      ],
      "text/plain": [
       "                              0                 1         2    3       4  \\\n",
       "0                      Monaco *    Western Europe    Europe  N/A  190532   \n",
       "1               Liechtenstein *    Western Europe    Europe  N/A  179258   \n",
       "3                     Bermuda *  Northern America  Americas  N/A  117768   \n",
       "6              Cayman Islands *         Caribbean  Americas  N/A   92692   \n",
       "19                  Greenland *  Northern America  Americas  N/A   53353   \n",
       "25     British Virgin Islands *         Caribbean  Americas  N/A   48511   \n",
       "31                    Andorra *   Southern Europe    Europe  N/A   40887   \n",
       "32                       Guam *        Micronesia   Oceania  N/A     N/A   \n",
       "35              New Caledonia *         Melanesia   Oceania  N/A   34942   \n",
       "41     Turks and Caicos Islands         Caribbean  Americas  N/A   31353   \n",
       "45               Sint Maarten *         Caribbean  Americas  N/A     N/A   \n",
       "49                   Anguilla *         Caribbean  Americas  N/A   25529   \n",
       "56               Cook Islands *         Polynesia   Oceania  N/A   21603   \n",
       "57           French Polynesia *         Polynesia   Oceania  N/A   21567   \n",
       "59   Northern Mariana Islands *        Micronesia   Oceania  N/A     N/A   \n",
       "62                    Curaçao *         Caribbean  Americas  N/A   18980   \n",
       "75                 Montserrat *         Caribbean  Americas  N/A   13487   \n",
       "82             American Samoa *         Polynesia   Oceania  N/A     N/A   \n",
       "90                       Cuba *         Caribbean  Americas  N/A    9296   \n",
       "202               North Korea *      Eastern Asia      Asia  N/A     640   \n",
       "\n",
       "         5       6     7     8  \n",
       "0     2019  190513  2019  None  \n",
       "1     2019  180367  2018  None  \n",
       "3     2019  117098  2019  None  \n",
       "6     2019   91393  2019  None  \n",
       "19    2019   54471  2018  None  \n",
       "25    2019     N/A  None  None  \n",
       "31    2019   40897  2019  None  \n",
       "32   37724    2019  None  None  \n",
       "35    2019   12580  2000  None  \n",
       "41    2019   23880  2020  None  \n",
       "45   29160    2018  None  None  \n",
       "49    2019     N/A  None  None  \n",
       "56    2019     N/A  None  None  \n",
       "57    2019   14324  2000  None  \n",
       "59   20660    2019  None  None  \n",
       "62    2019   19701  2019  None  \n",
       "75    2019     N/A  None  None  \n",
       "82   11535    2019  None  None  \n",
       "90    2019    9100  2019  None  \n",
       "202   2019     N/A  None  None  "
      ]
     },
     "execution_count": 2352,
     "metadata": {},
     "output_type": "execute_result"
    }
   ],
   "source": [
    "#There a three seperate estimates for GDP per Capita by the UN, IMF and World Bank. N/A's from the IMF column will\n",
    "#be replaced with the UN data if available and if not the World Bank estimate will be used. This allows for every \n",
    "#country in our data set to have a value for GDP per Capita. \n",
    "\n",
    "df_gdp[df_gdp[3] == 'N/A']"
   ]
  },
  {
   "cell_type": "code",
   "execution_count": 2353,
   "metadata": {},
   "outputs": [],
   "source": [
    "df_gdp.replace('N/A', np.nan, inplace = True)"
   ]
  },
  {
   "cell_type": "code",
   "execution_count": 2354,
   "metadata": {},
   "outputs": [],
   "source": [
    "#If column 3 (IMF) has nan as a value replace it with the value form column 4 (UN).\n",
    "df_gdp[3] = df_gdp[4].where(df_gdp[3].isna(),df_gdp[3])"
   ]
  },
  {
   "cell_type": "code",
   "execution_count": 2355,
   "metadata": {},
   "outputs": [],
   "source": [
    "df_gdp[3] = df_gdp[5].where(df_gdp[3].isna(),df_gdp[3])"
   ]
  },
  {
   "cell_type": "code",
   "execution_count": 2356,
   "metadata": {},
   "outputs": [],
   "source": [
    "df_gdp.drop(columns = [1,2,4,5,6,7,8], inplace = True)"
   ]
  },
  {
   "cell_type": "code",
   "execution_count": 2357,
   "metadata": {},
   "outputs": [],
   "source": [
    "df_gdp.rename(columns = {0:'Country', 3:'GDP per Capita'}, inplace = True)"
   ]
  },
  {
   "cell_type": "code",
   "execution_count": 2358,
   "metadata": {},
   "outputs": [],
   "source": [
    "df_gdp['Country'] = df_gdp['Country'].apply(lambda x: x.replace('*', '').rstrip())"
   ]
  },
  {
   "cell_type": "code",
   "execution_count": 2359,
   "metadata": {},
   "outputs": [],
   "source": [
    "df_gdp['GDP per Capita'][166] = '2138' "
   ]
  },
  {
   "cell_type": "code",
   "execution_count": 2360,
   "metadata": {},
   "outputs": [],
   "source": [
    "df = pd.merge(df,df_gdp, on = 'Country', how = 'inner')"
   ]
  },
  {
   "cell_type": "code",
   "execution_count": 2361,
   "metadata": {},
   "outputs": [
    {
     "data": {
      "text/html": [
       "<div>\n",
       "<style scoped>\n",
       "    .dataframe tbody tr th:only-of-type {\n",
       "        vertical-align: middle;\n",
       "    }\n",
       "\n",
       "    .dataframe tbody tr th {\n",
       "        vertical-align: top;\n",
       "    }\n",
       "\n",
       "    .dataframe thead th {\n",
       "        text-align: right;\n",
       "    }\n",
       "</style>\n",
       "<table border=\"1\" class=\"dataframe\">\n",
       "  <thead>\n",
       "    <tr style=\"text-align: right;\">\n",
       "      <th></th>\n",
       "      <th>Country</th>\n",
       "      <th>HDI (2020 Report)</th>\n",
       "      <th>Avg. Annual Growth</th>\n",
       "      <th>Sub-Subregion</th>\n",
       "      <th>Subregion</th>\n",
       "      <th>Region</th>\n",
       "      <th>GDP per Capita</th>\n",
       "    </tr>\n",
       "  </thead>\n",
       "  <tbody>\n",
       "    <tr>\n",
       "      <th>0</th>\n",
       "      <td>Norway</td>\n",
       "      <td>95.7</td>\n",
       "      <td>0.20</td>\n",
       "      <td>Northern Europe</td>\n",
       "      <td>Northern Europe</td>\n",
       "      <td>Europe</td>\n",
       "      <td>81995</td>\n",
       "    </tr>\n",
       "    <tr>\n",
       "      <th>1</th>\n",
       "      <td>Switzerland</td>\n",
       "      <td>95.5</td>\n",
       "      <td>0.16</td>\n",
       "      <td>Western Europe</td>\n",
       "      <td>Western Europe</td>\n",
       "      <td>Europe</td>\n",
       "      <td>94696</td>\n",
       "    </tr>\n",
       "    <tr>\n",
       "      <th>2</th>\n",
       "      <td>Hong Kong</td>\n",
       "      <td>94.9</td>\n",
       "      <td>0.54</td>\n",
       "      <td>Eastern Asia</td>\n",
       "      <td>Eastern Asia</td>\n",
       "      <td>Asia</td>\n",
       "      <td>49036</td>\n",
       "    </tr>\n",
       "    <tr>\n",
       "      <th>3</th>\n",
       "      <td>Iceland</td>\n",
       "      <td>94.9</td>\n",
       "      <td>0.62</td>\n",
       "      <td>Northern Europe</td>\n",
       "      <td>Northern Europe</td>\n",
       "      <td>Europe</td>\n",
       "      <td>65273</td>\n",
       "    </tr>\n",
       "    <tr>\n",
       "      <th>4</th>\n",
       "      <td>Germany</td>\n",
       "      <td>94.7</td>\n",
       "      <td>0.24</td>\n",
       "      <td>Western Europe</td>\n",
       "      <td>Western Europe</td>\n",
       "      <td>Europe</td>\n",
       "      <td>51860</td>\n",
       "    </tr>\n",
       "    <tr>\n",
       "      <th>...</th>\n",
       "      <td>...</td>\n",
       "      <td>...</td>\n",
       "      <td>...</td>\n",
       "      <td>...</td>\n",
       "      <td>...</td>\n",
       "      <td>...</td>\n",
       "      <td>...</td>\n",
       "    </tr>\n",
       "    <tr>\n",
       "      <th>173</th>\n",
       "      <td>Sierra Leone</td>\n",
       "      <td>45.2</td>\n",
       "      <td>1.40</td>\n",
       "      <td>Western Africa</td>\n",
       "      <td>Sub-Saharan Africa</td>\n",
       "      <td>Africa</td>\n",
       "      <td>542</td>\n",
       "    </tr>\n",
       "    <tr>\n",
       "      <th>174</th>\n",
       "      <td>Mali</td>\n",
       "      <td>43.4</td>\n",
       "      <td>0.69</td>\n",
       "      <td>Western Africa</td>\n",
       "      <td>Sub-Saharan Africa</td>\n",
       "      <td>Africa</td>\n",
       "      <td>983</td>\n",
       "    </tr>\n",
       "    <tr>\n",
       "      <th>175</th>\n",
       "      <td>Burundi</td>\n",
       "      <td>43.3</td>\n",
       "      <td>0.58</td>\n",
       "      <td>Eastern Africa</td>\n",
       "      <td>Sub-Saharan Africa</td>\n",
       "      <td>Africa</td>\n",
       "      <td>265</td>\n",
       "    </tr>\n",
       "    <tr>\n",
       "      <th>176</th>\n",
       "      <td>South Sudan</td>\n",
       "      <td>43.3</td>\n",
       "      <td>0.61</td>\n",
       "      <td>Eastern Africa</td>\n",
       "      <td>Sub-Saharan Africa</td>\n",
       "      <td>Africa</td>\n",
       "      <td>315</td>\n",
       "    </tr>\n",
       "    <tr>\n",
       "      <th>177</th>\n",
       "      <td>Chad</td>\n",
       "      <td>39.8</td>\n",
       "      <td>0.84</td>\n",
       "      <td>Middle Africa</td>\n",
       "      <td>Sub-Saharan Africa</td>\n",
       "      <td>Africa</td>\n",
       "      <td>741</td>\n",
       "    </tr>\n",
       "  </tbody>\n",
       "</table>\n",
       "<p>178 rows × 7 columns</p>\n",
       "</div>"
      ],
      "text/plain": [
       "          Country  HDI (2020 Report)  Avg. Annual Growth    Sub-Subregion  \\\n",
       "0          Norway               95.7                0.20  Northern Europe   \n",
       "1     Switzerland               95.5                0.16   Western Europe   \n",
       "2       Hong Kong               94.9                0.54     Eastern Asia   \n",
       "3         Iceland               94.9                0.62  Northern Europe   \n",
       "4         Germany               94.7                0.24   Western Europe   \n",
       "..            ...                ...                 ...              ...   \n",
       "173  Sierra Leone               45.2                1.40   Western Africa   \n",
       "174          Mali               43.4                0.69   Western Africa   \n",
       "175       Burundi               43.3                0.58   Eastern Africa   \n",
       "176   South Sudan               43.3                0.61   Eastern Africa   \n",
       "177          Chad               39.8                0.84    Middle Africa   \n",
       "\n",
       "              Subregion  Region GDP per Capita  \n",
       "0       Northern Europe  Europe          81995  \n",
       "1        Western Europe  Europe          94696  \n",
       "2          Eastern Asia    Asia          49036  \n",
       "3       Northern Europe  Europe          65273  \n",
       "4        Western Europe  Europe          51860  \n",
       "..                  ...     ...            ...  \n",
       "173  Sub-Saharan Africa  Africa            542  \n",
       "174  Sub-Saharan Africa  Africa            983  \n",
       "175  Sub-Saharan Africa  Africa            265  \n",
       "176  Sub-Saharan Africa  Africa            315  \n",
       "177  Sub-Saharan Africa  Africa            741  \n",
       "\n",
       "[178 rows x 7 columns]"
      ]
     },
     "execution_count": 2361,
     "metadata": {},
     "output_type": "execute_result"
    }
   ],
   "source": [
    "df"
   ]
  },
  {
   "cell_type": "code",
   "execution_count": 2362,
   "metadata": {},
   "outputs": [],
   "source": [
    "df['GDP per Capita'] = df['GDP per Capita'].astype(int)"
   ]
  },
  {
   "cell_type": "code",
   "execution_count": 2363,
   "metadata": {},
   "outputs": [
    {
     "data": {
      "text/plain": [
       "Country                object\n",
       "HDI (2020 Report)     float64\n",
       "Avg. Annual Growth    float64\n",
       "Sub-Subregion          object\n",
       "Subregion              object\n",
       "Region                 object\n",
       "GDP per Capita          int64\n",
       "dtype: object"
      ]
     },
     "execution_count": 2363,
     "metadata": {},
     "output_type": "execute_result"
    }
   ],
   "source": [
    "df.dtypes"
   ]
  },
  {
   "cell_type": "code",
   "execution_count": 2364,
   "metadata": {},
   "outputs": [
    {
     "data": {
      "text/plain": [
       "Sub-Subregion\n",
       "Western Europe               83069.50\n",
       "Northern America             58765.50\n",
       "Australia and New Zealand    55111.00\n",
       "Northern Europe              49256.33\n",
       "Eastern Asia                 28564.20\n",
       "Southern Europe              20364.08\n",
       "Western Asia                 18353.19\n",
       "Eastern Europe               13531.80\n",
       "South-eastern Asia           12306.18\n",
       "Caribbean                     9810.00\n",
       "South America                 7419.42\n",
       "Central America               6455.62\n",
       "Micronesia                    6324.33\n",
       "Southern Africa               4702.50\n",
       "Central Asia                  4513.60\n",
       "Polynesia                     4376.50\n",
       "Middle Africa                 4229.00\n",
       "Southern Asia                 3839.89\n",
       "Melanesia                     3304.50\n",
       "Sub-Saharan Africa            3138.50\n",
       "Northern Africa               3116.33\n",
       "Eastern Africa                2068.12\n",
       "Western Africa                1515.08\n",
       "Name: GDP per Capita, dtype: float64"
      ]
     },
     "execution_count": 2364,
     "metadata": {},
     "output_type": "execute_result"
    }
   ],
   "source": [
    "round(df['GDP per Capita'].groupby(df['Sub-Subregion']).mean().sort_values(ascending = False),2)"
   ]
  },
  {
   "cell_type": "code",
   "execution_count": 2365,
   "metadata": {},
   "outputs": [
    {
     "data": {
      "image/png": "[encoded data removed]",
      "text/plain": [
       "<Figure size 720x576 with 1 Axes>"
      ]
     },
     "metadata": {
      "needs_background": "light"
     },
     "output_type": "display_data"
    }
   ],
   "source": [
    "plt.figure(figsize = (10,8))\n",
    "plt.title('GDP per Capita vs. HDI', size = 20)\n",
    "plt.scatter(df['HDI (2020 Report)'], df['GDP per Capita'], alpha=0.5)\n",
    "plt.ylabel('GDP per Capita')\n",
    "plt.xlabel('HDI')\n",
    "plt.show()"
   ]
  },
  {
   "cell_type": "code",
   "execution_count": 2366,
   "metadata": {},
   "outputs": [
    {
     "name": "stdout",
     "output_type": "stream",
     "text": [
      "The correlation of GDP per Capita & HDI is 65.65495142536228\n"
     ]
    }
   ],
   "source": [
    "print(f\"The correlation of GDP per Capita & HDI is {df['HDI (2020 Report)'].corr(df['GDP per Capita'])*100}\")"
   ]
  },
  {
   "cell_type": "code",
   "execution_count": 2367,
   "metadata": {},
   "outputs": [],
   "source": [
    "m, b = np.polyfit(df['HDI (2020 Report)'], df['GDP per Capita'], 1)"
   ]
  },
  {
   "cell_type": "code",
   "execution_count": 2368,
   "metadata": {},
   "outputs": [
    {
     "data": {
      "image/png": "[encoded data removed]",
      "text/plain": [
       "<Figure size 720x576 with 1 Axes>"
      ]
     },
     "metadata": {
      "needs_background": "light"
     },
     "output_type": "display_data"
    }
   ],
   "source": [
    "plt.figure(figsize = (10,8))\n",
    "plt.title('Line of Best Fit Chart')\n",
    "plt.xlabel('HDI')\n",
    "plt.ylabel('GDP Per Capita')\n",
    "plt.plot(df['HDI (2020 Report)'], df['GDP per Capita'], 'o')\n",
    "#create scatter plot\n",
    "plt.plot(df['HDI (2020 Report)'], m*df['HDI (2020 Report)'] + b);"
   ]
  },
  {
   "cell_type": "code",
   "execution_count": 2369,
   "metadata": {},
   "outputs": [],
   "source": [
    "correl = df['HDI (2020 Report)'], m*df['HDI (2020 Report)'] + b"
   ]
  },
  {
   "cell_type": "code",
   "execution_count": 2370,
   "metadata": {},
   "outputs": [],
   "source": [
    "def line_bfit(x, y):\n",
    "    y_bar = np.mean(y)\n",
    "    x_bar = np.mean(x)\n",
    "    std_y = np.std(y)\n",
    "    std_x = np.std(x)\n",
    "    r_xy = np.corrcoef(x, y)[0][1]\n",
    "    # Calculate the betas.\n",
    "    beta_1 = r_xy * (std_y / std_x)\n",
    "    beta_0 = y_bar - beta_1 * x_bar\n",
    "    return beta_0 + beta_1 * x"
   ]
  },
  {
   "cell_type": "code",
   "execution_count": 2379,
   "metadata": {},
   "outputs": [],
   "source": [
    "df['L_Yhat'] = line_of_best_fit(df['HDI (2020 Report)'], df['GDP per Capita'])"
   ]
  },
  {
   "cell_type": "code",
   "execution_count": 2380,
   "metadata": {},
   "outputs": [
    {
     "data": {
      "text/html": [
       "<div>\n",
       "<style scoped>\n",
       "    .dataframe tbody tr th:only-of-type {\n",
       "        vertical-align: middle;\n",
       "    }\n",
       "\n",
       "    .dataframe tbody tr th {\n",
       "        vertical-align: top;\n",
       "    }\n",
       "\n",
       "    .dataframe thead th {\n",
       "        text-align: right;\n",
       "    }\n",
       "</style>\n",
       "<table border=\"1\" class=\"dataframe\">\n",
       "  <thead>\n",
       "    <tr style=\"text-align: right;\">\n",
       "      <th></th>\n",
       "      <th>Country</th>\n",
       "      <th>HDI (2020 Report)</th>\n",
       "      <th>Avg. Annual Growth</th>\n",
       "      <th>Sub-Subregion</th>\n",
       "      <th>Subregion</th>\n",
       "      <th>Region</th>\n",
       "      <th>GDP per Capita</th>\n",
       "      <th>L_Yhat</th>\n",
       "    </tr>\n",
       "  </thead>\n",
       "  <tbody>\n",
       "    <tr>\n",
       "      <th>0</th>\n",
       "      <td>Norway</td>\n",
       "      <td>95.7</td>\n",
       "      <td>0.20</td>\n",
       "      <td>Northern Europe</td>\n",
       "      <td>Northern Europe</td>\n",
       "      <td>Europe</td>\n",
       "      <td>81995</td>\n",
       "      <td>40313.361253</td>\n",
       "    </tr>\n",
       "    <tr>\n",
       "      <th>1</th>\n",
       "      <td>Switzerland</td>\n",
       "      <td>95.5</td>\n",
       "      <td>0.16</td>\n",
       "      <td>Western Europe</td>\n",
       "      <td>Western Europe</td>\n",
       "      <td>Europe</td>\n",
       "      <td>94696</td>\n",
       "      <td>40097.447072</td>\n",
       "    </tr>\n",
       "    <tr>\n",
       "      <th>2</th>\n",
       "      <td>Hong Kong</td>\n",
       "      <td>94.9</td>\n",
       "      <td>0.54</td>\n",
       "      <td>Eastern Asia</td>\n",
       "      <td>Eastern Asia</td>\n",
       "      <td>Asia</td>\n",
       "      <td>49036</td>\n",
       "      <td>39449.704531</td>\n",
       "    </tr>\n",
       "    <tr>\n",
       "      <th>3</th>\n",
       "      <td>Iceland</td>\n",
       "      <td>94.9</td>\n",
       "      <td>0.62</td>\n",
       "      <td>Northern Europe</td>\n",
       "      <td>Northern Europe</td>\n",
       "      <td>Europe</td>\n",
       "      <td>65273</td>\n",
       "      <td>39449.704531</td>\n",
       "    </tr>\n",
       "    <tr>\n",
       "      <th>4</th>\n",
       "      <td>Germany</td>\n",
       "      <td>94.7</td>\n",
       "      <td>0.24</td>\n",
       "      <td>Western Europe</td>\n",
       "      <td>Western Europe</td>\n",
       "      <td>Europe</td>\n",
       "      <td>51860</td>\n",
       "      <td>39233.790350</td>\n",
       "    </tr>\n",
       "    <tr>\n",
       "      <th>...</th>\n",
       "      <td>...</td>\n",
       "      <td>...</td>\n",
       "      <td>...</td>\n",
       "      <td>...</td>\n",
       "      <td>...</td>\n",
       "      <td>...</td>\n",
       "      <td>...</td>\n",
       "      <td>...</td>\n",
       "    </tr>\n",
       "    <tr>\n",
       "      <th>173</th>\n",
       "      <td>Sierra Leone</td>\n",
       "      <td>45.2</td>\n",
       "      <td>1.40</td>\n",
       "      <td>Western Africa</td>\n",
       "      <td>Sub-Saharan Africa</td>\n",
       "      <td>Africa</td>\n",
       "      <td>542</td>\n",
       "      <td>-14204.969328</td>\n",
       "    </tr>\n",
       "    <tr>\n",
       "      <th>174</th>\n",
       "      <td>Mali</td>\n",
       "      <td>43.4</td>\n",
       "      <td>0.69</td>\n",
       "      <td>Western Africa</td>\n",
       "      <td>Sub-Saharan Africa</td>\n",
       "      <td>Africa</td>\n",
       "      <td>983</td>\n",
       "      <td>-16148.196952</td>\n",
       "    </tr>\n",
       "    <tr>\n",
       "      <th>175</th>\n",
       "      <td>Burundi</td>\n",
       "      <td>43.3</td>\n",
       "      <td>0.58</td>\n",
       "      <td>Eastern Africa</td>\n",
       "      <td>Sub-Saharan Africa</td>\n",
       "      <td>Africa</td>\n",
       "      <td>265</td>\n",
       "      <td>-16256.154043</td>\n",
       "    </tr>\n",
       "    <tr>\n",
       "      <th>176</th>\n",
       "      <td>South Sudan</td>\n",
       "      <td>43.3</td>\n",
       "      <td>0.61</td>\n",
       "      <td>Eastern Africa</td>\n",
       "      <td>Sub-Saharan Africa</td>\n",
       "      <td>Africa</td>\n",
       "      <td>315</td>\n",
       "      <td>-16256.154043</td>\n",
       "    </tr>\n",
       "    <tr>\n",
       "      <th>177</th>\n",
       "      <td>Chad</td>\n",
       "      <td>39.8</td>\n",
       "      <td>0.84</td>\n",
       "      <td>Middle Africa</td>\n",
       "      <td>Sub-Saharan Africa</td>\n",
       "      <td>Africa</td>\n",
       "      <td>741</td>\n",
       "      <td>-20034.652202</td>\n",
       "    </tr>\n",
       "  </tbody>\n",
       "</table>\n",
       "<p>178 rows × 8 columns</p>\n",
       "</div>"
      ],
      "text/plain": [
       "          Country  HDI (2020 Report)  Avg. Annual Growth    Sub-Subregion  \\\n",
       "0          Norway               95.7                0.20  Northern Europe   \n",
       "1     Switzerland               95.5                0.16   Western Europe   \n",
       "2       Hong Kong               94.9                0.54     Eastern Asia   \n",
       "3         Iceland               94.9                0.62  Northern Europe   \n",
       "4         Germany               94.7                0.24   Western Europe   \n",
       "..            ...                ...                 ...              ...   \n",
       "173  Sierra Leone               45.2                1.40   Western Africa   \n",
       "174          Mali               43.4                0.69   Western Africa   \n",
       "175       Burundi               43.3                0.58   Eastern Africa   \n",
       "176   South Sudan               43.3                0.61   Eastern Africa   \n",
       "177          Chad               39.8                0.84    Middle Africa   \n",
       "\n",
       "              Subregion  Region  GDP per Capita        L_Yhat  \n",
       "0       Northern Europe  Europe           81995  40313.361253  \n",
       "1        Western Europe  Europe           94696  40097.447072  \n",
       "2          Eastern Asia    Asia           49036  39449.704531  \n",
       "3       Northern Europe  Europe           65273  39449.704531  \n",
       "4        Western Europe  Europe           51860  39233.790350  \n",
       "..                  ...     ...             ...           ...  \n",
       "173  Sub-Saharan Africa  Africa             542 -14204.969328  \n",
       "174  Sub-Saharan Africa  Africa             983 -16148.196952  \n",
       "175  Sub-Saharan Africa  Africa             265 -16256.154043  \n",
       "176  Sub-Saharan Africa  Africa             315 -16256.154043  \n",
       "177  Sub-Saharan Africa  Africa             741 -20034.652202  \n",
       "\n",
       "[178 rows x 8 columns]"
      ]
     },
     "execution_count": 2380,
     "metadata": {},
     "output_type": "execute_result"
    }
   ],
   "source": [
    "df"
   ]
  },
  {
   "cell_type": "code",
   "execution_count": 2386,
   "metadata": {},
   "outputs": [
    {
     "data": {
      "image/png": "[encoded data removed]",
      "text/plain": [
       "<Figure size 864x720 with 1 Axes>"
      ]
     },
     "metadata": {
      "needs_background": "light"
     },
     "output_type": "display_data"
    }
   ],
   "source": [
    "plt.figure(figsize = (12,10))\n",
    "\n",
    "plt.scatter(df['HDI (2020 Report)'],\n",
    "            df['GDP per Capita'],\n",
    "            color='black')\n",
    "\n",
    "# Also generate a line for predictions.\n",
    "plt.plot(df['HDI (2020 Report)'],\n",
    "         df['L_Yhat'],\n",
    "         color='red')\n",
    "\n",
    "# Iterate over our DataFrame, plotting a dashed line \n",
    "# from each observed value to its predicted value.\n",
    "# Code originally written by Marc Harper.\n",
    "for i, row in df.iterrows():\n",
    "    plt.plot((row['HDI (2020 Report)'], row['HDI (2020 Report)']),\n",
    "             (row['GDP per Capita'], row['L_Yhat']),\n",
    "             color = 'blue',\n",
    "             linestyle = '--',\n",
    "             lw=1)\n",
    "    \n",
    "\n",
    "plt.title('Line of Best Fit (w/ Residuals)', fontsize = 24);"
   ]
  },
  {
   "cell_type": "code",
   "execution_count": 2389,
   "metadata": {},
   "outputs": [],
   "source": [
    "def rmse(y_true, y_pred): \n",
    "    '''Returns the root mean squared error'''\n",
    "    return np.sqrt(mean_squared_error(y_true, y_pred))"
   ]
  },
  {
   "cell_type": "code",
   "execution_count": 2390,
   "metadata": {},
   "outputs": [
    {
     "data": {
      "text/plain": [
       "18062.584739167432"
      ]
     },
     "execution_count": 2390,
     "metadata": {},
     "output_type": "execute_result"
    }
   ],
   "source": [
    "rmse(df['GDP per Capita'], df['L_Yhat'])"
   ]
  },
  {
   "cell_type": "code",
   "execution_count": 2395,
   "metadata": {},
   "outputs": [
    {
     "name": "stdout",
     "output_type": "stream",
     "text": [
      "1079.570902579129\n"
     ]
    }
   ],
   "source": [
    "from scipy.stats import linregress\n",
    "slope, intercept, r_value, p_value, std_err = linregress(df['HDI (2020 Report)'], df['GDP per Capita'])\n",
    "print(slope)"
   ]
  },
  {
   "cell_type": "code",
   "execution_count": 2371,
   "metadata": {},
   "outputs": [
    {
     "data": {
      "text/plain": [
       "0      95.7\n",
       "1      95.5\n",
       "2      94.9\n",
       "3      94.9\n",
       "4      94.7\n",
       "       ... \n",
       "173    45.2\n",
       "174    43.4\n",
       "175    43.3\n",
       "176    43.3\n",
       "177    39.8\n",
       "Name: HDI (2020 Report), Length: 178, dtype: float64"
      ]
     },
     "execution_count": 2371,
     "metadata": {},
     "output_type": "execute_result"
    }
   ],
   "source": [
    "line_bfit(df['HDI (2020 Report)'], df['HDI (2020 Report)'])"
   ]
  },
  {
   "cell_type": "code",
   "execution_count": 2372,
   "metadata": {},
   "outputs": [
    {
     "data": {
      "image/png": "[encoded data removed]",
      "text/plain": [
       "<Figure size 720x576 with 1 Axes>"
      ]
     },
     "metadata": {
      "needs_background": "light"
     },
     "output_type": "display_data"
    }
   ],
   "source": [
    "plt.figure(figsize = (10,8))\n",
    "plt.title('GDP per Capita vs. HDI', size = 20)\n",
    "plt.scatter(df['HDI (2020 Report)'], np.log2(df['GDP per Capita']), alpha=0.5)\n",
    "plt.ylabel('GDP per Capita (Log)')\n",
    "plt.xlabel('HDI')\n",
    "plt.show()"
   ]
  },
  {
   "cell_type": "code",
   "execution_count": 2373,
   "metadata": {},
   "outputs": [
    {
     "data": {
      "text/plain": [
       "0.9353998525333853"
      ]
     },
     "execution_count": 2373,
     "metadata": {},
     "output_type": "execute_result"
    }
   ],
   "source": [
    "df['HDI (2020 Report)'].corr(np.log2(df['GDP per Capita']))"
   ]
  },
  {
   "cell_type": "code",
   "execution_count": 2374,
   "metadata": {},
   "outputs": [
    {
     "name": "stdout",
     "output_type": "stream",
     "text": [
      "Enter password length: 12\n",
      "f9Nw$gGrjfW4\n"
     ]
    }
   ],
   "source": [
    "import string\n",
    "import random\n",
    "characters = list(string.ascii_letters + string.digits + \"!@#$%^&*()\")\n",
    "\n",
    "def generate_random_password():\n",
    "\t## length of password from the user\n",
    "\tlength = int(input(\"Enter password length: \"))\n",
    "\n",
    "\t## shuffling the characters\n",
    "\trandom.shuffle(characters)\n",
    "\t\n",
    "\t## picking random characters from the list\n",
    "\tpassword = []\n",
    "\tfor i in range(length):\n",
    "\t\tpassword.append(random.choice(characters))\n",
    "\n",
    "\t## shuffling the resultant password\n",
    "\trandom.shuffle(password)\n",
    "\n",
    "\t## converting the list to string\n",
    "\t## printing the list\n",
    "\tprint(\"\".join(password))\n",
    "\n",
    "\n",
    "\n",
    "## invoking the function\n",
    "generate_random_password()"
   ]
  },
  {
   "cell_type": "code",
   "execution_count": null,
   "metadata": {},
   "outputs": [],
   "source": []
  }
 ],
 "metadata": {
  "kernelspec": {
   "display_name": "Python 3",
   "language": "python",
   "name": "python3"
  },
  "language_info": {
   "codemirror_mode": {
    "name": "ipython",
    "version": 3
   },
   "file_extension": ".py",
   "mimetype": "text/x-python",
   "name": "python",
   "nbconvert_exporter": "python",
   "pygments_lexer": "ipython3",
   "version": "3.8.5"
  }
 },
 "nbformat": 4,
 "nbformat_minor": 4
}
